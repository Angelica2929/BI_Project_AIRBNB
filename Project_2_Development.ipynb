{
  "cells": [
    {
      "cell_type": "markdown",
      "metadata": {
        "id": "view-in-github",
        "colab_type": "text"
      },
      "source": [
        "<a href=\"https://colab.research.google.com/github/Angelica2929/BI_Project_AIRBNB/blob/main/Project_2_Development.ipynb\" target=\"_parent\"><img src=\"https://colab.research.google.com/assets/colab-badge.svg\" alt=\"Open In Colab\"/></a>"
      ]
    },
    {
      "cell_type": "markdown",
      "metadata": {
        "id": "GrndIiabvTqi"
      },
      "source": [
        "# **Machine Lerning Project!** \n",
        "# ***Airbnb Open Data***"
      ]
    },
    {
      "cell_type": "markdown",
      "metadata": {
        "id": "cwvnPsY5xD-b"
      },
      "source": [
        "![logoo.png](data:image/png;base64,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)"
      ]
    },
    {
      "cell_type": "markdown",
      "metadata": {
        "id": "Lie0oSIPwT-8"
      },
      "source": [
        "\n",
        "Since 2008, guests and hosts have used Airbnb to travel in a more unique, personalized way. As part of the Airbnb Inside initiative, this dataset describes the listing activity of homestays in New York City.\n",
        "\n",
        "**Source**:https://www.kaggle.com/datasets/arianazmoudeh/airbnbopendata?select=Airbnb_Open_Data.csv\n",
        "\n",
        "**Acknowledgment**:This dataset is part of Airbnb Inside but I tried to make new columns and many data inconsistency issue to create a new dataset to practice data cleaning. \n",
        "\n",
        "**Explanation video**: https://drive.google.com/drive/u/1/folders/1u4B5fQa6tqJMhHxJV04uY3HSMd4wKMUI\n",
        "\n",
        "The original source can be found here http://insideairbnb.com/explore/"
      ]
    },
    {
      "cell_type": "markdown",
      "metadata": {
        "id": "xi9g0EE7xUsO"
      },
      "source": [
        "# **AIM**\n",
        "Whas is the price of a airbnb according to the location? I will focus in predict the price of a stay according to the location."
      ]
    },
    {
      "cell_type": "markdown",
      "metadata": {
        "id": "pP7PwfrvxnXB"
      },
      "source": [
        "# **Loading Information**\n",
        "\n",
        "---\n",
        "\n"
      ]
    },
    {
      "cell_type": "markdown",
      "metadata": {
        "id": "sUEqw_8Ax-o3"
      },
      "source": [
        "Import the libraries"
      ]
    },
    {
      "cell_type": "code",
      "execution_count": 277,
      "metadata": {
        "id": "ylVjSZB4vGOS"
      },
      "outputs": [],
      "source": [
        "import pandas as pd\n",
        "import numpy as np\n",
        "import matplotlib.pyplot as plt\n",
        "import seaborn as sns\n",
        "from sklearn.model_selection import train_test_split\n",
        "sns.set(font_scale=1)"
      ]
    },
    {
      "cell_type": "markdown",
      "metadata": {
        "id": "9GvlhWf_yB0y"
      },
      "source": [
        "Load the datased chosen"
      ]
    },
    {
      "cell_type": "code",
      "execution_count": 278,
      "metadata": {
        "id": "fbMChyIQw3rL",
        "colab": {
          "base_uri": "https://localhost:8080/",
          "height": 680
        },
        "outputId": "e5770b81-72b4-4f27-c0ca-6a0863cef314"
      },
      "outputs": [
        {
          "output_type": "stream",
          "name": "stderr",
          "text": [
            "/usr/local/lib/python3.7/dist-packages/IPython/core/interactiveshell.py:3326: DtypeWarning:\n",
            "\n",
            "Columns (25) have mixed types.Specify dtype option on import or set low_memory=False.\n",
            "\n"
          ]
        },
        {
          "output_type": "execute_result",
          "data": {
            "text/plain": [
              "                                                     NAME      host id  \\\n",
              "id                                                                       \n",
              "1001254                Clean & quiet apt home by the park  80014485718   \n",
              "1002102                             Skylit Midtown Castle  52335172823   \n",
              "1002403               THE VILLAGE OF HARLEM....NEW YORK !  78829239556   \n",
              "1002755                                               NaN  85098326012   \n",
              "1003689  Entire Apt: Spacious Studio/Loft by central park  92037596077   \n",
              "\n",
              "        host_identity_verified host name neighbourhood group neighbourhood  \\\n",
              "id                                                                           \n",
              "1001254            unconfirmed  Madaline            Brooklyn    Kensington   \n",
              "1002102               verified     Jenna           Manhattan       Midtown   \n",
              "1002403                    NaN     Elise           Manhattan        Harlem   \n",
              "1002755            unconfirmed     Garry            Brooklyn  Clinton Hill   \n",
              "1003689               verified    Lyndon           Manhattan   East Harlem   \n",
              "\n",
              "              lat      long        country country code  ... service fee  \\\n",
              "id                                                       ...               \n",
              "1001254  40.64749 -73.97237  United States           US  ...       $193    \n",
              "1002102  40.75362 -73.98377  United States           US  ...        $28    \n",
              "1002403  40.80902 -73.94190  United States           US  ...       $124    \n",
              "1002755  40.68514 -73.95976  United States           US  ...        $74    \n",
              "1003689  40.79851 -73.94399  United States           US  ...        $41    \n",
              "\n",
              "        minimum nights number of reviews  last review reviews per month  \\\n",
              "id                                                                        \n",
              "1001254           10.0               9.0   10/19/2021              0.21   \n",
              "1002102           30.0              45.0    5/21/2022              0.38   \n",
              "1002403            3.0               0.0          NaN               NaN   \n",
              "1002755           30.0             270.0     7/5/2019              4.64   \n",
              "1003689           10.0               9.0   11/19/2018              0.10   \n",
              "\n",
              "        review rate number  calculated host listings count  availability 365  \\\n",
              "id                                                                             \n",
              "1001254                4.0                             6.0             286.0   \n",
              "1002102                4.0                             2.0             228.0   \n",
              "1002403                5.0                             1.0             352.0   \n",
              "1002755                4.0                             1.0             322.0   \n",
              "1003689                3.0                             1.0             289.0   \n",
              "\n",
              "                                               house_rules  license  \n",
              "id                                                                   \n",
              "1001254  Clean up and treat the home the way you'd like...      NaN  \n",
              "1002102  Pet friendly but please confirm with me if the...      NaN  \n",
              "1002403  I encourage you to use my kitchen, cooking and...      NaN  \n",
              "1002755                                                NaN      NaN  \n",
              "1003689  Please no smoking in the house, porch or on th...      NaN  \n",
              "\n",
              "[5 rows x 25 columns]"
            ],
            "text/html": [
              "\n",
              "  <div id=\"df-a4e315ff-9eba-4432-9fba-e95a9c9f4e4f\">\n",
              "    <div class=\"colab-df-container\">\n",
              "      <div>\n",
              "<style scoped>\n",
              "    .dataframe tbody tr th:only-of-type {\n",
              "        vertical-align: middle;\n",
              "    }\n",
              "\n",
              "    .dataframe tbody tr th {\n",
              "        vertical-align: top;\n",
              "    }\n",
              "\n",
              "    .dataframe thead th {\n",
              "        text-align: right;\n",
              "    }\n",
              "</style>\n",
              "<table border=\"1\" class=\"dataframe\">\n",
              "  <thead>\n",
              "    <tr style=\"text-align: right;\">\n",
              "      <th></th>\n",
              "      <th>NAME</th>\n",
              "      <th>host id</th>\n",
              "      <th>host_identity_verified</th>\n",
              "      <th>host name</th>\n",
              "      <th>neighbourhood group</th>\n",
              "      <th>neighbourhood</th>\n",
              "      <th>lat</th>\n",
              "      <th>long</th>\n",
              "      <th>country</th>\n",
              "      <th>country code</th>\n",
              "      <th>...</th>\n",
              "      <th>service fee</th>\n",
              "      <th>minimum nights</th>\n",
              "      <th>number of reviews</th>\n",
              "      <th>last review</th>\n",
              "      <th>reviews per month</th>\n",
              "      <th>review rate number</th>\n",
              "      <th>calculated host listings count</th>\n",
              "      <th>availability 365</th>\n",
              "      <th>house_rules</th>\n",
              "      <th>license</th>\n",
              "    </tr>\n",
              "    <tr>\n",
              "      <th>id</th>\n",
              "      <th></th>\n",
              "      <th></th>\n",
              "      <th></th>\n",
              "      <th></th>\n",
              "      <th></th>\n",
              "      <th></th>\n",
              "      <th></th>\n",
              "      <th></th>\n",
              "      <th></th>\n",
              "      <th></th>\n",
              "      <th></th>\n",
              "      <th></th>\n",
              "      <th></th>\n",
              "      <th></th>\n",
              "      <th></th>\n",
              "      <th></th>\n",
              "      <th></th>\n",
              "      <th></th>\n",
              "      <th></th>\n",
              "      <th></th>\n",
              "      <th></th>\n",
              "    </tr>\n",
              "  </thead>\n",
              "  <tbody>\n",
              "    <tr>\n",
              "      <th>1001254</th>\n",
              "      <td>Clean &amp; quiet apt home by the park</td>\n",
              "      <td>80014485718</td>\n",
              "      <td>unconfirmed</td>\n",
              "      <td>Madaline</td>\n",
              "      <td>Brooklyn</td>\n",
              "      <td>Kensington</td>\n",
              "      <td>40.64749</td>\n",
              "      <td>-73.97237</td>\n",
              "      <td>United States</td>\n",
              "      <td>US</td>\n",
              "      <td>...</td>\n",
              "      <td>$193</td>\n",
              "      <td>10.0</td>\n",
              "      <td>9.0</td>\n",
              "      <td>10/19/2021</td>\n",
              "      <td>0.21</td>\n",
              "      <td>4.0</td>\n",
              "      <td>6.0</td>\n",
              "      <td>286.0</td>\n",
              "      <td>Clean up and treat the home the way you'd like...</td>\n",
              "      <td>NaN</td>\n",
              "    </tr>\n",
              "    <tr>\n",
              "      <th>1002102</th>\n",
              "      <td>Skylit Midtown Castle</td>\n",
              "      <td>52335172823</td>\n",
              "      <td>verified</td>\n",
              "      <td>Jenna</td>\n",
              "      <td>Manhattan</td>\n",
              "      <td>Midtown</td>\n",
              "      <td>40.75362</td>\n",
              "      <td>-73.98377</td>\n",
              "      <td>United States</td>\n",
              "      <td>US</td>\n",
              "      <td>...</td>\n",
              "      <td>$28</td>\n",
              "      <td>30.0</td>\n",
              "      <td>45.0</td>\n",
              "      <td>5/21/2022</td>\n",
              "      <td>0.38</td>\n",
              "      <td>4.0</td>\n",
              "      <td>2.0</td>\n",
              "      <td>228.0</td>\n",
              "      <td>Pet friendly but please confirm with me if the...</td>\n",
              "      <td>NaN</td>\n",
              "    </tr>\n",
              "    <tr>\n",
              "      <th>1002403</th>\n",
              "      <td>THE VILLAGE OF HARLEM....NEW YORK !</td>\n",
              "      <td>78829239556</td>\n",
              "      <td>NaN</td>\n",
              "      <td>Elise</td>\n",
              "      <td>Manhattan</td>\n",
              "      <td>Harlem</td>\n",
              "      <td>40.80902</td>\n",
              "      <td>-73.94190</td>\n",
              "      <td>United States</td>\n",
              "      <td>US</td>\n",
              "      <td>...</td>\n",
              "      <td>$124</td>\n",
              "      <td>3.0</td>\n",
              "      <td>0.0</td>\n",
              "      <td>NaN</td>\n",
              "      <td>NaN</td>\n",
              "      <td>5.0</td>\n",
              "      <td>1.0</td>\n",
              "      <td>352.0</td>\n",
              "      <td>I encourage you to use my kitchen, cooking and...</td>\n",
              "      <td>NaN</td>\n",
              "    </tr>\n",
              "    <tr>\n",
              "      <th>1002755</th>\n",
              "      <td>NaN</td>\n",
              "      <td>85098326012</td>\n",
              "      <td>unconfirmed</td>\n",
              "      <td>Garry</td>\n",
              "      <td>Brooklyn</td>\n",
              "      <td>Clinton Hill</td>\n",
              "      <td>40.68514</td>\n",
              "      <td>-73.95976</td>\n",
              "      <td>United States</td>\n",
              "      <td>US</td>\n",
              "      <td>...</td>\n",
              "      <td>$74</td>\n",
              "      <td>30.0</td>\n",
              "      <td>270.0</td>\n",
              "      <td>7/5/2019</td>\n",
              "      <td>4.64</td>\n",
              "      <td>4.0</td>\n",
              "      <td>1.0</td>\n",
              "      <td>322.0</td>\n",
              "      <td>NaN</td>\n",
              "      <td>NaN</td>\n",
              "    </tr>\n",
              "    <tr>\n",
              "      <th>1003689</th>\n",
              "      <td>Entire Apt: Spacious Studio/Loft by central park</td>\n",
              "      <td>92037596077</td>\n",
              "      <td>verified</td>\n",
              "      <td>Lyndon</td>\n",
              "      <td>Manhattan</td>\n",
              "      <td>East Harlem</td>\n",
              "      <td>40.79851</td>\n",
              "      <td>-73.94399</td>\n",
              "      <td>United States</td>\n",
              "      <td>US</td>\n",
              "      <td>...</td>\n",
              "      <td>$41</td>\n",
              "      <td>10.0</td>\n",
              "      <td>9.0</td>\n",
              "      <td>11/19/2018</td>\n",
              "      <td>0.10</td>\n",
              "      <td>3.0</td>\n",
              "      <td>1.0</td>\n",
              "      <td>289.0</td>\n",
              "      <td>Please no smoking in the house, porch or on th...</td>\n",
              "      <td>NaN</td>\n",
              "    </tr>\n",
              "  </tbody>\n",
              "</table>\n",
              "<p>5 rows × 25 columns</p>\n",
              "</div>\n",
              "      <button class=\"colab-df-convert\" onclick=\"convertToInteractive('df-a4e315ff-9eba-4432-9fba-e95a9c9f4e4f')\"\n",
              "              title=\"Convert this dataframe to an interactive table.\"\n",
              "              style=\"display:none;\">\n",
              "        \n",
              "  <svg xmlns=\"http://www.w3.org/2000/svg\" height=\"24px\"viewBox=\"0 0 24 24\"\n",
              "       width=\"24px\">\n",
              "    <path d=\"M0 0h24v24H0V0z\" fill=\"none\"/>\n",
              "    <path d=\"M18.56 5.44l.94 2.06.94-2.06 2.06-.94-2.06-.94-.94-2.06-.94 2.06-2.06.94zm-11 1L8.5 8.5l.94-2.06 2.06-.94-2.06-.94L8.5 2.5l-.94 2.06-2.06.94zm10 10l.94 2.06.94-2.06 2.06-.94-2.06-.94-.94-2.06-.94 2.06-2.06.94z\"/><path d=\"M17.41 7.96l-1.37-1.37c-.4-.4-.92-.59-1.43-.59-.52 0-1.04.2-1.43.59L10.3 9.45l-7.72 7.72c-.78.78-.78 2.05 0 2.83L4 21.41c.39.39.9.59 1.41.59.51 0 1.02-.2 1.41-.59l7.78-7.78 2.81-2.81c.8-.78.8-2.07 0-2.86zM5.41 20L4 18.59l7.72-7.72 1.47 1.35L5.41 20z\"/>\n",
              "  </svg>\n",
              "      </button>\n",
              "      \n",
              "  <style>\n",
              "    .colab-df-container {\n",
              "      display:flex;\n",
              "      flex-wrap:wrap;\n",
              "      gap: 12px;\n",
              "    }\n",
              "\n",
              "    .colab-df-convert {\n",
              "      background-color: #E8F0FE;\n",
              "      border: none;\n",
              "      border-radius: 50%;\n",
              "      cursor: pointer;\n",
              "      display: none;\n",
              "      fill: #1967D2;\n",
              "      height: 32px;\n",
              "      padding: 0 0 0 0;\n",
              "      width: 32px;\n",
              "    }\n",
              "\n",
              "    .colab-df-convert:hover {\n",
              "      background-color: #E2EBFA;\n",
              "      box-shadow: 0px 1px 2px rgba(60, 64, 67, 0.3), 0px 1px 3px 1px rgba(60, 64, 67, 0.15);\n",
              "      fill: #174EA6;\n",
              "    }\n",
              "\n",
              "    [theme=dark] .colab-df-convert {\n",
              "      background-color: #3B4455;\n",
              "      fill: #D2E3FC;\n",
              "    }\n",
              "\n",
              "    [theme=dark] .colab-df-convert:hover {\n",
              "      background-color: #434B5C;\n",
              "      box-shadow: 0px 1px 3px 1px rgba(0, 0, 0, 0.15);\n",
              "      filter: drop-shadow(0px 1px 2px rgba(0, 0, 0, 0.3));\n",
              "      fill: #FFFFFF;\n",
              "    }\n",
              "  </style>\n",
              "\n",
              "      <script>\n",
              "        const buttonEl =\n",
              "          document.querySelector('#df-a4e315ff-9eba-4432-9fba-e95a9c9f4e4f button.colab-df-convert');\n",
              "        buttonEl.style.display =\n",
              "          google.colab.kernel.accessAllowed ? 'block' : 'none';\n",
              "\n",
              "        async function convertToInteractive(key) {\n",
              "          const element = document.querySelector('#df-a4e315ff-9eba-4432-9fba-e95a9c9f4e4f');\n",
              "          const dataTable =\n",
              "            await google.colab.kernel.invokeFunction('convertToInteractive',\n",
              "                                                     [key], {});\n",
              "          if (!dataTable) return;\n",
              "\n",
              "          const docLinkHtml = 'Like what you see? Visit the ' +\n",
              "            '<a target=\"_blank\" href=https://colab.research.google.com/notebooks/data_table.ipynb>data table notebook</a>'\n",
              "            + ' to learn more about interactive tables.';\n",
              "          element.innerHTML = '';\n",
              "          dataTable['output_type'] = 'display_data';\n",
              "          await google.colab.output.renderOutput(dataTable, element);\n",
              "          const docLink = document.createElement('div');\n",
              "          docLink.innerHTML = docLinkHtml;\n",
              "          element.appendChild(docLink);\n",
              "        }\n",
              "      </script>\n",
              "    </div>\n",
              "  </div>\n",
              "  "
            ]
          },
          "metadata": {},
          "execution_count": 278
        }
      ],
      "source": [
        "df_airnb = pd.read_csv('/content/drive/MyDrive/CODING DOJO/Material Apoyo/Airbnb_Open_Data.csv', index_col = 'id')\n",
        "\n",
        "df_airnb.head(5)"
      ]
    },
    {
      "cell_type": "code",
      "source": [
        "from google.colab import drive\n",
        "drive.mount('/content/drive')"
      ],
      "metadata": {
        "colab": {
          "base_uri": "https://localhost:8080/"
        },
        "id": "8mSg89Z1HSgk",
        "outputId": "6e7c3bf8-34a3-4fc6-c35b-db0674b185ef"
      },
      "execution_count": 279,
      "outputs": [
        {
          "output_type": "stream",
          "name": "stdout",
          "text": [
            "Drive already mounted at /content/drive; to attempt to forcibly remount, call drive.mount(\"/content/drive\", force_remount=True).\n"
          ]
        }
      ]
    },
    {
      "cell_type": "markdown",
      "metadata": {
        "id": "KXy_LGqxzGy4"
      },
      "source": [
        "# **Exploring the data**\n",
        "\n",
        "---\n",
        "\n"
      ]
    },
    {
      "cell_type": "markdown",
      "metadata": {
        "id": "qHzKVaAnLmaH"
      },
      "source": [
        "Let's see how is about our dataset"
      ]
    },
    {
      "cell_type": "code",
      "execution_count": 280,
      "metadata": {
        "id": "jGix5FdPzH5q",
        "colab": {
          "base_uri": "https://localhost:8080/"
        },
        "outputId": "050265a6-63ec-4621-8267-f940f7db2df1"
      },
      "outputs": [
        {
          "output_type": "stream",
          "name": "stdout",
          "text": [
            "<class 'pandas.core.frame.DataFrame'>\n",
            "Int64Index: 102599 entries, 1001254 to 6094647\n",
            "Data columns (total 25 columns):\n",
            " #   Column                          Non-Null Count   Dtype  \n",
            "---  ------                          --------------   -----  \n",
            " 0   NAME                            102349 non-null  object \n",
            " 1   host id                         102599 non-null  int64  \n",
            " 2   host_identity_verified          102310 non-null  object \n",
            " 3   host name                       102193 non-null  object \n",
            " 4   neighbourhood group             102570 non-null  object \n",
            " 5   neighbourhood                   102583 non-null  object \n",
            " 6   lat                             102591 non-null  float64\n",
            " 7   long                            102591 non-null  float64\n",
            " 8   country                         102067 non-null  object \n",
            " 9   country code                    102468 non-null  object \n",
            " 10  instant_bookable                102494 non-null  object \n",
            " 11  cancellation_policy             102523 non-null  object \n",
            " 12  room type                       102599 non-null  object \n",
            " 13  Construction year               102385 non-null  float64\n",
            " 14  price                           102352 non-null  object \n",
            " 15  service fee                     102326 non-null  object \n",
            " 16  minimum nights                  102190 non-null  float64\n",
            " 17  number of reviews               102416 non-null  float64\n",
            " 18  last review                     86706 non-null   object \n",
            " 19  reviews per month               86720 non-null   float64\n",
            " 20  review rate number              102273 non-null  float64\n",
            " 21  calculated host listings count  102280 non-null  float64\n",
            " 22  availability 365                102151 non-null  float64\n",
            " 23  house_rules                     50468 non-null   object \n",
            " 24  license                         2 non-null       object \n",
            "dtypes: float64(9), int64(1), object(15)\n",
            "memory usage: 20.4+ MB\n"
          ]
        }
      ],
      "source": [
        "df_airnb.info()"
      ]
    },
    {
      "cell_type": "code",
      "execution_count": 281,
      "metadata": {
        "id": "mzTmLj0szOUW",
        "colab": {
          "base_uri": "https://localhost:8080/"
        },
        "outputId": "eed21d2c-17af-4150-a40a-ea19eeb293e5"
      },
      "outputs": [
        {
          "output_type": "execute_result",
          "data": {
            "text/plain": [
              "(102599, 25)"
            ]
          },
          "metadata": {},
          "execution_count": 281
        }
      ],
      "source": [
        "df_airnb.shape"
      ]
    },
    {
      "cell_type": "code",
      "execution_count": 282,
      "metadata": {
        "id": "USW_n3_lzQgc",
        "colab": {
          "base_uri": "https://localhost:8080/"
        },
        "outputId": "6b5be82a-f589-4438-9bb1-811fb270c5e2"
      },
      "outputs": [
        {
          "output_type": "execute_result",
          "data": {
            "text/plain": [
              "2564975"
            ]
          },
          "metadata": {},
          "execution_count": 282
        }
      ],
      "source": [
        "df_airnb.size"
      ]
    },
    {
      "cell_type": "markdown",
      "metadata": {
        "id": "Xdlg0vUIzq6T"
      },
      "source": [
        "Our dataset is shaped by a total of **2.564.975** registers, distribuited like this:\n",
        "\n",
        "\n",
        "102.599 Rows\n",
        "26 columnns , it means 25 columns conform the set of characteristics if I dont count my target variable."
      ]
    },
    {
      "cell_type": "code",
      "execution_count": 283,
      "metadata": {
        "id": "w0hk5LuBzgnL",
        "colab": {
          "base_uri": "https://localhost:8080/",
          "height": 416
        },
        "outputId": "d04251b0-da07-41d3-cf0a-723fbe57ea72"
      },
      "outputs": [
        {
          "output_type": "execute_result",
          "data": {
            "text/plain": [
              "            host id            lat           long  Construction year  \\\n",
              "count  1.025990e+05  102591.000000  102591.000000      102385.000000   \n",
              "mean   4.925411e+10      40.728094     -73.949644        2012.487464   \n",
              "std    2.853900e+10       0.055857       0.049521           5.765556   \n",
              "min    1.236005e+08      40.499790     -74.249840        2003.000000   \n",
              "25%    2.458333e+10      40.688740     -73.982580        2007.000000   \n",
              "50%    4.911774e+10      40.722290     -73.954440        2012.000000   \n",
              "75%    7.399650e+10      40.762760     -73.932350        2017.000000   \n",
              "max    9.876313e+10      40.916970     -73.705220        2022.000000   \n",
              "\n",
              "       minimum nights  number of reviews  reviews per month  \\\n",
              "count   102190.000000      102416.000000       86720.000000   \n",
              "mean         8.135845          27.483743           1.374022   \n",
              "std         30.553781          49.508954           1.746621   \n",
              "min      -1223.000000           0.000000           0.010000   \n",
              "25%          2.000000           1.000000           0.220000   \n",
              "50%          3.000000           7.000000           0.740000   \n",
              "75%          5.000000          30.000000           2.000000   \n",
              "max       5645.000000        1024.000000          90.000000   \n",
              "\n",
              "       review rate number  calculated host listings count  availability 365  \n",
              "count       102273.000000                   102280.000000     102151.000000  \n",
              "mean             3.279106                        7.936605        141.133254  \n",
              "std              1.284657                       32.218780        135.435024  \n",
              "min              1.000000                        1.000000        -10.000000  \n",
              "25%              2.000000                        1.000000          3.000000  \n",
              "50%              3.000000                        1.000000         96.000000  \n",
              "75%              4.000000                        2.000000        269.000000  \n",
              "max              5.000000                      332.000000       3677.000000  "
            ],
            "text/html": [
              "\n",
              "  <div id=\"df-2fc3a61e-37a8-4724-88cd-05fa2372f38a\">\n",
              "    <div class=\"colab-df-container\">\n",
              "      <div>\n",
              "<style scoped>\n",
              "    .dataframe tbody tr th:only-of-type {\n",
              "        vertical-align: middle;\n",
              "    }\n",
              "\n",
              "    .dataframe tbody tr th {\n",
              "        vertical-align: top;\n",
              "    }\n",
              "\n",
              "    .dataframe thead th {\n",
              "        text-align: right;\n",
              "    }\n",
              "</style>\n",
              "<table border=\"1\" class=\"dataframe\">\n",
              "  <thead>\n",
              "    <tr style=\"text-align: right;\">\n",
              "      <th></th>\n",
              "      <th>host id</th>\n",
              "      <th>lat</th>\n",
              "      <th>long</th>\n",
              "      <th>Construction year</th>\n",
              "      <th>minimum nights</th>\n",
              "      <th>number of reviews</th>\n",
              "      <th>reviews per month</th>\n",
              "      <th>review rate number</th>\n",
              "      <th>calculated host listings count</th>\n",
              "      <th>availability 365</th>\n",
              "    </tr>\n",
              "  </thead>\n",
              "  <tbody>\n",
              "    <tr>\n",
              "      <th>count</th>\n",
              "      <td>1.025990e+05</td>\n",
              "      <td>102591.000000</td>\n",
              "      <td>102591.000000</td>\n",
              "      <td>102385.000000</td>\n",
              "      <td>102190.000000</td>\n",
              "      <td>102416.000000</td>\n",
              "      <td>86720.000000</td>\n",
              "      <td>102273.000000</td>\n",
              "      <td>102280.000000</td>\n",
              "      <td>102151.000000</td>\n",
              "    </tr>\n",
              "    <tr>\n",
              "      <th>mean</th>\n",
              "      <td>4.925411e+10</td>\n",
              "      <td>40.728094</td>\n",
              "      <td>-73.949644</td>\n",
              "      <td>2012.487464</td>\n",
              "      <td>8.135845</td>\n",
              "      <td>27.483743</td>\n",
              "      <td>1.374022</td>\n",
              "      <td>3.279106</td>\n",
              "      <td>7.936605</td>\n",
              "      <td>141.133254</td>\n",
              "    </tr>\n",
              "    <tr>\n",
              "      <th>std</th>\n",
              "      <td>2.853900e+10</td>\n",
              "      <td>0.055857</td>\n",
              "      <td>0.049521</td>\n",
              "      <td>5.765556</td>\n",
              "      <td>30.553781</td>\n",
              "      <td>49.508954</td>\n",
              "      <td>1.746621</td>\n",
              "      <td>1.284657</td>\n",
              "      <td>32.218780</td>\n",
              "      <td>135.435024</td>\n",
              "    </tr>\n",
              "    <tr>\n",
              "      <th>min</th>\n",
              "      <td>1.236005e+08</td>\n",
              "      <td>40.499790</td>\n",
              "      <td>-74.249840</td>\n",
              "      <td>2003.000000</td>\n",
              "      <td>-1223.000000</td>\n",
              "      <td>0.000000</td>\n",
              "      <td>0.010000</td>\n",
              "      <td>1.000000</td>\n",
              "      <td>1.000000</td>\n",
              "      <td>-10.000000</td>\n",
              "    </tr>\n",
              "    <tr>\n",
              "      <th>25%</th>\n",
              "      <td>2.458333e+10</td>\n",
              "      <td>40.688740</td>\n",
              "      <td>-73.982580</td>\n",
              "      <td>2007.000000</td>\n",
              "      <td>2.000000</td>\n",
              "      <td>1.000000</td>\n",
              "      <td>0.220000</td>\n",
              "      <td>2.000000</td>\n",
              "      <td>1.000000</td>\n",
              "      <td>3.000000</td>\n",
              "    </tr>\n",
              "    <tr>\n",
              "      <th>50%</th>\n",
              "      <td>4.911774e+10</td>\n",
              "      <td>40.722290</td>\n",
              "      <td>-73.954440</td>\n",
              "      <td>2012.000000</td>\n",
              "      <td>3.000000</td>\n",
              "      <td>7.000000</td>\n",
              "      <td>0.740000</td>\n",
              "      <td>3.000000</td>\n",
              "      <td>1.000000</td>\n",
              "      <td>96.000000</td>\n",
              "    </tr>\n",
              "    <tr>\n",
              "      <th>75%</th>\n",
              "      <td>7.399650e+10</td>\n",
              "      <td>40.762760</td>\n",
              "      <td>-73.932350</td>\n",
              "      <td>2017.000000</td>\n",
              "      <td>5.000000</td>\n",
              "      <td>30.000000</td>\n",
              "      <td>2.000000</td>\n",
              "      <td>4.000000</td>\n",
              "      <td>2.000000</td>\n",
              "      <td>269.000000</td>\n",
              "    </tr>\n",
              "    <tr>\n",
              "      <th>max</th>\n",
              "      <td>9.876313e+10</td>\n",
              "      <td>40.916970</td>\n",
              "      <td>-73.705220</td>\n",
              "      <td>2022.000000</td>\n",
              "      <td>5645.000000</td>\n",
              "      <td>1024.000000</td>\n",
              "      <td>90.000000</td>\n",
              "      <td>5.000000</td>\n",
              "      <td>332.000000</td>\n",
              "      <td>3677.000000</td>\n",
              "    </tr>\n",
              "  </tbody>\n",
              "</table>\n",
              "</div>\n",
              "      <button class=\"colab-df-convert\" onclick=\"convertToInteractive('df-2fc3a61e-37a8-4724-88cd-05fa2372f38a')\"\n",
              "              title=\"Convert this dataframe to an interactive table.\"\n",
              "              style=\"display:none;\">\n",
              "        \n",
              "  <svg xmlns=\"http://www.w3.org/2000/svg\" height=\"24px\"viewBox=\"0 0 24 24\"\n",
              "       width=\"24px\">\n",
              "    <path d=\"M0 0h24v24H0V0z\" fill=\"none\"/>\n",
              "    <path d=\"M18.56 5.44l.94 2.06.94-2.06 2.06-.94-2.06-.94-.94-2.06-.94 2.06-2.06.94zm-11 1L8.5 8.5l.94-2.06 2.06-.94-2.06-.94L8.5 2.5l-.94 2.06-2.06.94zm10 10l.94 2.06.94-2.06 2.06-.94-2.06-.94-.94-2.06-.94 2.06-2.06.94z\"/><path d=\"M17.41 7.96l-1.37-1.37c-.4-.4-.92-.59-1.43-.59-.52 0-1.04.2-1.43.59L10.3 9.45l-7.72 7.72c-.78.78-.78 2.05 0 2.83L4 21.41c.39.39.9.59 1.41.59.51 0 1.02-.2 1.41-.59l7.78-7.78 2.81-2.81c.8-.78.8-2.07 0-2.86zM5.41 20L4 18.59l7.72-7.72 1.47 1.35L5.41 20z\"/>\n",
              "  </svg>\n",
              "      </button>\n",
              "      \n",
              "  <style>\n",
              "    .colab-df-container {\n",
              "      display:flex;\n",
              "      flex-wrap:wrap;\n",
              "      gap: 12px;\n",
              "    }\n",
              "\n",
              "    .colab-df-convert {\n",
              "      background-color: #E8F0FE;\n",
              "      border: none;\n",
              "      border-radius: 50%;\n",
              "      cursor: pointer;\n",
              "      display: none;\n",
              "      fill: #1967D2;\n",
              "      height: 32px;\n",
              "      padding: 0 0 0 0;\n",
              "      width: 32px;\n",
              "    }\n",
              "\n",
              "    .colab-df-convert:hover {\n",
              "      background-color: #E2EBFA;\n",
              "      box-shadow: 0px 1px 2px rgba(60, 64, 67, 0.3), 0px 1px 3px 1px rgba(60, 64, 67, 0.15);\n",
              "      fill: #174EA6;\n",
              "    }\n",
              "\n",
              "    [theme=dark] .colab-df-convert {\n",
              "      background-color: #3B4455;\n",
              "      fill: #D2E3FC;\n",
              "    }\n",
              "\n",
              "    [theme=dark] .colab-df-convert:hover {\n",
              "      background-color: #434B5C;\n",
              "      box-shadow: 0px 1px 3px 1px rgba(0, 0, 0, 0.15);\n",
              "      filter: drop-shadow(0px 1px 2px rgba(0, 0, 0, 0.3));\n",
              "      fill: #FFFFFF;\n",
              "    }\n",
              "  </style>\n",
              "\n",
              "      <script>\n",
              "        const buttonEl =\n",
              "          document.querySelector('#df-2fc3a61e-37a8-4724-88cd-05fa2372f38a button.colab-df-convert');\n",
              "        buttonEl.style.display =\n",
              "          google.colab.kernel.accessAllowed ? 'block' : 'none';\n",
              "\n",
              "        async function convertToInteractive(key) {\n",
              "          const element = document.querySelector('#df-2fc3a61e-37a8-4724-88cd-05fa2372f38a');\n",
              "          const dataTable =\n",
              "            await google.colab.kernel.invokeFunction('convertToInteractive',\n",
              "                                                     [key], {});\n",
              "          if (!dataTable) return;\n",
              "\n",
              "          const docLinkHtml = 'Like what you see? Visit the ' +\n",
              "            '<a target=\"_blank\" href=https://colab.research.google.com/notebooks/data_table.ipynb>data table notebook</a>'\n",
              "            + ' to learn more about interactive tables.';\n",
              "          element.innerHTML = '';\n",
              "          dataTable['output_type'] = 'display_data';\n",
              "          await google.colab.output.renderOutput(dataTable, element);\n",
              "          const docLink = document.createElement('div');\n",
              "          docLink.innerHTML = docLinkHtml;\n",
              "          element.appendChild(docLink);\n",
              "        }\n",
              "      </script>\n",
              "    </div>\n",
              "  </div>\n",
              "  "
            ]
          },
          "metadata": {},
          "execution_count": 283
        }
      ],
      "source": [
        "df_airnb.describe()"
      ]
    },
    {
      "cell_type": "code",
      "execution_count": 284,
      "metadata": {
        "id": "5Kov8S9ezmF9",
        "colab": {
          "base_uri": "https://localhost:8080/",
          "height": 424
        },
        "outputId": "99574ce1-1361-424f-decc-fe366db206d4"
      },
      "outputs": [
        {
          "output_type": "execute_result",
          "data": {
            "text/plain": [
              "                                   count          mean           std  \\\n",
              "host id                         102599.0  4.925411e+10  2.853900e+10   \n",
              "lat                             102591.0  4.072809e+01  5.585652e-02   \n",
              "long                            102591.0 -7.394964e+01  4.952126e-02   \n",
              "Construction year               102385.0  2.012487e+03  5.765556e+00   \n",
              "minimum nights                  102190.0  8.135845e+00  3.055378e+01   \n",
              "number of reviews               102416.0  2.748374e+01  4.950895e+01   \n",
              "reviews per month                86720.0  1.374022e+00  1.746621e+00   \n",
              "review rate number              102273.0  3.279106e+00  1.284657e+00   \n",
              "calculated host listings count  102280.0  7.936605e+00  3.221878e+01   \n",
              "availability 365                102151.0  1.411333e+02  1.354350e+02   \n",
              "\n",
              "                                         min           25%           50%  \\\n",
              "host id                         1.236005e+08  2.458333e+10  4.911774e+10   \n",
              "lat                             4.049979e+01  4.068874e+01  4.072229e+01   \n",
              "long                           -7.424984e+01 -7.398258e+01 -7.395444e+01   \n",
              "Construction year               2.003000e+03  2.007000e+03  2.012000e+03   \n",
              "minimum nights                 -1.223000e+03  2.000000e+00  3.000000e+00   \n",
              "number of reviews               0.000000e+00  1.000000e+00  7.000000e+00   \n",
              "reviews per month               1.000000e-02  2.200000e-01  7.400000e-01   \n",
              "review rate number              1.000000e+00  2.000000e+00  3.000000e+00   \n",
              "calculated host listings count  1.000000e+00  1.000000e+00  1.000000e+00   \n",
              "availability 365               -1.000000e+01  3.000000e+00  9.600000e+01   \n",
              "\n",
              "                                         75%           max  \n",
              "host id                         7.399650e+10  9.876313e+10  \n",
              "lat                             4.076276e+01  4.091697e+01  \n",
              "long                           -7.393235e+01 -7.370522e+01  \n",
              "Construction year               2.017000e+03  2.022000e+03  \n",
              "minimum nights                  5.000000e+00  5.645000e+03  \n",
              "number of reviews               3.000000e+01  1.024000e+03  \n",
              "reviews per month               2.000000e+00  9.000000e+01  \n",
              "review rate number              4.000000e+00  5.000000e+00  \n",
              "calculated host listings count  2.000000e+00  3.320000e+02  \n",
              "availability 365                2.690000e+02  3.677000e+03  "
            ],
            "text/html": [
              "\n",
              "  <div id=\"df-4bef19f4-27cf-4dc0-80a5-2cb51cd6555a\">\n",
              "    <div class=\"colab-df-container\">\n",
              "      <div>\n",
              "<style scoped>\n",
              "    .dataframe tbody tr th:only-of-type {\n",
              "        vertical-align: middle;\n",
              "    }\n",
              "\n",
              "    .dataframe tbody tr th {\n",
              "        vertical-align: top;\n",
              "    }\n",
              "\n",
              "    .dataframe thead th {\n",
              "        text-align: right;\n",
              "    }\n",
              "</style>\n",
              "<table border=\"1\" class=\"dataframe\">\n",
              "  <thead>\n",
              "    <tr style=\"text-align: right;\">\n",
              "      <th></th>\n",
              "      <th>count</th>\n",
              "      <th>mean</th>\n",
              "      <th>std</th>\n",
              "      <th>min</th>\n",
              "      <th>25%</th>\n",
              "      <th>50%</th>\n",
              "      <th>75%</th>\n",
              "      <th>max</th>\n",
              "    </tr>\n",
              "  </thead>\n",
              "  <tbody>\n",
              "    <tr>\n",
              "      <th>host id</th>\n",
              "      <td>102599.0</td>\n",
              "      <td>4.925411e+10</td>\n",
              "      <td>2.853900e+10</td>\n",
              "      <td>1.236005e+08</td>\n",
              "      <td>2.458333e+10</td>\n",
              "      <td>4.911774e+10</td>\n",
              "      <td>7.399650e+10</td>\n",
              "      <td>9.876313e+10</td>\n",
              "    </tr>\n",
              "    <tr>\n",
              "      <th>lat</th>\n",
              "      <td>102591.0</td>\n",
              "      <td>4.072809e+01</td>\n",
              "      <td>5.585652e-02</td>\n",
              "      <td>4.049979e+01</td>\n",
              "      <td>4.068874e+01</td>\n",
              "      <td>4.072229e+01</td>\n",
              "      <td>4.076276e+01</td>\n",
              "      <td>4.091697e+01</td>\n",
              "    </tr>\n",
              "    <tr>\n",
              "      <th>long</th>\n",
              "      <td>102591.0</td>\n",
              "      <td>-7.394964e+01</td>\n",
              "      <td>4.952126e-02</td>\n",
              "      <td>-7.424984e+01</td>\n",
              "      <td>-7.398258e+01</td>\n",
              "      <td>-7.395444e+01</td>\n",
              "      <td>-7.393235e+01</td>\n",
              "      <td>-7.370522e+01</td>\n",
              "    </tr>\n",
              "    <tr>\n",
              "      <th>Construction year</th>\n",
              "      <td>102385.0</td>\n",
              "      <td>2.012487e+03</td>\n",
              "      <td>5.765556e+00</td>\n",
              "      <td>2.003000e+03</td>\n",
              "      <td>2.007000e+03</td>\n",
              "      <td>2.012000e+03</td>\n",
              "      <td>2.017000e+03</td>\n",
              "      <td>2.022000e+03</td>\n",
              "    </tr>\n",
              "    <tr>\n",
              "      <th>minimum nights</th>\n",
              "      <td>102190.0</td>\n",
              "      <td>8.135845e+00</td>\n",
              "      <td>3.055378e+01</td>\n",
              "      <td>-1.223000e+03</td>\n",
              "      <td>2.000000e+00</td>\n",
              "      <td>3.000000e+00</td>\n",
              "      <td>5.000000e+00</td>\n",
              "      <td>5.645000e+03</td>\n",
              "    </tr>\n",
              "    <tr>\n",
              "      <th>number of reviews</th>\n",
              "      <td>102416.0</td>\n",
              "      <td>2.748374e+01</td>\n",
              "      <td>4.950895e+01</td>\n",
              "      <td>0.000000e+00</td>\n",
              "      <td>1.000000e+00</td>\n",
              "      <td>7.000000e+00</td>\n",
              "      <td>3.000000e+01</td>\n",
              "      <td>1.024000e+03</td>\n",
              "    </tr>\n",
              "    <tr>\n",
              "      <th>reviews per month</th>\n",
              "      <td>86720.0</td>\n",
              "      <td>1.374022e+00</td>\n",
              "      <td>1.746621e+00</td>\n",
              "      <td>1.000000e-02</td>\n",
              "      <td>2.200000e-01</td>\n",
              "      <td>7.400000e-01</td>\n",
              "      <td>2.000000e+00</td>\n",
              "      <td>9.000000e+01</td>\n",
              "    </tr>\n",
              "    <tr>\n",
              "      <th>review rate number</th>\n",
              "      <td>102273.0</td>\n",
              "      <td>3.279106e+00</td>\n",
              "      <td>1.284657e+00</td>\n",
              "      <td>1.000000e+00</td>\n",
              "      <td>2.000000e+00</td>\n",
              "      <td>3.000000e+00</td>\n",
              "      <td>4.000000e+00</td>\n",
              "      <td>5.000000e+00</td>\n",
              "    </tr>\n",
              "    <tr>\n",
              "      <th>calculated host listings count</th>\n",
              "      <td>102280.0</td>\n",
              "      <td>7.936605e+00</td>\n",
              "      <td>3.221878e+01</td>\n",
              "      <td>1.000000e+00</td>\n",
              "      <td>1.000000e+00</td>\n",
              "      <td>1.000000e+00</td>\n",
              "      <td>2.000000e+00</td>\n",
              "      <td>3.320000e+02</td>\n",
              "    </tr>\n",
              "    <tr>\n",
              "      <th>availability 365</th>\n",
              "      <td>102151.0</td>\n",
              "      <td>1.411333e+02</td>\n",
              "      <td>1.354350e+02</td>\n",
              "      <td>-1.000000e+01</td>\n",
              "      <td>3.000000e+00</td>\n",
              "      <td>9.600000e+01</td>\n",
              "      <td>2.690000e+02</td>\n",
              "      <td>3.677000e+03</td>\n",
              "    </tr>\n",
              "  </tbody>\n",
              "</table>\n",
              "</div>\n",
              "      <button class=\"colab-df-convert\" onclick=\"convertToInteractive('df-4bef19f4-27cf-4dc0-80a5-2cb51cd6555a')\"\n",
              "              title=\"Convert this dataframe to an interactive table.\"\n",
              "              style=\"display:none;\">\n",
              "        \n",
              "  <svg xmlns=\"http://www.w3.org/2000/svg\" height=\"24px\"viewBox=\"0 0 24 24\"\n",
              "       width=\"24px\">\n",
              "    <path d=\"M0 0h24v24H0V0z\" fill=\"none\"/>\n",
              "    <path d=\"M18.56 5.44l.94 2.06.94-2.06 2.06-.94-2.06-.94-.94-2.06-.94 2.06-2.06.94zm-11 1L8.5 8.5l.94-2.06 2.06-.94-2.06-.94L8.5 2.5l-.94 2.06-2.06.94zm10 10l.94 2.06.94-2.06 2.06-.94-2.06-.94-.94-2.06-.94 2.06-2.06.94z\"/><path d=\"M17.41 7.96l-1.37-1.37c-.4-.4-.92-.59-1.43-.59-.52 0-1.04.2-1.43.59L10.3 9.45l-7.72 7.72c-.78.78-.78 2.05 0 2.83L4 21.41c.39.39.9.59 1.41.59.51 0 1.02-.2 1.41-.59l7.78-7.78 2.81-2.81c.8-.78.8-2.07 0-2.86zM5.41 20L4 18.59l7.72-7.72 1.47 1.35L5.41 20z\"/>\n",
              "  </svg>\n",
              "      </button>\n",
              "      \n",
              "  <style>\n",
              "    .colab-df-container {\n",
              "      display:flex;\n",
              "      flex-wrap:wrap;\n",
              "      gap: 12px;\n",
              "    }\n",
              "\n",
              "    .colab-df-convert {\n",
              "      background-color: #E8F0FE;\n",
              "      border: none;\n",
              "      border-radius: 50%;\n",
              "      cursor: pointer;\n",
              "      display: none;\n",
              "      fill: #1967D2;\n",
              "      height: 32px;\n",
              "      padding: 0 0 0 0;\n",
              "      width: 32px;\n",
              "    }\n",
              "\n",
              "    .colab-df-convert:hover {\n",
              "      background-color: #E2EBFA;\n",
              "      box-shadow: 0px 1px 2px rgba(60, 64, 67, 0.3), 0px 1px 3px 1px rgba(60, 64, 67, 0.15);\n",
              "      fill: #174EA6;\n",
              "    }\n",
              "\n",
              "    [theme=dark] .colab-df-convert {\n",
              "      background-color: #3B4455;\n",
              "      fill: #D2E3FC;\n",
              "    }\n",
              "\n",
              "    [theme=dark] .colab-df-convert:hover {\n",
              "      background-color: #434B5C;\n",
              "      box-shadow: 0px 1px 3px 1px rgba(0, 0, 0, 0.15);\n",
              "      filter: drop-shadow(0px 1px 2px rgba(0, 0, 0, 0.3));\n",
              "      fill: #FFFFFF;\n",
              "    }\n",
              "  </style>\n",
              "\n",
              "      <script>\n",
              "        const buttonEl =\n",
              "          document.querySelector('#df-4bef19f4-27cf-4dc0-80a5-2cb51cd6555a button.colab-df-convert');\n",
              "        buttonEl.style.display =\n",
              "          google.colab.kernel.accessAllowed ? 'block' : 'none';\n",
              "\n",
              "        async function convertToInteractive(key) {\n",
              "          const element = document.querySelector('#df-4bef19f4-27cf-4dc0-80a5-2cb51cd6555a');\n",
              "          const dataTable =\n",
              "            await google.colab.kernel.invokeFunction('convertToInteractive',\n",
              "                                                     [key], {});\n",
              "          if (!dataTable) return;\n",
              "\n",
              "          const docLinkHtml = 'Like what you see? Visit the ' +\n",
              "            '<a target=\"_blank\" href=https://colab.research.google.com/notebooks/data_table.ipynb>data table notebook</a>'\n",
              "            + ' to learn more about interactive tables.';\n",
              "          element.innerHTML = '';\n",
              "          dataTable['output_type'] = 'display_data';\n",
              "          await google.colab.output.renderOutput(dataTable, element);\n",
              "          const docLink = document.createElement('div');\n",
              "          docLink.innerHTML = docLinkHtml;\n",
              "          element.appendChild(docLink);\n",
              "        }\n",
              "      </script>\n",
              "    </div>\n",
              "  </div>\n",
              "  "
            ]
          },
          "metadata": {},
          "execution_count": 284
        }
      ],
      "source": [
        "df_airnb.describe().T"
      ]
    },
    {
      "cell_type": "markdown",
      "metadata": {
        "id": "kKd5KIuI0OOG"
      },
      "source": [
        "# **Cleaning our data**\n",
        "\n",
        "---\n",
        "\n"
      ]
    },
    {
      "cell_type": "markdown",
      "metadata": {
        "id": "a11XvGtgLzyF"
      },
      "source": [
        "Identify the  null values then I must order the columns with null variables in ascending order to know how we are going to impute them"
      ]
    },
    {
      "cell_type": "code",
      "execution_count": 285,
      "metadata": {
        "id": "PzxUO8ZP0QM7",
        "colab": {
          "base_uri": "https://localhost:8080/"
        },
        "outputId": "446671b6-c6f6-43a3-cdbd-87fdcae05ff2"
      },
      "outputs": [
        {
          "output_type": "execute_result",
          "data": {
            "text/plain": [
              "license                           102597\n",
              "house_rules                        52131\n",
              "last review                        15893\n",
              "reviews per month                  15879\n",
              "country                              532\n",
              "availability 365                     448\n",
              "minimum nights                       409\n",
              "host name                            406\n",
              "review rate number                   326\n",
              "calculated host listings count       319\n",
              "host_identity_verified               289\n",
              "service fee                          273\n",
              "NAME                                 250\n",
              "price                                247\n",
              "Construction year                    214\n",
              "number of reviews                    183\n",
              "country code                         131\n",
              "instant_bookable                     105\n",
              "cancellation_policy                   76\n",
              "neighbourhood group                   29\n",
              "neighbourhood                         16\n",
              "long                                   8\n",
              "lat                                    8\n",
              "host id                                0\n",
              "room type                              0\n",
              "dtype: int64"
            ]
          },
          "metadata": {},
          "execution_count": 285
        }
      ],
      "source": [
        "df_airnb.isna().sum().sort_values(ascending=False)"
      ]
    },
    {
      "cell_type": "code",
      "execution_count": 286,
      "metadata": {
        "id": "AgZ9Q-Mp0ZSt",
        "colab": {
          "base_uri": "https://localhost:8080/"
        },
        "outputId": "b657d875-7bb2-404c-d485-28c18a694e90"
      },
      "outputs": [
        {
          "output_type": "stream",
          "name": "stdout",
          "text": [
            "190769 missing values\n"
          ]
        }
      ],
      "source": [
        "print(df_airnb.isna().sum().sum(), 'missing values')"
      ]
    },
    {
      "cell_type": "markdown",
      "metadata": {
        "id": "Acdl4kuB0xv2"
      },
      "source": [
        "**Findings:**\n",
        "\n",
        "*There are 190.769 missing values\n",
        "\n",
        "*The dataset is shaped by categorical and numerical variables"
      ]
    },
    {
      "cell_type": "markdown",
      "metadata": {
        "id": "fzMdQwv-Qn4q"
      },
      "source": [
        "Indentify duplicated values"
      ]
    },
    {
      "cell_type": "code",
      "execution_count": 287,
      "metadata": {
        "id": "1tIORct_1HLc",
        "colab": {
          "base_uri": "https://localhost:8080/"
        },
        "outputId": "ccf0b527-6f8f-4da1-a1da-98f2bead2677"
      },
      "outputs": [
        {
          "output_type": "execute_result",
          "data": {
            "text/plain": [
              "541"
            ]
          },
          "metadata": {},
          "execution_count": 287
        }
      ],
      "source": [
        "df_airnb.duplicated().sum()"
      ]
    },
    {
      "cell_type": "markdown",
      "metadata": {
        "id": "r2w8eZ1j1KAc"
      },
      "source": [
        "The dataset has 541 duplicated values, we just have to remove them."
      ]
    },
    {
      "cell_type": "code",
      "execution_count": 288,
      "metadata": {
        "id": "nISbDeDa1haW",
        "colab": {
          "base_uri": "https://localhost:8080/"
        },
        "outputId": "6a87e9f5-0326-4273-b8ce-26a698b64668"
      },
      "outputs": [
        {
          "output_type": "execute_result",
          "data": {
            "text/plain": [
              "0"
            ]
          },
          "metadata": {},
          "execution_count": 288
        }
      ],
      "source": [
        "df_airnb = df_airnb.drop_duplicates()\n",
        "df_airnb.duplicated().sum()"
      ]
    },
    {
      "cell_type": "markdown",
      "metadata": {
        "id": "XQsuoFjg2UIv"
      },
      "source": [
        "The duplicates were removed."
      ]
    },
    {
      "cell_type": "code",
      "execution_count": 289,
      "metadata": {
        "id": "-pLiVfrwHXcE"
      },
      "outputs": [],
      "source": [
        "#df = pd.DataFrame(df_airnb)\n",
        "#df = df_airnb.fillna(0)\n"
      ]
    },
    {
      "cell_type": "markdown",
      "metadata": {
        "id": "PDzkDSyCNKiO"
      },
      "source": [
        "All the NaN Values were replaced by 0, now It is accurate to imputate them."
      ]
    },
    {
      "cell_type": "code",
      "execution_count": 290,
      "metadata": {
        "id": "soxSEio1HMbr",
        "colab": {
          "base_uri": "https://localhost:8080/"
        },
        "outputId": "2bdae0d3-33f7-44fe-c6e4-f0661c30183f"
      },
      "outputs": [
        {
          "output_type": "stream",
          "name": "stdout",
          "text": [
            "neighbourhood group contiene 0 datos null: Representan el 0.0% del conjunto de datos\n",
            "neighbourhood contiene 0 datos null: Representan el 0.0% del conjunto de datos\n",
            "lat contiene 0 datos null: Representan el 0.0% del conjunto de datos\n",
            "long contiene 0 datos null: Representan el 0.0% del conjunto de datos\n",
            "country contiene 0 datos null: Representan el 0.0% del conjunto de datos\n",
            "country code contiene 0 datos null: Representan el 0.0% del conjunto de datos\n",
            "instant_bookable contiene 51186 datos null: Representan el 50.28% del conjunto de datos\n",
            "cancellation_policy contiene 0 datos null: Representan el 0.0% del conjunto de datos\n",
            "room type contiene 0 datos null: Representan el 0.0% del conjunto de datos\n",
            "Construction year contiene 0 datos null: Representan el 0.0% del conjunto de datos\n",
            "price contiene 0 datos null: Representan el 0.0% del conjunto de datos\n",
            "service fee contiene 0 datos null: Representan el 0.0% del conjunto de datos\n",
            "minimum nights contiene 0 datos null: Representan el 0.0% del conjunto de datos\n",
            "number of reviews contiene 15673 datos null: Representan el 15.39% del conjunto de datos\n",
            "last review contiene 0 datos null: Representan el 0.0% del conjunto de datos\n",
            "reviews per month contiene 0 datos null: Representan el 0.0% del conjunto de datos\n",
            "review rate number contiene 0 datos null: Representan el 0.0% del conjunto de datos\n",
            "calculated host listings count contiene 0 datos null: Representan el 0.0% del conjunto de datos\n",
            "availability 365 contiene 23448 datos null: Representan el 23.03% del conjunto de datos\n"
          ]
        }
      ],
      "source": [
        "datos_null = ['neighbourhood group', 'neighbourhood', 'lat', 'long', 'country',\n",
        "       'country code', 'instant_bookable', 'cancellation_policy',\n",
        "       'room type', 'Construction year', 'price', 'service fee',\n",
        "       'minimum nights', 'number of reviews', 'last review',\n",
        "       'reviews per month', 'review rate number',\n",
        "       'calculated host listings count', 'availability 365',]\n",
        "for dato in datos_null:\n",
        "    q_null = df_airnb[df_airnb[dato] == 0][dato].count()\n",
        "    print(f'{dato} contiene {q_null} datos null: Representan el {round(q_null*100/df_airnb[\"price\"].count(), 2)}% del conjunto de datos')"
      ]
    },
    {
      "cell_type": "markdown",
      "metadata": {
        "id": "Lm7Y0_fMBf54"
      },
      "source": [
        "**Findings:**\n",
        "\n",
        "*It is notorious that the license column has only 2 registered data, it is appropriate to eliminate it, since being information inherent to each host it cannot be replaced with any statistical inference.\n",
        "\n",
        "*For the **Instant Bookable** column, the number 0 does not indicate null data, since it is a binary variable so they should not be eliminated, for teh rest of columns the values are replaced by 1 and 0."
      ]
    },
    {
      "cell_type": "code",
      "execution_count": 291,
      "metadata": {
        "id": "U0oxBjgv3uQg",
        "colab": {
          "base_uri": "https://localhost:8080/"
        },
        "outputId": "3434ec7b-1262-4b45-a94d-3a5936532eba"
      },
      "outputs": [
        {
          "output_type": "execute_result",
          "data": {
            "text/plain": [
              "array(['NAME', 'host id', 'host_identity_verified', 'host name',\n",
              "       'neighbourhood group', 'neighbourhood', 'lat', 'long', 'country',\n",
              "       'country code', 'instant_bookable', 'cancellation_policy',\n",
              "       'room type', 'Construction year', 'price', 'service fee',\n",
              "       'minimum nights', 'number of reviews', 'last review',\n",
              "       'reviews per month', 'review rate number',\n",
              "       'calculated host listings count', 'availability 365',\n",
              "       'house_rules', 'license'], dtype=object)"
            ]
          },
          "metadata": {},
          "execution_count": 291
        }
      ],
      "source": [
        "columns_names = df_airnb.columns.values\n",
        "columns_names"
      ]
    },
    {
      "cell_type": "markdown",
      "metadata": {
        "id": "-ukS3U1c6o-C"
      },
      "source": [
        "It's accurate to eliminate the column *License* , it is completely empty (it has 2 registers).\n",
        "Also the columns named like *house rules, guest's name , host id and host name*, they are irrelevant to predict the price of a airbnb stay, for that reason I eliminate them. "
      ]
    },
    {
      "cell_type": "code",
      "execution_count": 292,
      "metadata": {
        "id": "LvO2mn3Y6xJ9",
        "colab": {
          "base_uri": "https://localhost:8080/",
          "height": 440
        },
        "outputId": "a07ba540-532f-4b39-980d-0e5562e2ae60"
      },
      "outputs": [
        {
          "output_type": "execute_result",
          "data": {
            "text/plain": [
              "        neighbourhood group neighbourhood       lat      long        country  \\\n",
              "id                                                                             \n",
              "1001254            Brooklyn    Kensington  40.64749 -73.97237  United States   \n",
              "1002102           Manhattan       Midtown  40.75362 -73.98377  United States   \n",
              "1002403           Manhattan        Harlem  40.80902 -73.94190  United States   \n",
              "1002755            Brooklyn  Clinton Hill  40.68514 -73.95976  United States   \n",
              "1003689           Manhattan   East Harlem  40.79851 -73.94399  United States   \n",
              "\n",
              "        country code instant_bookable cancellation_policy        room type  \\\n",
              "id                                                                           \n",
              "1001254           US            False              strict     Private room   \n",
              "1002102           US            False            moderate  Entire home/apt   \n",
              "1002403           US             True            flexible     Private room   \n",
              "1002755           US             True            moderate  Entire home/apt   \n",
              "1003689           US            False            moderate  Entire home/apt   \n",
              "\n",
              "         Construction year  price service fee  minimum nights  \\\n",
              "id                                                              \n",
              "1001254             2020.0  $966        $193             10.0   \n",
              "1002102             2007.0  $142         $28             30.0   \n",
              "1002403             2005.0  $620        $124              3.0   \n",
              "1002755             2005.0  $368         $74             30.0   \n",
              "1003689             2009.0  $204         $41             10.0   \n",
              "\n",
              "         number of reviews last review  reviews per month  review rate number  \\\n",
              "id                                                                              \n",
              "1001254                9.0  10/19/2021               0.21                 4.0   \n",
              "1002102               45.0   5/21/2022               0.38                 4.0   \n",
              "1002403                0.0         NaN                NaN                 5.0   \n",
              "1002755              270.0    7/5/2019               4.64                 4.0   \n",
              "1003689                9.0  11/19/2018               0.10                 3.0   \n",
              "\n",
              "         calculated host listings count  availability 365  \n",
              "id                                                         \n",
              "1001254                             6.0             286.0  \n",
              "1002102                             2.0             228.0  \n",
              "1002403                             1.0             352.0  \n",
              "1002755                             1.0             322.0  \n",
              "1003689                             1.0             289.0  "
            ],
            "text/html": [
              "\n",
              "  <div id=\"df-0f794ffb-6887-4d4c-a747-a88856b1515a\">\n",
              "    <div class=\"colab-df-container\">\n",
              "      <div>\n",
              "<style scoped>\n",
              "    .dataframe tbody tr th:only-of-type {\n",
              "        vertical-align: middle;\n",
              "    }\n",
              "\n",
              "    .dataframe tbody tr th {\n",
              "        vertical-align: top;\n",
              "    }\n",
              "\n",
              "    .dataframe thead th {\n",
              "        text-align: right;\n",
              "    }\n",
              "</style>\n",
              "<table border=\"1\" class=\"dataframe\">\n",
              "  <thead>\n",
              "    <tr style=\"text-align: right;\">\n",
              "      <th></th>\n",
              "      <th>neighbourhood group</th>\n",
              "      <th>neighbourhood</th>\n",
              "      <th>lat</th>\n",
              "      <th>long</th>\n",
              "      <th>country</th>\n",
              "      <th>country code</th>\n",
              "      <th>instant_bookable</th>\n",
              "      <th>cancellation_policy</th>\n",
              "      <th>room type</th>\n",
              "      <th>Construction year</th>\n",
              "      <th>price</th>\n",
              "      <th>service fee</th>\n",
              "      <th>minimum nights</th>\n",
              "      <th>number of reviews</th>\n",
              "      <th>last review</th>\n",
              "      <th>reviews per month</th>\n",
              "      <th>review rate number</th>\n",
              "      <th>calculated host listings count</th>\n",
              "      <th>availability 365</th>\n",
              "    </tr>\n",
              "    <tr>\n",
              "      <th>id</th>\n",
              "      <th></th>\n",
              "      <th></th>\n",
              "      <th></th>\n",
              "      <th></th>\n",
              "      <th></th>\n",
              "      <th></th>\n",
              "      <th></th>\n",
              "      <th></th>\n",
              "      <th></th>\n",
              "      <th></th>\n",
              "      <th></th>\n",
              "      <th></th>\n",
              "      <th></th>\n",
              "      <th></th>\n",
              "      <th></th>\n",
              "      <th></th>\n",
              "      <th></th>\n",
              "      <th></th>\n",
              "      <th></th>\n",
              "    </tr>\n",
              "  </thead>\n",
              "  <tbody>\n",
              "    <tr>\n",
              "      <th>1001254</th>\n",
              "      <td>Brooklyn</td>\n",
              "      <td>Kensington</td>\n",
              "      <td>40.64749</td>\n",
              "      <td>-73.97237</td>\n",
              "      <td>United States</td>\n",
              "      <td>US</td>\n",
              "      <td>False</td>\n",
              "      <td>strict</td>\n",
              "      <td>Private room</td>\n",
              "      <td>2020.0</td>\n",
              "      <td>$966</td>\n",
              "      <td>$193</td>\n",
              "      <td>10.0</td>\n",
              "      <td>9.0</td>\n",
              "      <td>10/19/2021</td>\n",
              "      <td>0.21</td>\n",
              "      <td>4.0</td>\n",
              "      <td>6.0</td>\n",
              "      <td>286.0</td>\n",
              "    </tr>\n",
              "    <tr>\n",
              "      <th>1002102</th>\n",
              "      <td>Manhattan</td>\n",
              "      <td>Midtown</td>\n",
              "      <td>40.75362</td>\n",
              "      <td>-73.98377</td>\n",
              "      <td>United States</td>\n",
              "      <td>US</td>\n",
              "      <td>False</td>\n",
              "      <td>moderate</td>\n",
              "      <td>Entire home/apt</td>\n",
              "      <td>2007.0</td>\n",
              "      <td>$142</td>\n",
              "      <td>$28</td>\n",
              "      <td>30.0</td>\n",
              "      <td>45.0</td>\n",
              "      <td>5/21/2022</td>\n",
              "      <td>0.38</td>\n",
              "      <td>4.0</td>\n",
              "      <td>2.0</td>\n",
              "      <td>228.0</td>\n",
              "    </tr>\n",
              "    <tr>\n",
              "      <th>1002403</th>\n",
              "      <td>Manhattan</td>\n",
              "      <td>Harlem</td>\n",
              "      <td>40.80902</td>\n",
              "      <td>-73.94190</td>\n",
              "      <td>United States</td>\n",
              "      <td>US</td>\n",
              "      <td>True</td>\n",
              "      <td>flexible</td>\n",
              "      <td>Private room</td>\n",
              "      <td>2005.0</td>\n",
              "      <td>$620</td>\n",
              "      <td>$124</td>\n",
              "      <td>3.0</td>\n",
              "      <td>0.0</td>\n",
              "      <td>NaN</td>\n",
              "      <td>NaN</td>\n",
              "      <td>5.0</td>\n",
              "      <td>1.0</td>\n",
              "      <td>352.0</td>\n",
              "    </tr>\n",
              "    <tr>\n",
              "      <th>1002755</th>\n",
              "      <td>Brooklyn</td>\n",
              "      <td>Clinton Hill</td>\n",
              "      <td>40.68514</td>\n",
              "      <td>-73.95976</td>\n",
              "      <td>United States</td>\n",
              "      <td>US</td>\n",
              "      <td>True</td>\n",
              "      <td>moderate</td>\n",
              "      <td>Entire home/apt</td>\n",
              "      <td>2005.0</td>\n",
              "      <td>$368</td>\n",
              "      <td>$74</td>\n",
              "      <td>30.0</td>\n",
              "      <td>270.0</td>\n",
              "      <td>7/5/2019</td>\n",
              "      <td>4.64</td>\n",
              "      <td>4.0</td>\n",
              "      <td>1.0</td>\n",
              "      <td>322.0</td>\n",
              "    </tr>\n",
              "    <tr>\n",
              "      <th>1003689</th>\n",
              "      <td>Manhattan</td>\n",
              "      <td>East Harlem</td>\n",
              "      <td>40.79851</td>\n",
              "      <td>-73.94399</td>\n",
              "      <td>United States</td>\n",
              "      <td>US</td>\n",
              "      <td>False</td>\n",
              "      <td>moderate</td>\n",
              "      <td>Entire home/apt</td>\n",
              "      <td>2009.0</td>\n",
              "      <td>$204</td>\n",
              "      <td>$41</td>\n",
              "      <td>10.0</td>\n",
              "      <td>9.0</td>\n",
              "      <td>11/19/2018</td>\n",
              "      <td>0.10</td>\n",
              "      <td>3.0</td>\n",
              "      <td>1.0</td>\n",
              "      <td>289.0</td>\n",
              "    </tr>\n",
              "  </tbody>\n",
              "</table>\n",
              "</div>\n",
              "      <button class=\"colab-df-convert\" onclick=\"convertToInteractive('df-0f794ffb-6887-4d4c-a747-a88856b1515a')\"\n",
              "              title=\"Convert this dataframe to an interactive table.\"\n",
              "              style=\"display:none;\">\n",
              "        \n",
              "  <svg xmlns=\"http://www.w3.org/2000/svg\" height=\"24px\"viewBox=\"0 0 24 24\"\n",
              "       width=\"24px\">\n",
              "    <path d=\"M0 0h24v24H0V0z\" fill=\"none\"/>\n",
              "    <path d=\"M18.56 5.44l.94 2.06.94-2.06 2.06-.94-2.06-.94-.94-2.06-.94 2.06-2.06.94zm-11 1L8.5 8.5l.94-2.06 2.06-.94-2.06-.94L8.5 2.5l-.94 2.06-2.06.94zm10 10l.94 2.06.94-2.06 2.06-.94-2.06-.94-.94-2.06-.94 2.06-2.06.94z\"/><path d=\"M17.41 7.96l-1.37-1.37c-.4-.4-.92-.59-1.43-.59-.52 0-1.04.2-1.43.59L10.3 9.45l-7.72 7.72c-.78.78-.78 2.05 0 2.83L4 21.41c.39.39.9.59 1.41.59.51 0 1.02-.2 1.41-.59l7.78-7.78 2.81-2.81c.8-.78.8-2.07 0-2.86zM5.41 20L4 18.59l7.72-7.72 1.47 1.35L5.41 20z\"/>\n",
              "  </svg>\n",
              "      </button>\n",
              "      \n",
              "  <style>\n",
              "    .colab-df-container {\n",
              "      display:flex;\n",
              "      flex-wrap:wrap;\n",
              "      gap: 12px;\n",
              "    }\n",
              "\n",
              "    .colab-df-convert {\n",
              "      background-color: #E8F0FE;\n",
              "      border: none;\n",
              "      border-radius: 50%;\n",
              "      cursor: pointer;\n",
              "      display: none;\n",
              "      fill: #1967D2;\n",
              "      height: 32px;\n",
              "      padding: 0 0 0 0;\n",
              "      width: 32px;\n",
              "    }\n",
              "\n",
              "    .colab-df-convert:hover {\n",
              "      background-color: #E2EBFA;\n",
              "      box-shadow: 0px 1px 2px rgba(60, 64, 67, 0.3), 0px 1px 3px 1px rgba(60, 64, 67, 0.15);\n",
              "      fill: #174EA6;\n",
              "    }\n",
              "\n",
              "    [theme=dark] .colab-df-convert {\n",
              "      background-color: #3B4455;\n",
              "      fill: #D2E3FC;\n",
              "    }\n",
              "\n",
              "    [theme=dark] .colab-df-convert:hover {\n",
              "      background-color: #434B5C;\n",
              "      box-shadow: 0px 1px 3px 1px rgba(0, 0, 0, 0.15);\n",
              "      filter: drop-shadow(0px 1px 2px rgba(0, 0, 0, 0.3));\n",
              "      fill: #FFFFFF;\n",
              "    }\n",
              "  </style>\n",
              "\n",
              "      <script>\n",
              "        const buttonEl =\n",
              "          document.querySelector('#df-0f794ffb-6887-4d4c-a747-a88856b1515a button.colab-df-convert');\n",
              "        buttonEl.style.display =\n",
              "          google.colab.kernel.accessAllowed ? 'block' : 'none';\n",
              "\n",
              "        async function convertToInteractive(key) {\n",
              "          const element = document.querySelector('#df-0f794ffb-6887-4d4c-a747-a88856b1515a');\n",
              "          const dataTable =\n",
              "            await google.colab.kernel.invokeFunction('convertToInteractive',\n",
              "                                                     [key], {});\n",
              "          if (!dataTable) return;\n",
              "\n",
              "          const docLinkHtml = 'Like what you see? Visit the ' +\n",
              "            '<a target=\"_blank\" href=https://colab.research.google.com/notebooks/data_table.ipynb>data table notebook</a>'\n",
              "            + ' to learn more about interactive tables.';\n",
              "          element.innerHTML = '';\n",
              "          dataTable['output_type'] = 'display_data';\n",
              "          await google.colab.output.renderOutput(dataTable, element);\n",
              "          const docLink = document.createElement('div');\n",
              "          docLink.innerHTML = docLinkHtml;\n",
              "          element.appendChild(docLink);\n",
              "        }\n",
              "      </script>\n",
              "    </div>\n",
              "  </div>\n",
              "  "
            ]
          },
          "metadata": {},
          "execution_count": 292
        }
      ],
      "source": [
        "#Let's the new dataframe\n",
        "df_airnb = df_airnb.drop(columns=['license','house_rules','NAME','host id','host_identity_verified','host name'])\n",
        "df_airnb.head()"
      ]
    },
    {
      "cell_type": "markdown",
      "metadata": {
        "id": "seD4bkCQQdis"
      },
      "source": [
        "Ensure Consistency in Categorical Values!"
      ]
    },
    {
      "cell_type": "code",
      "execution_count": 293,
      "metadata": {
        "id": "TfWor6DpQuxB",
        "colab": {
          "base_uri": "https://localhost:8080/"
        },
        "outputId": "6a467957-3c2e-43f4-84cd-c35f568cc6ca"
      },
      "outputs": [
        {
          "output_type": "execute_result",
          "data": {
            "text/plain": [
              "array(['Brooklyn', 'Manhattan', 'brookln', 'manhatan', 'Queens', nan,\n",
              "       'Staten Island', 'Bronx'], dtype=object)"
            ]
          },
          "metadata": {},
          "execution_count": 293
        }
      ],
      "source": [
        "df_airnb['neighbourhood group'].unique()"
      ]
    },
    {
      "cell_type": "code",
      "execution_count": 294,
      "metadata": {
        "id": "zJA1JcmCFatS",
        "colab": {
          "base_uri": "https://localhost:8080/"
        },
        "outputId": "65c33e69-5705-45ab-eec2-634cc75037a8"
      },
      "outputs": [
        {
          "output_type": "execute_result",
          "data": {
            "text/plain": [
              "array(['Brooklyn', 'Manhattan', 'Queens', nan, 'Staten Island', 'Bronx'],\n",
              "      dtype=object)"
            ]
          },
          "metadata": {},
          "execution_count": 294
        }
      ],
      "source": [
        "\n",
        "df_airnb['neighbourhood group'] = df_airnb['neighbourhood group'].replace('brookln', 'Brooklyn') \n",
        "df_airnb['neighbourhood group'] = df_airnb['neighbourhood group'].replace('manhatan', 'Manhattan')\n",
        "df_airnb['neighbourhood group'] = df_airnb['neighbourhood group'].replace('nan', 'Missing')\n",
        "df_airnb['neighbourhood group'].unique()"
      ]
    },
    {
      "cell_type": "code",
      "execution_count": 295,
      "metadata": {
        "id": "7BgZFYPRBSQC",
        "colab": {
          "base_uri": "https://localhost:8080/"
        },
        "outputId": "c316f338-13b2-4d22-e226-755b9a9997ac"
      },
      "outputs": [
        {
          "output_type": "execute_result",
          "data": {
            "text/plain": [
              "Manhattan        43558\n",
              "Brooklyn         41631\n",
              "Queens           13197\n",
              "Bronx             2694\n",
              "Staten Island      949\n",
              "Name: neighbourhood group, dtype: int64"
            ]
          },
          "metadata": {},
          "execution_count": 295
        }
      ],
      "source": [
        "df_airnb['neighbourhood group'].value_counts()"
      ]
    },
    {
      "cell_type": "markdown",
      "metadata": {
        "id": "8e-nfxkUQHt2"
      },
      "source": [
        "Non-uniform categorical data is identified, the data is cleaned."
      ]
    },
    {
      "cell_type": "markdown",
      "metadata": {
        "id": "lHaLRQ7IRH6X"
      },
      "source": [
        "I explore the data registered in neighbourhood column in order to identify categorical mistakes."
      ]
    },
    {
      "cell_type": "code",
      "execution_count": 296,
      "metadata": {
        "id": "_2F4tjqkBxqA",
        "colab": {
          "base_uri": "https://localhost:8080/"
        },
        "outputId": "701038d3-7563-4d47-dd15-48cda0dd9eb0"
      },
      "outputs": [
        {
          "output_type": "execute_result",
          "data": {
            "text/plain": [
              "Bedford-Stuyvesant        7898\n",
              "Williamsburg              7732\n",
              "Harlem                    5441\n",
              "Bushwick                  4956\n",
              "Hell's Kitchen            3949\n",
              "                          ... \n",
              "Willowbrook                  3\n",
              "Gerritsen Beach              3\n",
              "Fort Wadsworth               2\n",
              "Glen Oaks                    2\n",
              "Chelsea, Staten Island       1\n",
              "Name: neighbourhood, Length: 224, dtype: int64"
            ]
          },
          "metadata": {},
          "execution_count": 296
        }
      ],
      "source": [
        "df_airnb['neighbourhood'].value_counts()"
      ]
    },
    {
      "cell_type": "code",
      "execution_count": 297,
      "metadata": {
        "id": "FBZN1kb3RSqI",
        "colab": {
          "base_uri": "https://localhost:8080/"
        },
        "outputId": "7a347622-0df1-4135-be40-64467f06ef9d"
      },
      "outputs": [
        {
          "output_type": "execute_result",
          "data": {
            "text/plain": [
              "array(['Kensington', 'Midtown', 'Harlem', 'Clinton Hill', 'East Harlem',\n",
              "       'Murray Hill', 'Bedford-Stuyvesant', \"Hell's Kitchen\",\n",
              "       'Upper West Side', 'Chinatown', 'South Slope', 'West Village',\n",
              "       'Williamsburg', 'Fort Greene', 'Chelsea', 'Crown Heights',\n",
              "       'Park Slope', 'Windsor Terrace', 'Inwood', 'East Village',\n",
              "       'Greenpoint', 'Bushwick', 'Flatbush', 'Lower East Side',\n",
              "       'Prospect-Lefferts Gardens', 'Long Island City', 'Kips Bay',\n",
              "       'SoHo', 'Upper East Side', 'Prospect Heights',\n",
              "       'Washington Heights', 'Woodside', 'Brooklyn Heights',\n",
              "       'Carroll Gardens', 'Gowanus', 'Flatlands', 'Cobble Hill',\n",
              "       'Flushing', 'Boerum Hill', 'Sunnyside', 'DUMBO', 'St. George',\n",
              "       'Highbridge', 'Financial District', 'Ridgewood',\n",
              "       'Morningside Heights', 'Jamaica', 'Middle Village', 'NoHo',\n",
              "       'Ditmars Steinway', 'Flatiron District', 'Roosevelt Island',\n",
              "       'Greenwich Village', 'Little Italy', 'East Flatbush',\n",
              "       'Tompkinsville', 'Astoria', 'Clason Point', 'Eastchester',\n",
              "       'Kingsbridge', 'Two Bridges', 'Queens Village', 'Rockaway Beach',\n",
              "       'Forest Hills', 'Nolita', 'Woodlawn', 'University Heights',\n",
              "       'Gravesend', 'Gramercy', 'Allerton', nan, 'East New York',\n",
              "       'Theater District', 'Concourse Village', 'Sheepshead Bay',\n",
              "       'Emerson Hill', 'Fort Hamilton', 'Bensonhurst', 'Tribeca',\n",
              "       'Shore Acres', 'Sunset Park', 'Concourse', 'Elmhurst',\n",
              "       'Brighton Beach', 'Jackson Heights', 'Cypress Hills', 'St. Albans',\n",
              "       'Arrochar', 'Rego Park', 'Wakefield', 'Clifton', 'Bay Ridge',\n",
              "       'Graniteville', 'Spuyten Duyvil', 'Stapleton', 'Briarwood',\n",
              "       'Ozone Park', 'Columbia St', 'Vinegar Hill', 'Mott Haven',\n",
              "       'Longwood', 'Canarsie', 'Battery Park City', 'Civic Center',\n",
              "       'East Elmhurst', 'New Springville', 'Morris Heights', 'Arverne',\n",
              "       'Cambria Heights', 'Tottenville', 'Mariners Harbor', 'Concord',\n",
              "       'Borough Park', 'Bayside', 'Downtown Brooklyn', 'Port Morris',\n",
              "       'Fieldston', 'Kew Gardens', 'Midwood', 'College Point',\n",
              "       'Mount Eden', 'City Island', 'Glendale', 'Port Richmond',\n",
              "       'Red Hook', 'Richmond Hill', 'Bellerose', 'Maspeth',\n",
              "       'Williamsbridge', 'Soundview', 'Woodhaven', 'Woodrow',\n",
              "       'Co-op City', 'Stuyvesant Town', 'Parkchester', 'North Riverdale',\n",
              "       'Dyker Heights', 'Bronxdale', 'Sea Gate', 'Riverdale',\n",
              "       'Kew Gardens Hills', 'Bay Terrace', 'Norwood', 'Claremont Village',\n",
              "       'Whitestone', 'Fordham', 'Bayswater', 'Navy Yard', 'Brownsville',\n",
              "       'Eltingville', 'Fresh Meadows', 'Mount Hope', 'Lighthouse Hill',\n",
              "       'Springfield Gardens', 'Howard Beach', 'Belle Harbor',\n",
              "       'Jamaica Estates', 'Van Nest', 'Morris Park', 'West Brighton',\n",
              "       'Far Rockaway', 'South Ozone Park', 'Tremont', 'Corona',\n",
              "       'Great Kills', 'Manhattan Beach', 'Marble Hill', 'Dongan Hills',\n",
              "       'Castleton Corners', 'East Morrisania', 'Hunts Point', 'Neponsit',\n",
              "       'Pelham Bay', 'Randall Manor', 'Throgs Neck', 'Todt Hill',\n",
              "       'West Farms', 'Silver Lake', 'Morrisania', 'Laurelton',\n",
              "       'Grymes Hill', 'Holliswood', 'Pelham Gardens', 'Belmont',\n",
              "       'Rosedale', 'Edgemere', 'New Brighton', 'Midland Beach',\n",
              "       'Baychester', 'Melrose', 'Bergen Beach', 'Richmondtown',\n",
              "       'Howland Hook', 'Schuylerville', 'Coney Island', 'New Dorp Beach',\n",
              "       \"Prince's Bay\", 'South Beach', 'Bath Beach', 'Jamaica Hills',\n",
              "       'Oakwood', 'Castle Hill', 'Hollis', 'Douglaston', 'Huguenot',\n",
              "       'Olinville', 'Edenwald', 'Grant City', 'Westerleigh',\n",
              "       'Bay Terrace, Staten Island', 'Westchester Square', 'Little Neck',\n",
              "       'Fort Wadsworth', 'Rosebank', 'Unionport', 'Mill Basin',\n",
              "       'Arden Heights', \"Bull's Head\", 'New Dorp', 'Rossville',\n",
              "       'Breezy Point', 'Willowbrook', 'Glen Oaks', 'Gerritsen Beach',\n",
              "       'Chelsea, Staten Island'], dtype=object)"
            ]
          },
          "metadata": {},
          "execution_count": 297
        }
      ],
      "source": [
        "df_airnb['neighbourhood'].unique()"
      ]
    },
    {
      "cell_type": "code",
      "execution_count": 298,
      "metadata": {
        "id": "MI1yR_HkGsK-",
        "colab": {
          "base_uri": "https://localhost:8080/"
        },
        "outputId": "08efcc5b-509f-47cf-abcc-a1fd36c60cc7"
      },
      "outputs": [
        {
          "output_type": "execute_result",
          "data": {
            "text/plain": [
              "US    101927\n",
              "Name: country code, dtype: int64"
            ]
          },
          "metadata": {},
          "execution_count": 298
        }
      ],
      "source": [
        "df_airnb['country code'].value_counts()"
      ]
    },
    {
      "cell_type": "code",
      "execution_count": 299,
      "metadata": {
        "id": "9vYXvhaTGlC_",
        "colab": {
          "base_uri": "https://localhost:8080/"
        },
        "outputId": "10d2607b-cfcb-420e-dca3-f6bc859f2e0e"
      },
      "outputs": [
        {
          "output_type": "execute_result",
          "data": {
            "text/plain": [
              "United States    101526\n",
              "Name: country, dtype: int64"
            ]
          },
          "metadata": {},
          "execution_count": 299
        }
      ],
      "source": [
        "df_airnb['country'].value_counts()"
      ]
    },
    {
      "cell_type": "code",
      "execution_count": 300,
      "metadata": {
        "id": "8dvNXrDCB0qJ",
        "colab": {
          "base_uri": "https://localhost:8080/"
        },
        "outputId": "e384a4f5-e942-40a0-9bdd-2a4edd86bc18"
      },
      "outputs": [
        {
          "output_type": "execute_result",
          "data": {
            "text/plain": [
              "False    51186\n",
              "True     50767\n",
              "Name: instant_bookable, dtype: int64"
            ]
          },
          "metadata": {},
          "execution_count": 300
        }
      ],
      "source": [
        "df_airnb['instant_bookable'].value_counts()"
      ]
    },
    {
      "cell_type": "markdown",
      "metadata": {
        "id": "Qv57aEcgQSw1"
      },
      "source": [
        "This variable is a binary variable, the values 0 do not indicate null numbers, it identifies that the value of the boolean variable is TRUE."
      ]
    },
    {
      "cell_type": "code",
      "execution_count": 301,
      "metadata": {
        "id": "zbzqAefZCK_0",
        "colab": {
          "base_uri": "https://localhost:8080/"
        },
        "outputId": "0255aacc-4647-4ac8-cff9-371d5cdb2a76"
      },
      "outputs": [
        {
          "output_type": "execute_result",
          "data": {
            "text/plain": [
              "Entire home/apt    53429\n",
              "Private room       46306\n",
              "Shared room         2208\n",
              "Hotel room           115\n",
              "Name: room type, dtype: int64"
            ]
          },
          "metadata": {},
          "execution_count": 301
        }
      ],
      "source": [
        "df_airnb['room type'].value_counts()"
      ]
    },
    {
      "cell_type": "code",
      "execution_count": 302,
      "metadata": {
        "id": "0T_CKo5dCW1Z",
        "colab": {
          "base_uri": "https://localhost:8080/"
        },
        "outputId": "1c9b62a8-d57b-4bf1-ea19-1171143145c2"
      },
      "outputs": [
        {
          "output_type": "execute_result",
          "data": {
            "text/plain": [
              "moderate    34162\n",
              "strict      33929\n",
              "flexible    33891\n",
              "Name: cancellation_policy, dtype: int64"
            ]
          },
          "metadata": {},
          "execution_count": 302
        }
      ],
      "source": [
        "df_airnb['cancellation_policy'].value_counts()"
      ]
    },
    {
      "cell_type": "code",
      "execution_count": 303,
      "metadata": {
        "id": "ZIGFF6pjCxVf",
        "colab": {
          "base_uri": "https://localhost:8080/"
        },
        "outputId": "7b206312-1e05-4863-e740-db302b00674b"
      },
      "outputs": [
        {
          "output_type": "execute_result",
          "data": {
            "text/plain": [
              "5.0    23251\n",
              "4.0    23200\n",
              "3.0    23130\n",
              "2.0    22972\n",
              "1.0     9186\n",
              "Name: review rate number, dtype: int64"
            ]
          },
          "metadata": {},
          "execution_count": 303
        }
      ],
      "source": [
        "df_airnb['review rate number'].value_counts()"
      ]
    },
    {
      "cell_type": "code",
      "execution_count": 304,
      "metadata": {
        "id": "_C0LmbFP_U7J",
        "colab": {
          "base_uri": "https://localhost:8080/"
        },
        "outputId": "1250ab2e-ac73-4515-d3a5-f019f8a1c046"
      },
      "outputs": [
        {
          "output_type": "execute_result",
          "data": {
            "text/plain": [
              "neighbourhood group                   5\n",
              "neighbourhood                       224\n",
              "lat                               21991\n",
              "long                              17774\n",
              "country                               1\n",
              "country code                          1\n",
              "instant_bookable                      2\n",
              "cancellation_policy                   3\n",
              "room type                             4\n",
              "Construction year                    20\n",
              "price                              1151\n",
              "service fee                         231\n",
              "minimum nights                      153\n",
              "number of reviews                   476\n",
              "last review                        2477\n",
              "reviews per month                  1016\n",
              "review rate number                    5\n",
              "calculated host listings count       78\n",
              "availability 365                    438\n",
              "dtype: int64"
            ]
          },
          "metadata": {},
          "execution_count": 304
        }
      ],
      "source": [
        "df_airnb.shape\n",
        "df_airnb.nunique()"
      ]
    },
    {
      "cell_type": "markdown",
      "metadata": {
        "id": "GC-2p3EPF8iG"
      },
      "source": [
        "It is necessary to correct the data types, it shows the price  and service fee variables as categorical because they have a peso sign,but they are numbers, therefore we must adjust it."
      ]
    },
    {
      "cell_type": "code",
      "execution_count": 305,
      "metadata": {
        "id": "u3FMOislwTFD",
        "colab": {
          "base_uri": "https://localhost:8080/"
        },
        "outputId": "7c8bd5be-72fc-4ffc-b88c-872b7d386bd6"
      },
      "outputs": [
        {
          "output_type": "execute_result",
          "data": {
            "text/plain": [
              "id\n",
              "1001254       $966 \n",
              "1002102       $142 \n",
              "1002403       $620 \n",
              "1002755       $368 \n",
              "1003689       $204 \n",
              "             ...   \n",
              "57365208      $696 \n",
              "57365760      $909 \n",
              "57366313      $387 \n",
              "57366865      $848 \n",
              "57367417    $1,128 \n",
              "Name: price, Length: 102058, dtype: object"
            ]
          },
          "metadata": {},
          "execution_count": 305
        }
      ],
      "source": [
        "df_airnb[\"price\"]"
      ]
    },
    {
      "cell_type": "code",
      "execution_count": 306,
      "metadata": {
        "id": "A0ScqktBS3Uh",
        "colab": {
          "base_uri": "https://localhost:8080/"
        },
        "outputId": "c8afc6cd-f078-40d5-96d7-bf6b86767eae"
      },
      "outputs": [
        {
          "output_type": "execute_result",
          "data": {
            "text/plain": [
              "id\n",
              "1001254      966.0\n",
              "1002102      142.0\n",
              "1002403      620.0\n",
              "1002755      368.0\n",
              "1003689      204.0\n",
              "             ...  \n",
              "57365208     696.0\n",
              "57365760     909.0\n",
              "57366313     387.0\n",
              "57366865     848.0\n",
              "57367417    1128.0\n",
              "Name: price, Length: 102058, dtype: float64"
            ]
          },
          "metadata": {},
          "execution_count": 306
        }
      ],
      "source": [
        "df_airnb[\"price\"] = df_airnb[\"price\"].apply(lambda x: str(x).replace(\"$\", \"\"))\n",
        "df_airnb['price'] = df_airnb['price'].apply(lambda x: x.replace(',', ''))\n",
        "df_airnb['price'] = df_airnb['price'].astype(float)\n",
        "df_airnb.price"
      ]
    },
    {
      "cell_type": "code",
      "execution_count": 307,
      "metadata": {
        "id": "f9_wnki91313",
        "colab": {
          "base_uri": "https://localhost:8080/"
        },
        "outputId": "944a836b-bd16-4333-bf64-ddaa4ec22707"
      },
      "outputs": [
        {
          "output_type": "stream",
          "name": "stdout",
          "text": [
            "<class 'pandas.core.frame.DataFrame'>\n",
            "Int64Index: 102058 entries, 1001254 to 57367417\n",
            "Data columns (total 19 columns):\n",
            " #   Column                          Non-Null Count   Dtype  \n",
            "---  ------                          --------------   -----  \n",
            " 0   neighbourhood group             102029 non-null  object \n",
            " 1   neighbourhood                   102042 non-null  object \n",
            " 2   lat                             102050 non-null  float64\n",
            " 3   long                            102050 non-null  float64\n",
            " 4   country                         101526 non-null  object \n",
            " 5   country code                    101927 non-null  object \n",
            " 6   instant_bookable                101953 non-null  object \n",
            " 7   cancellation_policy             101982 non-null  object \n",
            " 8   room type                       102058 non-null  object \n",
            " 9   Construction year               101844 non-null  float64\n",
            " 10  price                           101811 non-null  float64\n",
            " 11  service fee                     101785 non-null  float64\n",
            " 12  minimum nights                  101658 non-null  float64\n",
            " 13  number of reviews               101875 non-null  float64\n",
            " 14  last review                     86226 non-null   object \n",
            " 15  reviews per month               86240 non-null   float64\n",
            " 16  review rate number              101739 non-null  float64\n",
            " 17  calculated host listings count  101739 non-null  float64\n",
            " 18  availability 365                101610 non-null  float64\n",
            "dtypes: float64(11), object(8)\n",
            "memory usage: 15.6+ MB\n"
          ]
        }
      ],
      "source": [
        "df_airnb[\"service fee\"] = df_airnb[\"service fee\"].apply(lambda x: str(x).replace(\"$\", \"\"))\n",
        "df_airnb['service fee'] = df_airnb['service fee'].astype(float)\n",
        "df_airnb.info()"
      ]
    },
    {
      "cell_type": "markdown",
      "metadata": {
        "id": "GQT_WYwsUFfv"
      },
      "source": [
        "Now let's imputate the null values at these variables."
      ]
    },
    {
      "cell_type": "code",
      "execution_count": 308,
      "metadata": {
        "id": "6wePlpvPgfIR"
      },
      "outputs": [],
      "source": [
        "#I imputate the null values at this column with the mean\n",
        "df_airnb.loc[df_airnb[df_airnb['price'].apply(lambda x: x) > 2022].index,'price'] = df_airnb['price'].mean()\n",
        "df_airnb.loc[df_airnb['price'].isnull(), 'price'] = df_airnb['price'].mean()"
      ]
    },
    {
      "cell_type": "code",
      "execution_count": 309,
      "metadata": {
        "id": "PZTD1-IdeSic",
        "colab": {
          "base_uri": "https://localhost:8080/"
        },
        "outputId": "01f19c8c-b8c2-41f4-a945-2f6e8b1e64aa"
      },
      "outputs": [
        {
          "output_type": "execute_result",
          "data": {
            "text/plain": [
              "0"
            ]
          },
          "metadata": {},
          "execution_count": 309
        }
      ],
      "source": [
        "df_airnb['price'].isna().sum()"
      ]
    },
    {
      "cell_type": "code",
      "execution_count": 310,
      "metadata": {
        "id": "yrnTxZRBg7jP"
      },
      "outputs": [],
      "source": [
        "#I imputate the null values at this column with the mean\n",
        "df_airnb.loc[df_airnb[df_airnb['service fee'].apply(lambda x: x) > 2022].index,'service fee'] = df_airnb['service fee'].mean()\n",
        "df_airnb.loc[df_airnb['service fee'].isnull(), 'service fee'] = df_airnb['service fee'].mean()"
      ]
    },
    {
      "cell_type": "code",
      "execution_count": 311,
      "metadata": {
        "id": "AXijGxSwhAya",
        "colab": {
          "base_uri": "https://localhost:8080/"
        },
        "outputId": "30861d93-a935-47b3-ea66-d87f93957ce5"
      },
      "outputs": [
        {
          "output_type": "execute_result",
          "data": {
            "text/plain": [
              "0"
            ]
          },
          "metadata": {},
          "execution_count": 311
        }
      ],
      "source": [
        "df_airnb['service fee'].isna().sum()"
      ]
    },
    {
      "cell_type": "markdown",
      "metadata": {
        "id": "vouT7EIARryg"
      },
      "source": [
        "The data type of the Last Review column is changed from object to date, like this:"
      ]
    },
    {
      "cell_type": "code",
      "execution_count": 312,
      "metadata": {
        "id": "x2nnYaJGRBG8",
        "colab": {
          "base_uri": "https://localhost:8080/"
        },
        "outputId": "a9217df1-8d1b-4ab2-e221-4c46f0386107"
      },
      "outputs": [
        {
          "output_type": "execute_result",
          "data": {
            "text/plain": [
              "neighbourhood group                       object\n",
              "neighbourhood                             object\n",
              "lat                                      float64\n",
              "long                                     float64\n",
              "country                                   object\n",
              "country code                              object\n",
              "instant_bookable                          object\n",
              "cancellation_policy                       object\n",
              "room type                                 object\n",
              "Construction year                        float64\n",
              "price                                    float64\n",
              "service fee                              float64\n",
              "minimum nights                           float64\n",
              "number of reviews                        float64\n",
              "last review                       datetime64[ns]\n",
              "reviews per month                        float64\n",
              "review rate number                       float64\n",
              "calculated host listings count           float64\n",
              "availability 365                         float64\n",
              "dtype: object"
            ]
          },
          "metadata": {},
          "execution_count": 312
        }
      ],
      "source": [
        "df_airnb['last review'] = pd.to_datetime(df_airnb['last review'])\n",
        "df_airnb.dtypes"
      ]
    },
    {
      "cell_type": "code",
      "execution_count": 313,
      "metadata": {
        "id": "gBSpIbMce5sX",
        "colab": {
          "base_uri": "https://localhost:8080/"
        },
        "outputId": "a7cfc96c-9928-43fe-cf62-6bdeac9aaa05"
      },
      "outputs": [
        {
          "output_type": "execute_result",
          "data": {
            "text/plain": [
              "(Timestamp('2012-07-11 00:00:00'), Timestamp('2058-06-16 00:00:00'))"
            ]
          },
          "metadata": {},
          "execution_count": 313
        }
      ],
      "source": [
        "# Let's check the min and max timestamps\n",
        "df_airnb['last review'].min(), df_airnb['last review'].max()"
      ]
    },
    {
      "cell_type": "code",
      "execution_count": 314,
      "metadata": {
        "id": "ybW7V89efSZ3",
        "colab": {
          "base_uri": "https://localhost:8080/"
        },
        "outputId": "022cf138-181b-4ae8-de12-4e08a588f16e"
      },
      "outputs": [
        {
          "output_type": "stream",
          "name": "stdout",
          "text": [
            "<class 'pandas.core.frame.DataFrame'>\n",
            "Int64Index: 102058 entries, 1001254 to 57367417\n",
            "Data columns (total 19 columns):\n",
            " #   Column                          Non-Null Count   Dtype         \n",
            "---  ------                          --------------   -----         \n",
            " 0   neighbourhood group             102029 non-null  object        \n",
            " 1   neighbourhood                   102042 non-null  object        \n",
            " 2   lat                             102050 non-null  float64       \n",
            " 3   long                            102050 non-null  float64       \n",
            " 4   country                         101526 non-null  object        \n",
            " 5   country code                    101927 non-null  object        \n",
            " 6   instant_bookable                101953 non-null  object        \n",
            " 7   cancellation_policy             101982 non-null  object        \n",
            " 8   room type                       102058 non-null  object        \n",
            " 9   Construction year               101844 non-null  float64       \n",
            " 10  price                           102058 non-null  float64       \n",
            " 11  service fee                     102058 non-null  float64       \n",
            " 12  minimum nights                  101658 non-null  float64       \n",
            " 13  number of reviews               101875 non-null  float64       \n",
            " 14  last review                     102058 non-null  datetime64[ns]\n",
            " 15  reviews per month               86240 non-null   float64       \n",
            " 16  review rate number              101739 non-null  float64       \n",
            " 17  calculated host listings count  101739 non-null  float64       \n",
            " 18  availability 365                101610 non-null  float64       \n",
            "dtypes: datetime64[ns](1), float64(11), object(7)\n",
            "memory usage: 19.6+ MB\n"
          ]
        }
      ],
      "source": [
        "#There is a mistake with the year , it shows 2058, I fix it\n",
        "df_airnb.loc[df_airnb[df_airnb['last review'].apply(lambda x: x.year) > 2022].index,'last review'] = df_airnb['last review'].median()\n",
        "df_airnb.loc[df_airnb['last review'].isnull(), 'last review'] = df_airnb['last review'].median()\n",
        "df_airnb['last review'].isnull().value_counts()\n",
        "df_airnb.info()"
      ]
    },
    {
      "cell_type": "code",
      "execution_count": 315,
      "metadata": {
        "id": "CLEymLaTiALv",
        "colab": {
          "base_uri": "https://localhost:8080/"
        },
        "outputId": "98624cf8-66fe-4ee0-d484-eaa74d73c429"
      },
      "outputs": [
        {
          "output_type": "execute_result",
          "data": {
            "text/plain": [
              "neighbourhood group                  18\n",
              "neighbourhood                        15\n",
              "lat                                   8\n",
              "long                                  8\n",
              "country                             525\n",
              "country code                        124\n",
              "instant_bookable                     98\n",
              "cancellation_policy                  69\n",
              "room type                             0\n",
              "Construction year                   195\n",
              "price                                 0\n",
              "service fee                           0\n",
              "minimum nights                      378\n",
              "number of reviews                   129\n",
              "last review                           0\n",
              "reviews per month                 15557\n",
              "review rate number                  305\n",
              "calculated host listings count      319\n",
              "availability 365                      0\n",
              "dtype: int64"
            ]
          },
          "metadata": {},
          "execution_count": 315
        }
      ],
      "source": [
        "#Null values at this columns represents the 0.43% within the total of rows, so I elimina\n",
        "df_airnb.dropna(subset=['availability 365'], inplace=True)\n",
        "df_airnb.isna().sum()"
      ]
    },
    {
      "cell_type": "code",
      "execution_count": 316,
      "metadata": {
        "id": "agTcPxcfSCsC"
      },
      "outputs": [],
      "source": [
        "df_airnb['availability 365'] = df_airnb['availability 365'].astype(int)\n"
      ]
    },
    {
      "cell_type": "code",
      "execution_count": 317,
      "metadata": {
        "id": "AnGmwnkISVyd",
        "colab": {
          "base_uri": "https://localhost:8080/"
        },
        "outputId": "2e2f38b0-d32a-46bc-c033-67e2af804e62"
      },
      "outputs": [
        {
          "output_type": "execute_result",
          "data": {
            "text/plain": [
              "neighbourhood group                  18\n",
              "neighbourhood                        15\n",
              "lat                                   8\n",
              "long                                  8\n",
              "country                             525\n",
              "country code                        124\n",
              "instant_bookable                     98\n",
              "cancellation_policy                  69\n",
              "room type                             0\n",
              "Construction year                   195\n",
              "price                                 0\n",
              "service fee                           0\n",
              "minimum nights                      378\n",
              "number of reviews                   129\n",
              "last review                           0\n",
              "reviews per month                 15557\n",
              "review rate number                  305\n",
              "calculated host listings count      319\n",
              "availability 365                      0\n",
              "dtype: int64"
            ]
          },
          "metadata": {},
          "execution_count": 317
        }
      ],
      "source": [
        "df_airnb.isna().sum()"
      ]
    },
    {
      "cell_type": "code",
      "execution_count": 318,
      "metadata": {
        "id": "8fMsqZ1RjgUG",
        "colab": {
          "base_uri": "https://localhost:8080/"
        },
        "outputId": "fcd9049f-cffc-461a-c362-1ffa81c89ab2"
      },
      "outputs": [
        {
          "output_type": "execute_result",
          "data": {
            "text/plain": [
              "neighbourhood group                  18\n",
              "neighbourhood                        15\n",
              "lat                                   8\n",
              "long                                  8\n",
              "country                             525\n",
              "country code                        124\n",
              "instant_bookable                     98\n",
              "cancellation_policy                  69\n",
              "room type                             0\n",
              "Construction year                   195\n",
              "price                                 0\n",
              "service fee                           0\n",
              "minimum nights                      378\n",
              "number of reviews                   129\n",
              "last review                           0\n",
              "reviews per month                 15557\n",
              "review rate number                  305\n",
              "calculated host listings count      319\n",
              "availability 365                      0\n",
              "dtype: int64"
            ]
          },
          "metadata": {},
          "execution_count": 318
        }
      ],
      "source": [
        "df_airnb.dropna(subset=['availability 365'], inplace=True)\n",
        "df_airnb.isna().sum()"
      ]
    },
    {
      "cell_type": "code",
      "execution_count": 319,
      "metadata": {
        "id": "NnctgfeBRLYQ",
        "colab": {
          "base_uri": "https://localhost:8080/"
        },
        "outputId": "94d024da-b730-4340-e59c-091ad13f5f03"
      },
      "outputs": [
        {
          "output_type": "stream",
          "name": "stdout",
          "text": [
            "<class 'pandas.core.frame.DataFrame'>\n",
            "Int64Index: 101610 entries, 1001254 to 57367417\n",
            "Data columns (total 19 columns):\n",
            " #   Column                          Non-Null Count   Dtype         \n",
            "---  ------                          --------------   -----         \n",
            " 0   neighbourhood group             101592 non-null  object        \n",
            " 1   neighbourhood                   101595 non-null  object        \n",
            " 2   lat                             101602 non-null  float64       \n",
            " 3   long                            101602 non-null  float64       \n",
            " 4   country                         101085 non-null  object        \n",
            " 5   country code                    101486 non-null  object        \n",
            " 6   instant_bookable                101512 non-null  object        \n",
            " 7   cancellation_policy             101541 non-null  object        \n",
            " 8   room type                       101610 non-null  object        \n",
            " 9   Construction year               101415 non-null  float64       \n",
            " 10  price                           101610 non-null  float64       \n",
            " 11  service fee                     101610 non-null  float64       \n",
            " 12  minimum nights                  101232 non-null  float64       \n",
            " 13  number of reviews               101481 non-null  float64       \n",
            " 14  last review                     101610 non-null  datetime64[ns]\n",
            " 15  reviews per month               86053 non-null   float64       \n",
            " 16  review rate number              101305 non-null  float64       \n",
            " 17  calculated host listings count  101291 non-null  float64       \n",
            " 18  availability 365                101610 non-null  int64         \n",
            "dtypes: datetime64[ns](1), float64(10), int64(1), object(7)\n",
            "memory usage: 15.5+ MB\n"
          ]
        }
      ],
      "source": [
        "df_airnb.info()"
      ]
    },
    {
      "cell_type": "code",
      "execution_count": 320,
      "metadata": {
        "id": "jQ5gr7MxHe05",
        "colab": {
          "base_uri": "https://localhost:8080/"
        },
        "outputId": "d54ef6ae-bfe2-43b5-8e23-6f263d8a6961"
      },
      "outputs": [
        {
          "output_type": "execute_result",
          "data": {
            "text/plain": [
              "0"
            ]
          },
          "metadata": {},
          "execution_count": 320
        }
      ],
      "source": [
        "#Impute both columns with United States and US , like this\n",
        "df_airnb['country'].fillna('United States', inplace=True)\n",
        "df_airnb['country'].isna().sum()"
      ]
    },
    {
      "cell_type": "code",
      "execution_count": 321,
      "metadata": {
        "id": "dLBX2tp6JLKl",
        "colab": {
          "base_uri": "https://localhost:8080/"
        },
        "outputId": "0c171a4a-b4e0-4851-ec34-732711388ef3"
      },
      "outputs": [
        {
          "output_type": "execute_result",
          "data": {
            "text/plain": [
              "0"
            ]
          },
          "metadata": {},
          "execution_count": 321
        }
      ],
      "source": [
        "df_airnb['country code'].fillna('US', inplace=True)\n",
        "df_airnb['country code'].isna().sum()"
      ]
    },
    {
      "cell_type": "code",
      "execution_count": 322,
      "metadata": {
        "id": "Ji1YeKZqRfG5",
        "colab": {
          "base_uri": "https://localhost:8080/"
        },
        "outputId": "7ce41e35-1754-419d-e001-4d7910d4643c"
      },
      "outputs": [
        {
          "output_type": "execute_result",
          "data": {
            "text/plain": [
              "0"
            ]
          },
          "metadata": {},
          "execution_count": 322
        }
      ],
      "source": [
        "df_airnb['country'].isna().sum()"
      ]
    },
    {
      "cell_type": "markdown",
      "metadata": {
        "id": "DWWORpL1K37O"
      },
      "source": [
        "Impute null values with the mean of the other data from that same 'reviews per month' column, the same is replicated with the last 'review' column"
      ]
    },
    {
      "cell_type": "code",
      "execution_count": 323,
      "metadata": {
        "id": "3ohf_jKlJtGg"
      },
      "outputs": [],
      "source": [
        "df_airnb.loc[df_airnb[df_airnb['reviews per month'].apply(lambda x: x) == 0].index,'reviews per month'] = df_airnb['reviews per month'].mean()\n",
        "df_airnb.loc[df_airnb['reviews per month'].isnull(), 'reviews per month'] = df_airnb['reviews per month'].mean()"
      ]
    },
    {
      "cell_type": "code",
      "execution_count": 324,
      "metadata": {
        "id": "wKYjfbifLU6N"
      },
      "outputs": [],
      "source": [
        "df_airnb.loc[df_airnb[df_airnb['last review'].apply(lambda x: x) == 0].index,'last review'] = df_airnb['last review'].mean()\n",
        "df_airnb.loc[df_airnb['last review'].isnull(), 'last review'] = df_airnb['last review'].mean()"
      ]
    },
    {
      "cell_type": "code",
      "execution_count": 325,
      "metadata": {
        "id": "9I-a4fqNLm8o"
      },
      "outputs": [],
      "source": [
        "df_airnb.loc[df_airnb[df_airnb['review rate number'].apply(lambda x: x) == 0].index,'review rate number'] = df_airnb['review rate number'].mean()\n",
        "df_airnb.loc[df_airnb['review rate number'].isnull(), 'review rate number'] = df_airnb['review rate number'].mean()"
      ]
    },
    {
      "cell_type": "code",
      "execution_count": 326,
      "metadata": {
        "id": "uobTTJfOj-m3"
      },
      "outputs": [],
      "source": [
        "df_airnb.dropna(subset=['neighbourhood group', 'neighbourhood', 'lat', 'long', 'instant_bookable', 'cancellation_policy',\n",
        "       'Construction year', 'minimum nights',\n",
        "       'number of reviews', \n",
        "       'review rate number', 'calculated host listings count'], inplace=True)\n"
      ]
    },
    {
      "cell_type": "markdown",
      "metadata": {
        "id": "FZyaR3oaXW0_"
      },
      "source": [
        "At this columns I decided to eliminate null values because they are accurate information of each booking case, it is difficult to imputate it."
      ]
    },
    {
      "cell_type": "code",
      "execution_count": 327,
      "metadata": {
        "id": "QmoP0jTCkS75",
        "colab": {
          "base_uri": "https://localhost:8080/"
        },
        "outputId": "fa69b101-1e40-4c35-f6ff-2940497cda66"
      },
      "outputs": [
        {
          "output_type": "execute_result",
          "data": {
            "text/plain": [
              "neighbourhood group               0\n",
              "neighbourhood                     0\n",
              "lat                               0\n",
              "long                              0\n",
              "country                           0\n",
              "country code                      0\n",
              "instant_bookable                  0\n",
              "cancellation_policy               0\n",
              "room type                         0\n",
              "Construction year                 0\n",
              "price                             0\n",
              "service fee                       0\n",
              "minimum nights                    0\n",
              "number of reviews                 0\n",
              "last review                       0\n",
              "reviews per month                 0\n",
              "review rate number                0\n",
              "calculated host listings count    0\n",
              "availability 365                  0\n",
              "dtype: int64"
            ]
          },
          "metadata": {},
          "execution_count": 327
        }
      ],
      "source": [
        "df_airnb.isna().sum()"
      ]
    },
    {
      "cell_type": "code",
      "execution_count": 328,
      "metadata": {
        "id": "IiTF9XFYRYtR",
        "colab": {
          "base_uri": "https://localhost:8080/"
        },
        "outputId": "b9c0e707-cb46-45c9-b404-5867549fa494"
      },
      "outputs": [
        {
          "output_type": "execute_result",
          "data": {
            "text/plain": [
              "(100487, 19)"
            ]
          },
          "metadata": {},
          "execution_count": 328
        }
      ],
      "source": [
        "df_airnb.shape"
      ]
    },
    {
      "cell_type": "markdown",
      "metadata": {
        "id": "VYjkoaQ1kYZ5"
      },
      "source": [
        "There are no Nan Values, they were eliminated because the represented a \n",
        "low proportion with respect to the totality of the data. After this imputation and cleaning of our data, 2112 rows were eliminated, it represents the 2.05%, no we can visualize the data."
      ]
    },
    {
      "cell_type": "markdown",
      "metadata": {
        "id": "DHj39x7PCLyK"
      },
      "source": [
        "# **Data Visualization**\n",
        "\n",
        "\n",
        "\n",
        "---\n",
        "\n",
        "\n",
        "\n"
      ]
    },
    {
      "cell_type": "code",
      "execution_count": 329,
      "metadata": {
        "id": "PdcSFphe3ElY",
        "colab": {
          "base_uri": "https://localhost:8080/",
          "height": 659
        },
        "outputId": "584a309e-7e7b-4f0c-ce41-4e30497d4560"
      },
      "outputs": [
        {
          "output_type": "execute_result",
          "data": {
            "text/plain": [
              "<matplotlib.axes._subplots.AxesSubplot at 0x7f055197fe10>"
            ]
          },
          "metadata": {},
          "execution_count": 329
        },
        {
          "output_type": "display_data",
          "data": {
            "text/plain": [
              "<Figure size 1080x576 with 2 Axes>"
            ],
            "image/png": "[encoded data removed]"
          },
          "metadata": {}
        }
      ],
      "source": [
        "import seaborn as sns\n",
        "corr = df_airnb.corr()\n",
        "sns.set(rc = {'figure.figsize':(15,8)})\n",
        "sns.heatmap(df_airnb.corr(),annot = True)\n"
      ]
    },
    {
      "cell_type": "markdown",
      "metadata": {
        "id": "harXJzAF5dB3"
      },
      "source": [
        "I noticed strong correlation between service fee and price . It is important to highlight that the correlation among our variable target and the other variables is pretty low, also price has the stronger correlation with number of reviews, it works as a supply and demand game."
      ]
    },
    {
      "cell_type": "code",
      "execution_count": 330,
      "metadata": {
        "id": "a03Rjp3SDreU"
      },
      "outputs": [],
      "source": [
        "import matplotlib\n",
        "import matplotlib.pyplot as plt\n",
        "import seaborn as sns\n",
        "import matplotlib.pyplot as plt\n",
        "import seaborn as sns\n",
        "import plotly.express as px\n",
        "import plotly.graph_objects as go\n",
        "from plotly.subplots import make_subplots"
      ]
    },
    {
      "cell_type": "code",
      "execution_count": 331,
      "metadata": {
        "id": "CHZt-EDnSDoL",
        "colab": {
          "base_uri": "https://localhost:8080/",
          "height": 542
        },
        "outputId": "f9b87f04-3017-4779-ca52-96a65fc9dac4"
      },
      "outputs": [
        {
          "output_type": "display_data",
          "data": {
            "text/html": [
              "<html>\n",
              "<head><meta charset=\"utf-8\" /></head>\n",
              "<body>\n",
              "    <div>            <script src=\"https://cdnjs.cloudflare.com/ajax/libs/mathjax/2.7.5/MathJax.js?config=TeX-AMS-MML_SVG\"></script><script type=\"text/javascript\">if (window.MathJax) {MathJax.Hub.Config({SVG: {font: \"STIX-Web\"}});}</script>                <script type=\"text/javascript\">window.PlotlyConfig = {MathJaxConfig: 'local'};</script>\n",
              "        <script src=\"https://cdn.plot.ly/plotly-2.8.3.min.js\"></script>                <div id=\"e4570d5f-80d3-4809-abcd-5b958cfc071c\" class=\"plotly-graph-div\" style=\"height:525px; width:100%;\"></div>            <script type=\"text/javascript\">                                    window.PLOTLYENV=window.PLOTLYENV || {};                                    if (document.getElementById(\"e4570d5f-80d3-4809-abcd-5b958cfc071c\")) {                    Plotly.newPlot(                        \"e4570d5f-80d3-4809-abcd-5b958cfc071c\",                        [{\"hovertemplate\":\"Construction year=%{x}<br>Average price=%{y}<br>text=%{text}<extra></extra>\",\"legendgroup\":\"\",\"line\":{\"color\":\"rgb(42, 86, 116)\",\"dash\":\"solid\"},\"marker\":{\"symbol\":\"circle\"},\"mode\":\"lines+text+markers\",\"name\":\"\",\"orientation\":\"v\",\"showlegend\":false,\"text\":[\"$623\",\"$629\",\"$619\",\"$635\",\"$626\",\"$638\",\"$619\",\"$626\",\"$626\",\"$624\",\"$620\",\"$632\",\"$616\",\"$624\",\"$628\",\"$624\",\"$612\",\"$621\",\"$629\",\"$628\"],\"x\":[2003.0,2004.0,2005.0,2006.0,2007.0,2008.0,2009.0,2010.0,2011.0,2012.0,2013.0,2014.0,2015.0,2016.0,2017.0,2018.0,2019.0,2020.0,2021.0,2022.0],\"xaxis\":\"x\",\"y\":[623.6508126779252,629.9875552606848,619.7922646234126,635.1960369340511,626.3242572007954,638.2709413806167,619.269382074006,626.2662080251512,626.9214779345251,624.5057088639134,620.1686959631846,632.441029021094,616.6521403964967,624.2698020437374,628.4953600049881,624.5976280555905,612.305289828654,621.7287559168368,629.3987562290122,628.6830633717402],\"yaxis\":\"y\",\"type\":\"scatter\"}],                        {\"template\":{\"data\":{\"barpolar\":[{\"marker\":{\"line\":{\"color\":\"rgb(17,17,17)\",\"width\":0.5},\"pattern\":{\"fillmode\":\"overlay\",\"size\":10,\"solidity\":0.2}},\"type\":\"barpolar\"}],\"bar\":[{\"error_x\":{\"color\":\"#f2f5fa\"},\"error_y\":{\"color\":\"#f2f5fa\"},\"marker\":{\"line\":{\"color\":\"rgb(17,17,17)\",\"width\":0.5},\"pattern\":{\"fillmode\":\"overlay\",\"size\":10,\"solidity\":0.2}},\"type\":\"bar\"}],\"carpet\":[{\"aaxis\":{\"endlinecolor\":\"#A2B1C6\",\"gridcolor\":\"#506784\",\"linecolor\":\"#506784\",\"minorgridcolor\":\"#506784\",\"startlinecolor\":\"#A2B1C6\"},\"baxis\":{\"endlinecolor\":\"#A2B1C6\",\"gridcolor\":\"#506784\",\"linecolor\":\"#506784\",\"minorgridcolor\":\"#506784\",\"startlinecolor\":\"#A2B1C6\"},\"type\":\"carpet\"}],\"choropleth\":[{\"colorbar\":{\"outlinewidth\":0,\"ticks\":\"\"},\"type\":\"choropleth\"}],\"contourcarpet\":[{\"colorbar\":{\"outlinewidth\":0,\"ticks\":\"\"},\"type\":\"contourcarpet\"}],\"contour\":[{\"colorbar\":{\"outlinewidth\":0,\"ticks\":\"\"},\"colorscale\":[[0.0,\"#0d0887\"],[0.1111111111111111,\"#46039f\"],[0.2222222222222222,\"#7201a8\"],[0.3333333333333333,\"#9c179e\"],[0.4444444444444444,\"#bd3786\"],[0.5555555555555556,\"#d8576b\"],[0.6666666666666666,\"#ed7953\"],[0.7777777777777778,\"#fb9f3a\"],[0.8888888888888888,\"#fdca26\"],[1.0,\"#f0f921\"]],\"type\":\"contour\"}],\"heatmapgl\":[{\"colorbar\":{\"outlinewidth\":0,\"ticks\":\"\"},\"colorscale\":[[0.0,\"#0d0887\"],[0.1111111111111111,\"#46039f\"],[0.2222222222222222,\"#7201a8\"],[0.3333333333333333,\"#9c179e\"],[0.4444444444444444,\"#bd3786\"],[0.5555555555555556,\"#d8576b\"],[0.6666666666666666,\"#ed7953\"],[0.7777777777777778,\"#fb9f3a\"],[0.8888888888888888,\"#fdca26\"],[1.0,\"#f0f921\"]],\"type\":\"heatmapgl\"}],\"heatmap\":[{\"colorbar\":{\"outlinewidth\":0,\"ticks\":\"\"},\"colorscale\":[[0.0,\"#0d0887\"],[0.1111111111111111,\"#46039f\"],[0.2222222222222222,\"#7201a8\"],[0.3333333333333333,\"#9c179e\"],[0.4444444444444444,\"#bd3786\"],[0.5555555555555556,\"#d8576b\"],[0.6666666666666666,\"#ed7953\"],[0.7777777777777778,\"#fb9f3a\"],[0.8888888888888888,\"#fdca26\"],[1.0,\"#f0f921\"]],\"type\":\"heatmap\"}],\"histogram2dcontour\":[{\"colorbar\":{\"outlinewidth\":0,\"ticks\":\"\"},\"colorscale\":[[0.0,\"#0d0887\"],[0.1111111111111111,\"#46039f\"],[0.2222222222222222,\"#7201a8\"],[0.3333333333333333,\"#9c179e\"],[0.4444444444444444,\"#bd3786\"],[0.5555555555555556,\"#d8576b\"],[0.6666666666666666,\"#ed7953\"],[0.7777777777777778,\"#fb9f3a\"],[0.8888888888888888,\"#fdca26\"],[1.0,\"#f0f921\"]],\"type\":\"histogram2dcontour\"}],\"histogram2d\":[{\"colorbar\":{\"outlinewidth\":0,\"ticks\":\"\"},\"colorscale\":[[0.0,\"#0d0887\"],[0.1111111111111111,\"#46039f\"],[0.2222222222222222,\"#7201a8\"],[0.3333333333333333,\"#9c179e\"],[0.4444444444444444,\"#bd3786\"],[0.5555555555555556,\"#d8576b\"],[0.6666666666666666,\"#ed7953\"],[0.7777777777777778,\"#fb9f3a\"],[0.8888888888888888,\"#fdca26\"],[1.0,\"#f0f921\"]],\"type\":\"histogram2d\"}],\"histogram\":[{\"marker\":{\"pattern\":{\"fillmode\":\"overlay\",\"size\":10,\"solidity\":0.2}},\"type\":\"histogram\"}],\"mesh3d\":[{\"colorbar\":{\"outlinewidth\":0,\"ticks\":\"\"},\"type\":\"mesh3d\"}],\"parcoords\":[{\"line\":{\"colorbar\":{\"outlinewidth\":0,\"ticks\":\"\"}},\"type\":\"parcoords\"}],\"pie\":[{\"automargin\":true,\"type\":\"pie\"}],\"scatter3d\":[{\"line\":{\"colorbar\":{\"outlinewidth\":0,\"ticks\":\"\"}},\"marker\":{\"colorbar\":{\"outlinewidth\":0,\"ticks\":\"\"}},\"type\":\"scatter3d\"}],\"scattercarpet\":[{\"marker\":{\"colorbar\":{\"outlinewidth\":0,\"ticks\":\"\"}},\"type\":\"scattercarpet\"}],\"scattergeo\":[{\"marker\":{\"colorbar\":{\"outlinewidth\":0,\"ticks\":\"\"}},\"type\":\"scattergeo\"}],\"scattergl\":[{\"marker\":{\"line\":{\"color\":\"#283442\"}},\"type\":\"scattergl\"}],\"scattermapbox\":[{\"marker\":{\"colorbar\":{\"outlinewidth\":0,\"ticks\":\"\"}},\"type\":\"scattermapbox\"}],\"scatterpolargl\":[{\"marker\":{\"colorbar\":{\"outlinewidth\":0,\"ticks\":\"\"}},\"type\":\"scatterpolargl\"}],\"scatterpolar\":[{\"marker\":{\"colorbar\":{\"outlinewidth\":0,\"ticks\":\"\"}},\"type\":\"scatterpolar\"}],\"scatter\":[{\"marker\":{\"line\":{\"color\":\"#283442\"}},\"type\":\"scatter\"}],\"scatterternary\":[{\"marker\":{\"colorbar\":{\"outlinewidth\":0,\"ticks\":\"\"}},\"type\":\"scatterternary\"}],\"surface\":[{\"colorbar\":{\"outlinewidth\":0,\"ticks\":\"\"},\"colorscale\":[[0.0,\"#0d0887\"],[0.1111111111111111,\"#46039f\"],[0.2222222222222222,\"#7201a8\"],[0.3333333333333333,\"#9c179e\"],[0.4444444444444444,\"#bd3786\"],[0.5555555555555556,\"#d8576b\"],[0.6666666666666666,\"#ed7953\"],[0.7777777777777778,\"#fb9f3a\"],[0.8888888888888888,\"#fdca26\"],[1.0,\"#f0f921\"]],\"type\":\"surface\"}],\"table\":[{\"cells\":{\"fill\":{\"color\":\"#506784\"},\"line\":{\"color\":\"rgb(17,17,17)\"}},\"header\":{\"fill\":{\"color\":\"#2a3f5f\"},\"line\":{\"color\":\"rgb(17,17,17)\"}},\"type\":\"table\"}]},\"layout\":{\"annotationdefaults\":{\"arrowcolor\":\"#f2f5fa\",\"arrowhead\":0,\"arrowwidth\":1},\"autotypenumbers\":\"strict\",\"coloraxis\":{\"colorbar\":{\"outlinewidth\":0,\"ticks\":\"\"}},\"colorscale\":{\"diverging\":[[0,\"#8e0152\"],[0.1,\"#c51b7d\"],[0.2,\"#de77ae\"],[0.3,\"#f1b6da\"],[0.4,\"#fde0ef\"],[0.5,\"#f7f7f7\"],[0.6,\"#e6f5d0\"],[0.7,\"#b8e186\"],[0.8,\"#7fbc41\"],[0.9,\"#4d9221\"],[1,\"#276419\"]],\"sequential\":[[0.0,\"#0d0887\"],[0.1111111111111111,\"#46039f\"],[0.2222222222222222,\"#7201a8\"],[0.3333333333333333,\"#9c179e\"],[0.4444444444444444,\"#bd3786\"],[0.5555555555555556,\"#d8576b\"],[0.6666666666666666,\"#ed7953\"],[0.7777777777777778,\"#fb9f3a\"],[0.8888888888888888,\"#fdca26\"],[1.0,\"#f0f921\"]],\"sequentialminus\":[[0.0,\"#0d0887\"],[0.1111111111111111,\"#46039f\"],[0.2222222222222222,\"#7201a8\"],[0.3333333333333333,\"#9c179e\"],[0.4444444444444444,\"#bd3786\"],[0.5555555555555556,\"#d8576b\"],[0.6666666666666666,\"#ed7953\"],[0.7777777777777778,\"#fb9f3a\"],[0.8888888888888888,\"#fdca26\"],[1.0,\"#f0f921\"]]},\"colorway\":[\"#636efa\",\"#EF553B\",\"#00cc96\",\"#ab63fa\",\"#FFA15A\",\"#19d3f3\",\"#FF6692\",\"#B6E880\",\"#FF97FF\",\"#FECB52\"],\"font\":{\"color\":\"#f2f5fa\"},\"geo\":{\"bgcolor\":\"rgb(17,17,17)\",\"lakecolor\":\"rgb(17,17,17)\",\"landcolor\":\"rgb(17,17,17)\",\"showlakes\":true,\"showland\":true,\"subunitcolor\":\"#506784\"},\"hoverlabel\":{\"align\":\"left\"},\"hovermode\":\"closest\",\"mapbox\":{\"style\":\"dark\"},\"paper_bgcolor\":\"rgb(17,17,17)\",\"plot_bgcolor\":\"rgb(17,17,17)\",\"polar\":{\"angularaxis\":{\"gridcolor\":\"#506784\",\"linecolor\":\"#506784\",\"ticks\":\"\"},\"bgcolor\":\"rgb(17,17,17)\",\"radialaxis\":{\"gridcolor\":\"#506784\",\"linecolor\":\"#506784\",\"ticks\":\"\"}},\"scene\":{\"xaxis\":{\"backgroundcolor\":\"rgb(17,17,17)\",\"gridcolor\":\"#506784\",\"gridwidth\":2,\"linecolor\":\"#506784\",\"showbackground\":true,\"ticks\":\"\",\"zerolinecolor\":\"#C8D4E3\"},\"yaxis\":{\"backgroundcolor\":\"rgb(17,17,17)\",\"gridcolor\":\"#506784\",\"gridwidth\":2,\"linecolor\":\"#506784\",\"showbackground\":true,\"ticks\":\"\",\"zerolinecolor\":\"#C8D4E3\"},\"zaxis\":{\"backgroundcolor\":\"rgb(17,17,17)\",\"gridcolor\":\"#506784\",\"gridwidth\":2,\"linecolor\":\"#506784\",\"showbackground\":true,\"ticks\":\"\",\"zerolinecolor\":\"#C8D4E3\"}},\"shapedefaults\":{\"line\":{\"color\":\"#f2f5fa\"}},\"sliderdefaults\":{\"bgcolor\":\"#C8D4E3\",\"bordercolor\":\"rgb(17,17,17)\",\"borderwidth\":1,\"tickwidth\":0},\"ternary\":{\"aaxis\":{\"gridcolor\":\"#506784\",\"linecolor\":\"#506784\",\"ticks\":\"\"},\"baxis\":{\"gridcolor\":\"#506784\",\"linecolor\":\"#506784\",\"ticks\":\"\"},\"bgcolor\":\"rgb(17,17,17)\",\"caxis\":{\"gridcolor\":\"#506784\",\"linecolor\":\"#506784\",\"ticks\":\"\"}},\"title\":{\"x\":0.05},\"updatemenudefaults\":{\"bgcolor\":\"#506784\",\"borderwidth\":0},\"xaxis\":{\"automargin\":true,\"gridcolor\":\"#283442\",\"linecolor\":\"#506784\",\"ticks\":\"\",\"title\":{\"standoff\":15},\"zerolinecolor\":\"#283442\",\"zerolinewidth\":2},\"yaxis\":{\"automargin\":true,\"gridcolor\":\"#283442\",\"linecolor\":\"#506784\",\"ticks\":\"\",\"title\":{\"standoff\":15},\"zerolinecolor\":\"#283442\",\"zerolinewidth\":2}}},\"xaxis\":{\"anchor\":\"y\",\"domain\":[0.0,1.0],\"title\":{\"text\":\"Construction year\"}},\"yaxis\":{\"anchor\":\"x\",\"domain\":[0.0,1.0],\"title\":{\"text\":\"Average price\"}},\"legend\":{\"tracegroupgap\":0},\"title\":{\"text\":\"Average price per construction year in USD\"},\"font\":{\"size\":15,\"color\":\"white\",\"family\":\"Avenir\"}},                        {\"responsive\": true}                    ).then(function(){\n",
              "                            \n",
              "var gd = document.getElementById('e4570d5f-80d3-4809-abcd-5b958cfc071c');\n",
              "var x = new MutationObserver(function (mutations, observer) {{\n",
              "        var display = window.getComputedStyle(gd).display;\n",
              "        if (!display || display === 'none') {{\n",
              "            console.log([gd, 'removed!']);\n",
              "            Plotly.purge(gd);\n",
              "            observer.disconnect();\n",
              "        }}\n",
              "}});\n",
              "\n",
              "// Listen for the removal of the full notebook cells\n",
              "var notebookContainer = gd.closest('#notebook-container');\n",
              "if (notebookContainer) {{\n",
              "    x.observe(notebookContainer, {childList: true});\n",
              "}}\n",
              "\n",
              "// Listen for the clearing of the current output cell\n",
              "var outputEl = gd.closest('.output');\n",
              "if (outputEl) {{\n",
              "    x.observe(outputEl, {childList: true});\n",
              "}}\n",
              "\n",
              "                        })                };                            </script>        </div>\n",
              "</body>\n",
              "</html>"
            ]
          },
          "metadata": {}
        }
      ],
      "source": [
        "price_per_year = df_airnb.groupby('Construction year')['price'].mean()\n",
        "fig = px.line(price_per_year,\n",
        "            x=price_per_year.index,\n",
        "            y=price_per_year.values,\n",
        "            labels={'x': 'Construction year', 'y': 'Average price'},\n",
        "            text=['$' + str(int(i)) for i in price_per_year.values],\n",
        "            title='Average price per construction year in USD',\n",
        "            color_discrete_sequence=px.colors.sequential.Teal_r,\n",
        "            template='plotly_dark'\n",
        ")\n",
        "\n",
        "fig.update_layout(font=dict(size=15, color='white', family='Avenir'))\n",
        "\n",
        "fig.show()"
      ]
    },
    {
      "cell_type": "code",
      "execution_count": 332,
      "metadata": {
        "id": "M64HNkFdFUI1",
        "colab": {
          "base_uri": "https://localhost:8080/",
          "height": 471
        },
        "outputId": "978c5a5a-ef81-4976-cbed-ae01ce7bf051"
      },
      "outputs": [
        {
          "output_type": "execute_result",
          "data": {
            "text/plain": [
              "<seaborn.axisgrid.FacetGrid at 0x7f05517e1590>"
            ]
          },
          "metadata": {},
          "execution_count": 332
        },
        {
          "output_type": "display_data",
          "data": {
            "text/plain": [
              "<Figure size 936x432 with 1 Axes>"
            ],
            "image/png": "[encoded data removed]"
          },
          "metadata": {}
        }
      ],
      "source": [
        "sns.relplot(x = df_airnb['Construction year'], y = df_airnb['price'], data = df_airnb, kind = \"line\", color='#484848', height=6, aspect=13/6).set(title='Historical behavior of a room price on AIRBNB')"
      ]
    },
    {
      "cell_type": "markdown",
      "metadata": {
        "id": "EUX-4n8wmsqm"
      },
      "source": [
        "The plot shows us the behavior through the years of the arbnb price, there was a significant drop in 2008, which is consistent with the economic crisis that took place during that year."
      ]
    },
    {
      "cell_type": "code",
      "execution_count": 333,
      "metadata": {
        "id": "HmZsUCEbLTOK",
        "colab": {
          "base_uri": "https://localhost:8080/",
          "height": 471
        },
        "outputId": "60a5f051-8323-4b21-a205-350ce510566b"
      },
      "outputs": [
        {
          "output_type": "execute_result",
          "data": {
            "text/plain": [
              "<seaborn.axisgrid.FacetGrid at 0x7f05517c3750>"
            ]
          },
          "metadata": {},
          "execution_count": 333
        },
        {
          "output_type": "display_data",
          "data": {
            "text/plain": [
              "<Figure size 936x432 with 1 Axes>"
            ],
            "image/png": "[encoded data removed]"
          },
          "metadata": {}
        }
      ],
      "source": [
        "sns.relplot(x = df_airnb['neighbourhood group'], y = df_airnb['price'], data = df_airnb, kind = \"line\", color='#00A699', height=6, aspect=13/6).set(title='Historical behavior of a room price on AIRBNB by neighbourhood group')"
      ]
    },
    {
      "cell_type": "code",
      "execution_count": 334,
      "metadata": {
        "id": "4xfXuYrEaMPR",
        "colab": {
          "base_uri": "https://localhost:8080/",
          "height": 471
        },
        "outputId": "70df212d-b435-4d52-b0fe-6a3f08491a55"
      },
      "outputs": [
        {
          "output_type": "execute_result",
          "data": {
            "text/plain": [
              "<seaborn.axisgrid.FacetGrid at 0x7f05562d3390>"
            ]
          },
          "metadata": {},
          "execution_count": 334
        },
        {
          "output_type": "display_data",
          "data": {
            "text/plain": [
              "<Figure size 936x432 with 1 Axes>"
            ],
            "image/png": "[encoded data removed]"
          },
          "metadata": {}
        }
      ],
      "source": [
        "sns.relplot(x = df_airnb['neighbourhood group'], y = df_airnb['service fee'], data = df_airnb, kind = \"line\", color='#484848', height=6, aspect=13/6).set(title='Historical behavior of service fee on AIRBNB by neighbourhood group')"
      ]
    },
    {
      "cell_type": "code",
      "execution_count": 335,
      "metadata": {
        "id": "x0XXwwh-M-1n",
        "colab": {
          "base_uri": "https://localhost:8080/",
          "height": 520
        },
        "outputId": "7e17a178-f27e-4ce6-8396-94e5ebd6ed8c"
      },
      "outputs": [
        {
          "output_type": "execute_result",
          "data": {
            "text/plain": [
              "<matplotlib.axes._subplots.AxesSubplot at 0x7f0551712350>"
            ]
          },
          "metadata": {},
          "execution_count": 335
        },
        {
          "output_type": "display_data",
          "data": {
            "text/plain": [
              "<Figure size 1080x576 with 1 Axes>"
            ],
            "image/png": "[encoded data removed]"
          },
          "metadata": {}
        }
      ],
      "source": [
        "sns.histplot(data=df_airnb, x=\"price\", color = '#FF5A5F')"
      ]
    },
    {
      "cell_type": "code",
      "execution_count": 335,
      "metadata": {
        "id": "k5c7OW4gNQ0Z"
      },
      "outputs": [],
      "source": []
    },
    {
      "cell_type": "markdown",
      "metadata": {
        "id": "PGZConpFqkmp"
      },
      "source": [
        "The previous histogram show us the majority of our sample of study is located in Brooklyn and Manhattan."
      ]
    },
    {
      "cell_type": "code",
      "execution_count": 336,
      "metadata": {
        "id": "m5GIMGYds8Uz",
        "colab": {
          "base_uri": "https://localhost:8080/",
          "height": 423
        },
        "outputId": "d6c98e1a-f272-4e3f-bace-7d4bc32fd249"
      },
      "outputs": [
        {
          "output_type": "display_data",
          "data": {
            "text/plain": [
              "<Figure size 1065.1x432 with 1 Axes>"
            ],
            "image/png": "[encoded data removed]"
          },
          "metadata": {}
        }
      ],
      "source": [
        "sns.relplot(data=df_airnb, kind='line', x='price',  y='number of reviews', hue='room type',height=6, aspect=13/6);"
      ]
    },
    {
      "cell_type": "code",
      "execution_count": 337,
      "metadata": {
        "id": "CsEca8oqEohZ",
        "colab": {
          "base_uri": "https://localhost:8080/",
          "height": 536
        },
        "outputId": "da4d69cc-94e9-42bb-a8e5-85f7b77172c7"
      },
      "outputs": [
        {
          "output_type": "execute_result",
          "data": {
            "text/plain": [
              "[Text(0.5, 1.0, 'Price by Room Type')]"
            ]
          },
          "metadata": {},
          "execution_count": 337
        },
        {
          "output_type": "display_data",
          "data": {
            "text/plain": [
              "<Figure size 1080x576 with 1 Axes>"
            ],
            "image/png": "[encoded data removed]"
          },
          "metadata": {}
        }
      ],
      "source": [
        "sns.boxplot(y = 'price',       \n",
        "            x = 'room type',    \n",
        "            data = df_airnb,\n",
        "            palette = 'flare'\n",
        "            ).set(title='Price by Room Type')"
      ]
    },
    {
      "cell_type": "code",
      "execution_count": 338,
      "metadata": {
        "id": "AoWH2Wh6Q-n2",
        "colab": {
          "base_uri": "https://localhost:8080/",
          "height": 629
        },
        "outputId": "3c977f37-199f-4f44-9179-f14cbb0a9327"
      },
      "outputs": [
        {
          "output_type": "execute_result",
          "data": {
            "text/plain": [
              "<matplotlib.axes._subplots.AxesSubplot at 0x7f0551501b90>"
            ]
          },
          "metadata": {},
          "execution_count": 338
        },
        {
          "output_type": "display_data",
          "data": {
            "text/plain": [
              "<Figure size 1080x720 with 1 Axes>"
            ],
            "image/png": "[encoded data removed]"
          },
          "metadata": {}
        }
      ],
      "source": [
        "fig, ax = plt.subplots(figsize=(15, 10))\n",
        "sns.boxplot(x=\"neighbourhood group\", y=\"price\", data=df_airnb,palette=\"flare\")"
      ]
    },
    {
      "cell_type": "code",
      "execution_count": 339,
      "metadata": {
        "id": "BmV9L9vT8Ahk",
        "colab": {
          "base_uri": "https://localhost:8080/",
          "height": 215
        },
        "outputId": "69c2bfb1-86d1-441f-e8f1-1b01cf9b1ecd"
      },
      "outputs": [
        {
          "output_type": "display_data",
          "data": {
            "text/plain": [
              "<Figure size 1800x360 with 5 Axes>"
            ],
            "image/png": "[encoded data removed]"
          },
          "metadata": {}
        }
      ],
      "source": [
        "sns.catplot(x=\"room type\", y=\"price\", col=\"neighbourhood group\", data=df_airnb, kind = \"bar\", palette = 'flare');"
      ]
    },
    {
      "cell_type": "code",
      "execution_count": 340,
      "metadata": {
        "id": "paCS9_AQ8LWA",
        "colab": {
          "base_uri": "https://localhost:8080/",
          "height": 522
        },
        "outputId": "bc4ffa54-fbb1-4be3-839d-7f933b896b7e"
      },
      "outputs": [
        {
          "output_type": "display_data",
          "data": {
            "text/plain": [
              "<Figure size 1080x576 with 1 Axes>"
            ],
            "image/png": "[encoded data removed]"
          },
          "metadata": {}
        }
      ],
      "source": [
        "sns.boxplot(x=\"review rate number\", y=\"price\",\n",
        "            hue=\"neighbourhood group\", palette='flare',\n",
        "            data=df_airnb)\n",
        "sns.despine(offset=20, trim=True)"
      ]
    },
    {
      "cell_type": "code",
      "execution_count": 341,
      "metadata": {
        "id": "psX6AGTPNbRE",
        "colab": {
          "base_uri": "https://localhost:8080/",
          "height": 233
        },
        "outputId": "3697da7e-0272-4d48-991a-41fe5d7b8f31"
      },
      "outputs": [
        {
          "output_type": "execute_result",
          "data": {
            "text/plain": [
              "<seaborn.axisgrid.FacetGrid at 0x7f05515c82d0>"
            ]
          },
          "metadata": {},
          "execution_count": 341
        },
        {
          "output_type": "display_data",
          "data": {
            "text/plain": [
              "<Figure size 1800x360 with 5 Axes>"
            ],
            "image/png": "[encoded data removed]"
          },
          "metadata": {}
        }
      ],
      "source": [
        "sns.catplot(x=\"room type\", y=\"price\", col=\"neighbourhood group\", data=df_airnb, kind = \"bar\",palette='flare')"
      ]
    },
    {
      "cell_type": "code",
      "execution_count": 342,
      "metadata": {
        "id": "LTqozB7R-Ubx",
        "colab": {
          "base_uri": "https://localhost:8080/",
          "height": 462
        },
        "outputId": "76aaca6f-02be-47d5-eab6-88ffb693a377"
      },
      "outputs": [
        {
          "output_type": "execute_result",
          "data": {
            "text/plain": [
              "(array([0, 1, 2, 3]), <a list of 4 Text major ticklabel objects>)"
            ]
          },
          "metadata": {},
          "execution_count": 342
        },
        {
          "output_type": "display_data",
          "data": {
            "text/plain": [
              "<Figure size 360x360 with 1 Axes>"
            ],
            "image/png": "[encoded data removed]"
          },
          "metadata": {}
        }
      ],
      "source": [
        "sns.catplot(kind=\"strip\",data=df_airnb, x='room type', y='price',palette = 'flare')\n",
        "plt.xticks(rotation = 90)"
      ]
    },
    {
      "cell_type": "code",
      "execution_count": 343,
      "metadata": {
        "id": "VTPXtRotAHle",
        "colab": {
          "base_uri": "https://localhost:8080/",
          "height": 462
        },
        "outputId": "7768ca91-aa9a-4007-8aae-501e1ef9cf78"
      },
      "outputs": [
        {
          "output_type": "execute_result",
          "data": {
            "text/plain": [
              "(array([0, 1, 2, 3]), <a list of 4 Text major ticklabel objects>)"
            ]
          },
          "metadata": {},
          "execution_count": 343
        },
        {
          "output_type": "display_data",
          "data": {
            "text/plain": [
              "<Figure size 471.55x360 with 1 Axes>"
            ],
            "image/png": "[encoded data removed]"
          },
          "metadata": {}
        }
      ],
      "source": [
        "sns.catplot(kind=\"violin\",data=df_airnb, x='room type', y='price', hue='instant_bookable', palette = 'flare',figsize=(15, 10))\n",
        "plt.xticks(rotation = 90)"
      ]
    },
    {
      "cell_type": "markdown",
      "metadata": {
        "id": "TaLQCC3n2fvA"
      },
      "source": [
        "# **Development and preprocessing of our model**\n",
        "\n",
        "---\n",
        "\n"
      ]
    },
    {
      "cell_type": "markdown",
      "metadata": {
        "id": "ln_UljCz4CvO"
      },
      "source": [
        "Choose the target **(y)** and the characteritics **(X):**"
      ]
    },
    {
      "cell_type": "code",
      "execution_count": 344,
      "metadata": {
        "id": "4H3s2iKq2vri"
      },
      "outputs": [],
      "source": [
        "y = df_airnb['price']\n",
        "X = df_airnb.drop(columns = 'price')"
      ]
    },
    {
      "cell_type": "markdown",
      "metadata": {
        "id": "h-UPjwP74IS8"
      },
      "source": [
        "Make train test split to data"
      ]
    },
    {
      "cell_type": "code",
      "execution_count": 345,
      "metadata": {
        "id": "ksb3Yl9M4V-M"
      },
      "outputs": [],
      "source": [
        "from sklearn.model_selection import train_test_split\n",
        "X_train, X_test, y_train, y_test = train_test_split(X, y, random_state = 42)"
      ]
    },
    {
      "cell_type": "markdown",
      "metadata": {
        "id": "hmtbKiFK4sFj"
      },
      "source": [
        "As I have categorical variables it is necessary to scale data."
      ]
    },
    {
      "cell_type": "code",
      "execution_count": 346,
      "metadata": {
        "id": "IA2DeIV66M8b"
      },
      "outputs": [],
      "source": [
        "import numpy as np\n",
        "from sklearn.preprocessing import StandardScaler\n",
        "from sklearn.model_selection import train_test_split\n",
        "from sklearn.compose import make_column_selector\n",
        "from sklearn.preprocessing import OneHotEncoder, OrdinalEncoder\n",
        "from sklearn.impute import SimpleImputer"
      ]
    },
    {
      "cell_type": "markdown",
      "metadata": {
        "id": "dSSt2zht9Gm8"
      },
      "source": [
        "Perform one hot encoder encoding to our categorical characteristics"
      ]
    },
    {
      "cell_type": "code",
      "execution_count": 347,
      "metadata": {
        "id": "_uT4VR7H-JXg"
      },
      "outputs": [],
      "source": [
        "#cat_selector = make_column_selector(dtype_include='object')"
      ]
    },
    {
      "cell_type": "markdown",
      "metadata": {
        "id": "IijzX8tEBRlt"
      },
      "source": [
        "Select column categoric"
      ]
    },
    {
      "cell_type": "code",
      "execution_count": 348,
      "metadata": {
        "id": "tALBBXBcBUSF"
      },
      "outputs": [],
      "source": [
        "#cat_selector(X_train)"
      ]
    },
    {
      "cell_type": "code",
      "execution_count": 349,
      "metadata": {
        "id": "waSl5v1PBfpT"
      },
      "outputs": [],
      "source": [
        "#train_cat_data = X_train[cat_selector(X_train)]\n",
        "#test_cat_data = X_test[cat_selector(X_test)]\n",
        "#train_cat_data.head()"
      ]
    },
    {
      "cell_type": "markdown",
      "metadata": {
        "id": "tSoXEnqEBqAY"
      },
      "source": [
        "Encoding One Hot"
      ]
    },
    {
      "cell_type": "code",
      "execution_count": 350,
      "metadata": {
        "id": "sLcrzy6DBr_e"
      },
      "outputs": [],
      "source": [
        "# Instanciar la codificación one-hot\n",
        "#ohe_encoder = OneHotEncoder(sparse=False, handle_unknown='ignore')\n",
        "# Ajustar el OneHotEncoder en los datos de entrenamiento\n",
        "#ohe_encoder.fit(train_cat_data)\n",
        "# Transformar los datos de entrenamiento y de prueba\n",
        "#train_ohe = ohe_encoder.transform(train_cat_data)\n",
        "#test_ohe = ohe_encoder.transform(test_cat_data)\n",
        "#train_ohe"
      ]
    },
    {
      "cell_type": "code",
      "execution_count": 351,
      "metadata": {
        "id": "0hMAZ8_yU4g-"
      },
      "outputs": [],
      "source": [
        "#ohe_column_names = ohe_encoder.get_feature_names_out(train_cat_data.columns)\n",
        "#train_ohe = pd.DataFrame(train_ohe, columns=ohe_column_names)\n",
        "#test_ohe = pd.DataFrame(test_ohe, columns=ohe_column_names)\n",
        "#train_ohe"
      ]
    },
    {
      "cell_type": "markdown",
      "metadata": {
        "id": "XcJuEt-QU-xu"
      },
      "source": [
        "Concatenate with our numeric columns"
      ]
    },
    {
      "cell_type": "code",
      "execution_count": 352,
      "metadata": {
        "id": "BHbxZq6-VDUW"
      },
      "outputs": [],
      "source": [
        "# Create a number picker\n",
        "#num_selector = make_column_selector(dtype_include='number')\n",
        "# Isolate the numerical columns\n",
        "#train_nums = X_train[num_selector(X_train)].reset_index(drop=True)\n",
        "#test_nums = X_test[num_selector(X_test)].reset_index(drop=True)\n",
        "# Recombine the training and test sets on axis 1 (columns)\n",
        "#X_train_processed = pd.concat([train_nums, train_ohe], axis=1)\n",
        "#X_test_processed = pd.concat([test_nums, test_ohe], axis=1)\n",
        "#X_train_processed"
      ]
    },
    {
      "cell_type": "markdown",
      "metadata": {
        "id": "8xBvSBdVXptn"
      },
      "source": [
        "# **Make use of pipelines to preprocess the model**"
      ]
    },
    {
      "cell_type": "code",
      "execution_count": 353,
      "metadata": {
        "id": "E4Gh2usidbao"
      },
      "outputs": [],
      "source": [
        "from sklearn.compose import make_column_transformer, make_column_selector\n",
        "from sklearn.pipeline import make_pipeline\n",
        "from sklearn import set_config\n",
        "set_config(display='diagram')\n"
      ]
    },
    {
      "cell_type": "markdown",
      "metadata": {
        "id": "YDwHwktsklhB"
      },
      "source": [
        "Ordinal encoding"
      ]
    },
    {
      "cell_type": "code",
      "execution_count": 354,
      "metadata": {
        "id": "Ios_vOsfkksJ",
        "colab": {
          "base_uri": "https://localhost:8080/"
        },
        "outputId": "a0002fb3-3497-414d-dd7f-d08f2290f54d"
      },
      "outputs": [
        {
          "output_type": "execute_result",
          "data": {
            "text/plain": [
              "moderate    33666\n",
              "strict      33441\n",
              "flexible    33380\n",
              "Name: cancellation_policy, dtype: int64"
            ]
          },
          "metadata": {},
          "execution_count": 354
        }
      ],
      "source": [
        "df_airnb['cancellation_policy'].value_counts()"
      ]
    },
    {
      "cell_type": "code",
      "execution_count": 355,
      "metadata": {
        "id": "rzVND4iQlfbu",
        "colab": {
          "base_uri": "https://localhost:8080/"
        },
        "outputId": "b34e9452-1ff0-43b1-affd-58199aab219c"
      },
      "outputs": [
        {
          "output_type": "execute_result",
          "data": {
            "text/plain": [
              "id\n",
              "1001254     1\n",
              "1002102     2\n",
              "1002403     0\n",
              "1002755     2\n",
              "1003689     2\n",
              "           ..\n",
              "57361894    2\n",
              "57362446    0\n",
              "57362999    1\n",
              "57363551    2\n",
              "57367417    0\n",
              "Name: cancellation_policy, Length: 100487, dtype: int64"
            ]
          },
          "metadata": {},
          "execution_count": 355
        }
      ],
      "source": [
        "replacement_dictionary = {'moderate':2, 'strict':1, 'flexible':0}\n",
        "df_airnb['cancellation_policy'].replace(replacement_dictionary, inplace=True)\n",
        "df_airnb['cancellation_policy']"
      ]
    },
    {
      "cell_type": "code",
      "execution_count": 356,
      "metadata": {
        "id": "WhIjiQnCmNS4",
        "colab": {
          "base_uri": "https://localhost:8080/"
        },
        "outputId": "5969dac7-c731-4090-d18d-4d2ee9dc6a2f"
      },
      "outputs": [
        {
          "output_type": "execute_result",
          "data": {
            "text/plain": [
              "2    33666\n",
              "1    33441\n",
              "0    33380\n",
              "Name: cancellation_policy, dtype: int64"
            ]
          },
          "metadata": {},
          "execution_count": 356
        }
      ],
      "source": [
        "df_airnb['cancellation_policy'].value_counts()"
      ]
    },
    {
      "cell_type": "markdown",
      "metadata": {
        "id": "Og8e4Hi9l7Bp"
      },
      "source": [
        "***Column 'Cancellation Policy'is now a float and ordinal-encoded data type.***"
      ]
    },
    {
      "cell_type": "markdown",
      "metadata": {
        "id": "emy-0mLAcryM"
      },
      "source": [
        "Instantiate column selectors"
      ]
    },
    {
      "cell_type": "code",
      "execution_count": 357,
      "metadata": {
        "id": "jdJK8_6KXo9s"
      },
      "outputs": [],
      "source": [
        "cat_selector = make_column_selector(dtype_include='object')\n",
        "num_selector = make_column_selector(dtype_include='number')"
      ]
    },
    {
      "cell_type": "markdown",
      "metadata": {
        "id": "U85T8l1tYD4l"
      },
      "source": [
        "Instantiate transformers"
      ]
    },
    {
      "cell_type": "code",
      "execution_count": 358,
      "metadata": {
        "id": "fsj0Td8fYDW_"
      },
      "outputs": [],
      "source": [
        "# Imputers\n",
        "freq_imputer = SimpleImputer(strategy='most_frequent')\n",
        "mean_imputer = SimpleImputer(strategy='mean')\n",
        "# Scaler\n",
        "scaler = StandardScaler()\n",
        "# One-hot encoder\n",
        "ohe = OneHotEncoder(handle_unknown='ignore', sparse=False)\n",
        "#Ordinal Encoder\n",
        "ordinal_encoder = OrdinalEncoder()"
      ]
    },
    {
      "cell_type": "markdown",
      "metadata": {
        "id": "KLx-4k_cd5xU"
      },
      "source": [
        "Instantiate pipeline"
      ]
    },
    {
      "cell_type": "code",
      "execution_count": 359,
      "metadata": {
        "id": "yJ0z0Vold4FA",
        "colab": {
          "base_uri": "https://localhost:8080/",
          "height": 126
        },
        "outputId": "c215d1ea-4fb1-43c7-ed24-d03e723ee95b"
      },
      "outputs": [
        {
          "output_type": "execute_result",
          "data": {
            "text/plain": [
              "Pipeline(steps=[('simpleimputer', SimpleImputer()),\n",
              "                ('standardscaler', StandardScaler())])"
            ],
            "text/html": [
              "<style>#sk-b966dd9d-237d-41e2-b4f7-4c1db9daf167 {color: black;background-color: white;}#sk-b966dd9d-237d-41e2-b4f7-4c1db9daf167 pre{padding: 0;}#sk-b966dd9d-237d-41e2-b4f7-4c1db9daf167 div.sk-toggleable {background-color: white;}#sk-b966dd9d-237d-41e2-b4f7-4c1db9daf167 label.sk-toggleable__label {cursor: pointer;display: block;width: 100%;margin-bottom: 0;padding: 0.3em;box-sizing: border-box;text-align: center;}#sk-b966dd9d-237d-41e2-b4f7-4c1db9daf167 label.sk-toggleable__label-arrow:before {content: \"▸\";float: left;margin-right: 0.25em;color: #696969;}#sk-b966dd9d-237d-41e2-b4f7-4c1db9daf167 label.sk-toggleable__label-arrow:hover:before {color: black;}#sk-b966dd9d-237d-41e2-b4f7-4c1db9daf167 div.sk-estimator:hover label.sk-toggleable__label-arrow:before {color: black;}#sk-b966dd9d-237d-41e2-b4f7-4c1db9daf167 div.sk-toggleable__content {max-height: 0;max-width: 0;overflow: hidden;text-align: left;background-color: #f0f8ff;}#sk-b966dd9d-237d-41e2-b4f7-4c1db9daf167 div.sk-toggleable__content pre {margin: 0.2em;color: black;border-radius: 0.25em;background-color: #f0f8ff;}#sk-b966dd9d-237d-41e2-b4f7-4c1db9daf167 input.sk-toggleable__control:checked~div.sk-toggleable__content {max-height: 200px;max-width: 100%;overflow: auto;}#sk-b966dd9d-237d-41e2-b4f7-4c1db9daf167 input.sk-toggleable__control:checked~label.sk-toggleable__label-arrow:before {content: \"▾\";}#sk-b966dd9d-237d-41e2-b4f7-4c1db9daf167 div.sk-estimator input.sk-toggleable__control:checked~label.sk-toggleable__label {background-color: #d4ebff;}#sk-b966dd9d-237d-41e2-b4f7-4c1db9daf167 div.sk-label input.sk-toggleable__control:checked~label.sk-toggleable__label {background-color: #d4ebff;}#sk-b966dd9d-237d-41e2-b4f7-4c1db9daf167 input.sk-hidden--visually {border: 0;clip: rect(1px 1px 1px 1px);clip: rect(1px, 1px, 1px, 1px);height: 1px;margin: -1px;overflow: hidden;padding: 0;position: absolute;width: 1px;}#sk-b966dd9d-237d-41e2-b4f7-4c1db9daf167 div.sk-estimator {font-family: monospace;background-color: #f0f8ff;border: 1px dotted black;border-radius: 0.25em;box-sizing: border-box;margin-bottom: 0.5em;}#sk-b966dd9d-237d-41e2-b4f7-4c1db9daf167 div.sk-estimator:hover {background-color: #d4ebff;}#sk-b966dd9d-237d-41e2-b4f7-4c1db9daf167 div.sk-parallel-item::after {content: \"\";width: 100%;border-bottom: 1px solid gray;flex-grow: 1;}#sk-b966dd9d-237d-41e2-b4f7-4c1db9daf167 div.sk-label:hover label.sk-toggleable__label {background-color: #d4ebff;}#sk-b966dd9d-237d-41e2-b4f7-4c1db9daf167 div.sk-serial::before {content: \"\";position: absolute;border-left: 1px solid gray;box-sizing: border-box;top: 2em;bottom: 0;left: 50%;}#sk-b966dd9d-237d-41e2-b4f7-4c1db9daf167 div.sk-serial {display: flex;flex-direction: column;align-items: center;background-color: white;padding-right: 0.2em;padding-left: 0.2em;}#sk-b966dd9d-237d-41e2-b4f7-4c1db9daf167 div.sk-item {z-index: 1;}#sk-b966dd9d-237d-41e2-b4f7-4c1db9daf167 div.sk-parallel {display: flex;align-items: stretch;justify-content: center;background-color: white;}#sk-b966dd9d-237d-41e2-b4f7-4c1db9daf167 div.sk-parallel::before {content: \"\";position: absolute;border-left: 1px solid gray;box-sizing: border-box;top: 2em;bottom: 0;left: 50%;}#sk-b966dd9d-237d-41e2-b4f7-4c1db9daf167 div.sk-parallel-item {display: flex;flex-direction: column;position: relative;background-color: white;}#sk-b966dd9d-237d-41e2-b4f7-4c1db9daf167 div.sk-parallel-item:first-child::after {align-self: flex-end;width: 50%;}#sk-b966dd9d-237d-41e2-b4f7-4c1db9daf167 div.sk-parallel-item:last-child::after {align-self: flex-start;width: 50%;}#sk-b966dd9d-237d-41e2-b4f7-4c1db9daf167 div.sk-parallel-item:only-child::after {width: 0;}#sk-b966dd9d-237d-41e2-b4f7-4c1db9daf167 div.sk-dashed-wrapped {border: 1px dashed gray;margin: 0 0.4em 0.5em 0.4em;box-sizing: border-box;padding-bottom: 0.4em;background-color: white;position: relative;}#sk-b966dd9d-237d-41e2-b4f7-4c1db9daf167 div.sk-label label {font-family: monospace;font-weight: bold;background-color: white;display: inline-block;line-height: 1.2em;}#sk-b966dd9d-237d-41e2-b4f7-4c1db9daf167 div.sk-label-container {position: relative;z-index: 2;text-align: center;}#sk-b966dd9d-237d-41e2-b4f7-4c1db9daf167 div.sk-container {/* jupyter's `normalize.less` sets `[hidden] { display: none; }` but bootstrap.min.css set `[hidden] { display: none !important; }` so we also need the `!important` here to be able to override the default hidden behavior on the sphinx rendered scikit-learn.org. See: https://github.com/scikit-learn/scikit-learn/issues/21755 */display: inline-block !important;position: relative;}#sk-b966dd9d-237d-41e2-b4f7-4c1db9daf167 div.sk-text-repr-fallback {display: none;}</style><div id=\"sk-b966dd9d-237d-41e2-b4f7-4c1db9daf167\" class=\"sk-top-container\"><div class=\"sk-text-repr-fallback\"><pre>Pipeline(steps=[(&#x27;simpleimputer&#x27;, SimpleImputer()),\n",
              "                (&#x27;standardscaler&#x27;, StandardScaler())])</pre><b>Please rerun this cell to show the HTML repr or trust the notebook.</b></div><div class=\"sk-container\" hidden><div class=\"sk-item sk-dashed-wrapped\"><div class=\"sk-label-container\"><div class=\"sk-label sk-toggleable\"><input class=\"sk-toggleable__control sk-hidden--visually\" id=\"5145f5e6-6502-49f3-9c3b-fdd23d57780f\" type=\"checkbox\" ><label for=\"5145f5e6-6502-49f3-9c3b-fdd23d57780f\" class=\"sk-toggleable__label sk-toggleable__label-arrow\">Pipeline</label><div class=\"sk-toggleable__content\"><pre>Pipeline(steps=[(&#x27;simpleimputer&#x27;, SimpleImputer()),\n",
              "                (&#x27;standardscaler&#x27;, StandardScaler())])</pre></div></div></div><div class=\"sk-serial\"><div class=\"sk-item\"><div class=\"sk-estimator sk-toggleable\"><input class=\"sk-toggleable__control sk-hidden--visually\" id=\"ab076110-0f88-4914-bca5-d6fb62815c8e\" type=\"checkbox\" ><label for=\"ab076110-0f88-4914-bca5-d6fb62815c8e\" class=\"sk-toggleable__label sk-toggleable__label-arrow\">SimpleImputer</label><div class=\"sk-toggleable__content\"><pre>SimpleImputer()</pre></div></div></div><div class=\"sk-item\"><div class=\"sk-estimator sk-toggleable\"><input class=\"sk-toggleable__control sk-hidden--visually\" id=\"59116ca0-4bdf-4c1a-8808-aab8da98bc8e\" type=\"checkbox\" ><label for=\"59116ca0-4bdf-4c1a-8808-aab8da98bc8e\" class=\"sk-toggleable__label sk-toggleable__label-arrow\">StandardScaler</label><div class=\"sk-toggleable__content\"><pre>StandardScaler()</pre></div></div></div></div></div></div></div>"
            ]
          },
          "metadata": {},
          "execution_count": 359
        }
      ],
      "source": [
        "numeric_pipe = make_pipeline(mean_imputer,scaler)\n",
        "numeric_pipe"
      ]
    },
    {
      "cell_type": "code",
      "execution_count": 360,
      "metadata": {
        "id": "fU6_OOuWeOek",
        "colab": {
          "base_uri": "https://localhost:8080/",
          "height": 126
        },
        "outputId": "a4c42a66-3d56-4dbc-a6f0-1214a6620d2d"
      },
      "outputs": [
        {
          "output_type": "execute_result",
          "data": {
            "text/plain": [
              "Pipeline(steps=[('simpleimputer', SimpleImputer(strategy='most_frequent')),\n",
              "                ('onehotencoder',\n",
              "                 OneHotEncoder(handle_unknown='ignore', sparse=False))])"
            ],
            "text/html": [
              "<style>#sk-82d39588-e8fe-4acb-a076-7e4d07531c66 {color: black;background-color: white;}#sk-82d39588-e8fe-4acb-a076-7e4d07531c66 pre{padding: 0;}#sk-82d39588-e8fe-4acb-a076-7e4d07531c66 div.sk-toggleable {background-color: white;}#sk-82d39588-e8fe-4acb-a076-7e4d07531c66 label.sk-toggleable__label {cursor: pointer;display: block;width: 100%;margin-bottom: 0;padding: 0.3em;box-sizing: border-box;text-align: center;}#sk-82d39588-e8fe-4acb-a076-7e4d07531c66 label.sk-toggleable__label-arrow:before {content: \"▸\";float: left;margin-right: 0.25em;color: #696969;}#sk-82d39588-e8fe-4acb-a076-7e4d07531c66 label.sk-toggleable__label-arrow:hover:before {color: black;}#sk-82d39588-e8fe-4acb-a076-7e4d07531c66 div.sk-estimator:hover label.sk-toggleable__label-arrow:before {color: black;}#sk-82d39588-e8fe-4acb-a076-7e4d07531c66 div.sk-toggleable__content {max-height: 0;max-width: 0;overflow: hidden;text-align: left;background-color: #f0f8ff;}#sk-82d39588-e8fe-4acb-a076-7e4d07531c66 div.sk-toggleable__content pre {margin: 0.2em;color: black;border-radius: 0.25em;background-color: #f0f8ff;}#sk-82d39588-e8fe-4acb-a076-7e4d07531c66 input.sk-toggleable__control:checked~div.sk-toggleable__content {max-height: 200px;max-width: 100%;overflow: auto;}#sk-82d39588-e8fe-4acb-a076-7e4d07531c66 input.sk-toggleable__control:checked~label.sk-toggleable__label-arrow:before {content: \"▾\";}#sk-82d39588-e8fe-4acb-a076-7e4d07531c66 div.sk-estimator input.sk-toggleable__control:checked~label.sk-toggleable__label {background-color: #d4ebff;}#sk-82d39588-e8fe-4acb-a076-7e4d07531c66 div.sk-label input.sk-toggleable__control:checked~label.sk-toggleable__label {background-color: #d4ebff;}#sk-82d39588-e8fe-4acb-a076-7e4d07531c66 input.sk-hidden--visually {border: 0;clip: rect(1px 1px 1px 1px);clip: rect(1px, 1px, 1px, 1px);height: 1px;margin: -1px;overflow: hidden;padding: 0;position: absolute;width: 1px;}#sk-82d39588-e8fe-4acb-a076-7e4d07531c66 div.sk-estimator {font-family: monospace;background-color: #f0f8ff;border: 1px dotted black;border-radius: 0.25em;box-sizing: border-box;margin-bottom: 0.5em;}#sk-82d39588-e8fe-4acb-a076-7e4d07531c66 div.sk-estimator:hover {background-color: #d4ebff;}#sk-82d39588-e8fe-4acb-a076-7e4d07531c66 div.sk-parallel-item::after {content: \"\";width: 100%;border-bottom: 1px solid gray;flex-grow: 1;}#sk-82d39588-e8fe-4acb-a076-7e4d07531c66 div.sk-label:hover label.sk-toggleable__label {background-color: #d4ebff;}#sk-82d39588-e8fe-4acb-a076-7e4d07531c66 div.sk-serial::before {content: \"\";position: absolute;border-left: 1px solid gray;box-sizing: border-box;top: 2em;bottom: 0;left: 50%;}#sk-82d39588-e8fe-4acb-a076-7e4d07531c66 div.sk-serial {display: flex;flex-direction: column;align-items: center;background-color: white;padding-right: 0.2em;padding-left: 0.2em;}#sk-82d39588-e8fe-4acb-a076-7e4d07531c66 div.sk-item {z-index: 1;}#sk-82d39588-e8fe-4acb-a076-7e4d07531c66 div.sk-parallel {display: flex;align-items: stretch;justify-content: center;background-color: white;}#sk-82d39588-e8fe-4acb-a076-7e4d07531c66 div.sk-parallel::before {content: \"\";position: absolute;border-left: 1px solid gray;box-sizing: border-box;top: 2em;bottom: 0;left: 50%;}#sk-82d39588-e8fe-4acb-a076-7e4d07531c66 div.sk-parallel-item {display: flex;flex-direction: column;position: relative;background-color: white;}#sk-82d39588-e8fe-4acb-a076-7e4d07531c66 div.sk-parallel-item:first-child::after {align-self: flex-end;width: 50%;}#sk-82d39588-e8fe-4acb-a076-7e4d07531c66 div.sk-parallel-item:last-child::after {align-self: flex-start;width: 50%;}#sk-82d39588-e8fe-4acb-a076-7e4d07531c66 div.sk-parallel-item:only-child::after {width: 0;}#sk-82d39588-e8fe-4acb-a076-7e4d07531c66 div.sk-dashed-wrapped {border: 1px dashed gray;margin: 0 0.4em 0.5em 0.4em;box-sizing: border-box;padding-bottom: 0.4em;background-color: white;position: relative;}#sk-82d39588-e8fe-4acb-a076-7e4d07531c66 div.sk-label label {font-family: monospace;font-weight: bold;background-color: white;display: inline-block;line-height: 1.2em;}#sk-82d39588-e8fe-4acb-a076-7e4d07531c66 div.sk-label-container {position: relative;z-index: 2;text-align: center;}#sk-82d39588-e8fe-4acb-a076-7e4d07531c66 div.sk-container {/* jupyter's `normalize.less` sets `[hidden] { display: none; }` but bootstrap.min.css set `[hidden] { display: none !important; }` so we also need the `!important` here to be able to override the default hidden behavior on the sphinx rendered scikit-learn.org. See: https://github.com/scikit-learn/scikit-learn/issues/21755 */display: inline-block !important;position: relative;}#sk-82d39588-e8fe-4acb-a076-7e4d07531c66 div.sk-text-repr-fallback {display: none;}</style><div id=\"sk-82d39588-e8fe-4acb-a076-7e4d07531c66\" class=\"sk-top-container\"><div class=\"sk-text-repr-fallback\"><pre>Pipeline(steps=[(&#x27;simpleimputer&#x27;, SimpleImputer(strategy=&#x27;most_frequent&#x27;)),\n",
              "                (&#x27;onehotencoder&#x27;,\n",
              "                 OneHotEncoder(handle_unknown=&#x27;ignore&#x27;, sparse=False))])</pre><b>Please rerun this cell to show the HTML repr or trust the notebook.</b></div><div class=\"sk-container\" hidden><div class=\"sk-item sk-dashed-wrapped\"><div class=\"sk-label-container\"><div class=\"sk-label sk-toggleable\"><input class=\"sk-toggleable__control sk-hidden--visually\" id=\"a395cc9f-08e0-47ad-a645-beac37ae4784\" type=\"checkbox\" ><label for=\"a395cc9f-08e0-47ad-a645-beac37ae4784\" class=\"sk-toggleable__label sk-toggleable__label-arrow\">Pipeline</label><div class=\"sk-toggleable__content\"><pre>Pipeline(steps=[(&#x27;simpleimputer&#x27;, SimpleImputer(strategy=&#x27;most_frequent&#x27;)),\n",
              "                (&#x27;onehotencoder&#x27;,\n",
              "                 OneHotEncoder(handle_unknown=&#x27;ignore&#x27;, sparse=False))])</pre></div></div></div><div class=\"sk-serial\"><div class=\"sk-item\"><div class=\"sk-estimator sk-toggleable\"><input class=\"sk-toggleable__control sk-hidden--visually\" id=\"798b3e50-f26d-4e36-9333-0246aeaa648a\" type=\"checkbox\" ><label for=\"798b3e50-f26d-4e36-9333-0246aeaa648a\" class=\"sk-toggleable__label sk-toggleable__label-arrow\">SimpleImputer</label><div class=\"sk-toggleable__content\"><pre>SimpleImputer(strategy=&#x27;most_frequent&#x27;)</pre></div></div></div><div class=\"sk-item\"><div class=\"sk-estimator sk-toggleable\"><input class=\"sk-toggleable__control sk-hidden--visually\" id=\"827e6ef4-c0b3-4368-a25b-63026e8a3286\" type=\"checkbox\" ><label for=\"827e6ef4-c0b3-4368-a25b-63026e8a3286\" class=\"sk-toggleable__label sk-toggleable__label-arrow\">OneHotEncoder</label><div class=\"sk-toggleable__content\"><pre>OneHotEncoder(handle_unknown=&#x27;ignore&#x27;, sparse=False)</pre></div></div></div></div></div></div></div>"
            ]
          },
          "metadata": {},
          "execution_count": 360
        }
      ],
      "source": [
        "categorical_pipe = make_pipeline(freq_imputer,ohe)\n",
        "categorical_pipe"
      ]
    },
    {
      "cell_type": "code",
      "execution_count": 361,
      "metadata": {
        "id": "AIl0Xs4aqH6Z",
        "colab": {
          "base_uri": "https://localhost:8080/",
          "height": 126
        },
        "outputId": "a37d465b-8eca-4c33-efac-97752172a587"
      },
      "outputs": [
        {
          "output_type": "execute_result",
          "data": {
            "text/plain": [
              "Pipeline(steps=[('simpleimputer', SimpleImputer(strategy='most_frequent')),\n",
              "                ('ordinalencoder', OrdinalEncoder())])"
            ],
            "text/html": [
              "<style>#sk-0eddea72-970f-4803-a17a-b9e0137226d5 {color: black;background-color: white;}#sk-0eddea72-970f-4803-a17a-b9e0137226d5 pre{padding: 0;}#sk-0eddea72-970f-4803-a17a-b9e0137226d5 div.sk-toggleable {background-color: white;}#sk-0eddea72-970f-4803-a17a-b9e0137226d5 label.sk-toggleable__label {cursor: pointer;display: block;width: 100%;margin-bottom: 0;padding: 0.3em;box-sizing: border-box;text-align: center;}#sk-0eddea72-970f-4803-a17a-b9e0137226d5 label.sk-toggleable__label-arrow:before {content: \"▸\";float: left;margin-right: 0.25em;color: #696969;}#sk-0eddea72-970f-4803-a17a-b9e0137226d5 label.sk-toggleable__label-arrow:hover:before {color: black;}#sk-0eddea72-970f-4803-a17a-b9e0137226d5 div.sk-estimator:hover label.sk-toggleable__label-arrow:before {color: black;}#sk-0eddea72-970f-4803-a17a-b9e0137226d5 div.sk-toggleable__content {max-height: 0;max-width: 0;overflow: hidden;text-align: left;background-color: #f0f8ff;}#sk-0eddea72-970f-4803-a17a-b9e0137226d5 div.sk-toggleable__content pre {margin: 0.2em;color: black;border-radius: 0.25em;background-color: #f0f8ff;}#sk-0eddea72-970f-4803-a17a-b9e0137226d5 input.sk-toggleable__control:checked~div.sk-toggleable__content {max-height: 200px;max-width: 100%;overflow: auto;}#sk-0eddea72-970f-4803-a17a-b9e0137226d5 input.sk-toggleable__control:checked~label.sk-toggleable__label-arrow:before {content: \"▾\";}#sk-0eddea72-970f-4803-a17a-b9e0137226d5 div.sk-estimator input.sk-toggleable__control:checked~label.sk-toggleable__label {background-color: #d4ebff;}#sk-0eddea72-970f-4803-a17a-b9e0137226d5 div.sk-label input.sk-toggleable__control:checked~label.sk-toggleable__label {background-color: #d4ebff;}#sk-0eddea72-970f-4803-a17a-b9e0137226d5 input.sk-hidden--visually {border: 0;clip: rect(1px 1px 1px 1px);clip: rect(1px, 1px, 1px, 1px);height: 1px;margin: -1px;overflow: hidden;padding: 0;position: absolute;width: 1px;}#sk-0eddea72-970f-4803-a17a-b9e0137226d5 div.sk-estimator {font-family: monospace;background-color: #f0f8ff;border: 1px dotted black;border-radius: 0.25em;box-sizing: border-box;margin-bottom: 0.5em;}#sk-0eddea72-970f-4803-a17a-b9e0137226d5 div.sk-estimator:hover {background-color: #d4ebff;}#sk-0eddea72-970f-4803-a17a-b9e0137226d5 div.sk-parallel-item::after {content: \"\";width: 100%;border-bottom: 1px solid gray;flex-grow: 1;}#sk-0eddea72-970f-4803-a17a-b9e0137226d5 div.sk-label:hover label.sk-toggleable__label {background-color: #d4ebff;}#sk-0eddea72-970f-4803-a17a-b9e0137226d5 div.sk-serial::before {content: \"\";position: absolute;border-left: 1px solid gray;box-sizing: border-box;top: 2em;bottom: 0;left: 50%;}#sk-0eddea72-970f-4803-a17a-b9e0137226d5 div.sk-serial {display: flex;flex-direction: column;align-items: center;background-color: white;padding-right: 0.2em;padding-left: 0.2em;}#sk-0eddea72-970f-4803-a17a-b9e0137226d5 div.sk-item {z-index: 1;}#sk-0eddea72-970f-4803-a17a-b9e0137226d5 div.sk-parallel {display: flex;align-items: stretch;justify-content: center;background-color: white;}#sk-0eddea72-970f-4803-a17a-b9e0137226d5 div.sk-parallel::before {content: \"\";position: absolute;border-left: 1px solid gray;box-sizing: border-box;top: 2em;bottom: 0;left: 50%;}#sk-0eddea72-970f-4803-a17a-b9e0137226d5 div.sk-parallel-item {display: flex;flex-direction: column;position: relative;background-color: white;}#sk-0eddea72-970f-4803-a17a-b9e0137226d5 div.sk-parallel-item:first-child::after {align-self: flex-end;width: 50%;}#sk-0eddea72-970f-4803-a17a-b9e0137226d5 div.sk-parallel-item:last-child::after {align-self: flex-start;width: 50%;}#sk-0eddea72-970f-4803-a17a-b9e0137226d5 div.sk-parallel-item:only-child::after {width: 0;}#sk-0eddea72-970f-4803-a17a-b9e0137226d5 div.sk-dashed-wrapped {border: 1px dashed gray;margin: 0 0.4em 0.5em 0.4em;box-sizing: border-box;padding-bottom: 0.4em;background-color: white;position: relative;}#sk-0eddea72-970f-4803-a17a-b9e0137226d5 div.sk-label label {font-family: monospace;font-weight: bold;background-color: white;display: inline-block;line-height: 1.2em;}#sk-0eddea72-970f-4803-a17a-b9e0137226d5 div.sk-label-container {position: relative;z-index: 2;text-align: center;}#sk-0eddea72-970f-4803-a17a-b9e0137226d5 div.sk-container {/* jupyter's `normalize.less` sets `[hidden] { display: none; }` but bootstrap.min.css set `[hidden] { display: none !important; }` so we also need the `!important` here to be able to override the default hidden behavior on the sphinx rendered scikit-learn.org. See: https://github.com/scikit-learn/scikit-learn/issues/21755 */display: inline-block !important;position: relative;}#sk-0eddea72-970f-4803-a17a-b9e0137226d5 div.sk-text-repr-fallback {display: none;}</style><div id=\"sk-0eddea72-970f-4803-a17a-b9e0137226d5\" class=\"sk-top-container\"><div class=\"sk-text-repr-fallback\"><pre>Pipeline(steps=[(&#x27;simpleimputer&#x27;, SimpleImputer(strategy=&#x27;most_frequent&#x27;)),\n",
              "                (&#x27;ordinalencoder&#x27;, OrdinalEncoder())])</pre><b>Please rerun this cell to show the HTML repr or trust the notebook.</b></div><div class=\"sk-container\" hidden><div class=\"sk-item sk-dashed-wrapped\"><div class=\"sk-label-container\"><div class=\"sk-label sk-toggleable\"><input class=\"sk-toggleable__control sk-hidden--visually\" id=\"a5e159cb-26e2-4b14-b5cc-848925c20e3b\" type=\"checkbox\" ><label for=\"a5e159cb-26e2-4b14-b5cc-848925c20e3b\" class=\"sk-toggleable__label sk-toggleable__label-arrow\">Pipeline</label><div class=\"sk-toggleable__content\"><pre>Pipeline(steps=[(&#x27;simpleimputer&#x27;, SimpleImputer(strategy=&#x27;most_frequent&#x27;)),\n",
              "                (&#x27;ordinalencoder&#x27;, OrdinalEncoder())])</pre></div></div></div><div class=\"sk-serial\"><div class=\"sk-item\"><div class=\"sk-estimator sk-toggleable\"><input class=\"sk-toggleable__control sk-hidden--visually\" id=\"de017ad0-2c1b-4856-8e46-af43099cec08\" type=\"checkbox\" ><label for=\"de017ad0-2c1b-4856-8e46-af43099cec08\" class=\"sk-toggleable__label sk-toggleable__label-arrow\">SimpleImputer</label><div class=\"sk-toggleable__content\"><pre>SimpleImputer(strategy=&#x27;most_frequent&#x27;)</pre></div></div></div><div class=\"sk-item\"><div class=\"sk-estimator sk-toggleable\"><input class=\"sk-toggleable__control sk-hidden--visually\" id=\"76fe47a1-24c2-4042-867b-a84768dce737\" type=\"checkbox\" ><label for=\"76fe47a1-24c2-4042-867b-a84768dce737\" class=\"sk-toggleable__label sk-toggleable__label-arrow\">OrdinalEncoder</label><div class=\"sk-toggleable__content\"><pre>OrdinalEncoder()</pre></div></div></div></div></div></div></div>"
            ]
          },
          "metadata": {},
          "execution_count": 361
        }
      ],
      "source": [
        "nominal_pipe = make_pipeline(freq_imputer, ordinal_encoder)\n",
        "nominal_pipe"
      ]
    },
    {
      "cell_type": "markdown",
      "metadata": {
        "id": "8eke11_uYlt7"
      },
      "source": [
        "Instantiate column transform"
      ]
    },
    {
      "cell_type": "code",
      "execution_count": 362,
      "metadata": {
        "id": "ky4KYhd5eg72",
        "colab": {
          "base_uri": "https://localhost:8080/",
          "height": 152
        },
        "outputId": "390b6fab-d663-4c2b-e9f4-027a0145ae45"
      },
      "outputs": [
        {
          "output_type": "execute_result",
          "data": {
            "text/plain": [
              "ColumnTransformer(transformers=[('pipeline-1',\n",
              "                                 Pipeline(steps=[('simpleimputer',\n",
              "                                                  SimpleImputer()),\n",
              "                                                 ('standardscaler',\n",
              "                                                  StandardScaler())]),\n",
              "                                 <sklearn.compose._column_transformer.make_column_selector object at 0x7f05519b2950>),\n",
              "                                ('pipeline-2',\n",
              "                                 Pipeline(steps=[('simpleimputer',\n",
              "                                                  SimpleImputer(strategy='most_frequent')),\n",
              "                                                 ('onehotencoder',\n",
              "                                                  OneHotEncoder(handle_unknown='ignore',\n",
              "                                                                sparse=False))]),\n",
              "                                 <sklearn.compose._column_transformer.make_column_selector object at 0x7f05519b2e90>)])"
            ],
            "text/html": [
              "<style>#sk-d9c9c102-caf7-4bfc-bd35-a3e999c9a9ab {color: black;background-color: white;}#sk-d9c9c102-caf7-4bfc-bd35-a3e999c9a9ab pre{padding: 0;}#sk-d9c9c102-caf7-4bfc-bd35-a3e999c9a9ab div.sk-toggleable {background-color: white;}#sk-d9c9c102-caf7-4bfc-bd35-a3e999c9a9ab label.sk-toggleable__label {cursor: pointer;display: block;width: 100%;margin-bottom: 0;padding: 0.3em;box-sizing: border-box;text-align: center;}#sk-d9c9c102-caf7-4bfc-bd35-a3e999c9a9ab label.sk-toggleable__label-arrow:before {content: \"▸\";float: left;margin-right: 0.25em;color: #696969;}#sk-d9c9c102-caf7-4bfc-bd35-a3e999c9a9ab label.sk-toggleable__label-arrow:hover:before {color: black;}#sk-d9c9c102-caf7-4bfc-bd35-a3e999c9a9ab div.sk-estimator:hover label.sk-toggleable__label-arrow:before {color: black;}#sk-d9c9c102-caf7-4bfc-bd35-a3e999c9a9ab div.sk-toggleable__content {max-height: 0;max-width: 0;overflow: hidden;text-align: left;background-color: #f0f8ff;}#sk-d9c9c102-caf7-4bfc-bd35-a3e999c9a9ab div.sk-toggleable__content pre {margin: 0.2em;color: black;border-radius: 0.25em;background-color: #f0f8ff;}#sk-d9c9c102-caf7-4bfc-bd35-a3e999c9a9ab input.sk-toggleable__control:checked~div.sk-toggleable__content {max-height: 200px;max-width: 100%;overflow: auto;}#sk-d9c9c102-caf7-4bfc-bd35-a3e999c9a9ab input.sk-toggleable__control:checked~label.sk-toggleable__label-arrow:before {content: \"▾\";}#sk-d9c9c102-caf7-4bfc-bd35-a3e999c9a9ab div.sk-estimator input.sk-toggleable__control:checked~label.sk-toggleable__label {background-color: #d4ebff;}#sk-d9c9c102-caf7-4bfc-bd35-a3e999c9a9ab div.sk-label input.sk-toggleable__control:checked~label.sk-toggleable__label {background-color: #d4ebff;}#sk-d9c9c102-caf7-4bfc-bd35-a3e999c9a9ab input.sk-hidden--visually {border: 0;clip: rect(1px 1px 1px 1px);clip: rect(1px, 1px, 1px, 1px);height: 1px;margin: -1px;overflow: hidden;padding: 0;position: absolute;width: 1px;}#sk-d9c9c102-caf7-4bfc-bd35-a3e999c9a9ab div.sk-estimator {font-family: monospace;background-color: #f0f8ff;border: 1px dotted black;border-radius: 0.25em;box-sizing: border-box;margin-bottom: 0.5em;}#sk-d9c9c102-caf7-4bfc-bd35-a3e999c9a9ab div.sk-estimator:hover {background-color: #d4ebff;}#sk-d9c9c102-caf7-4bfc-bd35-a3e999c9a9ab div.sk-parallel-item::after {content: \"\";width: 100%;border-bottom: 1px solid gray;flex-grow: 1;}#sk-d9c9c102-caf7-4bfc-bd35-a3e999c9a9ab div.sk-label:hover label.sk-toggleable__label {background-color: #d4ebff;}#sk-d9c9c102-caf7-4bfc-bd35-a3e999c9a9ab div.sk-serial::before {content: \"\";position: absolute;border-left: 1px solid gray;box-sizing: border-box;top: 2em;bottom: 0;left: 50%;}#sk-d9c9c102-caf7-4bfc-bd35-a3e999c9a9ab div.sk-serial {display: flex;flex-direction: column;align-items: center;background-color: white;padding-right: 0.2em;padding-left: 0.2em;}#sk-d9c9c102-caf7-4bfc-bd35-a3e999c9a9ab div.sk-item {z-index: 1;}#sk-d9c9c102-caf7-4bfc-bd35-a3e999c9a9ab div.sk-parallel {display: flex;align-items: stretch;justify-content: center;background-color: white;}#sk-d9c9c102-caf7-4bfc-bd35-a3e999c9a9ab div.sk-parallel::before {content: \"\";position: absolute;border-left: 1px solid gray;box-sizing: border-box;top: 2em;bottom: 0;left: 50%;}#sk-d9c9c102-caf7-4bfc-bd35-a3e999c9a9ab div.sk-parallel-item {display: flex;flex-direction: column;position: relative;background-color: white;}#sk-d9c9c102-caf7-4bfc-bd35-a3e999c9a9ab div.sk-parallel-item:first-child::after {align-self: flex-end;width: 50%;}#sk-d9c9c102-caf7-4bfc-bd35-a3e999c9a9ab div.sk-parallel-item:last-child::after {align-self: flex-start;width: 50%;}#sk-d9c9c102-caf7-4bfc-bd35-a3e999c9a9ab div.sk-parallel-item:only-child::after {width: 0;}#sk-d9c9c102-caf7-4bfc-bd35-a3e999c9a9ab div.sk-dashed-wrapped {border: 1px dashed gray;margin: 0 0.4em 0.5em 0.4em;box-sizing: border-box;padding-bottom: 0.4em;background-color: white;position: relative;}#sk-d9c9c102-caf7-4bfc-bd35-a3e999c9a9ab div.sk-label label {font-family: monospace;font-weight: bold;background-color: white;display: inline-block;line-height: 1.2em;}#sk-d9c9c102-caf7-4bfc-bd35-a3e999c9a9ab div.sk-label-container {position: relative;z-index: 2;text-align: center;}#sk-d9c9c102-caf7-4bfc-bd35-a3e999c9a9ab div.sk-container {/* jupyter's `normalize.less` sets `[hidden] { display: none; }` but bootstrap.min.css set `[hidden] { display: none !important; }` so we also need the `!important` here to be able to override the default hidden behavior on the sphinx rendered scikit-learn.org. See: https://github.com/scikit-learn/scikit-learn/issues/21755 */display: inline-block !important;position: relative;}#sk-d9c9c102-caf7-4bfc-bd35-a3e999c9a9ab div.sk-text-repr-fallback {display: none;}</style><div id=\"sk-d9c9c102-caf7-4bfc-bd35-a3e999c9a9ab\" class=\"sk-top-container\"><div class=\"sk-text-repr-fallback\"><pre>ColumnTransformer(transformers=[(&#x27;pipeline-1&#x27;,\n",
              "                                 Pipeline(steps=[(&#x27;simpleimputer&#x27;,\n",
              "                                                  SimpleImputer()),\n",
              "                                                 (&#x27;standardscaler&#x27;,\n",
              "                                                  StandardScaler())]),\n",
              "                                 &lt;sklearn.compose._column_transformer.make_column_selector object at 0x7f05519b2950&gt;),\n",
              "                                (&#x27;pipeline-2&#x27;,\n",
              "                                 Pipeline(steps=[(&#x27;simpleimputer&#x27;,\n",
              "                                                  SimpleImputer(strategy=&#x27;most_frequent&#x27;)),\n",
              "                                                 (&#x27;onehotencoder&#x27;,\n",
              "                                                  OneHotEncoder(handle_unknown=&#x27;ignore&#x27;,\n",
              "                                                                sparse=False))]),\n",
              "                                 &lt;sklearn.compose._column_transformer.make_column_selector object at 0x7f05519b2e90&gt;)])</pre><b>Please rerun this cell to show the HTML repr or trust the notebook.</b></div><div class=\"sk-container\" hidden><div class=\"sk-item sk-dashed-wrapped\"><div class=\"sk-label-container\"><div class=\"sk-label sk-toggleable\"><input class=\"sk-toggleable__control sk-hidden--visually\" id=\"a96da33e-22a4-4d6a-af62-97509202f706\" type=\"checkbox\" ><label for=\"a96da33e-22a4-4d6a-af62-97509202f706\" class=\"sk-toggleable__label sk-toggleable__label-arrow\">ColumnTransformer</label><div class=\"sk-toggleable__content\"><pre>ColumnTransformer(transformers=[(&#x27;pipeline-1&#x27;,\n",
              "                                 Pipeline(steps=[(&#x27;simpleimputer&#x27;,\n",
              "                                                  SimpleImputer()),\n",
              "                                                 (&#x27;standardscaler&#x27;,\n",
              "                                                  StandardScaler())]),\n",
              "                                 &lt;sklearn.compose._column_transformer.make_column_selector object at 0x7f05519b2950&gt;),\n",
              "                                (&#x27;pipeline-2&#x27;,\n",
              "                                 Pipeline(steps=[(&#x27;simpleimputer&#x27;,\n",
              "                                                  SimpleImputer(strategy=&#x27;most_frequent&#x27;)),\n",
              "                                                 (&#x27;onehotencoder&#x27;,\n",
              "                                                  OneHotEncoder(handle_unknown=&#x27;ignore&#x27;,\n",
              "                                                                sparse=False))]),\n",
              "                                 &lt;sklearn.compose._column_transformer.make_column_selector object at 0x7f05519b2e90&gt;)])</pre></div></div></div><div class=\"sk-parallel\"><div class=\"sk-parallel-item\"><div class=\"sk-item\"><div class=\"sk-label-container\"><div class=\"sk-label sk-toggleable\"><input class=\"sk-toggleable__control sk-hidden--visually\" id=\"7f7a53d3-11bd-4d3f-8ab7-823cd20a0257\" type=\"checkbox\" ><label for=\"7f7a53d3-11bd-4d3f-8ab7-823cd20a0257\" class=\"sk-toggleable__label sk-toggleable__label-arrow\">pipeline-1</label><div class=\"sk-toggleable__content\"><pre>&lt;sklearn.compose._column_transformer.make_column_selector object at 0x7f05519b2950&gt;</pre></div></div></div><div class=\"sk-serial\"><div class=\"sk-item\"><div class=\"sk-serial\"><div class=\"sk-item\"><div class=\"sk-estimator sk-toggleable\"><input class=\"sk-toggleable__control sk-hidden--visually\" id=\"ae8a6d69-5f1c-4119-bff0-552088f1edcf\" type=\"checkbox\" ><label for=\"ae8a6d69-5f1c-4119-bff0-552088f1edcf\" class=\"sk-toggleable__label sk-toggleable__label-arrow\">SimpleImputer</label><div class=\"sk-toggleable__content\"><pre>SimpleImputer()</pre></div></div></div><div class=\"sk-item\"><div class=\"sk-estimator sk-toggleable\"><input class=\"sk-toggleable__control sk-hidden--visually\" id=\"defc0948-64b0-456c-93fd-e4e6a6d778d9\" type=\"checkbox\" ><label for=\"defc0948-64b0-456c-93fd-e4e6a6d778d9\" class=\"sk-toggleable__label sk-toggleable__label-arrow\">StandardScaler</label><div class=\"sk-toggleable__content\"><pre>StandardScaler()</pre></div></div></div></div></div></div></div></div><div class=\"sk-parallel-item\"><div class=\"sk-item\"><div class=\"sk-label-container\"><div class=\"sk-label sk-toggleable\"><input class=\"sk-toggleable__control sk-hidden--visually\" id=\"7793922c-7cf3-40f9-a8f4-d8feee29f4f3\" type=\"checkbox\" ><label for=\"7793922c-7cf3-40f9-a8f4-d8feee29f4f3\" class=\"sk-toggleable__label sk-toggleable__label-arrow\">pipeline-2</label><div class=\"sk-toggleable__content\"><pre>&lt;sklearn.compose._column_transformer.make_column_selector object at 0x7f05519b2e90&gt;</pre></div></div></div><div class=\"sk-serial\"><div class=\"sk-item\"><div class=\"sk-serial\"><div class=\"sk-item\"><div class=\"sk-estimator sk-toggleable\"><input class=\"sk-toggleable__control sk-hidden--visually\" id=\"ce39d8bf-4fdb-4dd1-8359-aa5244bfa800\" type=\"checkbox\" ><label for=\"ce39d8bf-4fdb-4dd1-8359-aa5244bfa800\" class=\"sk-toggleable__label sk-toggleable__label-arrow\">SimpleImputer</label><div class=\"sk-toggleable__content\"><pre>SimpleImputer(strategy=&#x27;most_frequent&#x27;)</pre></div></div></div><div class=\"sk-item\"><div class=\"sk-estimator sk-toggleable\"><input class=\"sk-toggleable__control sk-hidden--visually\" id=\"16c3ddf1-0abf-423d-b7c8-b43086774798\" type=\"checkbox\" ><label for=\"16c3ddf1-0abf-423d-b7c8-b43086774798\" class=\"sk-toggleable__label sk-toggleable__label-arrow\">OneHotEncoder</label><div class=\"sk-toggleable__content\"><pre>OneHotEncoder(handle_unknown=&#x27;ignore&#x27;, sparse=False)</pre></div></div></div></div></div></div></div></div></div></div></div></div>"
            ]
          },
          "metadata": {},
          "execution_count": 362
        }
      ],
      "source": [
        "# Tuples para Column Transformer\n",
        "num_tuple = (numeric_pipe, num_selector)\n",
        "cat_tuple = (categorical_pipe, cat_selector)\n",
        "nominal_tuple = (nominal_pipe, cat_selector)\n",
        "# ColumnTransformer\n",
        "preprocessor = make_column_transformer(num_tuple, cat_tuple)\n",
        "preprocessor"
      ]
    },
    {
      "cell_type": "markdown",
      "metadata": {
        "id": "B5DqNbMbet1D"
      },
      "source": [
        "Data transformer"
      ]
    },
    {
      "cell_type": "code",
      "execution_count": 363,
      "metadata": {
        "id": "bCNFh54jeu4C",
        "colab": {
          "base_uri": "https://localhost:8080/",
          "height": 152
        },
        "outputId": "2a972cf5-8b88-46b3-e4f1-527add31a49d"
      },
      "outputs": [
        {
          "output_type": "execute_result",
          "data": {
            "text/plain": [
              "ColumnTransformer(transformers=[('pipeline-1',\n",
              "                                 Pipeline(steps=[('simpleimputer',\n",
              "                                                  SimpleImputer()),\n",
              "                                                 ('standardscaler',\n",
              "                                                  StandardScaler())]),\n",
              "                                 <sklearn.compose._column_transformer.make_column_selector object at 0x7f05519b2950>),\n",
              "                                ('pipeline-2',\n",
              "                                 Pipeline(steps=[('simpleimputer',\n",
              "                                                  SimpleImputer(strategy='most_frequent')),\n",
              "                                                 ('onehotencoder',\n",
              "                                                  OneHotEncoder(handle_unknown='ignore',\n",
              "                                                                sparse=False))]),\n",
              "                                 <sklearn.compose._column_transformer.make_column_selector object at 0x7f05519b2e90>)])"
            ],
            "text/html": [
              "<style>#sk-0c06aa66-b60c-47ad-b350-a8347e5e9f7e {color: black;background-color: white;}#sk-0c06aa66-b60c-47ad-b350-a8347e5e9f7e pre{padding: 0;}#sk-0c06aa66-b60c-47ad-b350-a8347e5e9f7e div.sk-toggleable {background-color: white;}#sk-0c06aa66-b60c-47ad-b350-a8347e5e9f7e label.sk-toggleable__label {cursor: pointer;display: block;width: 100%;margin-bottom: 0;padding: 0.3em;box-sizing: border-box;text-align: center;}#sk-0c06aa66-b60c-47ad-b350-a8347e5e9f7e label.sk-toggleable__label-arrow:before {content: \"▸\";float: left;margin-right: 0.25em;color: #696969;}#sk-0c06aa66-b60c-47ad-b350-a8347e5e9f7e label.sk-toggleable__label-arrow:hover:before {color: black;}#sk-0c06aa66-b60c-47ad-b350-a8347e5e9f7e div.sk-estimator:hover label.sk-toggleable__label-arrow:before {color: black;}#sk-0c06aa66-b60c-47ad-b350-a8347e5e9f7e div.sk-toggleable__content {max-height: 0;max-width: 0;overflow: hidden;text-align: left;background-color: #f0f8ff;}#sk-0c06aa66-b60c-47ad-b350-a8347e5e9f7e div.sk-toggleable__content pre {margin: 0.2em;color: black;border-radius: 0.25em;background-color: #f0f8ff;}#sk-0c06aa66-b60c-47ad-b350-a8347e5e9f7e input.sk-toggleable__control:checked~div.sk-toggleable__content {max-height: 200px;max-width: 100%;overflow: auto;}#sk-0c06aa66-b60c-47ad-b350-a8347e5e9f7e input.sk-toggleable__control:checked~label.sk-toggleable__label-arrow:before {content: \"▾\";}#sk-0c06aa66-b60c-47ad-b350-a8347e5e9f7e div.sk-estimator input.sk-toggleable__control:checked~label.sk-toggleable__label {background-color: #d4ebff;}#sk-0c06aa66-b60c-47ad-b350-a8347e5e9f7e div.sk-label input.sk-toggleable__control:checked~label.sk-toggleable__label {background-color: #d4ebff;}#sk-0c06aa66-b60c-47ad-b350-a8347e5e9f7e input.sk-hidden--visually {border: 0;clip: rect(1px 1px 1px 1px);clip: rect(1px, 1px, 1px, 1px);height: 1px;margin: -1px;overflow: hidden;padding: 0;position: absolute;width: 1px;}#sk-0c06aa66-b60c-47ad-b350-a8347e5e9f7e div.sk-estimator {font-family: monospace;background-color: #f0f8ff;border: 1px dotted black;border-radius: 0.25em;box-sizing: border-box;margin-bottom: 0.5em;}#sk-0c06aa66-b60c-47ad-b350-a8347e5e9f7e div.sk-estimator:hover {background-color: #d4ebff;}#sk-0c06aa66-b60c-47ad-b350-a8347e5e9f7e div.sk-parallel-item::after {content: \"\";width: 100%;border-bottom: 1px solid gray;flex-grow: 1;}#sk-0c06aa66-b60c-47ad-b350-a8347e5e9f7e div.sk-label:hover label.sk-toggleable__label {background-color: #d4ebff;}#sk-0c06aa66-b60c-47ad-b350-a8347e5e9f7e div.sk-serial::before {content: \"\";position: absolute;border-left: 1px solid gray;box-sizing: border-box;top: 2em;bottom: 0;left: 50%;}#sk-0c06aa66-b60c-47ad-b350-a8347e5e9f7e div.sk-serial {display: flex;flex-direction: column;align-items: center;background-color: white;padding-right: 0.2em;padding-left: 0.2em;}#sk-0c06aa66-b60c-47ad-b350-a8347e5e9f7e div.sk-item {z-index: 1;}#sk-0c06aa66-b60c-47ad-b350-a8347e5e9f7e div.sk-parallel {display: flex;align-items: stretch;justify-content: center;background-color: white;}#sk-0c06aa66-b60c-47ad-b350-a8347e5e9f7e div.sk-parallel::before {content: \"\";position: absolute;border-left: 1px solid gray;box-sizing: border-box;top: 2em;bottom: 0;left: 50%;}#sk-0c06aa66-b60c-47ad-b350-a8347e5e9f7e div.sk-parallel-item {display: flex;flex-direction: column;position: relative;background-color: white;}#sk-0c06aa66-b60c-47ad-b350-a8347e5e9f7e div.sk-parallel-item:first-child::after {align-self: flex-end;width: 50%;}#sk-0c06aa66-b60c-47ad-b350-a8347e5e9f7e div.sk-parallel-item:last-child::after {align-self: flex-start;width: 50%;}#sk-0c06aa66-b60c-47ad-b350-a8347e5e9f7e div.sk-parallel-item:only-child::after {width: 0;}#sk-0c06aa66-b60c-47ad-b350-a8347e5e9f7e div.sk-dashed-wrapped {border: 1px dashed gray;margin: 0 0.4em 0.5em 0.4em;box-sizing: border-box;padding-bottom: 0.4em;background-color: white;position: relative;}#sk-0c06aa66-b60c-47ad-b350-a8347e5e9f7e div.sk-label label {font-family: monospace;font-weight: bold;background-color: white;display: inline-block;line-height: 1.2em;}#sk-0c06aa66-b60c-47ad-b350-a8347e5e9f7e div.sk-label-container {position: relative;z-index: 2;text-align: center;}#sk-0c06aa66-b60c-47ad-b350-a8347e5e9f7e div.sk-container {/* jupyter's `normalize.less` sets `[hidden] { display: none; }` but bootstrap.min.css set `[hidden] { display: none !important; }` so we also need the `!important` here to be able to override the default hidden behavior on the sphinx rendered scikit-learn.org. See: https://github.com/scikit-learn/scikit-learn/issues/21755 */display: inline-block !important;position: relative;}#sk-0c06aa66-b60c-47ad-b350-a8347e5e9f7e div.sk-text-repr-fallback {display: none;}</style><div id=\"sk-0c06aa66-b60c-47ad-b350-a8347e5e9f7e\" class=\"sk-top-container\"><div class=\"sk-text-repr-fallback\"><pre>ColumnTransformer(transformers=[(&#x27;pipeline-1&#x27;,\n",
              "                                 Pipeline(steps=[(&#x27;simpleimputer&#x27;,\n",
              "                                                  SimpleImputer()),\n",
              "                                                 (&#x27;standardscaler&#x27;,\n",
              "                                                  StandardScaler())]),\n",
              "                                 &lt;sklearn.compose._column_transformer.make_column_selector object at 0x7f05519b2950&gt;),\n",
              "                                (&#x27;pipeline-2&#x27;,\n",
              "                                 Pipeline(steps=[(&#x27;simpleimputer&#x27;,\n",
              "                                                  SimpleImputer(strategy=&#x27;most_frequent&#x27;)),\n",
              "                                                 (&#x27;onehotencoder&#x27;,\n",
              "                                                  OneHotEncoder(handle_unknown=&#x27;ignore&#x27;,\n",
              "                                                                sparse=False))]),\n",
              "                                 &lt;sklearn.compose._column_transformer.make_column_selector object at 0x7f05519b2e90&gt;)])</pre><b>Please rerun this cell to show the HTML repr or trust the notebook.</b></div><div class=\"sk-container\" hidden><div class=\"sk-item sk-dashed-wrapped\"><div class=\"sk-label-container\"><div class=\"sk-label sk-toggleable\"><input class=\"sk-toggleable__control sk-hidden--visually\" id=\"f98d4287-b430-4f83-9a61-45b2f9fcaea4\" type=\"checkbox\" ><label for=\"f98d4287-b430-4f83-9a61-45b2f9fcaea4\" class=\"sk-toggleable__label sk-toggleable__label-arrow\">ColumnTransformer</label><div class=\"sk-toggleable__content\"><pre>ColumnTransformer(transformers=[(&#x27;pipeline-1&#x27;,\n",
              "                                 Pipeline(steps=[(&#x27;simpleimputer&#x27;,\n",
              "                                                  SimpleImputer()),\n",
              "                                                 (&#x27;standardscaler&#x27;,\n",
              "                                                  StandardScaler())]),\n",
              "                                 &lt;sklearn.compose._column_transformer.make_column_selector object at 0x7f05519b2950&gt;),\n",
              "                                (&#x27;pipeline-2&#x27;,\n",
              "                                 Pipeline(steps=[(&#x27;simpleimputer&#x27;,\n",
              "                                                  SimpleImputer(strategy=&#x27;most_frequent&#x27;)),\n",
              "                                                 (&#x27;onehotencoder&#x27;,\n",
              "                                                  OneHotEncoder(handle_unknown=&#x27;ignore&#x27;,\n",
              "                                                                sparse=False))]),\n",
              "                                 &lt;sklearn.compose._column_transformer.make_column_selector object at 0x7f05519b2e90&gt;)])</pre></div></div></div><div class=\"sk-parallel\"><div class=\"sk-parallel-item\"><div class=\"sk-item\"><div class=\"sk-label-container\"><div class=\"sk-label sk-toggleable\"><input class=\"sk-toggleable__control sk-hidden--visually\" id=\"2e07f1e4-97e6-42fb-b536-b004e7b1adb2\" type=\"checkbox\" ><label for=\"2e07f1e4-97e6-42fb-b536-b004e7b1adb2\" class=\"sk-toggleable__label sk-toggleable__label-arrow\">pipeline-1</label><div class=\"sk-toggleable__content\"><pre>&lt;sklearn.compose._column_transformer.make_column_selector object at 0x7f05519b2950&gt;</pre></div></div></div><div class=\"sk-serial\"><div class=\"sk-item\"><div class=\"sk-serial\"><div class=\"sk-item\"><div class=\"sk-estimator sk-toggleable\"><input class=\"sk-toggleable__control sk-hidden--visually\" id=\"9aa4826f-5a0b-4212-ae11-49b5ff483529\" type=\"checkbox\" ><label for=\"9aa4826f-5a0b-4212-ae11-49b5ff483529\" class=\"sk-toggleable__label sk-toggleable__label-arrow\">SimpleImputer</label><div class=\"sk-toggleable__content\"><pre>SimpleImputer()</pre></div></div></div><div class=\"sk-item\"><div class=\"sk-estimator sk-toggleable\"><input class=\"sk-toggleable__control sk-hidden--visually\" id=\"39857045-5736-4021-92e1-d67d7fe875cb\" type=\"checkbox\" ><label for=\"39857045-5736-4021-92e1-d67d7fe875cb\" class=\"sk-toggleable__label sk-toggleable__label-arrow\">StandardScaler</label><div class=\"sk-toggleable__content\"><pre>StandardScaler()</pre></div></div></div></div></div></div></div></div><div class=\"sk-parallel-item\"><div class=\"sk-item\"><div class=\"sk-label-container\"><div class=\"sk-label sk-toggleable\"><input class=\"sk-toggleable__control sk-hidden--visually\" id=\"3d7d1979-dd5e-4d99-ac42-0d48816983dc\" type=\"checkbox\" ><label for=\"3d7d1979-dd5e-4d99-ac42-0d48816983dc\" class=\"sk-toggleable__label sk-toggleable__label-arrow\">pipeline-2</label><div class=\"sk-toggleable__content\"><pre>&lt;sklearn.compose._column_transformer.make_column_selector object at 0x7f05519b2e90&gt;</pre></div></div></div><div class=\"sk-serial\"><div class=\"sk-item\"><div class=\"sk-serial\"><div class=\"sk-item\"><div class=\"sk-estimator sk-toggleable\"><input class=\"sk-toggleable__control sk-hidden--visually\" id=\"5fd07713-c14d-4df0-842d-e8a26f0e1929\" type=\"checkbox\" ><label for=\"5fd07713-c14d-4df0-842d-e8a26f0e1929\" class=\"sk-toggleable__label sk-toggleable__label-arrow\">SimpleImputer</label><div class=\"sk-toggleable__content\"><pre>SimpleImputer(strategy=&#x27;most_frequent&#x27;)</pre></div></div></div><div class=\"sk-item\"><div class=\"sk-estimator sk-toggleable\"><input class=\"sk-toggleable__control sk-hidden--visually\" id=\"05267ae0-bbb8-409c-9b0b-8b587d2394ee\" type=\"checkbox\" ><label for=\"05267ae0-bbb8-409c-9b0b-8b587d2394ee\" class=\"sk-toggleable__label sk-toggleable__label-arrow\">OneHotEncoder</label><div class=\"sk-toggleable__content\"><pre>OneHotEncoder(handle_unknown=&#x27;ignore&#x27;, sparse=False)</pre></div></div></div></div></div></div></div></div></div></div></div></div>"
            ]
          },
          "metadata": {},
          "execution_count": 363
        }
      ],
      "source": [
        "preprocessor.fit(X_train)\n"
      ]
    },
    {
      "cell_type": "markdown",
      "metadata": {
        "id": "Akjkg5IxfezL"
      },
      "source": [
        "Wrap the 2 transformers inside ColumnTransformer. We will use this adjusted ColumnTransformer to transform our training and test data sets."
      ]
    },
    {
      "cell_type": "code",
      "execution_count": 364,
      "metadata": {
        "id": "aE8uAX7pfHx_"
      },
      "outputs": [],
      "source": [
        "X_train_processed = preprocessor.transform(X_train)\n",
        "X_test_processed = preprocessor.transform(X_test)"
      ]
    },
    {
      "cell_type": "code",
      "execution_count": 365,
      "metadata": {
        "id": "Os_GsWMafW10",
        "colab": {
          "base_uri": "https://localhost:8080/"
        },
        "outputId": "f17b3994-672a-458b-b1fb-a5bf7fee08dc"
      },
      "outputs": [
        {
          "output_type": "stream",
          "name": "stdout",
          "text": [
            "0 missing values in training data\n",
            "0 missing values in testing data\n",
            "\n",
            "\n",
            "All data in X_train_processed are float64\n",
            "All data in X_test_processed are float64\n",
            "\n",
            "\n",
            "shape of data is (75365, 249)\n",
            "\n",
            "\n"
          ]
        },
        {
          "output_type": "execute_result",
          "data": {
            "text/plain": [
              "array([[ 0.2770857 ,  0.84576573,  0.26496842, ...,  0.        ,\n",
              "         1.        ,  0.        ],\n",
              "       [-0.16920319, -0.20706745, -0.95172071, ...,  0.        ,\n",
              "         1.        ,  0.        ],\n",
              "       [ 0.15200313, -1.13288703,  1.30784482, ...,  0.        ,\n",
              "         0.        ,  0.        ],\n",
              "       ...,\n",
              "       [-0.59992386,  3.62444185,  0.61259389, ...,  0.        ,\n",
              "         1.        ,  0.        ],\n",
              "       [-0.21805518, -0.1123145 , -1.47315891, ...,  0.        ,\n",
              "         0.        ,  0.        ],\n",
              "       [-0.28480167,  0.03377143, -0.77790798, ...,  0.        ,\n",
              "         0.        ,  0.        ]])"
            ]
          },
          "metadata": {},
          "execution_count": 365
        }
      ],
      "source": [
        "print(np.isnan(X_train_processed).sum().sum(), 'missing values in training data')\n",
        "print(np.isnan(X_test_processed).sum().sum(), 'missing values in testing data')\n",
        "print('\\n')\n",
        "print('All data in X_train_processed are', X_train_processed.dtype)\n",
        "print('All data in X_test_processed are', X_test_processed.dtype)\n",
        "print('\\n')\n",
        "print('shape of data is', X_train_processed.shape)\n",
        "print('\\n')\n",
        "X_train_processed"
      ]
    },
    {
      "cell_type": "markdown",
      "source": [
        "# **1.Linear Regression**"
      ],
      "metadata": {
        "id": "9kDG0-ZHOm3H"
      }
    },
    {
      "cell_type": "markdown",
      "metadata": {
        "id": "5hBoiXU1gaHx"
      },
      "source": [
        "Import the regression model, I use it as first option because of my variable target is numeric"
      ]
    },
    {
      "cell_type": "code",
      "execution_count": 366,
      "metadata": {
        "id": "UF2a3K2-fW4X"
      },
      "outputs": [],
      "source": [
        "from sklearn.linear_model import LinearRegression"
      ]
    },
    {
      "cell_type": "markdown",
      "metadata": {
        "id": "T5JVT9KYgvFt"
      },
      "source": [
        "Instantiate the model"
      ]
    },
    {
      "cell_type": "code",
      "execution_count": 367,
      "metadata": {
        "id": "pQcm0sEhgwZl"
      },
      "outputs": [],
      "source": [
        "regression = LinearRegression()"
      ]
    },
    {
      "cell_type": "markdown",
      "metadata": {
        "id": "qUNfH2BEg34e"
      },
      "source": [
        "Train the model on the training data."
      ]
    },
    {
      "cell_type": "code",
      "execution_count": 368,
      "metadata": {
        "id": "Yb4eT6Mzg4UD",
        "colab": {
          "base_uri": "https://localhost:8080/",
          "height": 75
        },
        "outputId": "2827243e-ff17-47de-bb4f-9b3dc9374229"
      },
      "outputs": [
        {
          "output_type": "execute_result",
          "data": {
            "text/plain": [
              "LinearRegression()"
            ],
            "text/html": [
              "<style>#sk-0bbed87d-293e-4f41-a03b-044214fc26f5 {color: black;background-color: white;}#sk-0bbed87d-293e-4f41-a03b-044214fc26f5 pre{padding: 0;}#sk-0bbed87d-293e-4f41-a03b-044214fc26f5 div.sk-toggleable {background-color: white;}#sk-0bbed87d-293e-4f41-a03b-044214fc26f5 label.sk-toggleable__label {cursor: pointer;display: block;width: 100%;margin-bottom: 0;padding: 0.3em;box-sizing: border-box;text-align: center;}#sk-0bbed87d-293e-4f41-a03b-044214fc26f5 label.sk-toggleable__label-arrow:before {content: \"▸\";float: left;margin-right: 0.25em;color: #696969;}#sk-0bbed87d-293e-4f41-a03b-044214fc26f5 label.sk-toggleable__label-arrow:hover:before {color: black;}#sk-0bbed87d-293e-4f41-a03b-044214fc26f5 div.sk-estimator:hover label.sk-toggleable__label-arrow:before {color: black;}#sk-0bbed87d-293e-4f41-a03b-044214fc26f5 div.sk-toggleable__content {max-height: 0;max-width: 0;overflow: hidden;text-align: left;background-color: #f0f8ff;}#sk-0bbed87d-293e-4f41-a03b-044214fc26f5 div.sk-toggleable__content pre {margin: 0.2em;color: black;border-radius: 0.25em;background-color: #f0f8ff;}#sk-0bbed87d-293e-4f41-a03b-044214fc26f5 input.sk-toggleable__control:checked~div.sk-toggleable__content {max-height: 200px;max-width: 100%;overflow: auto;}#sk-0bbed87d-293e-4f41-a03b-044214fc26f5 input.sk-toggleable__control:checked~label.sk-toggleable__label-arrow:before {content: \"▾\";}#sk-0bbed87d-293e-4f41-a03b-044214fc26f5 div.sk-estimator input.sk-toggleable__control:checked~label.sk-toggleable__label {background-color: #d4ebff;}#sk-0bbed87d-293e-4f41-a03b-044214fc26f5 div.sk-label input.sk-toggleable__control:checked~label.sk-toggleable__label {background-color: #d4ebff;}#sk-0bbed87d-293e-4f41-a03b-044214fc26f5 input.sk-hidden--visually {border: 0;clip: rect(1px 1px 1px 1px);clip: rect(1px, 1px, 1px, 1px);height: 1px;margin: -1px;overflow: hidden;padding: 0;position: absolute;width: 1px;}#sk-0bbed87d-293e-4f41-a03b-044214fc26f5 div.sk-estimator {font-family: monospace;background-color: #f0f8ff;border: 1px dotted black;border-radius: 0.25em;box-sizing: border-box;margin-bottom: 0.5em;}#sk-0bbed87d-293e-4f41-a03b-044214fc26f5 div.sk-estimator:hover {background-color: #d4ebff;}#sk-0bbed87d-293e-4f41-a03b-044214fc26f5 div.sk-parallel-item::after {content: \"\";width: 100%;border-bottom: 1px solid gray;flex-grow: 1;}#sk-0bbed87d-293e-4f41-a03b-044214fc26f5 div.sk-label:hover label.sk-toggleable__label {background-color: #d4ebff;}#sk-0bbed87d-293e-4f41-a03b-044214fc26f5 div.sk-serial::before {content: \"\";position: absolute;border-left: 1px solid gray;box-sizing: border-box;top: 2em;bottom: 0;left: 50%;}#sk-0bbed87d-293e-4f41-a03b-044214fc26f5 div.sk-serial {display: flex;flex-direction: column;align-items: center;background-color: white;padding-right: 0.2em;padding-left: 0.2em;}#sk-0bbed87d-293e-4f41-a03b-044214fc26f5 div.sk-item {z-index: 1;}#sk-0bbed87d-293e-4f41-a03b-044214fc26f5 div.sk-parallel {display: flex;align-items: stretch;justify-content: center;background-color: white;}#sk-0bbed87d-293e-4f41-a03b-044214fc26f5 div.sk-parallel::before {content: \"\";position: absolute;border-left: 1px solid gray;box-sizing: border-box;top: 2em;bottom: 0;left: 50%;}#sk-0bbed87d-293e-4f41-a03b-044214fc26f5 div.sk-parallel-item {display: flex;flex-direction: column;position: relative;background-color: white;}#sk-0bbed87d-293e-4f41-a03b-044214fc26f5 div.sk-parallel-item:first-child::after {align-self: flex-end;width: 50%;}#sk-0bbed87d-293e-4f41-a03b-044214fc26f5 div.sk-parallel-item:last-child::after {align-self: flex-start;width: 50%;}#sk-0bbed87d-293e-4f41-a03b-044214fc26f5 div.sk-parallel-item:only-child::after {width: 0;}#sk-0bbed87d-293e-4f41-a03b-044214fc26f5 div.sk-dashed-wrapped {border: 1px dashed gray;margin: 0 0.4em 0.5em 0.4em;box-sizing: border-box;padding-bottom: 0.4em;background-color: white;position: relative;}#sk-0bbed87d-293e-4f41-a03b-044214fc26f5 div.sk-label label {font-family: monospace;font-weight: bold;background-color: white;display: inline-block;line-height: 1.2em;}#sk-0bbed87d-293e-4f41-a03b-044214fc26f5 div.sk-label-container {position: relative;z-index: 2;text-align: center;}#sk-0bbed87d-293e-4f41-a03b-044214fc26f5 div.sk-container {/* jupyter's `normalize.less` sets `[hidden] { display: none; }` but bootstrap.min.css set `[hidden] { display: none !important; }` so we also need the `!important` here to be able to override the default hidden behavior on the sphinx rendered scikit-learn.org. See: https://github.com/scikit-learn/scikit-learn/issues/21755 */display: inline-block !important;position: relative;}#sk-0bbed87d-293e-4f41-a03b-044214fc26f5 div.sk-text-repr-fallback {display: none;}</style><div id=\"sk-0bbed87d-293e-4f41-a03b-044214fc26f5\" class=\"sk-top-container\"><div class=\"sk-text-repr-fallback\"><pre>LinearRegression()</pre><b>Please rerun this cell to show the HTML repr or trust the notebook.</b></div><div class=\"sk-container\" hidden><div class=\"sk-item\"><div class=\"sk-estimator sk-toggleable\"><input class=\"sk-toggleable__control sk-hidden--visually\" id=\"68fe9d1b-58ce-4898-9fec-ab48f51106d0\" type=\"checkbox\" checked><label for=\"68fe9d1b-58ce-4898-9fec-ab48f51106d0\" class=\"sk-toggleable__label sk-toggleable__label-arrow\">LinearRegression</label><div class=\"sk-toggleable__content\"><pre>LinearRegression()</pre></div></div></div></div></div>"
            ]
          },
          "metadata": {},
          "execution_count": 368
        }
      ],
      "source": [
        "regression.fit(X_train_processed,y_train)"
      ]
    },
    {
      "cell_type": "markdown",
      "metadata": {
        "id": "0hAuup9ohVd9"
      },
      "source": [
        "Score the Model"
      ]
    },
    {
      "cell_type": "code",
      "execution_count": 369,
      "metadata": {
        "id": "mzma5SpZhWCa",
        "colab": {
          "base_uri": "https://localhost:8080/"
        },
        "outputId": "b5ad205f-2ad4-443f-c96d-62ab86fde2b9"
      },
      "outputs": [
        {
          "output_type": "stream",
          "name": "stdout",
          "text": [
            "0.995610878495809\n"
          ]
        }
      ],
      "source": [
        "train_score = regression.score(X_train_processed, y_train)\n",
        "print(train_score)"
      ]
    },
    {
      "cell_type": "code",
      "execution_count": 370,
      "metadata": {
        "id": "i4GhCGzqhjIK",
        "colab": {
          "base_uri": "https://localhost:8080/"
        },
        "outputId": "1366d9c4-d622-4743-b029-9030a3ea425f"
      },
      "outputs": [
        {
          "output_type": "stream",
          "name": "stdout",
          "text": [
            "-5538047648509.154\n"
          ]
        }
      ],
      "source": [
        "test_score = regression.score(X_test_processed, y_test)\n",
        "print(test_score)"
      ]
    },
    {
      "cell_type": "code",
      "execution_count": 371,
      "metadata": {
        "id": "yuh6TxG3ow7i"
      },
      "outputs": [],
      "source": [
        "train_preds = regression.predict(X_train_processed)\n",
        "test_preds = regression.predict(X_test_processed)"
      ]
    },
    {
      "cell_type": "code",
      "execution_count": 372,
      "metadata": {
        "id": "rHFLB_KIAqUb",
        "colab": {
          "base_uri": "https://localhost:8080/"
        },
        "outputId": "3e9d0c5d-6d37-49f1-bcbe-a1e7a002fb3c"
      },
      "outputs": [
        {
          "output_type": "stream",
          "name": "stdout",
          "text": [
            "[ 431.68774414  599.71435547 1144.71386719 ...  655.50878906  290.921875\n",
            "  450.42822266]\n"
          ]
        }
      ],
      "source": [
        "print(np.array(test_preds))"
      ]
    },
    {
      "cell_type": "code",
      "execution_count": 373,
      "metadata": {
        "id": "rO8BnRA1AZv-",
        "colab": {
          "base_uri": "https://localhost:8080/"
        },
        "outputId": "5b12629b-909a-432e-945e-4510971a733a"
      },
      "outputs": [
        {
          "output_type": "stream",
          "name": "stdout",
          "text": [
            "[ 432.  602. 1145. ...  655.  289.  448.]\n"
          ]
        }
      ],
      "source": [
        "print(np.array(y_test))"
      ]
    },
    {
      "cell_type": "markdown",
      "metadata": {
        "id": "MoCPI0EgSTZM"
      },
      "source": [
        "# **1.1Regression Metrics**"
      ]
    },
    {
      "cell_type": "code",
      "execution_count": 374,
      "metadata": {
        "id": "wU2QYIcKSic8"
      },
      "outputs": [],
      "source": [
        "import numpy as np\n",
        "from sklearn.metrics import r2_score\n",
        "from sklearn.metrics import mean_absolute_error\n",
        "from sklearn.metrics import mean_squared_error"
      ]
    },
    {
      "cell_type": "code",
      "execution_count": 375,
      "metadata": {
        "id": "w-6y8Yo_SW1Z"
      },
      "outputs": [],
      "source": [
        "mse_train = mean_squared_error(y_train, train_preds)\n",
        "mse_test = mean_squared_error(y_test, test_preds)"
      ]
    },
    {
      "cell_type": "code",
      "execution_count": 376,
      "metadata": {
        "id": "3M7EAl4zS1K5",
        "colab": {
          "base_uri": "https://localhost:8080/"
        },
        "outputId": "7f3150e1-c01b-4c64-f1da-7a9d0d6bf429"
      },
      "outputs": [
        {
          "output_type": "execute_result",
          "data": {
            "text/plain": [
              "6.06790122871343e+17"
            ]
          },
          "metadata": {},
          "execution_count": 376
        }
      ],
      "source": [
        "mse_train \n",
        "mse_test "
      ]
    },
    {
      "cell_type": "code",
      "execution_count": 377,
      "metadata": {
        "id": "ytYkqhnIS4rY"
      },
      "outputs": [],
      "source": [
        "rmse_train = np.sqrt(mean_squared_error(y_train, train_preds))\n",
        "rmse_test = np.sqrt(mean_squared_error(y_test, test_preds))"
      ]
    },
    {
      "cell_type": "code",
      "execution_count": 378,
      "metadata": {
        "id": "3F1STe0nS_TT",
        "colab": {
          "base_uri": "https://localhost:8080/"
        },
        "outputId": "fac66c79-dd40-4598-89c6-f9b9ce410f37"
      },
      "outputs": [
        {
          "output_type": "execute_result",
          "data": {
            "text/plain": [
              "778967343.9055985"
            ]
          },
          "metadata": {},
          "execution_count": 378
        }
      ],
      "source": [
        "rmse_train \n",
        "rmse_test"
      ]
    },
    {
      "cell_type": "markdown",
      "metadata": {
        "id": "FOBUdkN6TWxb"
      },
      "source": [
        "# **2.Regression Tree**"
      ]
    },
    {
      "cell_type": "markdown",
      "metadata": {
        "id": "12Fku6qv0a-H"
      },
      "source": [
        "Import the model of decision tree I want to use"
      ]
    },
    {
      "cell_type": "code",
      "execution_count": 379,
      "metadata": {
        "id": "m9uB6GdvTgGi"
      },
      "outputs": [],
      "source": [
        "from sklearn.tree import DecisionTreeRegressor"
      ]
    },
    {
      "cell_type": "markdown",
      "metadata": {
        "id": "oqWQsn1G04_d"
      },
      "source": [
        "Instantiate the model"
      ]
    },
    {
      "cell_type": "code",
      "execution_count": 380,
      "metadata": {
        "id": "Nx7BGW3L05VY"
      },
      "outputs": [],
      "source": [
        "dec_tree = DecisionTreeRegressor(random_state = 42)"
      ]
    },
    {
      "cell_type": "markdown",
      "metadata": {
        "id": "i0-X0Rpu0_Xk"
      },
      "source": [
        "Fit the model using the training data."
      ]
    },
    {
      "cell_type": "code",
      "execution_count": 381,
      "metadata": {
        "id": "lmFrZRV-1FQX",
        "colab": {
          "base_uri": "https://localhost:8080/",
          "height": 75
        },
        "outputId": "940700a7-6bb6-4416-a78e-a8f48d953567"
      },
      "outputs": [
        {
          "output_type": "execute_result",
          "data": {
            "text/plain": [
              "DecisionTreeRegressor(random_state=42)"
            ],
            "text/html": [
              "<style>#sk-ea5651f9-d374-4c6f-b05a-dfa3acc01c8e {color: black;background-color: white;}#sk-ea5651f9-d374-4c6f-b05a-dfa3acc01c8e pre{padding: 0;}#sk-ea5651f9-d374-4c6f-b05a-dfa3acc01c8e div.sk-toggleable {background-color: white;}#sk-ea5651f9-d374-4c6f-b05a-dfa3acc01c8e label.sk-toggleable__label {cursor: pointer;display: block;width: 100%;margin-bottom: 0;padding: 0.3em;box-sizing: border-box;text-align: center;}#sk-ea5651f9-d374-4c6f-b05a-dfa3acc01c8e label.sk-toggleable__label-arrow:before {content: \"▸\";float: left;margin-right: 0.25em;color: #696969;}#sk-ea5651f9-d374-4c6f-b05a-dfa3acc01c8e label.sk-toggleable__label-arrow:hover:before {color: black;}#sk-ea5651f9-d374-4c6f-b05a-dfa3acc01c8e div.sk-estimator:hover label.sk-toggleable__label-arrow:before {color: black;}#sk-ea5651f9-d374-4c6f-b05a-dfa3acc01c8e div.sk-toggleable__content {max-height: 0;max-width: 0;overflow: hidden;text-align: left;background-color: #f0f8ff;}#sk-ea5651f9-d374-4c6f-b05a-dfa3acc01c8e div.sk-toggleable__content pre {margin: 0.2em;color: black;border-radius: 0.25em;background-color: #f0f8ff;}#sk-ea5651f9-d374-4c6f-b05a-dfa3acc01c8e input.sk-toggleable__control:checked~div.sk-toggleable__content {max-height: 200px;max-width: 100%;overflow: auto;}#sk-ea5651f9-d374-4c6f-b05a-dfa3acc01c8e input.sk-toggleable__control:checked~label.sk-toggleable__label-arrow:before {content: \"▾\";}#sk-ea5651f9-d374-4c6f-b05a-dfa3acc01c8e div.sk-estimator input.sk-toggleable__control:checked~label.sk-toggleable__label {background-color: #d4ebff;}#sk-ea5651f9-d374-4c6f-b05a-dfa3acc01c8e div.sk-label input.sk-toggleable__control:checked~label.sk-toggleable__label {background-color: #d4ebff;}#sk-ea5651f9-d374-4c6f-b05a-dfa3acc01c8e input.sk-hidden--visually {border: 0;clip: rect(1px 1px 1px 1px);clip: rect(1px, 1px, 1px, 1px);height: 1px;margin: -1px;overflow: hidden;padding: 0;position: absolute;width: 1px;}#sk-ea5651f9-d374-4c6f-b05a-dfa3acc01c8e div.sk-estimator {font-family: monospace;background-color: #f0f8ff;border: 1px dotted black;border-radius: 0.25em;box-sizing: border-box;margin-bottom: 0.5em;}#sk-ea5651f9-d374-4c6f-b05a-dfa3acc01c8e div.sk-estimator:hover {background-color: #d4ebff;}#sk-ea5651f9-d374-4c6f-b05a-dfa3acc01c8e div.sk-parallel-item::after {content: \"\";width: 100%;border-bottom: 1px solid gray;flex-grow: 1;}#sk-ea5651f9-d374-4c6f-b05a-dfa3acc01c8e div.sk-label:hover label.sk-toggleable__label {background-color: #d4ebff;}#sk-ea5651f9-d374-4c6f-b05a-dfa3acc01c8e div.sk-serial::before {content: \"\";position: absolute;border-left: 1px solid gray;box-sizing: border-box;top: 2em;bottom: 0;left: 50%;}#sk-ea5651f9-d374-4c6f-b05a-dfa3acc01c8e div.sk-serial {display: flex;flex-direction: column;align-items: center;background-color: white;padding-right: 0.2em;padding-left: 0.2em;}#sk-ea5651f9-d374-4c6f-b05a-dfa3acc01c8e div.sk-item {z-index: 1;}#sk-ea5651f9-d374-4c6f-b05a-dfa3acc01c8e div.sk-parallel {display: flex;align-items: stretch;justify-content: center;background-color: white;}#sk-ea5651f9-d374-4c6f-b05a-dfa3acc01c8e div.sk-parallel::before {content: \"\";position: absolute;border-left: 1px solid gray;box-sizing: border-box;top: 2em;bottom: 0;left: 50%;}#sk-ea5651f9-d374-4c6f-b05a-dfa3acc01c8e div.sk-parallel-item {display: flex;flex-direction: column;position: relative;background-color: white;}#sk-ea5651f9-d374-4c6f-b05a-dfa3acc01c8e div.sk-parallel-item:first-child::after {align-self: flex-end;width: 50%;}#sk-ea5651f9-d374-4c6f-b05a-dfa3acc01c8e div.sk-parallel-item:last-child::after {align-self: flex-start;width: 50%;}#sk-ea5651f9-d374-4c6f-b05a-dfa3acc01c8e div.sk-parallel-item:only-child::after {width: 0;}#sk-ea5651f9-d374-4c6f-b05a-dfa3acc01c8e div.sk-dashed-wrapped {border: 1px dashed gray;margin: 0 0.4em 0.5em 0.4em;box-sizing: border-box;padding-bottom: 0.4em;background-color: white;position: relative;}#sk-ea5651f9-d374-4c6f-b05a-dfa3acc01c8e div.sk-label label {font-family: monospace;font-weight: bold;background-color: white;display: inline-block;line-height: 1.2em;}#sk-ea5651f9-d374-4c6f-b05a-dfa3acc01c8e div.sk-label-container {position: relative;z-index: 2;text-align: center;}#sk-ea5651f9-d374-4c6f-b05a-dfa3acc01c8e div.sk-container {/* jupyter's `normalize.less` sets `[hidden] { display: none; }` but bootstrap.min.css set `[hidden] { display: none !important; }` so we also need the `!important` here to be able to override the default hidden behavior on the sphinx rendered scikit-learn.org. See: https://github.com/scikit-learn/scikit-learn/issues/21755 */display: inline-block !important;position: relative;}#sk-ea5651f9-d374-4c6f-b05a-dfa3acc01c8e div.sk-text-repr-fallback {display: none;}</style><div id=\"sk-ea5651f9-d374-4c6f-b05a-dfa3acc01c8e\" class=\"sk-top-container\"><div class=\"sk-text-repr-fallback\"><pre>DecisionTreeRegressor(random_state=42)</pre><b>Please rerun this cell to show the HTML repr or trust the notebook.</b></div><div class=\"sk-container\" hidden><div class=\"sk-item\"><div class=\"sk-estimator sk-toggleable\"><input class=\"sk-toggleable__control sk-hidden--visually\" id=\"19034eb3-921d-4108-a33b-b1ca7a2d17b1\" type=\"checkbox\" checked><label for=\"19034eb3-921d-4108-a33b-b1ca7a2d17b1\" class=\"sk-toggleable__label sk-toggleable__label-arrow\">DecisionTreeRegressor</label><div class=\"sk-toggleable__content\"><pre>DecisionTreeRegressor(random_state=42)</pre></div></div></div></div></div>"
            ]
          },
          "metadata": {},
          "execution_count": 381
        }
      ],
      "source": [
        "dec_tree.fit(X_train_processed, y_train)"
      ]
    },
    {
      "cell_type": "markdown",
      "metadata": {
        "id": "U6D7JifH1VKm"
      },
      "source": [
        "Predict the target values for the training and test set"
      ]
    },
    {
      "cell_type": "code",
      "execution_count": 382,
      "metadata": {
        "id": "SsL_OKRC1WA_"
      },
      "outputs": [],
      "source": [
        "reg_train_preds = dec_tree.predict(X_train_processed)\n",
        "reg_test_preds = dec_tree.predict(X_test_processed)"
      ]
    },
    {
      "cell_type": "code",
      "execution_count": 383,
      "metadata": {
        "id": "4k7ND8Xc1jvK",
        "colab": {
          "base_uri": "https://localhost:8080/"
        },
        "outputId": "7db258b1-cab6-4e3f-d199-01c38574e50c"
      },
      "outputs": [
        {
          "output_type": "execute_result",
          "data": {
            "text/plain": [
              "array([ 195.,  809.,  603., ...,  994., 1190., 1053.])"
            ]
          },
          "metadata": {},
          "execution_count": 383
        }
      ],
      "source": [
        "reg_train_preds"
      ]
    },
    {
      "cell_type": "code",
      "execution_count": 384,
      "metadata": {
        "id": "SehYYKT1148d",
        "colab": {
          "base_uri": "https://localhost:8080/"
        },
        "outputId": "87552baa-31a1-4f99-fa1e-082ebcd012ca"
      },
      "outputs": [
        {
          "output_type": "execute_result",
          "data": {
            "text/plain": [
              "array([ 430.,  602., 1145., ...,  655.,  292.,  448.])"
            ]
          },
          "metadata": {},
          "execution_count": 384
        }
      ],
      "source": [
        "reg_test_preds"
      ]
    },
    {
      "cell_type": "code",
      "execution_count": 385,
      "metadata": {
        "id": "C2euwyntA5Jn",
        "colab": {
          "base_uri": "https://localhost:8080/"
        },
        "outputId": "5b8fe6fd-dca9-4d27-d0b1-0242b3564888"
      },
      "outputs": [
        {
          "output_type": "stream",
          "name": "stdout",
          "text": [
            "[ 432.  602. 1145. ...  655.  289.  448.]\n"
          ]
        }
      ],
      "source": [
        "print(np.array(y_test))"
      ]
    },
    {
      "cell_type": "markdown",
      "metadata": {
        "id": "A0IwRufE1_3o"
      },
      "source": [
        "Score the model"
      ]
    },
    {
      "cell_type": "code",
      "execution_count": 386,
      "metadata": {
        "id": "pRWyUK9i2Bbt"
      },
      "outputs": [],
      "source": [
        "reg_train_score = dec_tree.score(X_train_processed, y_train)\n",
        "reg_test_score = dec_tree.score(X_test_processed, y_test)"
      ]
    },
    {
      "cell_type": "code",
      "execution_count": 387,
      "metadata": {
        "id": "HCYPBfdl2MZL",
        "colab": {
          "base_uri": "https://localhost:8080/"
        },
        "outputId": "c271c2a6-385c-47af-9c6d-7db5f8971fe7"
      },
      "outputs": [
        {
          "output_type": "execute_result",
          "data": {
            "text/plain": [
              "0.9999721122907499"
            ]
          },
          "metadata": {},
          "execution_count": 387
        }
      ],
      "source": [
        "reg_train_score \n"
      ]
    },
    {
      "cell_type": "code",
      "execution_count": 388,
      "metadata": {
        "id": "WLFzKutQ2PQh",
        "colab": {
          "base_uri": "https://localhost:8080/"
        },
        "outputId": "b2f4b3cf-97e8-48c9-9b4a-dd274d55e987"
      },
      "outputs": [
        {
          "output_type": "execute_result",
          "data": {
            "text/plain": [
              "0.9907369741493408"
            ]
          },
          "metadata": {},
          "execution_count": 388
        }
      ],
      "source": [
        "reg_test_score"
      ]
    },
    {
      "cell_type": "markdown",
      "metadata": {
        "id": "8nioLGMg3EPa"
      },
      "source": [
        "With a regression tree model, predicting the price per stay in arbnb is almost perfect, which can be seen with the 99.07% accuracy in the test set data."
      ]
    },
    {
      "cell_type": "markdown",
      "metadata": {
        "id": "_yjt64FP5y6u"
      },
      "source": [
        "# **3.Bagged Trees**"
      ]
    },
    {
      "cell_type": "markdown",
      "metadata": {
        "id": "LnaBdfYU6ZBy"
      },
      "source": [
        "Import the model I want to use"
      ]
    },
    {
      "cell_type": "code",
      "execution_count": 389,
      "metadata": {
        "id": "Tqk6RsXl5yUM"
      },
      "outputs": [],
      "source": [
        "from sklearn.ensemble import BaggingRegressor"
      ]
    },
    {
      "cell_type": "markdown",
      "metadata": {
        "id": "gGd-ZcYY6c4I"
      },
      "source": [
        "Instantiate the model"
      ]
    },
    {
      "cell_type": "code",
      "execution_count": 390,
      "metadata": {
        "id": "OB1NsIR96fzG"
      },
      "outputs": [],
      "source": [
        "bagged_reg = BaggingRegressor(random_state = 42, n_estimators= 8)"
      ]
    },
    {
      "cell_type": "code",
      "execution_count": 391,
      "metadata": {
        "id": "X30M44TD6sDQ",
        "colab": {
          "base_uri": "https://localhost:8080/"
        },
        "outputId": "28ae63d7-add2-4f8a-9ab1-a2d69983f41b"
      },
      "outputs": [
        {
          "output_type": "execute_result",
          "data": {
            "text/plain": [
              "{'base_estimator': None,\n",
              " 'bootstrap': True,\n",
              " 'bootstrap_features': False,\n",
              " 'max_features': 1.0,\n",
              " 'max_samples': 1.0,\n",
              " 'n_estimators': 8,\n",
              " 'n_jobs': None,\n",
              " 'oob_score': False,\n",
              " 'random_state': 42,\n",
              " 'verbose': 0,\n",
              " 'warm_start': False}"
            ]
          },
          "metadata": {},
          "execution_count": 391
        }
      ],
      "source": [
        "bagged_reg.get_params()"
      ]
    },
    {
      "cell_type": "markdown",
      "source": [
        "Fit the bagged tree model in training data."
      ],
      "metadata": {
        "id": "jHCB8mEHLmm3"
      }
    },
    {
      "cell_type": "code",
      "execution_count": 392,
      "metadata": {
        "id": "D6JJh2MV7vqv",
        "colab": {
          "base_uri": "https://localhost:8080/",
          "height": 75
        },
        "outputId": "e0859be2-142d-4fb7-9e2b-ac74daadfea1"
      },
      "outputs": [
        {
          "output_type": "execute_result",
          "data": {
            "text/plain": [
              "BaggingRegressor(n_estimators=8, random_state=42)"
            ],
            "text/html": [
              "<style>#sk-381578ef-d3f1-43b5-8e87-f2f2c3b8e8db {color: black;background-color: white;}#sk-381578ef-d3f1-43b5-8e87-f2f2c3b8e8db pre{padding: 0;}#sk-381578ef-d3f1-43b5-8e87-f2f2c3b8e8db div.sk-toggleable {background-color: white;}#sk-381578ef-d3f1-43b5-8e87-f2f2c3b8e8db label.sk-toggleable__label {cursor: pointer;display: block;width: 100%;margin-bottom: 0;padding: 0.3em;box-sizing: border-box;text-align: center;}#sk-381578ef-d3f1-43b5-8e87-f2f2c3b8e8db label.sk-toggleable__label-arrow:before {content: \"▸\";float: left;margin-right: 0.25em;color: #696969;}#sk-381578ef-d3f1-43b5-8e87-f2f2c3b8e8db label.sk-toggleable__label-arrow:hover:before {color: black;}#sk-381578ef-d3f1-43b5-8e87-f2f2c3b8e8db div.sk-estimator:hover label.sk-toggleable__label-arrow:before {color: black;}#sk-381578ef-d3f1-43b5-8e87-f2f2c3b8e8db div.sk-toggleable__content {max-height: 0;max-width: 0;overflow: hidden;text-align: left;background-color: #f0f8ff;}#sk-381578ef-d3f1-43b5-8e87-f2f2c3b8e8db div.sk-toggleable__content pre {margin: 0.2em;color: black;border-radius: 0.25em;background-color: #f0f8ff;}#sk-381578ef-d3f1-43b5-8e87-f2f2c3b8e8db input.sk-toggleable__control:checked~div.sk-toggleable__content {max-height: 200px;max-width: 100%;overflow: auto;}#sk-381578ef-d3f1-43b5-8e87-f2f2c3b8e8db input.sk-toggleable__control:checked~label.sk-toggleable__label-arrow:before {content: \"▾\";}#sk-381578ef-d3f1-43b5-8e87-f2f2c3b8e8db div.sk-estimator input.sk-toggleable__control:checked~label.sk-toggleable__label {background-color: #d4ebff;}#sk-381578ef-d3f1-43b5-8e87-f2f2c3b8e8db div.sk-label input.sk-toggleable__control:checked~label.sk-toggleable__label {background-color: #d4ebff;}#sk-381578ef-d3f1-43b5-8e87-f2f2c3b8e8db input.sk-hidden--visually {border: 0;clip: rect(1px 1px 1px 1px);clip: rect(1px, 1px, 1px, 1px);height: 1px;margin: -1px;overflow: hidden;padding: 0;position: absolute;width: 1px;}#sk-381578ef-d3f1-43b5-8e87-f2f2c3b8e8db div.sk-estimator {font-family: monospace;background-color: #f0f8ff;border: 1px dotted black;border-radius: 0.25em;box-sizing: border-box;margin-bottom: 0.5em;}#sk-381578ef-d3f1-43b5-8e87-f2f2c3b8e8db div.sk-estimator:hover {background-color: #d4ebff;}#sk-381578ef-d3f1-43b5-8e87-f2f2c3b8e8db div.sk-parallel-item::after {content: \"\";width: 100%;border-bottom: 1px solid gray;flex-grow: 1;}#sk-381578ef-d3f1-43b5-8e87-f2f2c3b8e8db div.sk-label:hover label.sk-toggleable__label {background-color: #d4ebff;}#sk-381578ef-d3f1-43b5-8e87-f2f2c3b8e8db div.sk-serial::before {content: \"\";position: absolute;border-left: 1px solid gray;box-sizing: border-box;top: 2em;bottom: 0;left: 50%;}#sk-381578ef-d3f1-43b5-8e87-f2f2c3b8e8db div.sk-serial {display: flex;flex-direction: column;align-items: center;background-color: white;padding-right: 0.2em;padding-left: 0.2em;}#sk-381578ef-d3f1-43b5-8e87-f2f2c3b8e8db div.sk-item {z-index: 1;}#sk-381578ef-d3f1-43b5-8e87-f2f2c3b8e8db div.sk-parallel {display: flex;align-items: stretch;justify-content: center;background-color: white;}#sk-381578ef-d3f1-43b5-8e87-f2f2c3b8e8db div.sk-parallel::before {content: \"\";position: absolute;border-left: 1px solid gray;box-sizing: border-box;top: 2em;bottom: 0;left: 50%;}#sk-381578ef-d3f1-43b5-8e87-f2f2c3b8e8db div.sk-parallel-item {display: flex;flex-direction: column;position: relative;background-color: white;}#sk-381578ef-d3f1-43b5-8e87-f2f2c3b8e8db div.sk-parallel-item:first-child::after {align-self: flex-end;width: 50%;}#sk-381578ef-d3f1-43b5-8e87-f2f2c3b8e8db div.sk-parallel-item:last-child::after {align-self: flex-start;width: 50%;}#sk-381578ef-d3f1-43b5-8e87-f2f2c3b8e8db div.sk-parallel-item:only-child::after {width: 0;}#sk-381578ef-d3f1-43b5-8e87-f2f2c3b8e8db div.sk-dashed-wrapped {border: 1px dashed gray;margin: 0 0.4em 0.5em 0.4em;box-sizing: border-box;padding-bottom: 0.4em;background-color: white;position: relative;}#sk-381578ef-d3f1-43b5-8e87-f2f2c3b8e8db div.sk-label label {font-family: monospace;font-weight: bold;background-color: white;display: inline-block;line-height: 1.2em;}#sk-381578ef-d3f1-43b5-8e87-f2f2c3b8e8db div.sk-label-container {position: relative;z-index: 2;text-align: center;}#sk-381578ef-d3f1-43b5-8e87-f2f2c3b8e8db div.sk-container {/* jupyter's `normalize.less` sets `[hidden] { display: none; }` but bootstrap.min.css set `[hidden] { display: none !important; }` so we also need the `!important` here to be able to override the default hidden behavior on the sphinx rendered scikit-learn.org. See: https://github.com/scikit-learn/scikit-learn/issues/21755 */display: inline-block !important;position: relative;}#sk-381578ef-d3f1-43b5-8e87-f2f2c3b8e8db div.sk-text-repr-fallback {display: none;}</style><div id=\"sk-381578ef-d3f1-43b5-8e87-f2f2c3b8e8db\" class=\"sk-top-container\"><div class=\"sk-text-repr-fallback\"><pre>BaggingRegressor(n_estimators=8, random_state=42)</pre><b>Please rerun this cell to show the HTML repr or trust the notebook.</b></div><div class=\"sk-container\" hidden><div class=\"sk-item\"><div class=\"sk-estimator sk-toggleable\"><input class=\"sk-toggleable__control sk-hidden--visually\" id=\"d74a8664-1ba9-401c-8647-5327f0a04c1b\" type=\"checkbox\" checked><label for=\"d74a8664-1ba9-401c-8647-5327f0a04c1b\" class=\"sk-toggleable__label sk-toggleable__label-arrow\">BaggingRegressor</label><div class=\"sk-toggleable__content\"><pre>BaggingRegressor(n_estimators=8, random_state=42)</pre></div></div></div></div></div>"
            ]
          },
          "metadata": {},
          "execution_count": 392
        }
      ],
      "source": [
        "bagged_reg.fit(X_train_processed, y_train)"
      ]
    },
    {
      "cell_type": "markdown",
      "source": [
        "Make predictions under this model"
      ],
      "metadata": {
        "id": "tjCCWW0yLaPe"
      }
    },
    {
      "cell_type": "code",
      "execution_count": 393,
      "metadata": {
        "id": "mgkW7qfq8ZBI",
        "colab": {
          "base_uri": "https://localhost:8080/"
        },
        "outputId": "d9f55c92-6fe5-4415-f547-2860e8182740"
      },
      "outputs": [
        {
          "output_type": "execute_result",
          "data": {
            "text/plain": [
              "array([ 430.25 ,  600.5  , 1144.625, ...,  655.375,  290.5  ,  448.875])"
            ]
          },
          "metadata": {},
          "execution_count": 393
        }
      ],
      "source": [
        "bagged_reg.predict(X_test_processed)"
      ]
    },
    {
      "cell_type": "code",
      "source": [
        "print(np.array(y_test))"
      ],
      "metadata": {
        "colab": {
          "base_uri": "https://localhost:8080/"
        },
        "id": "BvEd8lb1Luvu",
        "outputId": "12afc1e1-d58b-4b1f-e6b0-88eb03583183"
      },
      "execution_count": 394,
      "outputs": [
        {
          "output_type": "stream",
          "name": "stdout",
          "text": [
            "[ 432.  602. 1145. ...  655.  289.  448.]\n"
          ]
        }
      ]
    },
    {
      "cell_type": "markdown",
      "source": [
        "Score the model"
      ],
      "metadata": {
        "id": "ZGdQ7E6fLe-V"
      }
    },
    {
      "cell_type": "code",
      "execution_count": 395,
      "metadata": {
        "id": "iLf6vK818t9x",
        "colab": {
          "base_uri": "https://localhost:8080/"
        },
        "outputId": "b43b5d05-8941-463e-dbc9-f3f09f3a8d6d"
      },
      "outputs": [
        {
          "output_type": "stream",
          "name": "stdout",
          "text": [
            "0.9989565212748758\n",
            "0.995206587026467\n"
          ]
        }
      ],
      "source": [
        "bagged_reg_train_score = bagged_reg.score(X_train_processed, y_train)\n",
        "bagged_reg_test_score = bagged_reg.score(X_test_processed, y_test)\n",
        "print(bagged_reg_train_score)\n",
        "print(bagged_reg_test_score)"
      ]
    },
    {
      "cell_type": "markdown",
      "source": [
        "With the tree bagging model we obtain an accuracy of 99.5% of the test set, a little higher than that obtained with a decision tree."
      ],
      "metadata": {
        "id": "Et1JoS58IXLv"
      }
    },
    {
      "cell_type": "markdown",
      "source": [
        "# **4.Random Forest**"
      ],
      "metadata": {
        "id": "Dw5PyqmyIy2z"
      }
    },
    {
      "cell_type": "markdown",
      "source": [
        "Import the model"
      ],
      "metadata": {
        "id": "o74rRLjMJsyF"
      }
    },
    {
      "cell_type": "code",
      "source": [
        "from sklearn.ensemble import RandomForestRegressor"
      ],
      "metadata": {
        "id": "VZY69nA2Ix66"
      },
      "execution_count": 396,
      "outputs": []
    },
    {
      "cell_type": "markdown",
      "source": [
        "Instantate the model I want to use"
      ],
      "metadata": {
        "id": "9hVYUnRQJvRM"
      }
    },
    {
      "cell_type": "code",
      "source": [
        "rf = RandomForestRegressor(random_state = 42)"
      ],
      "metadata": {
        "id": "caINOZdkIxCD"
      },
      "execution_count": 397,
      "outputs": []
    },
    {
      "cell_type": "markdown",
      "source": [
        "Fit the model in training data"
      ],
      "metadata": {
        "id": "pe7-9z2-J5xm"
      }
    },
    {
      "cell_type": "code",
      "source": [
        "rf.fit(X_train_processed, y_train)"
      ],
      "metadata": {
        "colab": {
          "base_uri": "https://localhost:8080/",
          "height": 75
        },
        "id": "TO4A3-8HKGy8",
        "outputId": "17e41cd8-f2c6-4dc5-ca02-1e9067818256"
      },
      "execution_count": 398,
      "outputs": [
        {
          "output_type": "execute_result",
          "data": {
            "text/plain": [
              "RandomForestRegressor(random_state=42)"
            ],
            "text/html": [
              "<style>#sk-77c40887-40fd-4e46-a089-807e2798d498 {color: black;background-color: white;}#sk-77c40887-40fd-4e46-a089-807e2798d498 pre{padding: 0;}#sk-77c40887-40fd-4e46-a089-807e2798d498 div.sk-toggleable {background-color: white;}#sk-77c40887-40fd-4e46-a089-807e2798d498 label.sk-toggleable__label {cursor: pointer;display: block;width: 100%;margin-bottom: 0;padding: 0.3em;box-sizing: border-box;text-align: center;}#sk-77c40887-40fd-4e46-a089-807e2798d498 label.sk-toggleable__label-arrow:before {content: \"▸\";float: left;margin-right: 0.25em;color: #696969;}#sk-77c40887-40fd-4e46-a089-807e2798d498 label.sk-toggleable__label-arrow:hover:before {color: black;}#sk-77c40887-40fd-4e46-a089-807e2798d498 div.sk-estimator:hover label.sk-toggleable__label-arrow:before {color: black;}#sk-77c40887-40fd-4e46-a089-807e2798d498 div.sk-toggleable__content {max-height: 0;max-width: 0;overflow: hidden;text-align: left;background-color: #f0f8ff;}#sk-77c40887-40fd-4e46-a089-807e2798d498 div.sk-toggleable__content pre {margin: 0.2em;color: black;border-radius: 0.25em;background-color: #f0f8ff;}#sk-77c40887-40fd-4e46-a089-807e2798d498 input.sk-toggleable__control:checked~div.sk-toggleable__content {max-height: 200px;max-width: 100%;overflow: auto;}#sk-77c40887-40fd-4e46-a089-807e2798d498 input.sk-toggleable__control:checked~label.sk-toggleable__label-arrow:before {content: \"▾\";}#sk-77c40887-40fd-4e46-a089-807e2798d498 div.sk-estimator input.sk-toggleable__control:checked~label.sk-toggleable__label {background-color: #d4ebff;}#sk-77c40887-40fd-4e46-a089-807e2798d498 div.sk-label input.sk-toggleable__control:checked~label.sk-toggleable__label {background-color: #d4ebff;}#sk-77c40887-40fd-4e46-a089-807e2798d498 input.sk-hidden--visually {border: 0;clip: rect(1px 1px 1px 1px);clip: rect(1px, 1px, 1px, 1px);height: 1px;margin: -1px;overflow: hidden;padding: 0;position: absolute;width: 1px;}#sk-77c40887-40fd-4e46-a089-807e2798d498 div.sk-estimator {font-family: monospace;background-color: #f0f8ff;border: 1px dotted black;border-radius: 0.25em;box-sizing: border-box;margin-bottom: 0.5em;}#sk-77c40887-40fd-4e46-a089-807e2798d498 div.sk-estimator:hover {background-color: #d4ebff;}#sk-77c40887-40fd-4e46-a089-807e2798d498 div.sk-parallel-item::after {content: \"\";width: 100%;border-bottom: 1px solid gray;flex-grow: 1;}#sk-77c40887-40fd-4e46-a089-807e2798d498 div.sk-label:hover label.sk-toggleable__label {background-color: #d4ebff;}#sk-77c40887-40fd-4e46-a089-807e2798d498 div.sk-serial::before {content: \"\";position: absolute;border-left: 1px solid gray;box-sizing: border-box;top: 2em;bottom: 0;left: 50%;}#sk-77c40887-40fd-4e46-a089-807e2798d498 div.sk-serial {display: flex;flex-direction: column;align-items: center;background-color: white;padding-right: 0.2em;padding-left: 0.2em;}#sk-77c40887-40fd-4e46-a089-807e2798d498 div.sk-item {z-index: 1;}#sk-77c40887-40fd-4e46-a089-807e2798d498 div.sk-parallel {display: flex;align-items: stretch;justify-content: center;background-color: white;}#sk-77c40887-40fd-4e46-a089-807e2798d498 div.sk-parallel::before {content: \"\";position: absolute;border-left: 1px solid gray;box-sizing: border-box;top: 2em;bottom: 0;left: 50%;}#sk-77c40887-40fd-4e46-a089-807e2798d498 div.sk-parallel-item {display: flex;flex-direction: column;position: relative;background-color: white;}#sk-77c40887-40fd-4e46-a089-807e2798d498 div.sk-parallel-item:first-child::after {align-self: flex-end;width: 50%;}#sk-77c40887-40fd-4e46-a089-807e2798d498 div.sk-parallel-item:last-child::after {align-self: flex-start;width: 50%;}#sk-77c40887-40fd-4e46-a089-807e2798d498 div.sk-parallel-item:only-child::after {width: 0;}#sk-77c40887-40fd-4e46-a089-807e2798d498 div.sk-dashed-wrapped {border: 1px dashed gray;margin: 0 0.4em 0.5em 0.4em;box-sizing: border-box;padding-bottom: 0.4em;background-color: white;position: relative;}#sk-77c40887-40fd-4e46-a089-807e2798d498 div.sk-label label {font-family: monospace;font-weight: bold;background-color: white;display: inline-block;line-height: 1.2em;}#sk-77c40887-40fd-4e46-a089-807e2798d498 div.sk-label-container {position: relative;z-index: 2;text-align: center;}#sk-77c40887-40fd-4e46-a089-807e2798d498 div.sk-container {/* jupyter's `normalize.less` sets `[hidden] { display: none; }` but bootstrap.min.css set `[hidden] { display: none !important; }` so we also need the `!important` here to be able to override the default hidden behavior on the sphinx rendered scikit-learn.org. See: https://github.com/scikit-learn/scikit-learn/issues/21755 */display: inline-block !important;position: relative;}#sk-77c40887-40fd-4e46-a089-807e2798d498 div.sk-text-repr-fallback {display: none;}</style><div id=\"sk-77c40887-40fd-4e46-a089-807e2798d498\" class=\"sk-top-container\"><div class=\"sk-text-repr-fallback\"><pre>RandomForestRegressor(random_state=42)</pre><b>Please rerun this cell to show the HTML repr or trust the notebook.</b></div><div class=\"sk-container\" hidden><div class=\"sk-item\"><div class=\"sk-estimator sk-toggleable\"><input class=\"sk-toggleable__control sk-hidden--visually\" id=\"03b5c6e5-58fe-46cb-8c2f-b6ecedaa0471\" type=\"checkbox\" checked><label for=\"03b5c6e5-58fe-46cb-8c2f-b6ecedaa0471\" class=\"sk-toggleable__label sk-toggleable__label-arrow\">RandomForestRegressor</label><div class=\"sk-toggleable__content\"><pre>RandomForestRegressor(random_state=42)</pre></div></div></div></div></div>"
            ]
          },
          "metadata": {},
          "execution_count": 398
        }
      ]
    },
    {
      "cell_type": "markdown",
      "source": [
        "Make predictions under this model"
      ],
      "metadata": {
        "id": "NSfN8_pFLWxF"
      }
    },
    {
      "cell_type": "code",
      "source": [
        "rf.predict(X_test_processed)"
      ],
      "metadata": {
        "colab": {
          "base_uri": "https://localhost:8080/"
        },
        "id": "EKhxmP3LLT46",
        "outputId": "2bf9048e-6859-4b4c-bc1f-e64d2b94e680"
      },
      "execution_count": 399,
      "outputs": [
        {
          "output_type": "execute_result",
          "data": {
            "text/plain": [
              "array([ 430.09,  600.19, 1144.97, ...,  655.42,  289.94,  448.6 ])"
            ]
          },
          "metadata": {},
          "execution_count": 399
        }
      ]
    },
    {
      "cell_type": "code",
      "source": [
        "print(np.array(y_test))"
      ],
      "metadata": {
        "colab": {
          "base_uri": "https://localhost:8080/"
        },
        "id": "WpIIe36CMLXO",
        "outputId": "1bb58f43-6610-409b-b893-0a437b766a21"
      },
      "execution_count": 400,
      "outputs": [
        {
          "output_type": "stream",
          "name": "stdout",
          "text": [
            "[ 432.  602. 1145. ...  655.  289.  448.]\n"
          ]
        }
      ]
    },
    {
      "cell_type": "markdown",
      "source": [
        "Score the model used"
      ],
      "metadata": {
        "id": "wNoSXyahMPpJ"
      }
    },
    {
      "cell_type": "code",
      "source": [
        "rf_train_score = rf.score(X_train_processed, y_train)\n",
        "rf_test_score = rf.score(X_test_processed, y_test)\n",
        "print(rf_train_score)\n",
        "print(rf_test_score)"
      ],
      "metadata": {
        "colab": {
          "base_uri": "https://localhost:8080/"
        },
        "id": "t0OF5oMiMR8S",
        "outputId": "1c1ad01e-936c-4866-e67e-21e90dd8de90"
      },
      "execution_count": 401,
      "outputs": [
        {
          "output_type": "stream",
          "name": "stdout",
          "text": [
            "0.9992424060970915\n",
            "0.995663699566505\n"
          ]
        }
      ]
    },
    {
      "cell_type": "markdown",
      "source": [
        "After testing different regression models, such as decision tree, bagged tree, random forest, it is appropriate to say that our target PRICE variable is being predicted with an almost exact level in each of our models, highlighting the highest accuracy under the model random forest"
      ],
      "metadata": {
        "id": "gjHkMs-QMzr9"
      }
    }
  ],
  "metadata": {
    "colab": {
      "collapsed_sections": [
        "xi9g0EE7xUsO"
      ],
      "provenance": [],
      "include_colab_link": true
    },
    "kernelspec": {
      "display_name": "Python 3",
      "name": "python3"
    },
    "language_info": {
      "name": "python"
    }
  },
  "nbformat": 4,
  "nbformat_minor": 0
}
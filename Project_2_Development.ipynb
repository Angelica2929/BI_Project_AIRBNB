{
  "nbformat": 4,
  "nbformat_minor": 0,
  "metadata": {
    "colab": {
      "provenance": [],
      "collapsed_sections": [],
      "include_colab_link": true
    },
    "kernelspec": {
      "name": "python3",
      "display_name": "Python 3"
    },
    "language_info": {
      "name": "python"
    }
  },
  "cells": [
    {
      "cell_type": "markdown",
      "metadata": {
        "id": "view-in-github",
        "colab_type": "text"
      },
      "source": [
        "<a href=\"https://colab.research.google.com/github/Angelica2929/BI_Project_AIRBNB/blob/main/Project_2_Development.ipynb\" target=\"_parent\"><img src=\"https://colab.research.google.com/assets/colab-badge.svg\" alt=\"Open In Colab\"/></a>"
      ]
    },
    {
      "cell_type": "markdown",
      "source": [
        "# **Machine Lerning Project!** \n",
        "# ***Airbnb Open Data***"
      ],
      "metadata": {
        "id": "GrndIiabvTqi"
      }
    },
    {
      "cell_type": "markdown",
      "source": [
        "![logoo.png](data:image/png;base64,iVBORw0KGgoAAAANSUhEUgAAAWwAAACLCAMAAAByd1MFAAAAflBMVEX/////Wl//WF3/TlT/Vlv/VFn/UFb/TVP/8vL/wcP/4OH/S1H/5OX/U1j/lpn/kpX/+vr/bnP/fYD/1tf/gYX/XWL/d3v/1NX/urz/srT/7O3/3N3/Zmv/ycr/jZD/Ymf/r7H/mp3/xsj/qav/h4r/oKP/bHD/vb7/PUT/REvdsp2gAAAP+ElEQVR4nO1d54KyvBKWNFgRxQIo1rXt+e7/Bo+YSYMAsW3x5fmnQAgPk8lkSuj1OnTo0KFDhw4dOnTo0KFDhw4dOnT4jQiyxWiWTo6nj8FPd+XdkR2Rzyi5IGJ4dch/uj9vjPU5pMiTQBEeBT/dpzdFMAuJVwLF85/u1ltimtAy1YV0+5v4p3v2flgzZOH6gijt2H4yslByjWjEWESQYvunO/dmGGDBLfVXw93X/DAj8i92/OnuvRXiM0yNCG+W4r+vFQO2/cWP9u7NcAJaSZJp/8YnEG4UdQucp6EPpNJzyaz+8PkB0qntp2HMlQg5V+yOfQiKZP8T/XpH7P16ZQEKBm07++85WHFdYV8swtSJuznyKfjCXImMrUeX/ChKOtF+AuItCPbSfnzEV/Hs8L3dek8suFamm5rjeXR9GQh1DsCHESecS1ZrSp8ivmo/fWe33hM7EOxh7RkBd1Eh3In2g4hpO5MH/j6iz+/r1nvi4KAjYg80TRclewgBCHbUqCJA1UT1qubJiPfD2ew0dTs5mEg8v4PrVLSdrh9tCyY/1jz5yUn0m0R7nfiUkChMne4X0GuEughST57elY8Q2ibh14NNCcH2Wua+OW42D5+LhQhk0HoTSUOAhOOdvIBs4Wb22KNkf0ZuCxZY+DTYh0/E1JdBIrJyWLf+EbJzR8H+XtEeazF+F5fMHyFbCPau/VSutb3w9aI9CBXXdQ4bA3+D7Bxcq8hhrH58m2jDnTgQaV9J/Q2yP8HF5OQ9BT+s33/olg5YMI1sz2GW+BNk5xg0tpPzVIj2yyPtHzrZiLZbf3+C7CF1noMKnMET+2rRNnQ2Ordf8BfIHoB/yTXgBcGz14v2WbNGXLzof4FsCAq4Z04CCezVop1pdrZLfOgPkC1iAu6R3G8T7YNYQZK66JGBP0D2zYItDZLX29pfUZGQT8Oz051+P9nCxk5uuGb9XQZJL54f03To6Gb7/WSDKcJuynUHrf16W/sm/Hqyc0hQ2N501f7bRPsW/HqyP2/X2AXAR/RyW/sm/HaybzdFONbfZZDcgt9O9jC6S7ClaD9ka8f5cr1eZ4OHUqzy7NJE/+qlspAd9NVhF9SfbyE7n166P3XuvvBjWwU7z+aH02n3sbQdfNjWHixmCfMxxj5Ojh/XW8RTAbD0BvKPjPchzsQf3O4enFaX67HvX0NVZbLzQ0r5Heh5tLc8xVK0zsldfp6pXzSHybgS9yyTPR2uoPteenJZBQg/tkWwp5/bELOIRhELWbqoeoG2D9na+zRkslgHEUwKv0wS+hz/gf929B/84f+P3yb4n/jjv8vyfTALI2jjakyZZOfHUNYDIUQxG1W6uoUbhuGF7WwcUtEAutj2K1NbmGTrhaKIROF21zp4AuHuq3Bx9rWiU0QY25R7un/Ar73e4lKhJcLnQS4dT3TEzxvKGkF4p4F0cZNZbxeqEsIq2XNWKjBE1D+WZGYszven8aZc+3npki6wGtkfvWPlZBbtWh5ahNRL7r5BWubi0lN2KI1DkV98s2gHR+XzUCDePLqJ7JPeSpls86hsl5pDWJIdzcdR9XSi+0EV2dEutZxcejfVpxaRR5PGOavU9xZnsbEpF8KvfWuKRn9r6WpxA3VXB7IvJ+kXl8guHVX3MCtnJdkesT2yh0KV2aF515H1ZI80mikHq2CfQotMXBuLTNNjBWk9t+WQZNZXacKJbAMVsuvA9MrZcev5im0jlGEHCuv9wNC3Unb7p68uJpRSoulu09C7S7SntuFdxgvJ9qgWOW4n2/OFX8aB7Es3a9mGNEkzpD6XsxS52DSb4XC2imR9NUl0KRY5JA4BK4mcOvDxUrK9SFmrDmRLUXQi2/M/7M8tsiSN3Pa+IJbg4xoO5Iut+JfOjBfDH/2WfO1xeRYnRB87AHeyL2YXYxcLFdvJtjavKmfLZF/rx5kpD8JDVyX7MvBJufG6QlFIkjTjTSmQwcaGxlhE8L/55kAP+c4LtBM2exbS8WwzW/klPe5KNvXR8bD4mh82yaJK9sXWo+lxM1lhbPCn0rlMsonvbRZfX4vhyte6g1ZWsi99TyabY5qEZt/t+S0xgUQyXWOD8ezhcgb2YMubNE1ySDZwFu2BvuEDYtsDvNHga2yocjeyL4NPlSHHFbIpG035swXrjWF0U7GY18lGWGWnTs/a6XBrM9Z/6Tu8sXyeYv22vs0kmduIEtHFarZ77oFZrYu2SGp1rbLZaM9AyMJ4zfomJ26m36ps1xpks5k+oPOjzgiGl6SRjQwTPNbUHegRnWxkLjqylWbMWl0fW0s+dp9bItahMIW6PaOeemebY2uR61SVI12BtlJwIZtOKg+lk43LXfrS2BZ+KkU2Ssw3p03kYG1pZBNUes3xRnsTuDpHQs2jWbEBK0q7lxpilaFuewSezXqsw0HRaSnY7k2kNDmQjSwCoZFt8fastTQUeAhFNi0/sro1vBlFNkqqk+BQexXV8v6zzWzjg4fMKmcXGESWFyfMR6f8nq0SJGIxFwc3+kYq0Jbrtv0MtHQ2cGRIsqvJYJl6rXyG1HwjNn90qumdOjeSsSCJ+fyFa/YC4O1RYywETT7aErQMJ2t/n0m2NXigCIGX0UB2oJx6fNgajihL59XcX3k4EdYyXgJ/2tpFCtcCpecQmschejFXA3FlO/5ysjVp5VNVA9mxHIaQ29sWqRkpvVPy8a+t/lHemVop5ReVku4CzpBLwFh1x+6OfDnZwlFZtHed4hrIVssvR7KXsvdlLmBAlTz/XLfUpp0vfdu7AEIc9iFRo9ieAvF6sj9le1wVNJGd3kh2T94cUcMSnobWDn9d26vdLMdONiir9sqAeNXwaNeWXk625pO+rpufSrYypswZcgYauxRnu0uyxUolzOxXScAKyKtN/3092VPp0eTT/FPJVsPGSEzsg2CXRRiUsnX2qj/cx03Pp9BimH0H2X1F9tUMeyrZahWBdbkDWcRlWeQ6vnbxvajRMkdorqUO998ke8BD0tVHhhzLulwQbk1UI7wwOKl9LSShqRH72Hk92dkr1cjQqkYgf8FiP3A66nIsedcsZhv0q6XESJsg7ZVfryd7/soJMrVNkCIxxyJefOIsG+XiOj4g/OpEmHGW2rIaNNPPqnFeT/bmhaZfzGyydKhf8+0ifrLVMuOGoWfbj0QkxzfHxxR11LphycvJVorMYVFzK9lrqaI0MRabuFQSc3pygzNsTT7ndqR1cvtwio99aX4zmx55OdlaB+iVwGeSPVM+S6UZFk0uaO4xtSbw5XyYRNb4MTjHm6twNUeU9bXcmhFVQQvZyt0hjt9Jts0RpeZefc4TvFhVhVh7W/QBaB97bh+EfluCCMo1YdXaS2UrPEq2ddk0Uu50cAnfR7bNsxOoF+mpzViaRzyEY2ziC8Fd++JPxMeaPa07PamoYl/mqr8Pk23bxuqgZK8SPLiJbBRV1GycqqCeNqq4M6vWjXqui7xAZKfOLIQgQrOnNdfivQiVetzf3pR+1kK2h0fmI8RDPSYHF99HtofKimSgB4iVSQ2qpTaLaVEXeVk1a+UgqrUnNYy0PiGsJ8bGBz0j4Alke9FKt1H3ekxWLnbvJLtIGdSENThEWt81Byu4pvy69UdA7KIt8nFqN5kTmd6NVXRmPhQNJ/Nrjn+QnYjxVYtnkO2hcDwvqgLiPDslZqaEMADuJbvIWDmu86LxwX7DIr3xUAr2srXKy74xV/tuRXmNc8vEzkyyIQzTJEkiXEpKewrZRfOMJAli2GBD06H3k12kpTAvSUg5gYoqAoQ7tD6TWOxKae5vdmjZprUn3VENTV8foZzKi5AlQe9JZNc078t55xGy7Y1rkeygIS9EAPSBIfxiZqvVPj01aEYNbUs11YLnkW0BUxLzINlVoFCpUbC9GhUrTHWedllvwh+6ee9E3jvEmrOj+nWfHNLxSrL1j+08nexQM9bApGgOzu4q++1/QFC3mUcIIrelkCztSf4GXkg2m9mS4W80/WraRjrXEHpsoUO4QqUcQ9pTa5LZyi0YOVjVlHk8k2zr59EKm80wp+5c1CQ1ZR5Ud1rzKFnrPmIiT0sEHGDqI802tEr8a6toikfVj/JdCE7W8nEe943MFrZilSgyVyN3LtfnM0tOPvLHxoPz5WF7MR2wC3eZwzLX4sguPaubHuldSw5LEyUKJ0H+3/PITntrEpVuEfnDkpip3JBbyL4skz/L4kIwMtfWucP0yDsNpuN1VSvyqhx2Fp40pQqaWE8uNjBwgxD1V4XIjUPMEcqiU/gDi6LT/3xxisWvF/hw1A8vLzwYRrKuFRHqJ58VF8VK3NDH1SQdecy/HvsSffHppS/T1I9k90nkj+elBiA6TtuTqT+EMF/6vIIseIdEVb7Wd9xNI58ft5QVvafbzZqXU/cFgJZc/iFKuuUffZuyKh3MF6l3vQND48+1pf8D1VzrsUD+lLXXpGic0WRyqF4OuXouH6yagSJhS5EL25oW0pOJJe4FTUVZfrZ85fbQ8WC6zqaD13w3ALpvlUKIjrvsoR9AAAlRUWPjclUMStupbP7NwVVqa431FVrg4TocHLad7YlATyUf5V8En18dtyY5GLvOUrcCdW5ps+5bbzeSbbiMQkf6OrIluBpxq8hQ60av9UMIClzTt9uW/wC4f5W6MrcUou38wU2YIJ12l3x3WMs0Gk4XZNuqo6yAXIUbt2l4T/D065okhgp2yh4hnht9PJWu+4ZhgQFfn/hOKnWuVQ16ZOvENqQKPn+btz8I8J06bVi2KNnZLmznzo6ofwHgYnX4nPdO1B4LT46504gdIlb8q3ax/DFA8KBdtE9CrtlGpM4Q1MYh5Ck4LjbfH2Jz4BatvVFc9wYiUo9Yy1WT+3Z1fVuA67TZL5fLXddYMQSWkm3c+NkBEbrsbBEByF207YkgsJa7tDEeBVjKoAo+1rsq9yKW1k2PAiI9no5raIs/Q0Ut/LcUftYiTljT8Afkd924D/d7YwMqgnrWspZ9IiPfoQqD5TJWjcKZVQPJvQD9bqmuEEOUy0P+qSLc2VjuNoN8XUEHavNMyqqhvOVZBEOb1fo/h76MOUfJQactX4zVDqykFPOPj9ruEXSTaSo/zmbyuuhX7V3+C5BJpYwinB7W/TzI+/tTyrQE6SipaIODysNA1E82i2yQB4PpfJSofdmicWeJlJBp2XYkwmEBbKRzh0cLaVmib/FFmV9c5+sJs8Y2px04ljW5WUI+PfsWl8HIb8rSQ/73fNf3ryGY1O8+S/Co1pjOVvUpqKTzP9VhTu200TBttN0WHrZeR8L0O76g/EcRHwgup9sRhjetZvJ8FZY3CkY0HHdhx0bE8zTClCAOQnFk+4yEBdPh9jIvygsjPxl1K5l25PvPdFtsTOytJqe9e+QwXi424wRRSpLzbDftbBBnBEEe3ENXHOT3XdihQ4cOHTp06NChQ4cOHTp06NDhvfF/R9/0TFqpM/sAAAAASUVORK5CYII=)"
      ],
      "metadata": {
        "id": "cwvnPsY5xD-b"
      }
    },
    {
      "cell_type": "markdown",
      "source": [
        "\n",
        "Since 2008, guests and hosts have used Airbnb to travel in a more unique, personalized way. As part of the Airbnb Inside initiative, this dataset describes the listing activity of homestays in New York City.\n",
        "\n",
        "**Source**:https://www.kaggle.com/datasets/arianazmoudeh/airbnbopendata?select=Airbnb_Open_Data.csv\n",
        "\n",
        "**Acknowledgment**:This dataset is part of Airbnb Inside but I tried to make new columns and many data inconsistency issue to create a new dataset to practice data cleaning. \n",
        "\n",
        "The original source can be found here http://insideairbnb.com/explore/"
      ],
      "metadata": {
        "id": "Lie0oSIPwT-8"
      }
    },
    {
      "cell_type": "markdown",
      "source": [
        "# **AIM**\n",
        "Whas is the price of a airbnb according to the location? I will focus in predict the price of a stay according to the location."
      ],
      "metadata": {
        "id": "xi9g0EE7xUsO"
      }
    },
    {
      "cell_type": "markdown",
      "source": [
        "# **Loading Information**"
      ],
      "metadata": {
        "id": "pP7PwfrvxnXB"
      }
    },
    {
      "cell_type": "markdown",
      "source": [
        "Import the libraries"
      ],
      "metadata": {
        "id": "sUEqw_8Ax-o3"
      }
    },
    {
      "cell_type": "code",
      "execution_count": 14,
      "metadata": {
        "id": "ylVjSZB4vGOS"
      },
      "outputs": [],
      "source": [
        "import pandas as pd\n",
        "import numpy as np\n",
        "import matplotlib.pyplot as plt\n",
        "import seaborn as sns\n",
        "from sklearn.model_selection import train_test_split"
      ]
    },
    {
      "cell_type": "markdown",
      "source": [
        "Load the datased chosen"
      ],
      "metadata": {
        "id": "9GvlhWf_yB0y"
      }
    },
    {
      "cell_type": "code",
      "source": [
        "df_airnb = pd.read_csv('/content/drive/MyDrive/CODING DOJO/Material Apoyo/Airbnb_Open_Data.csv', index_col = 'id')\n",
        "#df_airnb = pd.read_csv(\"https://www.kaggle.com/datasets/arianazmoudeh/airbnbopendata?select=Airbnb_Open_Data.csv\",  index_col = 'id')\n",
        "df_airnb.head(5)"
      ],
      "metadata": {
        "id": "fbMChyIQw3rL",
        "colab": {
          "base_uri": "https://localhost:8080/",
          "height": 644
        },
        "outputId": "45520149-27b1-4fa9-feca-10658c4ce0c5"
      },
      "execution_count": 15,
      "outputs": [
        {
          "output_type": "stream",
          "name": "stderr",
          "text": [
            "/usr/local/lib/python3.7/dist-packages/IPython/core/interactiveshell.py:3326: DtypeWarning: Columns (25) have mixed types.Specify dtype option on import or set low_memory=False.\n",
            "  exec(code_obj, self.user_global_ns, self.user_ns)\n"
          ]
        },
        {
          "output_type": "execute_result",
          "data": {
            "text/plain": [
              "                                                     NAME      host id  \\\n",
              "id                                                                       \n",
              "1001254                Clean & quiet apt home by the park  80014485718   \n",
              "1002102                             Skylit Midtown Castle  52335172823   \n",
              "1002403               THE VILLAGE OF HARLEM....NEW YORK !  78829239556   \n",
              "1002755                                               NaN  85098326012   \n",
              "1003689  Entire Apt: Spacious Studio/Loft by central park  92037596077   \n",
              "\n",
              "        host_identity_verified host name neighbourhood group neighbourhood  \\\n",
              "id                                                                           \n",
              "1001254            unconfirmed  Madaline            Brooklyn    Kensington   \n",
              "1002102               verified     Jenna           Manhattan       Midtown   \n",
              "1002403                    NaN     Elise           Manhattan        Harlem   \n",
              "1002755            unconfirmed     Garry            Brooklyn  Clinton Hill   \n",
              "1003689               verified    Lyndon           Manhattan   East Harlem   \n",
              "\n",
              "              lat      long        country country code  ... service fee  \\\n",
              "id                                                       ...               \n",
              "1001254  40.64749 -73.97237  United States           US  ...       $193    \n",
              "1002102  40.75362 -73.98377  United States           US  ...        $28    \n",
              "1002403  40.80902 -73.94190  United States           US  ...       $124    \n",
              "1002755  40.68514 -73.95976  United States           US  ...        $74    \n",
              "1003689  40.79851 -73.94399  United States           US  ...        $41    \n",
              "\n",
              "        minimum nights number of reviews  last review reviews per month  \\\n",
              "id                                                                        \n",
              "1001254           10.0               9.0   10/19/2021              0.21   \n",
              "1002102           30.0              45.0    5/21/2022              0.38   \n",
              "1002403            3.0               0.0          NaN               NaN   \n",
              "1002755           30.0             270.0     7/5/2019              4.64   \n",
              "1003689           10.0               9.0   11/19/2018              0.10   \n",
              "\n",
              "        review rate number  calculated host listings count  availability 365  \\\n",
              "id                                                                             \n",
              "1001254                4.0                             6.0             286.0   \n",
              "1002102                4.0                             2.0             228.0   \n",
              "1002403                5.0                             1.0             352.0   \n",
              "1002755                4.0                             1.0             322.0   \n",
              "1003689                3.0                             1.0             289.0   \n",
              "\n",
              "                                               house_rules  license  \n",
              "id                                                                   \n",
              "1001254  Clean up and treat the home the way you'd like...      NaN  \n",
              "1002102  Pet friendly but please confirm with me if the...      NaN  \n",
              "1002403  I encourage you to use my kitchen, cooking and...      NaN  \n",
              "1002755                                                NaN      NaN  \n",
              "1003689  Please no smoking in the house, porch or on th...      NaN  \n",
              "\n",
              "[5 rows x 25 columns]"
            ],
            "text/html": [
              "\n",
              "  <div id=\"df-f3df035a-6297-426a-a02d-750a162ed8da\">\n",
              "    <div class=\"colab-df-container\">\n",
              "      <div>\n",
              "<style scoped>\n",
              "    .dataframe tbody tr th:only-of-type {\n",
              "        vertical-align: middle;\n",
              "    }\n",
              "\n",
              "    .dataframe tbody tr th {\n",
              "        vertical-align: top;\n",
              "    }\n",
              "\n",
              "    .dataframe thead th {\n",
              "        text-align: right;\n",
              "    }\n",
              "</style>\n",
              "<table border=\"1\" class=\"dataframe\">\n",
              "  <thead>\n",
              "    <tr style=\"text-align: right;\">\n",
              "      <th></th>\n",
              "      <th>NAME</th>\n",
              "      <th>host id</th>\n",
              "      <th>host_identity_verified</th>\n",
              "      <th>host name</th>\n",
              "      <th>neighbourhood group</th>\n",
              "      <th>neighbourhood</th>\n",
              "      <th>lat</th>\n",
              "      <th>long</th>\n",
              "      <th>country</th>\n",
              "      <th>country code</th>\n",
              "      <th>...</th>\n",
              "      <th>service fee</th>\n",
              "      <th>minimum nights</th>\n",
              "      <th>number of reviews</th>\n",
              "      <th>last review</th>\n",
              "      <th>reviews per month</th>\n",
              "      <th>review rate number</th>\n",
              "      <th>calculated host listings count</th>\n",
              "      <th>availability 365</th>\n",
              "      <th>house_rules</th>\n",
              "      <th>license</th>\n",
              "    </tr>\n",
              "    <tr>\n",
              "      <th>id</th>\n",
              "      <th></th>\n",
              "      <th></th>\n",
              "      <th></th>\n",
              "      <th></th>\n",
              "      <th></th>\n",
              "      <th></th>\n",
              "      <th></th>\n",
              "      <th></th>\n",
              "      <th></th>\n",
              "      <th></th>\n",
              "      <th></th>\n",
              "      <th></th>\n",
              "      <th></th>\n",
              "      <th></th>\n",
              "      <th></th>\n",
              "      <th></th>\n",
              "      <th></th>\n",
              "      <th></th>\n",
              "      <th></th>\n",
              "      <th></th>\n",
              "      <th></th>\n",
              "    </tr>\n",
              "  </thead>\n",
              "  <tbody>\n",
              "    <tr>\n",
              "      <th>1001254</th>\n",
              "      <td>Clean &amp; quiet apt home by the park</td>\n",
              "      <td>80014485718</td>\n",
              "      <td>unconfirmed</td>\n",
              "      <td>Madaline</td>\n",
              "      <td>Brooklyn</td>\n",
              "      <td>Kensington</td>\n",
              "      <td>40.64749</td>\n",
              "      <td>-73.97237</td>\n",
              "      <td>United States</td>\n",
              "      <td>US</td>\n",
              "      <td>...</td>\n",
              "      <td>$193</td>\n",
              "      <td>10.0</td>\n",
              "      <td>9.0</td>\n",
              "      <td>10/19/2021</td>\n",
              "      <td>0.21</td>\n",
              "      <td>4.0</td>\n",
              "      <td>6.0</td>\n",
              "      <td>286.0</td>\n",
              "      <td>Clean up and treat the home the way you'd like...</td>\n",
              "      <td>NaN</td>\n",
              "    </tr>\n",
              "    <tr>\n",
              "      <th>1002102</th>\n",
              "      <td>Skylit Midtown Castle</td>\n",
              "      <td>52335172823</td>\n",
              "      <td>verified</td>\n",
              "      <td>Jenna</td>\n",
              "      <td>Manhattan</td>\n",
              "      <td>Midtown</td>\n",
              "      <td>40.75362</td>\n",
              "      <td>-73.98377</td>\n",
              "      <td>United States</td>\n",
              "      <td>US</td>\n",
              "      <td>...</td>\n",
              "      <td>$28</td>\n",
              "      <td>30.0</td>\n",
              "      <td>45.0</td>\n",
              "      <td>5/21/2022</td>\n",
              "      <td>0.38</td>\n",
              "      <td>4.0</td>\n",
              "      <td>2.0</td>\n",
              "      <td>228.0</td>\n",
              "      <td>Pet friendly but please confirm with me if the...</td>\n",
              "      <td>NaN</td>\n",
              "    </tr>\n",
              "    <tr>\n",
              "      <th>1002403</th>\n",
              "      <td>THE VILLAGE OF HARLEM....NEW YORK !</td>\n",
              "      <td>78829239556</td>\n",
              "      <td>NaN</td>\n",
              "      <td>Elise</td>\n",
              "      <td>Manhattan</td>\n",
              "      <td>Harlem</td>\n",
              "      <td>40.80902</td>\n",
              "      <td>-73.94190</td>\n",
              "      <td>United States</td>\n",
              "      <td>US</td>\n",
              "      <td>...</td>\n",
              "      <td>$124</td>\n",
              "      <td>3.0</td>\n",
              "      <td>0.0</td>\n",
              "      <td>NaN</td>\n",
              "      <td>NaN</td>\n",
              "      <td>5.0</td>\n",
              "      <td>1.0</td>\n",
              "      <td>352.0</td>\n",
              "      <td>I encourage you to use my kitchen, cooking and...</td>\n",
              "      <td>NaN</td>\n",
              "    </tr>\n",
              "    <tr>\n",
              "      <th>1002755</th>\n",
              "      <td>NaN</td>\n",
              "      <td>85098326012</td>\n",
              "      <td>unconfirmed</td>\n",
              "      <td>Garry</td>\n",
              "      <td>Brooklyn</td>\n",
              "      <td>Clinton Hill</td>\n",
              "      <td>40.68514</td>\n",
              "      <td>-73.95976</td>\n",
              "      <td>United States</td>\n",
              "      <td>US</td>\n",
              "      <td>...</td>\n",
              "      <td>$74</td>\n",
              "      <td>30.0</td>\n",
              "      <td>270.0</td>\n",
              "      <td>7/5/2019</td>\n",
              "      <td>4.64</td>\n",
              "      <td>4.0</td>\n",
              "      <td>1.0</td>\n",
              "      <td>322.0</td>\n",
              "      <td>NaN</td>\n",
              "      <td>NaN</td>\n",
              "    </tr>\n",
              "    <tr>\n",
              "      <th>1003689</th>\n",
              "      <td>Entire Apt: Spacious Studio/Loft by central park</td>\n",
              "      <td>92037596077</td>\n",
              "      <td>verified</td>\n",
              "      <td>Lyndon</td>\n",
              "      <td>Manhattan</td>\n",
              "      <td>East Harlem</td>\n",
              "      <td>40.79851</td>\n",
              "      <td>-73.94399</td>\n",
              "      <td>United States</td>\n",
              "      <td>US</td>\n",
              "      <td>...</td>\n",
              "      <td>$41</td>\n",
              "      <td>10.0</td>\n",
              "      <td>9.0</td>\n",
              "      <td>11/19/2018</td>\n",
              "      <td>0.10</td>\n",
              "      <td>3.0</td>\n",
              "      <td>1.0</td>\n",
              "      <td>289.0</td>\n",
              "      <td>Please no smoking in the house, porch or on th...</td>\n",
              "      <td>NaN</td>\n",
              "    </tr>\n",
              "  </tbody>\n",
              "</table>\n",
              "<p>5 rows × 25 columns</p>\n",
              "</div>\n",
              "      <button class=\"colab-df-convert\" onclick=\"convertToInteractive('df-f3df035a-6297-426a-a02d-750a162ed8da')\"\n",
              "              title=\"Convert this dataframe to an interactive table.\"\n",
              "              style=\"display:none;\">\n",
              "        \n",
              "  <svg xmlns=\"http://www.w3.org/2000/svg\" height=\"24px\"viewBox=\"0 0 24 24\"\n",
              "       width=\"24px\">\n",
              "    <path d=\"M0 0h24v24H0V0z\" fill=\"none\"/>\n",
              "    <path d=\"M18.56 5.44l.94 2.06.94-2.06 2.06-.94-2.06-.94-.94-2.06-.94 2.06-2.06.94zm-11 1L8.5 8.5l.94-2.06 2.06-.94-2.06-.94L8.5 2.5l-.94 2.06-2.06.94zm10 10l.94 2.06.94-2.06 2.06-.94-2.06-.94-.94-2.06-.94 2.06-2.06.94z\"/><path d=\"M17.41 7.96l-1.37-1.37c-.4-.4-.92-.59-1.43-.59-.52 0-1.04.2-1.43.59L10.3 9.45l-7.72 7.72c-.78.78-.78 2.05 0 2.83L4 21.41c.39.39.9.59 1.41.59.51 0 1.02-.2 1.41-.59l7.78-7.78 2.81-2.81c.8-.78.8-2.07 0-2.86zM5.41 20L4 18.59l7.72-7.72 1.47 1.35L5.41 20z\"/>\n",
              "  </svg>\n",
              "      </button>\n",
              "      \n",
              "  <style>\n",
              "    .colab-df-container {\n",
              "      display:flex;\n",
              "      flex-wrap:wrap;\n",
              "      gap: 12px;\n",
              "    }\n",
              "\n",
              "    .colab-df-convert {\n",
              "      background-color: #E8F0FE;\n",
              "      border: none;\n",
              "      border-radius: 50%;\n",
              "      cursor: pointer;\n",
              "      display: none;\n",
              "      fill: #1967D2;\n",
              "      height: 32px;\n",
              "      padding: 0 0 0 0;\n",
              "      width: 32px;\n",
              "    }\n",
              "\n",
              "    .colab-df-convert:hover {\n",
              "      background-color: #E2EBFA;\n",
              "      box-shadow: 0px 1px 2px rgba(60, 64, 67, 0.3), 0px 1px 3px 1px rgba(60, 64, 67, 0.15);\n",
              "      fill: #174EA6;\n",
              "    }\n",
              "\n",
              "    [theme=dark] .colab-df-convert {\n",
              "      background-color: #3B4455;\n",
              "      fill: #D2E3FC;\n",
              "    }\n",
              "\n",
              "    [theme=dark] .colab-df-convert:hover {\n",
              "      background-color: #434B5C;\n",
              "      box-shadow: 0px 1px 3px 1px rgba(0, 0, 0, 0.15);\n",
              "      filter: drop-shadow(0px 1px 2px rgba(0, 0, 0, 0.3));\n",
              "      fill: #FFFFFF;\n",
              "    }\n",
              "  </style>\n",
              "\n",
              "      <script>\n",
              "        const buttonEl =\n",
              "          document.querySelector('#df-f3df035a-6297-426a-a02d-750a162ed8da button.colab-df-convert');\n",
              "        buttonEl.style.display =\n",
              "          google.colab.kernel.accessAllowed ? 'block' : 'none';\n",
              "\n",
              "        async function convertToInteractive(key) {\n",
              "          const element = document.querySelector('#df-f3df035a-6297-426a-a02d-750a162ed8da');\n",
              "          const dataTable =\n",
              "            await google.colab.kernel.invokeFunction('convertToInteractive',\n",
              "                                                     [key], {});\n",
              "          if (!dataTable) return;\n",
              "\n",
              "          const docLinkHtml = 'Like what you see? Visit the ' +\n",
              "            '<a target=\"_blank\" href=https://colab.research.google.com/notebooks/data_table.ipynb>data table notebook</a>'\n",
              "            + ' to learn more about interactive tables.';\n",
              "          element.innerHTML = '';\n",
              "          dataTable['output_type'] = 'display_data';\n",
              "          await google.colab.output.renderOutput(dataTable, element);\n",
              "          const docLink = document.createElement('div');\n",
              "          docLink.innerHTML = docLinkHtml;\n",
              "          element.appendChild(docLink);\n",
              "        }\n",
              "      </script>\n",
              "    </div>\n",
              "  </div>\n",
              "  "
            ]
          },
          "metadata": {},
          "execution_count": 15
        }
      ]
    },
    {
      "cell_type": "code",
      "source": [
        "from google.colab import drive\n",
        "drive.mount('/content/drive')"
      ],
      "metadata": {
        "colab": {
          "base_uri": "https://localhost:8080/"
        },
        "id": "GOU3lkO0wDIV",
        "outputId": "8c3a196d-417e-4ba7-df3f-aa1e34863849"
      },
      "execution_count": 16,
      "outputs": [
        {
          "output_type": "stream",
          "name": "stdout",
          "text": [
            "Drive already mounted at /content/drive; to attempt to forcibly remount, call drive.mount(\"/content/drive\", force_remount=True).\n"
          ]
        }
      ]
    },
    {
      "cell_type": "markdown",
      "source": [
        "# **Exploring the data**"
      ],
      "metadata": {
        "id": "KXy_LGqxzGy4"
      }
    },
    {
      "cell_type": "code",
      "source": [
        "df_airnb.info()"
      ],
      "metadata": {
        "colab": {
          "base_uri": "https://localhost:8080/"
        },
        "id": "jGix5FdPzH5q",
        "outputId": "c182e959-9213-4d95-a15d-7eec276da921"
      },
      "execution_count": 17,
      "outputs": [
        {
          "output_type": "stream",
          "name": "stdout",
          "text": [
            "<class 'pandas.core.frame.DataFrame'>\n",
            "Int64Index: 102599 entries, 1001254 to 6094647\n",
            "Data columns (total 25 columns):\n",
            " #   Column                          Non-Null Count   Dtype  \n",
            "---  ------                          --------------   -----  \n",
            " 0   NAME                            102349 non-null  object \n",
            " 1   host id                         102599 non-null  int64  \n",
            " 2   host_identity_verified          102310 non-null  object \n",
            " 3   host name                       102193 non-null  object \n",
            " 4   neighbourhood group             102570 non-null  object \n",
            " 5   neighbourhood                   102583 non-null  object \n",
            " 6   lat                             102591 non-null  float64\n",
            " 7   long                            102591 non-null  float64\n",
            " 8   country                         102067 non-null  object \n",
            " 9   country code                    102468 non-null  object \n",
            " 10  instant_bookable                102494 non-null  object \n",
            " 11  cancellation_policy             102523 non-null  object \n",
            " 12  room type                       102599 non-null  object \n",
            " 13  Construction year               102385 non-null  float64\n",
            " 14  price                           102352 non-null  object \n",
            " 15  service fee                     102326 non-null  object \n",
            " 16  minimum nights                  102190 non-null  float64\n",
            " 17  number of reviews               102416 non-null  float64\n",
            " 18  last review                     86706 non-null   object \n",
            " 19  reviews per month               86720 non-null   float64\n",
            " 20  review rate number              102273 non-null  float64\n",
            " 21  calculated host listings count  102280 non-null  float64\n",
            " 22  availability 365                102151 non-null  float64\n",
            " 23  house_rules                     50468 non-null   object \n",
            " 24  license                         2 non-null       object \n",
            "dtypes: float64(9), int64(1), object(15)\n",
            "memory usage: 20.4+ MB\n"
          ]
        }
      ]
    },
    {
      "cell_type": "code",
      "source": [
        "df_airnb.shape"
      ],
      "metadata": {
        "colab": {
          "base_uri": "https://localhost:8080/"
        },
        "id": "mzTmLj0szOUW",
        "outputId": "3316a479-7cc3-4992-bdc9-e437b89ce4c7"
      },
      "execution_count": 18,
      "outputs": [
        {
          "output_type": "execute_result",
          "data": {
            "text/plain": [
              "(102599, 25)"
            ]
          },
          "metadata": {},
          "execution_count": 18
        }
      ]
    },
    {
      "cell_type": "code",
      "source": [
        "df_airnb.size"
      ],
      "metadata": {
        "colab": {
          "base_uri": "https://localhost:8080/"
        },
        "id": "USW_n3_lzQgc",
        "outputId": "6fe11fa2-8c57-4859-cb94-bd042d39aed8"
      },
      "execution_count": 19,
      "outputs": [
        {
          "output_type": "execute_result",
          "data": {
            "text/plain": [
              "2564975"
            ]
          },
          "metadata": {},
          "execution_count": 19
        }
      ]
    },
    {
      "cell_type": "markdown",
      "source": [
        "Our dataset is shaped by a total of 2.667.574 registers, distribuited like this:\n",
        "\n",
        "\n",
        "102.599 Rows\n",
        "26 columnns , it means 25 columns conform the set of characteristics if I dont count my target variable."
      ],
      "metadata": {
        "id": "Xdlg0vUIzq6T"
      }
    },
    {
      "cell_type": "code",
      "source": [
        "df_airnb.describe()"
      ],
      "metadata": {
        "colab": {
          "base_uri": "https://localhost:8080/",
          "height": 416
        },
        "id": "w0hk5LuBzgnL",
        "outputId": "5a935e33-c85f-45ed-fd9d-124f36c4ad86"
      },
      "execution_count": 20,
      "outputs": [
        {
          "output_type": "execute_result",
          "data": {
            "text/plain": [
              "            host id            lat           long  Construction year  \\\n",
              "count  1.025990e+05  102591.000000  102591.000000      102385.000000   \n",
              "mean   4.925411e+10      40.728094     -73.949644        2012.487464   \n",
              "std    2.853900e+10       0.055857       0.049521           5.765556   \n",
              "min    1.236005e+08      40.499790     -74.249840        2003.000000   \n",
              "25%    2.458333e+10      40.688740     -73.982580        2007.000000   \n",
              "50%    4.911774e+10      40.722290     -73.954440        2012.000000   \n",
              "75%    7.399650e+10      40.762760     -73.932350        2017.000000   \n",
              "max    9.876313e+10      40.916970     -73.705220        2022.000000   \n",
              "\n",
              "       minimum nights  number of reviews  reviews per month  \\\n",
              "count   102190.000000      102416.000000       86720.000000   \n",
              "mean         8.135845          27.483743           1.374022   \n",
              "std         30.553781          49.508954           1.746621   \n",
              "min      -1223.000000           0.000000           0.010000   \n",
              "25%          2.000000           1.000000           0.220000   \n",
              "50%          3.000000           7.000000           0.740000   \n",
              "75%          5.000000          30.000000           2.000000   \n",
              "max       5645.000000        1024.000000          90.000000   \n",
              "\n",
              "       review rate number  calculated host listings count  availability 365  \n",
              "count       102273.000000                   102280.000000     102151.000000  \n",
              "mean             3.279106                        7.936605        141.133254  \n",
              "std              1.284657                       32.218780        135.435024  \n",
              "min              1.000000                        1.000000        -10.000000  \n",
              "25%              2.000000                        1.000000          3.000000  \n",
              "50%              3.000000                        1.000000         96.000000  \n",
              "75%              4.000000                        2.000000        269.000000  \n",
              "max              5.000000                      332.000000       3677.000000  "
            ],
            "text/html": [
              "\n",
              "  <div id=\"df-fb0421fc-5b71-4632-aa21-7fabb0d82295\">\n",
              "    <div class=\"colab-df-container\">\n",
              "      <div>\n",
              "<style scoped>\n",
              "    .dataframe tbody tr th:only-of-type {\n",
              "        vertical-align: middle;\n",
              "    }\n",
              "\n",
              "    .dataframe tbody tr th {\n",
              "        vertical-align: top;\n",
              "    }\n",
              "\n",
              "    .dataframe thead th {\n",
              "        text-align: right;\n",
              "    }\n",
              "</style>\n",
              "<table border=\"1\" class=\"dataframe\">\n",
              "  <thead>\n",
              "    <tr style=\"text-align: right;\">\n",
              "      <th></th>\n",
              "      <th>host id</th>\n",
              "      <th>lat</th>\n",
              "      <th>long</th>\n",
              "      <th>Construction year</th>\n",
              "      <th>minimum nights</th>\n",
              "      <th>number of reviews</th>\n",
              "      <th>reviews per month</th>\n",
              "      <th>review rate number</th>\n",
              "      <th>calculated host listings count</th>\n",
              "      <th>availability 365</th>\n",
              "    </tr>\n",
              "  </thead>\n",
              "  <tbody>\n",
              "    <tr>\n",
              "      <th>count</th>\n",
              "      <td>1.025990e+05</td>\n",
              "      <td>102591.000000</td>\n",
              "      <td>102591.000000</td>\n",
              "      <td>102385.000000</td>\n",
              "      <td>102190.000000</td>\n",
              "      <td>102416.000000</td>\n",
              "      <td>86720.000000</td>\n",
              "      <td>102273.000000</td>\n",
              "      <td>102280.000000</td>\n",
              "      <td>102151.000000</td>\n",
              "    </tr>\n",
              "    <tr>\n",
              "      <th>mean</th>\n",
              "      <td>4.925411e+10</td>\n",
              "      <td>40.728094</td>\n",
              "      <td>-73.949644</td>\n",
              "      <td>2012.487464</td>\n",
              "      <td>8.135845</td>\n",
              "      <td>27.483743</td>\n",
              "      <td>1.374022</td>\n",
              "      <td>3.279106</td>\n",
              "      <td>7.936605</td>\n",
              "      <td>141.133254</td>\n",
              "    </tr>\n",
              "    <tr>\n",
              "      <th>std</th>\n",
              "      <td>2.853900e+10</td>\n",
              "      <td>0.055857</td>\n",
              "      <td>0.049521</td>\n",
              "      <td>5.765556</td>\n",
              "      <td>30.553781</td>\n",
              "      <td>49.508954</td>\n",
              "      <td>1.746621</td>\n",
              "      <td>1.284657</td>\n",
              "      <td>32.218780</td>\n",
              "      <td>135.435024</td>\n",
              "    </tr>\n",
              "    <tr>\n",
              "      <th>min</th>\n",
              "      <td>1.236005e+08</td>\n",
              "      <td>40.499790</td>\n",
              "      <td>-74.249840</td>\n",
              "      <td>2003.000000</td>\n",
              "      <td>-1223.000000</td>\n",
              "      <td>0.000000</td>\n",
              "      <td>0.010000</td>\n",
              "      <td>1.000000</td>\n",
              "      <td>1.000000</td>\n",
              "      <td>-10.000000</td>\n",
              "    </tr>\n",
              "    <tr>\n",
              "      <th>25%</th>\n",
              "      <td>2.458333e+10</td>\n",
              "      <td>40.688740</td>\n",
              "      <td>-73.982580</td>\n",
              "      <td>2007.000000</td>\n",
              "      <td>2.000000</td>\n",
              "      <td>1.000000</td>\n",
              "      <td>0.220000</td>\n",
              "      <td>2.000000</td>\n",
              "      <td>1.000000</td>\n",
              "      <td>3.000000</td>\n",
              "    </tr>\n",
              "    <tr>\n",
              "      <th>50%</th>\n",
              "      <td>4.911774e+10</td>\n",
              "      <td>40.722290</td>\n",
              "      <td>-73.954440</td>\n",
              "      <td>2012.000000</td>\n",
              "      <td>3.000000</td>\n",
              "      <td>7.000000</td>\n",
              "      <td>0.740000</td>\n",
              "      <td>3.000000</td>\n",
              "      <td>1.000000</td>\n",
              "      <td>96.000000</td>\n",
              "    </tr>\n",
              "    <tr>\n",
              "      <th>75%</th>\n",
              "      <td>7.399650e+10</td>\n",
              "      <td>40.762760</td>\n",
              "      <td>-73.932350</td>\n",
              "      <td>2017.000000</td>\n",
              "      <td>5.000000</td>\n",
              "      <td>30.000000</td>\n",
              "      <td>2.000000</td>\n",
              "      <td>4.000000</td>\n",
              "      <td>2.000000</td>\n",
              "      <td>269.000000</td>\n",
              "    </tr>\n",
              "    <tr>\n",
              "      <th>max</th>\n",
              "      <td>9.876313e+10</td>\n",
              "      <td>40.916970</td>\n",
              "      <td>-73.705220</td>\n",
              "      <td>2022.000000</td>\n",
              "      <td>5645.000000</td>\n",
              "      <td>1024.000000</td>\n",
              "      <td>90.000000</td>\n",
              "      <td>5.000000</td>\n",
              "      <td>332.000000</td>\n",
              "      <td>3677.000000</td>\n",
              "    </tr>\n",
              "  </tbody>\n",
              "</table>\n",
              "</div>\n",
              "      <button class=\"colab-df-convert\" onclick=\"convertToInteractive('df-fb0421fc-5b71-4632-aa21-7fabb0d82295')\"\n",
              "              title=\"Convert this dataframe to an interactive table.\"\n",
              "              style=\"display:none;\">\n",
              "        \n",
              "  <svg xmlns=\"http://www.w3.org/2000/svg\" height=\"24px\"viewBox=\"0 0 24 24\"\n",
              "       width=\"24px\">\n",
              "    <path d=\"M0 0h24v24H0V0z\" fill=\"none\"/>\n",
              "    <path d=\"M18.56 5.44l.94 2.06.94-2.06 2.06-.94-2.06-.94-.94-2.06-.94 2.06-2.06.94zm-11 1L8.5 8.5l.94-2.06 2.06-.94-2.06-.94L8.5 2.5l-.94 2.06-2.06.94zm10 10l.94 2.06.94-2.06 2.06-.94-2.06-.94-.94-2.06-.94 2.06-2.06.94z\"/><path d=\"M17.41 7.96l-1.37-1.37c-.4-.4-.92-.59-1.43-.59-.52 0-1.04.2-1.43.59L10.3 9.45l-7.72 7.72c-.78.78-.78 2.05 0 2.83L4 21.41c.39.39.9.59 1.41.59.51 0 1.02-.2 1.41-.59l7.78-7.78 2.81-2.81c.8-.78.8-2.07 0-2.86zM5.41 20L4 18.59l7.72-7.72 1.47 1.35L5.41 20z\"/>\n",
              "  </svg>\n",
              "      </button>\n",
              "      \n",
              "  <style>\n",
              "    .colab-df-container {\n",
              "      display:flex;\n",
              "      flex-wrap:wrap;\n",
              "      gap: 12px;\n",
              "    }\n",
              "\n",
              "    .colab-df-convert {\n",
              "      background-color: #E8F0FE;\n",
              "      border: none;\n",
              "      border-radius: 50%;\n",
              "      cursor: pointer;\n",
              "      display: none;\n",
              "      fill: #1967D2;\n",
              "      height: 32px;\n",
              "      padding: 0 0 0 0;\n",
              "      width: 32px;\n",
              "    }\n",
              "\n",
              "    .colab-df-convert:hover {\n",
              "      background-color: #E2EBFA;\n",
              "      box-shadow: 0px 1px 2px rgba(60, 64, 67, 0.3), 0px 1px 3px 1px rgba(60, 64, 67, 0.15);\n",
              "      fill: #174EA6;\n",
              "    }\n",
              "\n",
              "    [theme=dark] .colab-df-convert {\n",
              "      background-color: #3B4455;\n",
              "      fill: #D2E3FC;\n",
              "    }\n",
              "\n",
              "    [theme=dark] .colab-df-convert:hover {\n",
              "      background-color: #434B5C;\n",
              "      box-shadow: 0px 1px 3px 1px rgba(0, 0, 0, 0.15);\n",
              "      filter: drop-shadow(0px 1px 2px rgba(0, 0, 0, 0.3));\n",
              "      fill: #FFFFFF;\n",
              "    }\n",
              "  </style>\n",
              "\n",
              "      <script>\n",
              "        const buttonEl =\n",
              "          document.querySelector('#df-fb0421fc-5b71-4632-aa21-7fabb0d82295 button.colab-df-convert');\n",
              "        buttonEl.style.display =\n",
              "          google.colab.kernel.accessAllowed ? 'block' : 'none';\n",
              "\n",
              "        async function convertToInteractive(key) {\n",
              "          const element = document.querySelector('#df-fb0421fc-5b71-4632-aa21-7fabb0d82295');\n",
              "          const dataTable =\n",
              "            await google.colab.kernel.invokeFunction('convertToInteractive',\n",
              "                                                     [key], {});\n",
              "          if (!dataTable) return;\n",
              "\n",
              "          const docLinkHtml = 'Like what you see? Visit the ' +\n",
              "            '<a target=\"_blank\" href=https://colab.research.google.com/notebooks/data_table.ipynb>data table notebook</a>'\n",
              "            + ' to learn more about interactive tables.';\n",
              "          element.innerHTML = '';\n",
              "          dataTable['output_type'] = 'display_data';\n",
              "          await google.colab.output.renderOutput(dataTable, element);\n",
              "          const docLink = document.createElement('div');\n",
              "          docLink.innerHTML = docLinkHtml;\n",
              "          element.appendChild(docLink);\n",
              "        }\n",
              "      </script>\n",
              "    </div>\n",
              "  </div>\n",
              "  "
            ]
          },
          "metadata": {},
          "execution_count": 20
        }
      ]
    },
    {
      "cell_type": "code",
      "source": [
        "df_airnb.describe().T"
      ],
      "metadata": {
        "colab": {
          "base_uri": "https://localhost:8080/",
          "height": 424
        },
        "id": "5Kov8S9ezmF9",
        "outputId": "54b21e79-d4b1-4ab8-fb61-44cf43d63b68"
      },
      "execution_count": 21,
      "outputs": [
        {
          "output_type": "execute_result",
          "data": {
            "text/plain": [
              "                                   count          mean           std  \\\n",
              "host id                         102599.0  4.925411e+10  2.853900e+10   \n",
              "lat                             102591.0  4.072809e+01  5.585652e-02   \n",
              "long                            102591.0 -7.394964e+01  4.952126e-02   \n",
              "Construction year               102385.0  2.012487e+03  5.765556e+00   \n",
              "minimum nights                  102190.0  8.135845e+00  3.055378e+01   \n",
              "number of reviews               102416.0  2.748374e+01  4.950895e+01   \n",
              "reviews per month                86720.0  1.374022e+00  1.746621e+00   \n",
              "review rate number              102273.0  3.279106e+00  1.284657e+00   \n",
              "calculated host listings count  102280.0  7.936605e+00  3.221878e+01   \n",
              "availability 365                102151.0  1.411333e+02  1.354350e+02   \n",
              "\n",
              "                                         min           25%           50%  \\\n",
              "host id                         1.236005e+08  2.458333e+10  4.911774e+10   \n",
              "lat                             4.049979e+01  4.068874e+01  4.072229e+01   \n",
              "long                           -7.424984e+01 -7.398258e+01 -7.395444e+01   \n",
              "Construction year               2.003000e+03  2.007000e+03  2.012000e+03   \n",
              "minimum nights                 -1.223000e+03  2.000000e+00  3.000000e+00   \n",
              "number of reviews               0.000000e+00  1.000000e+00  7.000000e+00   \n",
              "reviews per month               1.000000e-02  2.200000e-01  7.400000e-01   \n",
              "review rate number              1.000000e+00  2.000000e+00  3.000000e+00   \n",
              "calculated host listings count  1.000000e+00  1.000000e+00  1.000000e+00   \n",
              "availability 365               -1.000000e+01  3.000000e+00  9.600000e+01   \n",
              "\n",
              "                                         75%           max  \n",
              "host id                         7.399650e+10  9.876313e+10  \n",
              "lat                             4.076276e+01  4.091697e+01  \n",
              "long                           -7.393235e+01 -7.370522e+01  \n",
              "Construction year               2.017000e+03  2.022000e+03  \n",
              "minimum nights                  5.000000e+00  5.645000e+03  \n",
              "number of reviews               3.000000e+01  1.024000e+03  \n",
              "reviews per month               2.000000e+00  9.000000e+01  \n",
              "review rate number              4.000000e+00  5.000000e+00  \n",
              "calculated host listings count  2.000000e+00  3.320000e+02  \n",
              "availability 365                2.690000e+02  3.677000e+03  "
            ],
            "text/html": [
              "\n",
              "  <div id=\"df-edf80de9-625e-4901-858f-02391805d8ee\">\n",
              "    <div class=\"colab-df-container\">\n",
              "      <div>\n",
              "<style scoped>\n",
              "    .dataframe tbody tr th:only-of-type {\n",
              "        vertical-align: middle;\n",
              "    }\n",
              "\n",
              "    .dataframe tbody tr th {\n",
              "        vertical-align: top;\n",
              "    }\n",
              "\n",
              "    .dataframe thead th {\n",
              "        text-align: right;\n",
              "    }\n",
              "</style>\n",
              "<table border=\"1\" class=\"dataframe\">\n",
              "  <thead>\n",
              "    <tr style=\"text-align: right;\">\n",
              "      <th></th>\n",
              "      <th>count</th>\n",
              "      <th>mean</th>\n",
              "      <th>std</th>\n",
              "      <th>min</th>\n",
              "      <th>25%</th>\n",
              "      <th>50%</th>\n",
              "      <th>75%</th>\n",
              "      <th>max</th>\n",
              "    </tr>\n",
              "  </thead>\n",
              "  <tbody>\n",
              "    <tr>\n",
              "      <th>host id</th>\n",
              "      <td>102599.0</td>\n",
              "      <td>4.925411e+10</td>\n",
              "      <td>2.853900e+10</td>\n",
              "      <td>1.236005e+08</td>\n",
              "      <td>2.458333e+10</td>\n",
              "      <td>4.911774e+10</td>\n",
              "      <td>7.399650e+10</td>\n",
              "      <td>9.876313e+10</td>\n",
              "    </tr>\n",
              "    <tr>\n",
              "      <th>lat</th>\n",
              "      <td>102591.0</td>\n",
              "      <td>4.072809e+01</td>\n",
              "      <td>5.585652e-02</td>\n",
              "      <td>4.049979e+01</td>\n",
              "      <td>4.068874e+01</td>\n",
              "      <td>4.072229e+01</td>\n",
              "      <td>4.076276e+01</td>\n",
              "      <td>4.091697e+01</td>\n",
              "    </tr>\n",
              "    <tr>\n",
              "      <th>long</th>\n",
              "      <td>102591.0</td>\n",
              "      <td>-7.394964e+01</td>\n",
              "      <td>4.952126e-02</td>\n",
              "      <td>-7.424984e+01</td>\n",
              "      <td>-7.398258e+01</td>\n",
              "      <td>-7.395444e+01</td>\n",
              "      <td>-7.393235e+01</td>\n",
              "      <td>-7.370522e+01</td>\n",
              "    </tr>\n",
              "    <tr>\n",
              "      <th>Construction year</th>\n",
              "      <td>102385.0</td>\n",
              "      <td>2.012487e+03</td>\n",
              "      <td>5.765556e+00</td>\n",
              "      <td>2.003000e+03</td>\n",
              "      <td>2.007000e+03</td>\n",
              "      <td>2.012000e+03</td>\n",
              "      <td>2.017000e+03</td>\n",
              "      <td>2.022000e+03</td>\n",
              "    </tr>\n",
              "    <tr>\n",
              "      <th>minimum nights</th>\n",
              "      <td>102190.0</td>\n",
              "      <td>8.135845e+00</td>\n",
              "      <td>3.055378e+01</td>\n",
              "      <td>-1.223000e+03</td>\n",
              "      <td>2.000000e+00</td>\n",
              "      <td>3.000000e+00</td>\n",
              "      <td>5.000000e+00</td>\n",
              "      <td>5.645000e+03</td>\n",
              "    </tr>\n",
              "    <tr>\n",
              "      <th>number of reviews</th>\n",
              "      <td>102416.0</td>\n",
              "      <td>2.748374e+01</td>\n",
              "      <td>4.950895e+01</td>\n",
              "      <td>0.000000e+00</td>\n",
              "      <td>1.000000e+00</td>\n",
              "      <td>7.000000e+00</td>\n",
              "      <td>3.000000e+01</td>\n",
              "      <td>1.024000e+03</td>\n",
              "    </tr>\n",
              "    <tr>\n",
              "      <th>reviews per month</th>\n",
              "      <td>86720.0</td>\n",
              "      <td>1.374022e+00</td>\n",
              "      <td>1.746621e+00</td>\n",
              "      <td>1.000000e-02</td>\n",
              "      <td>2.200000e-01</td>\n",
              "      <td>7.400000e-01</td>\n",
              "      <td>2.000000e+00</td>\n",
              "      <td>9.000000e+01</td>\n",
              "    </tr>\n",
              "    <tr>\n",
              "      <th>review rate number</th>\n",
              "      <td>102273.0</td>\n",
              "      <td>3.279106e+00</td>\n",
              "      <td>1.284657e+00</td>\n",
              "      <td>1.000000e+00</td>\n",
              "      <td>2.000000e+00</td>\n",
              "      <td>3.000000e+00</td>\n",
              "      <td>4.000000e+00</td>\n",
              "      <td>5.000000e+00</td>\n",
              "    </tr>\n",
              "    <tr>\n",
              "      <th>calculated host listings count</th>\n",
              "      <td>102280.0</td>\n",
              "      <td>7.936605e+00</td>\n",
              "      <td>3.221878e+01</td>\n",
              "      <td>1.000000e+00</td>\n",
              "      <td>1.000000e+00</td>\n",
              "      <td>1.000000e+00</td>\n",
              "      <td>2.000000e+00</td>\n",
              "      <td>3.320000e+02</td>\n",
              "    </tr>\n",
              "    <tr>\n",
              "      <th>availability 365</th>\n",
              "      <td>102151.0</td>\n",
              "      <td>1.411333e+02</td>\n",
              "      <td>1.354350e+02</td>\n",
              "      <td>-1.000000e+01</td>\n",
              "      <td>3.000000e+00</td>\n",
              "      <td>9.600000e+01</td>\n",
              "      <td>2.690000e+02</td>\n",
              "      <td>3.677000e+03</td>\n",
              "    </tr>\n",
              "  </tbody>\n",
              "</table>\n",
              "</div>\n",
              "      <button class=\"colab-df-convert\" onclick=\"convertToInteractive('df-edf80de9-625e-4901-858f-02391805d8ee')\"\n",
              "              title=\"Convert this dataframe to an interactive table.\"\n",
              "              style=\"display:none;\">\n",
              "        \n",
              "  <svg xmlns=\"http://www.w3.org/2000/svg\" height=\"24px\"viewBox=\"0 0 24 24\"\n",
              "       width=\"24px\">\n",
              "    <path d=\"M0 0h24v24H0V0z\" fill=\"none\"/>\n",
              "    <path d=\"M18.56 5.44l.94 2.06.94-2.06 2.06-.94-2.06-.94-.94-2.06-.94 2.06-2.06.94zm-11 1L8.5 8.5l.94-2.06 2.06-.94-2.06-.94L8.5 2.5l-.94 2.06-2.06.94zm10 10l.94 2.06.94-2.06 2.06-.94-2.06-.94-.94-2.06-.94 2.06-2.06.94z\"/><path d=\"M17.41 7.96l-1.37-1.37c-.4-.4-.92-.59-1.43-.59-.52 0-1.04.2-1.43.59L10.3 9.45l-7.72 7.72c-.78.78-.78 2.05 0 2.83L4 21.41c.39.39.9.59 1.41.59.51 0 1.02-.2 1.41-.59l7.78-7.78 2.81-2.81c.8-.78.8-2.07 0-2.86zM5.41 20L4 18.59l7.72-7.72 1.47 1.35L5.41 20z\"/>\n",
              "  </svg>\n",
              "      </button>\n",
              "      \n",
              "  <style>\n",
              "    .colab-df-container {\n",
              "      display:flex;\n",
              "      flex-wrap:wrap;\n",
              "      gap: 12px;\n",
              "    }\n",
              "\n",
              "    .colab-df-convert {\n",
              "      background-color: #E8F0FE;\n",
              "      border: none;\n",
              "      border-radius: 50%;\n",
              "      cursor: pointer;\n",
              "      display: none;\n",
              "      fill: #1967D2;\n",
              "      height: 32px;\n",
              "      padding: 0 0 0 0;\n",
              "      width: 32px;\n",
              "    }\n",
              "\n",
              "    .colab-df-convert:hover {\n",
              "      background-color: #E2EBFA;\n",
              "      box-shadow: 0px 1px 2px rgba(60, 64, 67, 0.3), 0px 1px 3px 1px rgba(60, 64, 67, 0.15);\n",
              "      fill: #174EA6;\n",
              "    }\n",
              "\n",
              "    [theme=dark] .colab-df-convert {\n",
              "      background-color: #3B4455;\n",
              "      fill: #D2E3FC;\n",
              "    }\n",
              "\n",
              "    [theme=dark] .colab-df-convert:hover {\n",
              "      background-color: #434B5C;\n",
              "      box-shadow: 0px 1px 3px 1px rgba(0, 0, 0, 0.15);\n",
              "      filter: drop-shadow(0px 1px 2px rgba(0, 0, 0, 0.3));\n",
              "      fill: #FFFFFF;\n",
              "    }\n",
              "  </style>\n",
              "\n",
              "      <script>\n",
              "        const buttonEl =\n",
              "          document.querySelector('#df-edf80de9-625e-4901-858f-02391805d8ee button.colab-df-convert');\n",
              "        buttonEl.style.display =\n",
              "          google.colab.kernel.accessAllowed ? 'block' : 'none';\n",
              "\n",
              "        async function convertToInteractive(key) {\n",
              "          const element = document.querySelector('#df-edf80de9-625e-4901-858f-02391805d8ee');\n",
              "          const dataTable =\n",
              "            await google.colab.kernel.invokeFunction('convertToInteractive',\n",
              "                                                     [key], {});\n",
              "          if (!dataTable) return;\n",
              "\n",
              "          const docLinkHtml = 'Like what you see? Visit the ' +\n",
              "            '<a target=\"_blank\" href=https://colab.research.google.com/notebooks/data_table.ipynb>data table notebook</a>'\n",
              "            + ' to learn more about interactive tables.';\n",
              "          element.innerHTML = '';\n",
              "          dataTable['output_type'] = 'display_data';\n",
              "          await google.colab.output.renderOutput(dataTable, element);\n",
              "          const docLink = document.createElement('div');\n",
              "          docLink.innerHTML = docLinkHtml;\n",
              "          element.appendChild(docLink);\n",
              "        }\n",
              "      </script>\n",
              "    </div>\n",
              "  </div>\n",
              "  "
            ]
          },
          "metadata": {},
          "execution_count": 21
        }
      ]
    },
    {
      "cell_type": "markdown",
      "source": [
        "# **Cleaning our data**"
      ],
      "metadata": {
        "id": "kKd5KIuI0OOG"
      }
    },
    {
      "cell_type": "code",
      "source": [
        "df_airnb.isna().sum().sort_values(ascending=False)"
      ],
      "metadata": {
        "colab": {
          "base_uri": "https://localhost:8080/"
        },
        "id": "PzxUO8ZP0QM7",
        "outputId": "8e5d33fb-a337-48cc-f383-4c79c184a392"
      },
      "execution_count": 22,
      "outputs": [
        {
          "output_type": "execute_result",
          "data": {
            "text/plain": [
              "license                           102597\n",
              "house_rules                        52131\n",
              "last review                        15893\n",
              "reviews per month                  15879\n",
              "country                              532\n",
              "availability 365                     448\n",
              "minimum nights                       409\n",
              "host name                            406\n",
              "review rate number                   326\n",
              "calculated host listings count       319\n",
              "host_identity_verified               289\n",
              "service fee                          273\n",
              "NAME                                 250\n",
              "price                                247\n",
              "Construction year                    214\n",
              "number of reviews                    183\n",
              "country code                         131\n",
              "instant_bookable                     105\n",
              "cancellation_policy                   76\n",
              "neighbourhood group                   29\n",
              "neighbourhood                         16\n",
              "long                                   8\n",
              "lat                                    8\n",
              "host id                                0\n",
              "room type                              0\n",
              "dtype: int64"
            ]
          },
          "metadata": {},
          "execution_count": 22
        }
      ]
    },
    {
      "cell_type": "code",
      "source": [
        "print(df_airnb.isna().sum().sum(), 'missing values')"
      ],
      "metadata": {
        "colab": {
          "base_uri": "https://localhost:8080/"
        },
        "id": "AgZ9Q-Mp0ZSt",
        "outputId": "b8655085-c9f8-40f9-c84e-054eb78d2b91"
      },
      "execution_count": 23,
      "outputs": [
        {
          "output_type": "stream",
          "name": "stdout",
          "text": [
            "190769 missing values\n"
          ]
        }
      ]
    },
    {
      "cell_type": "markdown",
      "source": [
        "Findings:\n",
        "\n",
        "*There are 190.769 missing values\n",
        "\n",
        "*The dataset is shaped by categorical and numerical variables"
      ],
      "metadata": {
        "id": "Acdl4kuB0xv2"
      }
    },
    {
      "cell_type": "code",
      "source": [
        "df_airnb.duplicated().sum()"
      ],
      "metadata": {
        "colab": {
          "base_uri": "https://localhost:8080/"
        },
        "id": "1tIORct_1HLc",
        "outputId": "80c2188b-8528-4a8e-b692-fead6ac39fcd"
      },
      "execution_count": 24,
      "outputs": [
        {
          "output_type": "execute_result",
          "data": {
            "text/plain": [
              "541"
            ]
          },
          "metadata": {},
          "execution_count": 24
        }
      ]
    },
    {
      "cell_type": "markdown",
      "source": [
        "The dataset has 541 duplicated values, we just have to remove them."
      ],
      "metadata": {
        "id": "r2w8eZ1j1KAc"
      }
    },
    {
      "cell_type": "code",
      "source": [
        "df_airnb = df_airnb.drop_duplicates()\n",
        "df_airnb.duplicated().sum()"
      ],
      "metadata": {
        "colab": {
          "base_uri": "https://localhost:8080/"
        },
        "id": "nISbDeDa1haW",
        "outputId": "e5554491-5546-4a86-baa8-14f1214f279c"
      },
      "execution_count": 25,
      "outputs": [
        {
          "output_type": "execute_result",
          "data": {
            "text/plain": [
              "0"
            ]
          },
          "metadata": {},
          "execution_count": 25
        }
      ]
    },
    {
      "cell_type": "markdown",
      "source": [
        "The duplicates were removed."
      ],
      "metadata": {
        "id": "XQsuoFjg2UIv"
      }
    },
    {
      "cell_type": "code",
      "source": [
        "df = pd.DataFrame(df_airnb)\n",
        "df = df_airnb.fillna(0)\n"
      ],
      "metadata": {
        "id": "-pLiVfrwHXcE"
      },
      "execution_count": 26,
      "outputs": []
    },
    {
      "cell_type": "code",
      "source": [
        "datos_null = ['neighbourhood group', 'neighbourhood', 'lat', 'long', 'country',\n",
        "       'country code', 'instant_bookable', 'cancellation_policy',\n",
        "       'room type', 'Construction year', 'price', 'service fee',\n",
        "       'minimum nights', 'number of reviews', 'last review',\n",
        "       'reviews per month', 'review rate number',\n",
        "       'calculated host listings count', 'availability 365',]\n",
        "for dato in datos_null:\n",
        "    q_null = df_airnb[df_airnb[dato] == 0][dato].count()\n",
        "    print(f'{dato} contiene {q_null} datos null: Representan el {round(q_null*100/df[\"price\"].count(), 2)}% del conjunto de datos')"
      ],
      "metadata": {
        "colab": {
          "base_uri": "https://localhost:8080/"
        },
        "id": "soxSEio1HMbr",
        "outputId": "72f3e32d-8808-4c3e-e3be-5e9a702d5eee"
      },
      "execution_count": 27,
      "outputs": [
        {
          "output_type": "stream",
          "name": "stdout",
          "text": [
            "neighbourhood group contiene 0 datos null: Representan el 0.0% del conjunto de datos\n",
            "neighbourhood contiene 0 datos null: Representan el 0.0% del conjunto de datos\n",
            "lat contiene 0 datos null: Representan el 0.0% del conjunto de datos\n",
            "long contiene 0 datos null: Representan el 0.0% del conjunto de datos\n",
            "country contiene 0 datos null: Representan el 0.0% del conjunto de datos\n",
            "country code contiene 0 datos null: Representan el 0.0% del conjunto de datos\n",
            "instant_bookable contiene 51186 datos null: Representan el 50.15% del conjunto de datos\n",
            "cancellation_policy contiene 0 datos null: Representan el 0.0% del conjunto de datos\n",
            "room type contiene 0 datos null: Representan el 0.0% del conjunto de datos\n",
            "Construction year contiene 0 datos null: Representan el 0.0% del conjunto de datos\n",
            "price contiene 0 datos null: Representan el 0.0% del conjunto de datos\n",
            "service fee contiene 0 datos null: Representan el 0.0% del conjunto de datos\n",
            "minimum nights contiene 0 datos null: Representan el 0.0% del conjunto de datos\n",
            "number of reviews contiene 15673 datos null: Representan el 15.36% del conjunto de datos\n",
            "last review contiene 0 datos null: Representan el 0.0% del conjunto de datos\n",
            "reviews per month contiene 0 datos null: Representan el 0.0% del conjunto de datos\n",
            "review rate number contiene 0 datos null: Representan el 0.0% del conjunto de datos\n",
            "calculated host listings count contiene 0 datos null: Representan el 0.0% del conjunto de datos\n",
            "availability 365 contiene 23448 datos null: Representan el 22.98% del conjunto de datos\n"
          ]
        }
      ]
    },
    {
      "cell_type": "markdown",
      "source": [
        "For the Instant Bookable column, the number 0 does not indicate null data, since it is a null type variable, values are replaced by 1 and 0, so they should not be eliminated."
      ],
      "metadata": {
        "id": "Lm7Y0_fMBf54"
      }
    },
    {
      "cell_type": "code",
      "source": [
        "columns_names = df_airnb.columns.values\n",
        "columns_names"
      ],
      "metadata": {
        "colab": {
          "base_uri": "https://localhost:8080/"
        },
        "id": "U0oxBjgv3uQg",
        "outputId": "e9ae19a5-a59c-4376-db68-31ab20453e83"
      },
      "execution_count": 28,
      "outputs": [
        {
          "output_type": "execute_result",
          "data": {
            "text/plain": [
              "array(['NAME', 'host id', 'host_identity_verified', 'host name',\n",
              "       'neighbourhood group', 'neighbourhood', 'lat', 'long', 'country',\n",
              "       'country code', 'instant_bookable', 'cancellation_policy',\n",
              "       'room type', 'Construction year', 'price', 'service fee',\n",
              "       'minimum nights', 'number of reviews', 'last review',\n",
              "       'reviews per month', 'review rate number',\n",
              "       'calculated host listings count', 'availability 365',\n",
              "       'house_rules', 'license'], dtype=object)"
            ]
          },
          "metadata": {},
          "execution_count": 28
        }
      ]
    },
    {
      "cell_type": "markdown",
      "source": [
        "I eliminate LICENSE COLUMN, it is completely empty.\n",
        "Also Columns like house rules, guest's name , host id and host name are irrelevant to predict the price of a airbnb stay, for that reason I eliminate them. **texto en negrita**"
      ],
      "metadata": {
        "id": "-ukS3U1c6o-C"
      }
    },
    {
      "cell_type": "code",
      "source": [
        "df_airnb = df_airnb.drop(columns=['license','house_rules','NAME','host id','host_identity_verified','host name'])\n",
        "df_airnb.head()"
      ],
      "metadata": {
        "colab": {
          "base_uri": "https://localhost:8080/",
          "height": 440
        },
        "id": "LvO2mn3Y6xJ9",
        "outputId": "1b729393-5106-4983-f77c-f8e9c9d9c040"
      },
      "execution_count": 29,
      "outputs": [
        {
          "output_type": "execute_result",
          "data": {
            "text/plain": [
              "        neighbourhood group neighbourhood       lat      long        country  \\\n",
              "id                                                                             \n",
              "1001254            Brooklyn    Kensington  40.64749 -73.97237  United States   \n",
              "1002102           Manhattan       Midtown  40.75362 -73.98377  United States   \n",
              "1002403           Manhattan        Harlem  40.80902 -73.94190  United States   \n",
              "1002755            Brooklyn  Clinton Hill  40.68514 -73.95976  United States   \n",
              "1003689           Manhattan   East Harlem  40.79851 -73.94399  United States   \n",
              "\n",
              "        country code instant_bookable cancellation_policy        room type  \\\n",
              "id                                                                           \n",
              "1001254           US            False              strict     Private room   \n",
              "1002102           US            False            moderate  Entire home/apt   \n",
              "1002403           US             True            flexible     Private room   \n",
              "1002755           US             True            moderate  Entire home/apt   \n",
              "1003689           US            False            moderate  Entire home/apt   \n",
              "\n",
              "         Construction year  price service fee  minimum nights  \\\n",
              "id                                                              \n",
              "1001254             2020.0  $966        $193             10.0   \n",
              "1002102             2007.0  $142         $28             30.0   \n",
              "1002403             2005.0  $620        $124              3.0   \n",
              "1002755             2005.0  $368         $74             30.0   \n",
              "1003689             2009.0  $204         $41             10.0   \n",
              "\n",
              "         number of reviews last review  reviews per month  review rate number  \\\n",
              "id                                                                              \n",
              "1001254                9.0  10/19/2021               0.21                 4.0   \n",
              "1002102               45.0   5/21/2022               0.38                 4.0   \n",
              "1002403                0.0         NaN                NaN                 5.0   \n",
              "1002755              270.0    7/5/2019               4.64                 4.0   \n",
              "1003689                9.0  11/19/2018               0.10                 3.0   \n",
              "\n",
              "         calculated host listings count  availability 365  \n",
              "id                                                         \n",
              "1001254                             6.0             286.0  \n",
              "1002102                             2.0             228.0  \n",
              "1002403                             1.0             352.0  \n",
              "1002755                             1.0             322.0  \n",
              "1003689                             1.0             289.0  "
            ],
            "text/html": [
              "\n",
              "  <div id=\"df-be52606b-593c-4453-8f10-8f8e7ea36e2b\">\n",
              "    <div class=\"colab-df-container\">\n",
              "      <div>\n",
              "<style scoped>\n",
              "    .dataframe tbody tr th:only-of-type {\n",
              "        vertical-align: middle;\n",
              "    }\n",
              "\n",
              "    .dataframe tbody tr th {\n",
              "        vertical-align: top;\n",
              "    }\n",
              "\n",
              "    .dataframe thead th {\n",
              "        text-align: right;\n",
              "    }\n",
              "</style>\n",
              "<table border=\"1\" class=\"dataframe\">\n",
              "  <thead>\n",
              "    <tr style=\"text-align: right;\">\n",
              "      <th></th>\n",
              "      <th>neighbourhood group</th>\n",
              "      <th>neighbourhood</th>\n",
              "      <th>lat</th>\n",
              "      <th>long</th>\n",
              "      <th>country</th>\n",
              "      <th>country code</th>\n",
              "      <th>instant_bookable</th>\n",
              "      <th>cancellation_policy</th>\n",
              "      <th>room type</th>\n",
              "      <th>Construction year</th>\n",
              "      <th>price</th>\n",
              "      <th>service fee</th>\n",
              "      <th>minimum nights</th>\n",
              "      <th>number of reviews</th>\n",
              "      <th>last review</th>\n",
              "      <th>reviews per month</th>\n",
              "      <th>review rate number</th>\n",
              "      <th>calculated host listings count</th>\n",
              "      <th>availability 365</th>\n",
              "    </tr>\n",
              "    <tr>\n",
              "      <th>id</th>\n",
              "      <th></th>\n",
              "      <th></th>\n",
              "      <th></th>\n",
              "      <th></th>\n",
              "      <th></th>\n",
              "      <th></th>\n",
              "      <th></th>\n",
              "      <th></th>\n",
              "      <th></th>\n",
              "      <th></th>\n",
              "      <th></th>\n",
              "      <th></th>\n",
              "      <th></th>\n",
              "      <th></th>\n",
              "      <th></th>\n",
              "      <th></th>\n",
              "      <th></th>\n",
              "      <th></th>\n",
              "      <th></th>\n",
              "    </tr>\n",
              "  </thead>\n",
              "  <tbody>\n",
              "    <tr>\n",
              "      <th>1001254</th>\n",
              "      <td>Brooklyn</td>\n",
              "      <td>Kensington</td>\n",
              "      <td>40.64749</td>\n",
              "      <td>-73.97237</td>\n",
              "      <td>United States</td>\n",
              "      <td>US</td>\n",
              "      <td>False</td>\n",
              "      <td>strict</td>\n",
              "      <td>Private room</td>\n",
              "      <td>2020.0</td>\n",
              "      <td>$966</td>\n",
              "      <td>$193</td>\n",
              "      <td>10.0</td>\n",
              "      <td>9.0</td>\n",
              "      <td>10/19/2021</td>\n",
              "      <td>0.21</td>\n",
              "      <td>4.0</td>\n",
              "      <td>6.0</td>\n",
              "      <td>286.0</td>\n",
              "    </tr>\n",
              "    <tr>\n",
              "      <th>1002102</th>\n",
              "      <td>Manhattan</td>\n",
              "      <td>Midtown</td>\n",
              "      <td>40.75362</td>\n",
              "      <td>-73.98377</td>\n",
              "      <td>United States</td>\n",
              "      <td>US</td>\n",
              "      <td>False</td>\n",
              "      <td>moderate</td>\n",
              "      <td>Entire home/apt</td>\n",
              "      <td>2007.0</td>\n",
              "      <td>$142</td>\n",
              "      <td>$28</td>\n",
              "      <td>30.0</td>\n",
              "      <td>45.0</td>\n",
              "      <td>5/21/2022</td>\n",
              "      <td>0.38</td>\n",
              "      <td>4.0</td>\n",
              "      <td>2.0</td>\n",
              "      <td>228.0</td>\n",
              "    </tr>\n",
              "    <tr>\n",
              "      <th>1002403</th>\n",
              "      <td>Manhattan</td>\n",
              "      <td>Harlem</td>\n",
              "      <td>40.80902</td>\n",
              "      <td>-73.94190</td>\n",
              "      <td>United States</td>\n",
              "      <td>US</td>\n",
              "      <td>True</td>\n",
              "      <td>flexible</td>\n",
              "      <td>Private room</td>\n",
              "      <td>2005.0</td>\n",
              "      <td>$620</td>\n",
              "      <td>$124</td>\n",
              "      <td>3.0</td>\n",
              "      <td>0.0</td>\n",
              "      <td>NaN</td>\n",
              "      <td>NaN</td>\n",
              "      <td>5.0</td>\n",
              "      <td>1.0</td>\n",
              "      <td>352.0</td>\n",
              "    </tr>\n",
              "    <tr>\n",
              "      <th>1002755</th>\n",
              "      <td>Brooklyn</td>\n",
              "      <td>Clinton Hill</td>\n",
              "      <td>40.68514</td>\n",
              "      <td>-73.95976</td>\n",
              "      <td>United States</td>\n",
              "      <td>US</td>\n",
              "      <td>True</td>\n",
              "      <td>moderate</td>\n",
              "      <td>Entire home/apt</td>\n",
              "      <td>2005.0</td>\n",
              "      <td>$368</td>\n",
              "      <td>$74</td>\n",
              "      <td>30.0</td>\n",
              "      <td>270.0</td>\n",
              "      <td>7/5/2019</td>\n",
              "      <td>4.64</td>\n",
              "      <td>4.0</td>\n",
              "      <td>1.0</td>\n",
              "      <td>322.0</td>\n",
              "    </tr>\n",
              "    <tr>\n",
              "      <th>1003689</th>\n",
              "      <td>Manhattan</td>\n",
              "      <td>East Harlem</td>\n",
              "      <td>40.79851</td>\n",
              "      <td>-73.94399</td>\n",
              "      <td>United States</td>\n",
              "      <td>US</td>\n",
              "      <td>False</td>\n",
              "      <td>moderate</td>\n",
              "      <td>Entire home/apt</td>\n",
              "      <td>2009.0</td>\n",
              "      <td>$204</td>\n",
              "      <td>$41</td>\n",
              "      <td>10.0</td>\n",
              "      <td>9.0</td>\n",
              "      <td>11/19/2018</td>\n",
              "      <td>0.10</td>\n",
              "      <td>3.0</td>\n",
              "      <td>1.0</td>\n",
              "      <td>289.0</td>\n",
              "    </tr>\n",
              "  </tbody>\n",
              "</table>\n",
              "</div>\n",
              "      <button class=\"colab-df-convert\" onclick=\"convertToInteractive('df-be52606b-593c-4453-8f10-8f8e7ea36e2b')\"\n",
              "              title=\"Convert this dataframe to an interactive table.\"\n",
              "              style=\"display:none;\">\n",
              "        \n",
              "  <svg xmlns=\"http://www.w3.org/2000/svg\" height=\"24px\"viewBox=\"0 0 24 24\"\n",
              "       width=\"24px\">\n",
              "    <path d=\"M0 0h24v24H0V0z\" fill=\"none\"/>\n",
              "    <path d=\"M18.56 5.44l.94 2.06.94-2.06 2.06-.94-2.06-.94-.94-2.06-.94 2.06-2.06.94zm-11 1L8.5 8.5l.94-2.06 2.06-.94-2.06-.94L8.5 2.5l-.94 2.06-2.06.94zm10 10l.94 2.06.94-2.06 2.06-.94-2.06-.94-.94-2.06-.94 2.06-2.06.94z\"/><path d=\"M17.41 7.96l-1.37-1.37c-.4-.4-.92-.59-1.43-.59-.52 0-1.04.2-1.43.59L10.3 9.45l-7.72 7.72c-.78.78-.78 2.05 0 2.83L4 21.41c.39.39.9.59 1.41.59.51 0 1.02-.2 1.41-.59l7.78-7.78 2.81-2.81c.8-.78.8-2.07 0-2.86zM5.41 20L4 18.59l7.72-7.72 1.47 1.35L5.41 20z\"/>\n",
              "  </svg>\n",
              "      </button>\n",
              "      \n",
              "  <style>\n",
              "    .colab-df-container {\n",
              "      display:flex;\n",
              "      flex-wrap:wrap;\n",
              "      gap: 12px;\n",
              "    }\n",
              "\n",
              "    .colab-df-convert {\n",
              "      background-color: #E8F0FE;\n",
              "      border: none;\n",
              "      border-radius: 50%;\n",
              "      cursor: pointer;\n",
              "      display: none;\n",
              "      fill: #1967D2;\n",
              "      height: 32px;\n",
              "      padding: 0 0 0 0;\n",
              "      width: 32px;\n",
              "    }\n",
              "\n",
              "    .colab-df-convert:hover {\n",
              "      background-color: #E2EBFA;\n",
              "      box-shadow: 0px 1px 2px rgba(60, 64, 67, 0.3), 0px 1px 3px 1px rgba(60, 64, 67, 0.15);\n",
              "      fill: #174EA6;\n",
              "    }\n",
              "\n",
              "    [theme=dark] .colab-df-convert {\n",
              "      background-color: #3B4455;\n",
              "      fill: #D2E3FC;\n",
              "    }\n",
              "\n",
              "    [theme=dark] .colab-df-convert:hover {\n",
              "      background-color: #434B5C;\n",
              "      box-shadow: 0px 1px 3px 1px rgba(0, 0, 0, 0.15);\n",
              "      filter: drop-shadow(0px 1px 2px rgba(0, 0, 0, 0.3));\n",
              "      fill: #FFFFFF;\n",
              "    }\n",
              "  </style>\n",
              "\n",
              "      <script>\n",
              "        const buttonEl =\n",
              "          document.querySelector('#df-be52606b-593c-4453-8f10-8f8e7ea36e2b button.colab-df-convert');\n",
              "        buttonEl.style.display =\n",
              "          google.colab.kernel.accessAllowed ? 'block' : 'none';\n",
              "\n",
              "        async function convertToInteractive(key) {\n",
              "          const element = document.querySelector('#df-be52606b-593c-4453-8f10-8f8e7ea36e2b');\n",
              "          const dataTable =\n",
              "            await google.colab.kernel.invokeFunction('convertToInteractive',\n",
              "                                                     [key], {});\n",
              "          if (!dataTable) return;\n",
              "\n",
              "          const docLinkHtml = 'Like what you see? Visit the ' +\n",
              "            '<a target=\"_blank\" href=https://colab.research.google.com/notebooks/data_table.ipynb>data table notebook</a>'\n",
              "            + ' to learn more about interactive tables.';\n",
              "          element.innerHTML = '';\n",
              "          dataTable['output_type'] = 'display_data';\n",
              "          await google.colab.output.renderOutput(dataTable, element);\n",
              "          const docLink = document.createElement('div');\n",
              "          docLink.innerHTML = docLinkHtml;\n",
              "          element.appendChild(docLink);\n",
              "        }\n",
              "      </script>\n",
              "    </div>\n",
              "  </div>\n",
              "  "
            ]
          },
          "metadata": {},
          "execution_count": 29
        }
      ]
    },
    {
      "cell_type": "markdown",
      "source": [
        "**Ensure Consistency in Categorical Values!**"
      ],
      "metadata": {
        "id": "seD4bkCQQdis"
      }
    },
    {
      "cell_type": "code",
      "source": [
        "df_airnb['neighbourhood group'].unique()\n",
        "df_airnb['neighbourhood group'] = df_airnb['neighbourhood group'].replace('brookln', 'Brooklyn') \n",
        "df_airnb['neighbourhood group'] = df_airnb['neighbourhood group'].replace('manhatan', 'Manhattan')\n",
        "df_airnb['neighbourhood group'] = df_airnb['neighbourhood group'].replace('nan', 'Missing')\n",
        "df_airnb['neighbourhood group'].unique()"
      ],
      "metadata": {
        "colab": {
          "base_uri": "https://localhost:8080/"
        },
        "id": "zJA1JcmCFatS",
        "outputId": "23efe5c0-1d10-4ccc-ab71-3533cb9deada"
      },
      "execution_count": 30,
      "outputs": [
        {
          "output_type": "execute_result",
          "data": {
            "text/plain": [
              "array(['Brooklyn', 'Manhattan', 'Queens', nan, 'Staten Island', 'Bronx'],\n",
              "      dtype=object)"
            ]
          },
          "metadata": {},
          "execution_count": 30
        }
      ]
    },
    {
      "cell_type": "code",
      "source": [
        "df_airnb['neighbourhood group'].value_counts()"
      ],
      "metadata": {
        "colab": {
          "base_uri": "https://localhost:8080/"
        },
        "id": "7BgZFYPRBSQC",
        "outputId": "dd9994d6-f36b-49ae-aabf-6e3dcbace173"
      },
      "execution_count": 31,
      "outputs": [
        {
          "output_type": "execute_result",
          "data": {
            "text/plain": [
              "Manhattan        43558\n",
              "Brooklyn         41631\n",
              "Queens           13197\n",
              "Bronx             2694\n",
              "Staten Island      949\n",
              "Name: neighbourhood group, dtype: int64"
            ]
          },
          "metadata": {},
          "execution_count": 31
        }
      ]
    },
    {
      "cell_type": "markdown",
      "source": [
        "Non-uniform categorical data is identified, the data is cleaned."
      ],
      "metadata": {
        "id": "8e-nfxkUQHt2"
      }
    },
    {
      "cell_type": "code",
      "source": [
        "df_airnb['neighbourhood'].value_counts()"
      ],
      "metadata": {
        "colab": {
          "base_uri": "https://localhost:8080/"
        },
        "id": "_2F4tjqkBxqA",
        "outputId": "e2ed7fea-2633-446d-dde2-a55af96c8a9d"
      },
      "execution_count": 32,
      "outputs": [
        {
          "output_type": "execute_result",
          "data": {
            "text/plain": [
              "Bedford-Stuyvesant        7898\n",
              "Williamsburg              7732\n",
              "Harlem                    5441\n",
              "Bushwick                  4956\n",
              "Hell's Kitchen            3949\n",
              "                          ... \n",
              "Willowbrook                  3\n",
              "Gerritsen Beach              3\n",
              "Fort Wadsworth               2\n",
              "Glen Oaks                    2\n",
              "Chelsea, Staten Island       1\n",
              "Name: neighbourhood, Length: 224, dtype: int64"
            ]
          },
          "metadata": {},
          "execution_count": 32
        }
      ]
    },
    {
      "cell_type": "code",
      "source": [
        "df_airnb['instant_bookable'].value_counts()"
      ],
      "metadata": {
        "colab": {
          "base_uri": "https://localhost:8080/"
        },
        "id": "8dvNXrDCB0qJ",
        "outputId": "cd5d1d85-5514-4e6d-b6e8-70148a42aaef"
      },
      "execution_count": 33,
      "outputs": [
        {
          "output_type": "execute_result",
          "data": {
            "text/plain": [
              "False    51186\n",
              "True     50767\n",
              "Name: instant_bookable, dtype: int64"
            ]
          },
          "metadata": {},
          "execution_count": 33
        }
      ]
    },
    {
      "cell_type": "markdown",
      "source": [
        "This variable is of type variable, the values 0 do not indicate null numbers, it identifies that the value of the boolean variable is TRUE."
      ],
      "metadata": {
        "id": "Qv57aEcgQSw1"
      }
    },
    {
      "cell_type": "code",
      "source": [
        "df_airnb['room type'].value_counts()"
      ],
      "metadata": {
        "colab": {
          "base_uri": "https://localhost:8080/"
        },
        "id": "zbzqAefZCK_0",
        "outputId": "435e85c9-1a56-4e67-84e9-2e66ba6b1b06"
      },
      "execution_count": 34,
      "outputs": [
        {
          "output_type": "execute_result",
          "data": {
            "text/plain": [
              "Entire home/apt    53429\n",
              "Private room       46306\n",
              "Shared room         2208\n",
              "Hotel room           115\n",
              "Name: room type, dtype: int64"
            ]
          },
          "metadata": {},
          "execution_count": 34
        }
      ]
    },
    {
      "cell_type": "code",
      "source": [
        "df_airnb['cancellation_policy'].value_counts()"
      ],
      "metadata": {
        "colab": {
          "base_uri": "https://localhost:8080/"
        },
        "id": "0T_CKo5dCW1Z",
        "outputId": "47f16eea-45cc-483d-bb00-7ce2e55f6057"
      },
      "execution_count": 35,
      "outputs": [
        {
          "output_type": "execute_result",
          "data": {
            "text/plain": [
              "moderate    34162\n",
              "strict      33929\n",
              "flexible    33891\n",
              "Name: cancellation_policy, dtype: int64"
            ]
          },
          "metadata": {},
          "execution_count": 35
        }
      ]
    },
    {
      "cell_type": "code",
      "source": [
        "df_airnb['review rate number'].value_counts()"
      ],
      "metadata": {
        "colab": {
          "base_uri": "https://localhost:8080/"
        },
        "id": "ZIGFF6pjCxVf",
        "outputId": "8efa3432-dd2a-4a57-a80f-df0b6e848c8e"
      },
      "execution_count": 36,
      "outputs": [
        {
          "output_type": "execute_result",
          "data": {
            "text/plain": [
              "5.0    23251\n",
              "4.0    23200\n",
              "3.0    23130\n",
              "2.0    22972\n",
              "1.0     9186\n",
              "Name: review rate number, dtype: int64"
            ]
          },
          "metadata": {},
          "execution_count": 36
        }
      ]
    },
    {
      "cell_type": "markdown",
      "source": [
        "We just have 29 values with 0, I replace them with Missing"
      ],
      "metadata": {
        "id": "N5lXe1TbBIpu"
      }
    },
    {
      "cell_type": "code",
      "source": [
        "df_airnb['neighbourhood'].unique()"
      ],
      "metadata": {
        "colab": {
          "base_uri": "https://localhost:8080/"
        },
        "id": "7fHcKbk0-nBY",
        "outputId": "8c6186a2-fa0a-47a3-edbc-fa4d75300809"
      },
      "execution_count": 37,
      "outputs": [
        {
          "output_type": "execute_result",
          "data": {
            "text/plain": [
              "array(['Kensington', 'Midtown', 'Harlem', 'Clinton Hill', 'East Harlem',\n",
              "       'Murray Hill', 'Bedford-Stuyvesant', \"Hell's Kitchen\",\n",
              "       'Upper West Side', 'Chinatown', 'South Slope', 'West Village',\n",
              "       'Williamsburg', 'Fort Greene', 'Chelsea', 'Crown Heights',\n",
              "       'Park Slope', 'Windsor Terrace', 'Inwood', 'East Village',\n",
              "       'Greenpoint', 'Bushwick', 'Flatbush', 'Lower East Side',\n",
              "       'Prospect-Lefferts Gardens', 'Long Island City', 'Kips Bay',\n",
              "       'SoHo', 'Upper East Side', 'Prospect Heights',\n",
              "       'Washington Heights', 'Woodside', 'Brooklyn Heights',\n",
              "       'Carroll Gardens', 'Gowanus', 'Flatlands', 'Cobble Hill',\n",
              "       'Flushing', 'Boerum Hill', 'Sunnyside', 'DUMBO', 'St. George',\n",
              "       'Highbridge', 'Financial District', 'Ridgewood',\n",
              "       'Morningside Heights', 'Jamaica', 'Middle Village', 'NoHo',\n",
              "       'Ditmars Steinway', 'Flatiron District', 'Roosevelt Island',\n",
              "       'Greenwich Village', 'Little Italy', 'East Flatbush',\n",
              "       'Tompkinsville', 'Astoria', 'Clason Point', 'Eastchester',\n",
              "       'Kingsbridge', 'Two Bridges', 'Queens Village', 'Rockaway Beach',\n",
              "       'Forest Hills', 'Nolita', 'Woodlawn', 'University Heights',\n",
              "       'Gravesend', 'Gramercy', 'Allerton', nan, 'East New York',\n",
              "       'Theater District', 'Concourse Village', 'Sheepshead Bay',\n",
              "       'Emerson Hill', 'Fort Hamilton', 'Bensonhurst', 'Tribeca',\n",
              "       'Shore Acres', 'Sunset Park', 'Concourse', 'Elmhurst',\n",
              "       'Brighton Beach', 'Jackson Heights', 'Cypress Hills', 'St. Albans',\n",
              "       'Arrochar', 'Rego Park', 'Wakefield', 'Clifton', 'Bay Ridge',\n",
              "       'Graniteville', 'Spuyten Duyvil', 'Stapleton', 'Briarwood',\n",
              "       'Ozone Park', 'Columbia St', 'Vinegar Hill', 'Mott Haven',\n",
              "       'Longwood', 'Canarsie', 'Battery Park City', 'Civic Center',\n",
              "       'East Elmhurst', 'New Springville', 'Morris Heights', 'Arverne',\n",
              "       'Cambria Heights', 'Tottenville', 'Mariners Harbor', 'Concord',\n",
              "       'Borough Park', 'Bayside', 'Downtown Brooklyn', 'Port Morris',\n",
              "       'Fieldston', 'Kew Gardens', 'Midwood', 'College Point',\n",
              "       'Mount Eden', 'City Island', 'Glendale', 'Port Richmond',\n",
              "       'Red Hook', 'Richmond Hill', 'Bellerose', 'Maspeth',\n",
              "       'Williamsbridge', 'Soundview', 'Woodhaven', 'Woodrow',\n",
              "       'Co-op City', 'Stuyvesant Town', 'Parkchester', 'North Riverdale',\n",
              "       'Dyker Heights', 'Bronxdale', 'Sea Gate', 'Riverdale',\n",
              "       'Kew Gardens Hills', 'Bay Terrace', 'Norwood', 'Claremont Village',\n",
              "       'Whitestone', 'Fordham', 'Bayswater', 'Navy Yard', 'Brownsville',\n",
              "       'Eltingville', 'Fresh Meadows', 'Mount Hope', 'Lighthouse Hill',\n",
              "       'Springfield Gardens', 'Howard Beach', 'Belle Harbor',\n",
              "       'Jamaica Estates', 'Van Nest', 'Morris Park', 'West Brighton',\n",
              "       'Far Rockaway', 'South Ozone Park', 'Tremont', 'Corona',\n",
              "       'Great Kills', 'Manhattan Beach', 'Marble Hill', 'Dongan Hills',\n",
              "       'Castleton Corners', 'East Morrisania', 'Hunts Point', 'Neponsit',\n",
              "       'Pelham Bay', 'Randall Manor', 'Throgs Neck', 'Todt Hill',\n",
              "       'West Farms', 'Silver Lake', 'Morrisania', 'Laurelton',\n",
              "       'Grymes Hill', 'Holliswood', 'Pelham Gardens', 'Belmont',\n",
              "       'Rosedale', 'Edgemere', 'New Brighton', 'Midland Beach',\n",
              "       'Baychester', 'Melrose', 'Bergen Beach', 'Richmondtown',\n",
              "       'Howland Hook', 'Schuylerville', 'Coney Island', 'New Dorp Beach',\n",
              "       \"Prince's Bay\", 'South Beach', 'Bath Beach', 'Jamaica Hills',\n",
              "       'Oakwood', 'Castle Hill', 'Hollis', 'Douglaston', 'Huguenot',\n",
              "       'Olinville', 'Edenwald', 'Grant City', 'Westerleigh',\n",
              "       'Bay Terrace, Staten Island', 'Westchester Square', 'Little Neck',\n",
              "       'Fort Wadsworth', 'Rosebank', 'Unionport', 'Mill Basin',\n",
              "       'Arden Heights', \"Bull's Head\", 'New Dorp', 'Rossville',\n",
              "       'Breezy Point', 'Willowbrook', 'Glen Oaks', 'Gerritsen Beach',\n",
              "       'Chelsea, Staten Island'], dtype=object)"
            ]
          },
          "metadata": {},
          "execution_count": 37
        }
      ]
    },
    {
      "cell_type": "code",
      "source": [
        "df_airnb.shape\n",
        "df_airnb.nunique()"
      ],
      "metadata": {
        "colab": {
          "base_uri": "https://localhost:8080/"
        },
        "id": "_C0LmbFP_U7J",
        "outputId": "0a7c3232-e5ed-48f6-c079-a32d4885e9e8"
      },
      "execution_count": 38,
      "outputs": [
        {
          "output_type": "execute_result",
          "data": {
            "text/plain": [
              "neighbourhood group                   5\n",
              "neighbourhood                       224\n",
              "lat                               21991\n",
              "long                              17774\n",
              "country                               1\n",
              "country code                          1\n",
              "instant_bookable                      2\n",
              "cancellation_policy                   3\n",
              "room type                             4\n",
              "Construction year                    20\n",
              "price                              1151\n",
              "service fee                         231\n",
              "minimum nights                      153\n",
              "number of reviews                   476\n",
              "last review                        2477\n",
              "reviews per month                  1016\n",
              "review rate number                    5\n",
              "calculated host listings count       78\n",
              "availability 365                    438\n",
              "dtype: int64"
            ]
          },
          "metadata": {},
          "execution_count": 38
        }
      ]
    },
    {
      "cell_type": "markdown",
      "source": [
        "It is necessary to correct the data types, it shows the price variable when it has a peso sign, it appears as a categorical variable when it is a number, therefore we must adjust it."
      ],
      "metadata": {
        "id": "GC-2p3EPF8iG"
      }
    },
    {
      "cell_type": "code",
      "source": [
        "df_airnb[\"price\"]"
      ],
      "metadata": {
        "colab": {
          "base_uri": "https://localhost:8080/"
        },
        "id": "u3FMOislwTFD",
        "outputId": "14710e80-083d-448b-aaca-96092db6aadc"
      },
      "execution_count": 39,
      "outputs": [
        {
          "output_type": "execute_result",
          "data": {
            "text/plain": [
              "id\n",
              "1001254       $966 \n",
              "1002102       $142 \n",
              "1002403       $620 \n",
              "1002755       $368 \n",
              "1003689       $204 \n",
              "             ...   \n",
              "57365208      $696 \n",
              "57365760      $909 \n",
              "57366313      $387 \n",
              "57366865      $848 \n",
              "57367417    $1,128 \n",
              "Name: price, Length: 102058, dtype: object"
            ]
          },
          "metadata": {},
          "execution_count": 39
        }
      ]
    },
    {
      "cell_type": "code",
      "source": [
        "df_airnb[\"price\"] = df_airnb[\"price\"].apply(lambda x: str(x).replace(\"$\", \"\"))\n",
        "df_airnb[\"price\"] = df_airnb[\"price\"].apply(lambda x: str(x).replace(\"$\", \"\"))\n",
        "df_airnb['price'] = df_airnb['price'].astype(float)\n",
        "df_airnb.price"
      ],
      "metadata": {
        "colab": {
          "base_uri": "https://localhost:8080/"
        },
        "id": "bZui0oSbwWrX",
        "outputId": "55bf8a72-304b-45a9-abae-9a6f4b4d8593"
      },
      "execution_count": 60,
      "outputs": [
        {
          "output_type": "execute_result",
          "data": {
            "text/plain": [
              "id\n",
              "1001254      966.0\n",
              "1002102      142.0\n",
              "1002403      620.0\n",
              "1002755      368.0\n",
              "1003689      204.0\n",
              "             ...  \n",
              "57365208     696.0\n",
              "57365760     909.0\n",
              "57366313     387.0\n",
              "57366865     848.0\n",
              "57367417    1128.0\n",
              "Name: price, Length: 101363, dtype: float64"
            ]
          },
          "metadata": {},
          "execution_count": 60
        }
      ]
    },
    {
      "cell_type": "code",
      "source": [
        "df_airnb[\"service fee\"] = df_airnb[\"service fee\"].apply(lambda x: str(x).replace(\"$\", \"\"))\n",
        "df_airnb['service fee'] = df_airnb['service fee'].astype(float)\n",
        "df_airnb.info()"
      ],
      "metadata": {
        "colab": {
          "base_uri": "https://localhost:8080/"
        },
        "id": "f9_wnki91313",
        "outputId": "80616f0c-0f22-4295-b70f-4a783bb999ce"
      },
      "execution_count": 70,
      "outputs": [
        {
          "output_type": "stream",
          "name": "stdout",
          "text": [
            "<class 'pandas.core.frame.DataFrame'>\n",
            "Int64Index: 101363 entries, 1001254 to 57367417\n",
            "Data columns (total 19 columns):\n",
            " #   Column                          Non-Null Count   Dtype         \n",
            "---  ------                          --------------   -----         \n",
            " 0   neighbourhood group             101346 non-null  object        \n",
            " 1   neighbourhood                   101349 non-null  object        \n",
            " 2   lat                             101355 non-null  float64       \n",
            " 3   long                            101355 non-null  float64       \n",
            " 4   country                         100843 non-null  object        \n",
            " 5   country code                    101244 non-null  object        \n",
            " 6   instant_bookable                101270 non-null  object        \n",
            " 7   cancellation_policy             101299 non-null  object        \n",
            " 8   room type                       101363 non-null  object        \n",
            " 9   Construction year               101172 non-null  float64       \n",
            " 10  price                           101363 non-null  float64       \n",
            " 11  service fee                     101124 non-null  float64       \n",
            " 12  minimum nights                  100985 non-null  float64       \n",
            " 13  number of reviews               101234 non-null  float64       \n",
            " 14  last review                     85825 non-null   datetime64[ns]\n",
            " 15  reviews per month               85833 non-null   float64       \n",
            " 16  review rate number              101058 non-null  float64       \n",
            " 17  calculated host listings count  101044 non-null  float64       \n",
            " 18  availability 365                101363 non-null  int64         \n",
            "dtypes: datetime64[ns](1), float64(10), int64(1), object(7)\n",
            "memory usage: 15.5+ MB\n"
          ]
        }
      ]
    },
    {
      "cell_type": "code",
      "source": [
        "df_airnb['price'] = df_airnb['price'].astype(float)\n",
        "df_airnb.price"
      ],
      "metadata": {
        "id": "cDeETC7Zlna2",
        "colab": {
          "base_uri": "https://localhost:8080/"
        },
        "outputId": "528268a2-552b-4106-c695-7692ec264f63"
      },
      "execution_count": 43,
      "outputs": [
        {
          "output_type": "execute_result",
          "data": {
            "text/plain": [
              "id\n",
              "1001254      966.0\n",
              "1002102      142.0\n",
              "1002403      620.0\n",
              "1002755      368.0\n",
              "1003689      204.0\n",
              "             ...  \n",
              "57365208     696.0\n",
              "57365760     909.0\n",
              "57366313     387.0\n",
              "57366865     848.0\n",
              "57367417    1128.0\n",
              "Name: price, Length: 102058, dtype: float64"
            ]
          },
          "metadata": {},
          "execution_count": 43
        }
      ]
    },
    {
      "cell_type": "code",
      "source": [
        "df_airnb.dropna(subset=['price'], inplace=True)\n",
        "df_airnb.isna().sum()"
      ],
      "metadata": {
        "colab": {
          "base_uri": "https://localhost:8080/"
        },
        "id": "LUmjn9WqgMtR",
        "outputId": "f48af774-4403-40a0-a44b-689776ede243"
      },
      "execution_count": 46,
      "outputs": [
        {
          "output_type": "execute_result",
          "data": {
            "text/plain": [
              "neighbourhood group                  28\n",
              "neighbourhood                        15\n",
              "lat                                   8\n",
              "long                                  8\n",
              "country                             527\n",
              "country code                        126\n",
              "instant_bookable                    100\n",
              "cancellation_policy                  71\n",
              "room type                             0\n",
              "Construction year                   210\n",
              "price                                 0\n",
              "service fee                         239\n",
              "minimum nights                      400\n",
              "number of reviews                   183\n",
              "last review                       15806\n",
              "reviews per month                 15791\n",
              "review rate number                  319\n",
              "calculated host listings count      319\n",
              "availability 365                    448\n",
              "dtype: int64"
            ]
          },
          "metadata": {},
          "execution_count": 46
        }
      ]
    },
    {
      "cell_type": "code",
      "source": [
        "df_airnb['price'].isna().sum()"
      ],
      "metadata": {
        "colab": {
          "base_uri": "https://localhost:8080/"
        },
        "id": "PZTD1-IdeSic",
        "outputId": "f65574c2-1365-48d2-e3f3-dea150518cfa"
      },
      "execution_count": 47,
      "outputs": [
        {
          "output_type": "execute_result",
          "data": {
            "text/plain": [
              "0"
            ]
          },
          "metadata": {},
          "execution_count": 47
        }
      ]
    },
    {
      "cell_type": "markdown",
      "source": [
        "The data type of the Last Review column is changed from object to date, like this."
      ],
      "metadata": {
        "id": "vouT7EIARryg"
      }
    },
    {
      "cell_type": "code",
      "source": [
        "df_airnb['last review'] = pd.to_datetime(df_airnb['last review'])\n",
        "df_airnb.dtypes"
      ],
      "metadata": {
        "id": "x2nnYaJGRBG8",
        "colab": {
          "base_uri": "https://localhost:8080/"
        },
        "outputId": "57c20252-037b-4507-8aea-e6504c7ed848"
      },
      "execution_count": 48,
      "outputs": [
        {
          "output_type": "execute_result",
          "data": {
            "text/plain": [
              "neighbourhood group                       object\n",
              "neighbourhood                             object\n",
              "lat                                      float64\n",
              "long                                     float64\n",
              "country                                   object\n",
              "country code                              object\n",
              "instant_bookable                          object\n",
              "cancellation_policy                       object\n",
              "room type                                 object\n",
              "Construction year                        float64\n",
              "price                                    float64\n",
              "service fee                               object\n",
              "minimum nights                           float64\n",
              "number of reviews                        float64\n",
              "last review                       datetime64[ns]\n",
              "reviews per month                        float64\n",
              "review rate number                       float64\n",
              "calculated host listings count           float64\n",
              "availability 365                         float64\n",
              "dtype: object"
            ]
          },
          "metadata": {},
          "execution_count": 48
        }
      ]
    },
    {
      "cell_type": "code",
      "source": [
        "df_airnb.dropna(subset=['availability 365'], inplace=True)\n",
        "df_airnb.isna().sum()"
      ],
      "metadata": {
        "colab": {
          "base_uri": "https://localhost:8080/"
        },
        "id": "CLEymLaTiALv",
        "outputId": "7b4fabbd-62fa-4fbf-9ed0-2c3c686a0690"
      },
      "execution_count": 49,
      "outputs": [
        {
          "output_type": "execute_result",
          "data": {
            "text/plain": [
              "neighbourhood group                  17\n",
              "neighbourhood                        14\n",
              "lat                                   8\n",
              "long                                  8\n",
              "country                             520\n",
              "country code                        119\n",
              "instant_bookable                     93\n",
              "cancellation_policy                  64\n",
              "room type                             0\n",
              "Construction year                   191\n",
              "price                                 0\n",
              "service fee                         239\n",
              "minimum nights                      378\n",
              "number of reviews                   129\n",
              "last review                       15538\n",
              "reviews per month                 15530\n",
              "review rate number                  305\n",
              "calculated host listings count      319\n",
              "availability 365                      0\n",
              "dtype: int64"
            ]
          },
          "metadata": {},
          "execution_count": 49
        }
      ]
    },
    {
      "cell_type": "code",
      "source": [
        "df_airnb['availability 365'] = df_airnb['availability 365'].astype(int)\n"
      ],
      "metadata": {
        "id": "agTcPxcfSCsC"
      },
      "execution_count": 50,
      "outputs": []
    },
    {
      "cell_type": "code",
      "source": [
        "df_airnb.isna().sum()"
      ],
      "metadata": {
        "id": "AnGmwnkISVyd",
        "colab": {
          "base_uri": "https://localhost:8080/"
        },
        "outputId": "0f513152-7e06-4b89-9c7d-af59d19c3d3a"
      },
      "execution_count": 51,
      "outputs": [
        {
          "output_type": "execute_result",
          "data": {
            "text/plain": [
              "neighbourhood group                  17\n",
              "neighbourhood                        14\n",
              "lat                                   8\n",
              "long                                  8\n",
              "country                             520\n",
              "country code                        119\n",
              "instant_bookable                     93\n",
              "cancellation_policy                  64\n",
              "room type                             0\n",
              "Construction year                   191\n",
              "price                                 0\n",
              "service fee                         239\n",
              "minimum nights                      378\n",
              "number of reviews                   129\n",
              "last review                       15538\n",
              "reviews per month                 15530\n",
              "review rate number                  305\n",
              "calculated host listings count      319\n",
              "availability 365                      0\n",
              "dtype: int64"
            ]
          },
          "metadata": {},
          "execution_count": 51
        }
      ]
    },
    {
      "cell_type": "code",
      "source": [
        "df_airnb.dropna(subset=['availability 365'], inplace=True)\n",
        "df_airnb.isna().sum()"
      ],
      "metadata": {
        "colab": {
          "base_uri": "https://localhost:8080/"
        },
        "id": "8fMsqZ1RjgUG",
        "outputId": "400da4aa-2cea-49c4-ddc6-fd0f397d63ad"
      },
      "execution_count": 52,
      "outputs": [
        {
          "output_type": "execute_result",
          "data": {
            "text/plain": [
              "neighbourhood group                  17\n",
              "neighbourhood                        14\n",
              "lat                                   8\n",
              "long                                  8\n",
              "country                             520\n",
              "country code                        119\n",
              "instant_bookable                     93\n",
              "cancellation_policy                  64\n",
              "room type                             0\n",
              "Construction year                   191\n",
              "price                                 0\n",
              "service fee                         239\n",
              "minimum nights                      378\n",
              "number of reviews                   129\n",
              "last review                       15538\n",
              "reviews per month                 15530\n",
              "review rate number                  305\n",
              "calculated host listings count      319\n",
              "availability 365                      0\n",
              "dtype: int64"
            ]
          },
          "metadata": {},
          "execution_count": 52
        }
      ]
    },
    {
      "cell_type": "code",
      "source": [
        "df_airnb.info()"
      ],
      "metadata": {
        "id": "NnctgfeBRLYQ",
        "colab": {
          "base_uri": "https://localhost:8080/"
        },
        "outputId": "bcd62bd1-3a84-4517-a32d-b90658091dd5"
      },
      "execution_count": 53,
      "outputs": [
        {
          "output_type": "stream",
          "name": "stdout",
          "text": [
            "<class 'pandas.core.frame.DataFrame'>\n",
            "Int64Index: 101363 entries, 1001254 to 57367417\n",
            "Data columns (total 19 columns):\n",
            " #   Column                          Non-Null Count   Dtype         \n",
            "---  ------                          --------------   -----         \n",
            " 0   neighbourhood group             101346 non-null  object        \n",
            " 1   neighbourhood                   101349 non-null  object        \n",
            " 2   lat                             101355 non-null  float64       \n",
            " 3   long                            101355 non-null  float64       \n",
            " 4   country                         100843 non-null  object        \n",
            " 5   country code                    101244 non-null  object        \n",
            " 6   instant_bookable                101270 non-null  object        \n",
            " 7   cancellation_policy             101299 non-null  object        \n",
            " 8   room type                       101363 non-null  object        \n",
            " 9   Construction year               101172 non-null  float64       \n",
            " 10  price                           101363 non-null  float64       \n",
            " 11  service fee                     101124 non-null  object        \n",
            " 12  minimum nights                  100985 non-null  float64       \n",
            " 13  number of reviews               101234 non-null  float64       \n",
            " 14  last review                     85825 non-null   datetime64[ns]\n",
            " 15  reviews per month               85833 non-null   float64       \n",
            " 16  review rate number              101058 non-null  float64       \n",
            " 17  calculated host listings count  101044 non-null  float64       \n",
            " 18  availability 365                101363 non-null  int64         \n",
            "dtypes: datetime64[ns](1), float64(9), int64(1), object(8)\n",
            "memory usage: 15.5+ MB\n"
          ]
        }
      ]
    },
    {
      "cell_type": "code",
      "source": [
        "df.dropna(subset=['neighbourhood group', 'neighbourhood', 'lat', 'long', 'country',\n",
        "       'country code', 'instant_bookable', 'cancellation_policy',\n",
        "       'Construction year', 'service fee', 'minimum nights',\n",
        "       'number of reviews', 'last review', 'reviews per month',\n",
        "       'review rate number', 'calculated host listings count'], inplace=True)\n",
        "df.isna().sum()"
      ],
      "metadata": {
        "colab": {
          "base_uri": "https://localhost:8080/"
        },
        "id": "uobTTJfOj-m3",
        "outputId": "2da142b6-44c5-462c-ce57-4414f1290772"
      },
      "execution_count": 54,
      "outputs": [
        {
          "output_type": "execute_result",
          "data": {
            "text/plain": [
              "NAME                              0\n",
              "host id                           0\n",
              "host_identity_verified            0\n",
              "host name                         0\n",
              "neighbourhood group               0\n",
              "neighbourhood                     0\n",
              "lat                               0\n",
              "long                              0\n",
              "country                           0\n",
              "country code                      0\n",
              "instant_bookable                  0\n",
              "cancellation_policy               0\n",
              "room type                         0\n",
              "Construction year                 0\n",
              "price                             0\n",
              "service fee                       0\n",
              "minimum nights                    0\n",
              "number of reviews                 0\n",
              "last review                       0\n",
              "reviews per month                 0\n",
              "review rate number                0\n",
              "calculated host listings count    0\n",
              "availability 365                  0\n",
              "house_rules                       0\n",
              "license                           0\n",
              "dtype: int64"
            ]
          },
          "metadata": {},
          "execution_count": 54
        }
      ]
    },
    {
      "cell_type": "code",
      "source": [
        "df.shape"
      ],
      "metadata": {
        "id": "f6riHg37QqlD",
        "colab": {
          "base_uri": "https://localhost:8080/"
        },
        "outputId": "f47f2120-ee4e-4324-cbd7-ceaad998e1f6"
      },
      "execution_count": 55,
      "outputs": [
        {
          "output_type": "execute_result",
          "data": {
            "text/plain": [
              "(102058, 25)"
            ]
          },
          "metadata": {},
          "execution_count": 55
        }
      ]
    },
    {
      "cell_type": "code",
      "source": [
        "df.isna().sum()"
      ],
      "metadata": {
        "colab": {
          "base_uri": "https://localhost:8080/"
        },
        "id": "QmoP0jTCkS75",
        "outputId": "b7c57cd6-d0b8-41bd-c347-66b0a73f332f"
      },
      "execution_count": 56,
      "outputs": [
        {
          "output_type": "execute_result",
          "data": {
            "text/plain": [
              "NAME                              0\n",
              "host id                           0\n",
              "host_identity_verified            0\n",
              "host name                         0\n",
              "neighbourhood group               0\n",
              "neighbourhood                     0\n",
              "lat                               0\n",
              "long                              0\n",
              "country                           0\n",
              "country code                      0\n",
              "instant_bookable                  0\n",
              "cancellation_policy               0\n",
              "room type                         0\n",
              "Construction year                 0\n",
              "price                             0\n",
              "service fee                       0\n",
              "minimum nights                    0\n",
              "number of reviews                 0\n",
              "last review                       0\n",
              "reviews per month                 0\n",
              "review rate number                0\n",
              "calculated host listings count    0\n",
              "availability 365                  0\n",
              "house_rules                       0\n",
              "license                           0\n",
              "dtype: int64"
            ]
          },
          "metadata": {},
          "execution_count": 56
        }
      ]
    },
    {
      "cell_type": "markdown",
      "source": [
        "There are no Nan Values, they were eliminated because the represented a \n",
        "low proportion with respect to the totality of the data"
      ],
      "metadata": {
        "id": "VYjkoaQ1kYZ5"
      }
    },
    {
      "cell_type": "markdown",
      "source": [
        "# **Data Visualization**"
      ],
      "metadata": {
        "id": "DHj39x7PCLyK"
      }
    },
    {
      "cell_type": "code",
      "source": [
        "import seaborn as sns\n",
        "corr = df_airnb.corr()\n",
        "sns.set(rc = {'figure.figsize':(15,8)})\n",
        "sns.heatmap(df_airnb.corr(),annot = True)\n"
      ],
      "metadata": {
        "colab": {
          "base_uri": "https://localhost:8080/",
          "height": 659
        },
        "id": "PdcSFphe3ElY",
        "outputId": "c03c0037-ab90-4f14-9f18-f8154d5c3d94"
      },
      "execution_count": 97,
      "outputs": [
        {
          "output_type": "execute_result",
          "data": {
            "text/plain": [
              "<matplotlib.axes._subplots.AxesSubplot at 0x7f40a5015390>"
            ]
          },
          "metadata": {},
          "execution_count": 97
        },
        {
          "output_type": "display_data",
          "data": {
            "text/plain": [
              "<Figure size 1080x576 with 2 Axes>"
            ],
            "image/png": "[encoded data removed]"
          },
          "metadata": {}
        }
      ]
    },
    {
      "cell_type": "markdown",
      "source": [
        "I noticed strong correlation between service fee and price . It is important to highlight that the correlation among our variable target and the other is pretty low, but price has the stronger correlation with number of reviews."
      ],
      "metadata": {
        "id": "harXJzAF5dB3"
      }
    },
    {
      "cell_type": "code",
      "source": [
        "import matplotlib\n",
        "import matplotlib.pyplot as plt\n",
        "import seaborn as sns\n",
        "import matplotlib.pyplot as plt\n",
        "import seaborn as sns\n",
        "import plotly.express as px\n",
        "import plotly.graph_objects as go\n",
        "from plotly.subplots import make_subplots"
      ],
      "metadata": {
        "id": "a03Rjp3SDreU"
      },
      "execution_count": 144,
      "outputs": []
    },
    {
      "cell_type": "code",
      "source": [
        "sns.relplot(x = df_airnb['Construction year'], y = df_airnb['price'], data = df_airnb, kind = \"line\", color='#FF0000');"
      ],
      "metadata": {
        "colab": {
          "base_uri": "https://localhost:8080/",
          "height": 365
        },
        "id": "M64HNkFdFUI1",
        "outputId": "d059d364-107a-4c93-aee4-15db628f9903"
      },
      "execution_count": 163,
      "outputs": [
        {
          "output_type": "display_data",
          "data": {
            "text/plain": [
              "<Figure size 360x360 with 1 Axes>"
            ],
            "image/png": "[encoded data removed]"
          },
          "metadata": {}
        }
      ]
    },
    {
      "cell_type": "code",
      "source": [
        "sns.boxplot(y = 'price',       \n",
        "            x = 'room type',    \n",
        "            data = df_airnb\n",
        "            )"
      ],
      "metadata": {
        "colab": {
          "base_uri": "https://localhost:8080/",
          "height": 520
        },
        "id": "CsEca8oqEohZ",
        "outputId": "78c6984d-814f-44c2-c2d2-43811ab88a8e"
      },
      "execution_count": 155,
      "outputs": [
        {
          "output_type": "execute_result",
          "data": {
            "text/plain": [
              "<matplotlib.axes._subplots.AxesSubplot at 0x7f409dbec4d0>"
            ]
          },
          "metadata": {},
          "execution_count": 155
        },
        {
          "output_type": "display_data",
          "data": {
            "text/plain": [
              "<Figure size 1080x576 with 1 Axes>"
            ],
            "image/png": "[encoded data removed]"
          },
          "metadata": {}
        }
      ]
    },
    {
      "cell_type": "code",
      "source": [
        "sns.catplot(x=\"room type\", y=\"price\", col=\"neighbourhood group\", data=df_airnb, kind = \"bar\");"
      ],
      "metadata": {
        "colab": {
          "base_uri": "https://localhost:8080/",
          "height": 215
        },
        "id": "BmV9L9vT8Ahk",
        "outputId": "fa1c3914-e0f8-4b51-99e0-c0ae670b6126"
      },
      "execution_count": 103,
      "outputs": [
        {
          "output_type": "display_data",
          "data": {
            "text/plain": [
              "<Figure size 1800x360 with 5 Axes>"
            ],
            "image/png": "[encoded data removed]"
          },
          "metadata": {}
        }
      ]
    },
    {
      "cell_type": "code",
      "source": [
        "sns.boxplot(x=\"review rate number\", y=\"price\",\n",
        "            hue=\"neighbourhood group\", palette=[\"m\", \"g\",\"r\",\"y\"],\n",
        "            data=df_airnb)\n",
        "sns.despine(offset=20, trim=True)"
      ],
      "metadata": {
        "colab": {
          "base_uri": "https://localhost:8080/",
          "height": 522
        },
        "id": "paCS9_AQ8LWA",
        "outputId": "7d8dac74-0008-450f-d626-30794470df52"
      },
      "execution_count": 124,
      "outputs": [
        {
          "output_type": "display_data",
          "data": {
            "text/plain": [
              "<Figure size 1080x576 with 1 Axes>"
            ],
            "image/png": "[encoded data removed]"
          },
          "metadata": {}
        }
      ]
    },
    {
      "cell_type": "code",
      "source": [
        "sns.catplot(kind=\"strip\",data=df_airnb, x='room type', y='price')\n",
        "plt.xticks(rotation = 90)"
      ],
      "metadata": {
        "colab": {
          "base_uri": "https://localhost:8080/",
          "height": 462
        },
        "id": "LTqozB7R-Ubx",
        "outputId": "9e9d2e40-40c7-4359-85f8-d22b13688ffc"
      },
      "execution_count": 125,
      "outputs": [
        {
          "output_type": "execute_result",
          "data": {
            "text/plain": [
              "(array([0, 1, 2, 3]), <a list of 4 Text major ticklabel objects>)"
            ]
          },
          "metadata": {},
          "execution_count": 125
        },
        {
          "output_type": "display_data",
          "data": {
            "text/plain": [
              "<Figure size 360x360 with 1 Axes>"
            ],
            "image/png": "[encoded data removed]"
          },
          "metadata": {}
        }
      ]
    },
    {
      "cell_type": "code",
      "source": [
        "sns.catplot(kind=\"violin\",data=df_airnb, x='room type', y='price', hue='instant_bookable', palette = 'rainbow')\n",
        "plt.xticks(rotation = 90)"
      ],
      "metadata": {
        "colab": {
          "base_uri": "https://localhost:8080/",
          "height": 462
        },
        "id": "VTPXtRotAHle",
        "outputId": "33684672-8de8-4895-f8e8-fb66c64da073"
      },
      "execution_count": 131,
      "outputs": [
        {
          "output_type": "execute_result",
          "data": {
            "text/plain": [
              "(array([0, 1, 2, 3]), <a list of 4 Text major ticklabel objects>)"
            ]
          },
          "metadata": {},
          "execution_count": 131
        },
        {
          "output_type": "display_data",
          "data": {
            "text/plain": [
              "<Figure size 471.55x360 with 1 Axes>"
            ],
            "image/png": "[encoded data removed]"
          },
          "metadata": {}
        }
      ]
    },
    {
      "cell_type": "code",
      "source": [
        "sns.histplot(data=df_airnb, x=\"price\", color= '#008080')\n"
      ],
      "metadata": {
        "colab": {
          "base_uri": "https://localhost:8080/",
          "height": 520
        },
        "id": "e_cEd3TZBE95",
        "outputId": "97d57e85-13b2-44da-c3f7-8951e4a68aff"
      },
      "execution_count": 139,
      "outputs": [
        {
          "output_type": "execute_result",
          "data": {
            "text/plain": [
              "<matplotlib.axes._subplots.AxesSubplot at 0x7f409fb08f90>"
            ]
          },
          "metadata": {},
          "execution_count": 139
        },
        {
          "output_type": "display_data",
          "data": {
            "text/plain": [
              "<Figure size 1080x576 with 1 Axes>"
            ],
            "image/png": "[encoded data removed]"
          },
          "metadata": {}
        }
      ]
    }
  ]
}
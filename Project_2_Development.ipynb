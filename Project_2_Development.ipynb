{
  "cells": [
    {
      "cell_type": "markdown",
      "metadata": {
        "id": "view-in-github",
        "colab_type": "text"
      },
      "source": [
        "<a href=\"https://colab.research.google.com/github/Angelica2929/BI_Project_AIRBNB/blob/main/Project_2_Development.ipynb\" target=\"_parent\"><img src=\"https://colab.research.google.com/assets/colab-badge.svg\" alt=\"Open In Colab\"/></a>"
      ]
    },
    {
      "cell_type": "markdown",
      "metadata": {
        "id": "GrndIiabvTqi"
      },
      "source": [
        "# **Machine Lerning Project!** \n",
        "# ***Airbnb Open Data***"
      ]
    },
    {
      "cell_type": "markdown",
      "metadata": {
        "id": "cwvnPsY5xD-b"
      },
      "source": [
        "![logoo.png](data:image/png;base64,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)"
      ]
    },
    {
      "cell_type": "markdown",
      "metadata": {
        "id": "Lie0oSIPwT-8"
      },
      "source": [
        "\n",
        "Since 2008, guests and hosts have used Airbnb to travel in a more unique, personalized way. As part of the Airbnb Inside initiative, this dataset describes the listing activity of homestays in New York City.\n",
        "\n",
        "**Source**:https://www.kaggle.com/datasets/arianazmoudeh/airbnbopendata?select=Airbnb_Open_Data.csv\n",
        "\n",
        "**Acknowledgment**:This dataset is part of Airbnb Inside but I tried to make new columns and many data inconsistency issue to create a new dataset to practice data cleaning. \n",
        "\n",
        "The original source can be found here http://insideairbnb.com/explore/"
      ]
    },
    {
      "cell_type": "markdown",
      "metadata": {
        "id": "xi9g0EE7xUsO"
      },
      "source": [
        "# **AIM**\n",
        "Whas is the price of a airbnb according to the location? I will focus in predict the price of a stay according to the location."
      ]
    },
    {
      "cell_type": "markdown",
      "metadata": {
        "id": "pP7PwfrvxnXB"
      },
      "source": [
        "# **Loading Information**\n",
        "\n",
        "---\n",
        "\n"
      ]
    },
    {
      "cell_type": "markdown",
      "metadata": {
        "id": "sUEqw_8Ax-o3"
      },
      "source": [
        "Import the libraries"
      ]
    },
    {
      "cell_type": "code",
      "execution_count": 145,
      "metadata": {
        "id": "ylVjSZB4vGOS"
      },
      "outputs": [],
      "source": [
        "import pandas as pd\n",
        "import numpy as np\n",
        "import matplotlib.pyplot as plt\n",
        "import seaborn as sns\n",
        "from sklearn.model_selection import train_test_split\n",
        "sns.set(font_scale=1)"
      ]
    },
    {
      "cell_type": "markdown",
      "metadata": {
        "id": "9GvlhWf_yB0y"
      },
      "source": [
        "Load the datased chosen"
      ]
    },
    {
      "cell_type": "code",
      "execution_count": 146,
      "metadata": {
        "id": "fbMChyIQw3rL",
        "colab": {
          "base_uri": "https://localhost:8080/",
          "height": 680
        },
        "outputId": "313dfb47-3e00-456b-ff6c-25039b424838"
      },
      "outputs": [
        {
          "output_type": "stream",
          "name": "stderr",
          "text": [
            "/usr/local/lib/python3.7/dist-packages/IPython/core/interactiveshell.py:3326: DtypeWarning:\n",
            "\n",
            "Columns (25) have mixed types.Specify dtype option on import or set low_memory=False.\n",
            "\n"
          ]
        },
        {
          "output_type": "execute_result",
          "data": {
            "text/plain": [
              "                                                     NAME      host id  \\\n",
              "id                                                                       \n",
              "1001254                Clean & quiet apt home by the park  80014485718   \n",
              "1002102                             Skylit Midtown Castle  52335172823   \n",
              "1002403               THE VILLAGE OF HARLEM....NEW YORK !  78829239556   \n",
              "1002755                                               NaN  85098326012   \n",
              "1003689  Entire Apt: Spacious Studio/Loft by central park  92037596077   \n",
              "\n",
              "        host_identity_verified host name neighbourhood group neighbourhood  \\\n",
              "id                                                                           \n",
              "1001254            unconfirmed  Madaline            Brooklyn    Kensington   \n",
              "1002102               verified     Jenna           Manhattan       Midtown   \n",
              "1002403                    NaN     Elise           Manhattan        Harlem   \n",
              "1002755            unconfirmed     Garry            Brooklyn  Clinton Hill   \n",
              "1003689               verified    Lyndon           Manhattan   East Harlem   \n",
              "\n",
              "              lat      long        country country code  ... service fee  \\\n",
              "id                                                       ...               \n",
              "1001254  40.64749 -73.97237  United States           US  ...       $193    \n",
              "1002102  40.75362 -73.98377  United States           US  ...        $28    \n",
              "1002403  40.80902 -73.94190  United States           US  ...       $124    \n",
              "1002755  40.68514 -73.95976  United States           US  ...        $74    \n",
              "1003689  40.79851 -73.94399  United States           US  ...        $41    \n",
              "\n",
              "        minimum nights number of reviews  last review reviews per month  \\\n",
              "id                                                                        \n",
              "1001254           10.0               9.0   10/19/2021              0.21   \n",
              "1002102           30.0              45.0    5/21/2022              0.38   \n",
              "1002403            3.0               0.0          NaN               NaN   \n",
              "1002755           30.0             270.0     7/5/2019              4.64   \n",
              "1003689           10.0               9.0   11/19/2018              0.10   \n",
              "\n",
              "        review rate number  calculated host listings count  availability 365  \\\n",
              "id                                                                             \n",
              "1001254                4.0                             6.0             286.0   \n",
              "1002102                4.0                             2.0             228.0   \n",
              "1002403                5.0                             1.0             352.0   \n",
              "1002755                4.0                             1.0             322.0   \n",
              "1003689                3.0                             1.0             289.0   \n",
              "\n",
              "                                               house_rules  license  \n",
              "id                                                                   \n",
              "1001254  Clean up and treat the home the way you'd like...      NaN  \n",
              "1002102  Pet friendly but please confirm with me if the...      NaN  \n",
              "1002403  I encourage you to use my kitchen, cooking and...      NaN  \n",
              "1002755                                                NaN      NaN  \n",
              "1003689  Please no smoking in the house, porch or on th...      NaN  \n",
              "\n",
              "[5 rows x 25 columns]"
            ],
            "text/html": [
              "\n",
              "  <div id=\"df-ebe41306-82d5-4cec-9b4e-cc346779ec4b\">\n",
              "    <div class=\"colab-df-container\">\n",
              "      <div>\n",
              "<style scoped>\n",
              "    .dataframe tbody tr th:only-of-type {\n",
              "        vertical-align: middle;\n",
              "    }\n",
              "\n",
              "    .dataframe tbody tr th {\n",
              "        vertical-align: top;\n",
              "    }\n",
              "\n",
              "    .dataframe thead th {\n",
              "        text-align: right;\n",
              "    }\n",
              "</style>\n",
              "<table border=\"1\" class=\"dataframe\">\n",
              "  <thead>\n",
              "    <tr style=\"text-align: right;\">\n",
              "      <th></th>\n",
              "      <th>NAME</th>\n",
              "      <th>host id</th>\n",
              "      <th>host_identity_verified</th>\n",
              "      <th>host name</th>\n",
              "      <th>neighbourhood group</th>\n",
              "      <th>neighbourhood</th>\n",
              "      <th>lat</th>\n",
              "      <th>long</th>\n",
              "      <th>country</th>\n",
              "      <th>country code</th>\n",
              "      <th>...</th>\n",
              "      <th>service fee</th>\n",
              "      <th>minimum nights</th>\n",
              "      <th>number of reviews</th>\n",
              "      <th>last review</th>\n",
              "      <th>reviews per month</th>\n",
              "      <th>review rate number</th>\n",
              "      <th>calculated host listings count</th>\n",
              "      <th>availability 365</th>\n",
              "      <th>house_rules</th>\n",
              "      <th>license</th>\n",
              "    </tr>\n",
              "    <tr>\n",
              "      <th>id</th>\n",
              "      <th></th>\n",
              "      <th></th>\n",
              "      <th></th>\n",
              "      <th></th>\n",
              "      <th></th>\n",
              "      <th></th>\n",
              "      <th></th>\n",
              "      <th></th>\n",
              "      <th></th>\n",
              "      <th></th>\n",
              "      <th></th>\n",
              "      <th></th>\n",
              "      <th></th>\n",
              "      <th></th>\n",
              "      <th></th>\n",
              "      <th></th>\n",
              "      <th></th>\n",
              "      <th></th>\n",
              "      <th></th>\n",
              "      <th></th>\n",
              "      <th></th>\n",
              "    </tr>\n",
              "  </thead>\n",
              "  <tbody>\n",
              "    <tr>\n",
              "      <th>1001254</th>\n",
              "      <td>Clean &amp; quiet apt home by the park</td>\n",
              "      <td>80014485718</td>\n",
              "      <td>unconfirmed</td>\n",
              "      <td>Madaline</td>\n",
              "      <td>Brooklyn</td>\n",
              "      <td>Kensington</td>\n",
              "      <td>40.64749</td>\n",
              "      <td>-73.97237</td>\n",
              "      <td>United States</td>\n",
              "      <td>US</td>\n",
              "      <td>...</td>\n",
              "      <td>$193</td>\n",
              "      <td>10.0</td>\n",
              "      <td>9.0</td>\n",
              "      <td>10/19/2021</td>\n",
              "      <td>0.21</td>\n",
              "      <td>4.0</td>\n",
              "      <td>6.0</td>\n",
              "      <td>286.0</td>\n",
              "      <td>Clean up and treat the home the way you'd like...</td>\n",
              "      <td>NaN</td>\n",
              "    </tr>\n",
              "    <tr>\n",
              "      <th>1002102</th>\n",
              "      <td>Skylit Midtown Castle</td>\n",
              "      <td>52335172823</td>\n",
              "      <td>verified</td>\n",
              "      <td>Jenna</td>\n",
              "      <td>Manhattan</td>\n",
              "      <td>Midtown</td>\n",
              "      <td>40.75362</td>\n",
              "      <td>-73.98377</td>\n",
              "      <td>United States</td>\n",
              "      <td>US</td>\n",
              "      <td>...</td>\n",
              "      <td>$28</td>\n",
              "      <td>30.0</td>\n",
              "      <td>45.0</td>\n",
              "      <td>5/21/2022</td>\n",
              "      <td>0.38</td>\n",
              "      <td>4.0</td>\n",
              "      <td>2.0</td>\n",
              "      <td>228.0</td>\n",
              "      <td>Pet friendly but please confirm with me if the...</td>\n",
              "      <td>NaN</td>\n",
              "    </tr>\n",
              "    <tr>\n",
              "      <th>1002403</th>\n",
              "      <td>THE VILLAGE OF HARLEM....NEW YORK !</td>\n",
              "      <td>78829239556</td>\n",
              "      <td>NaN</td>\n",
              "      <td>Elise</td>\n",
              "      <td>Manhattan</td>\n",
              "      <td>Harlem</td>\n",
              "      <td>40.80902</td>\n",
              "      <td>-73.94190</td>\n",
              "      <td>United States</td>\n",
              "      <td>US</td>\n",
              "      <td>...</td>\n",
              "      <td>$124</td>\n",
              "      <td>3.0</td>\n",
              "      <td>0.0</td>\n",
              "      <td>NaN</td>\n",
              "      <td>NaN</td>\n",
              "      <td>5.0</td>\n",
              "      <td>1.0</td>\n",
              "      <td>352.0</td>\n",
              "      <td>I encourage you to use my kitchen, cooking and...</td>\n",
              "      <td>NaN</td>\n",
              "    </tr>\n",
              "    <tr>\n",
              "      <th>1002755</th>\n",
              "      <td>NaN</td>\n",
              "      <td>85098326012</td>\n",
              "      <td>unconfirmed</td>\n",
              "      <td>Garry</td>\n",
              "      <td>Brooklyn</td>\n",
              "      <td>Clinton Hill</td>\n",
              "      <td>40.68514</td>\n",
              "      <td>-73.95976</td>\n",
              "      <td>United States</td>\n",
              "      <td>US</td>\n",
              "      <td>...</td>\n",
              "      <td>$74</td>\n",
              "      <td>30.0</td>\n",
              "      <td>270.0</td>\n",
              "      <td>7/5/2019</td>\n",
              "      <td>4.64</td>\n",
              "      <td>4.0</td>\n",
              "      <td>1.0</td>\n",
              "      <td>322.0</td>\n",
              "      <td>NaN</td>\n",
              "      <td>NaN</td>\n",
              "    </tr>\n",
              "    <tr>\n",
              "      <th>1003689</th>\n",
              "      <td>Entire Apt: Spacious Studio/Loft by central park</td>\n",
              "      <td>92037596077</td>\n",
              "      <td>verified</td>\n",
              "      <td>Lyndon</td>\n",
              "      <td>Manhattan</td>\n",
              "      <td>East Harlem</td>\n",
              "      <td>40.79851</td>\n",
              "      <td>-73.94399</td>\n",
              "      <td>United States</td>\n",
              "      <td>US</td>\n",
              "      <td>...</td>\n",
              "      <td>$41</td>\n",
              "      <td>10.0</td>\n",
              "      <td>9.0</td>\n",
              "      <td>11/19/2018</td>\n",
              "      <td>0.10</td>\n",
              "      <td>3.0</td>\n",
              "      <td>1.0</td>\n",
              "      <td>289.0</td>\n",
              "      <td>Please no smoking in the house, porch or on th...</td>\n",
              "      <td>NaN</td>\n",
              "    </tr>\n",
              "  </tbody>\n",
              "</table>\n",
              "<p>5 rows × 25 columns</p>\n",
              "</div>\n",
              "      <button class=\"colab-df-convert\" onclick=\"convertToInteractive('df-ebe41306-82d5-4cec-9b4e-cc346779ec4b')\"\n",
              "              title=\"Convert this dataframe to an interactive table.\"\n",
              "              style=\"display:none;\">\n",
              "        \n",
              "  <svg xmlns=\"http://www.w3.org/2000/svg\" height=\"24px\"viewBox=\"0 0 24 24\"\n",
              "       width=\"24px\">\n",
              "    <path d=\"M0 0h24v24H0V0z\" fill=\"none\"/>\n",
              "    <path d=\"M18.56 5.44l.94 2.06.94-2.06 2.06-.94-2.06-.94-.94-2.06-.94 2.06-2.06.94zm-11 1L8.5 8.5l.94-2.06 2.06-.94-2.06-.94L8.5 2.5l-.94 2.06-2.06.94zm10 10l.94 2.06.94-2.06 2.06-.94-2.06-.94-.94-2.06-.94 2.06-2.06.94z\"/><path d=\"M17.41 7.96l-1.37-1.37c-.4-.4-.92-.59-1.43-.59-.52 0-1.04.2-1.43.59L10.3 9.45l-7.72 7.72c-.78.78-.78 2.05 0 2.83L4 21.41c.39.39.9.59 1.41.59.51 0 1.02-.2 1.41-.59l7.78-7.78 2.81-2.81c.8-.78.8-2.07 0-2.86zM5.41 20L4 18.59l7.72-7.72 1.47 1.35L5.41 20z\"/>\n",
              "  </svg>\n",
              "      </button>\n",
              "      \n",
              "  <style>\n",
              "    .colab-df-container {\n",
              "      display:flex;\n",
              "      flex-wrap:wrap;\n",
              "      gap: 12px;\n",
              "    }\n",
              "\n",
              "    .colab-df-convert {\n",
              "      background-color: #E8F0FE;\n",
              "      border: none;\n",
              "      border-radius: 50%;\n",
              "      cursor: pointer;\n",
              "      display: none;\n",
              "      fill: #1967D2;\n",
              "      height: 32px;\n",
              "      padding: 0 0 0 0;\n",
              "      width: 32px;\n",
              "    }\n",
              "\n",
              "    .colab-df-convert:hover {\n",
              "      background-color: #E2EBFA;\n",
              "      box-shadow: 0px 1px 2px rgba(60, 64, 67, 0.3), 0px 1px 3px 1px rgba(60, 64, 67, 0.15);\n",
              "      fill: #174EA6;\n",
              "    }\n",
              "\n",
              "    [theme=dark] .colab-df-convert {\n",
              "      background-color: #3B4455;\n",
              "      fill: #D2E3FC;\n",
              "    }\n",
              "\n",
              "    [theme=dark] .colab-df-convert:hover {\n",
              "      background-color: #434B5C;\n",
              "      box-shadow: 0px 1px 3px 1px rgba(0, 0, 0, 0.15);\n",
              "      filter: drop-shadow(0px 1px 2px rgba(0, 0, 0, 0.3));\n",
              "      fill: #FFFFFF;\n",
              "    }\n",
              "  </style>\n",
              "\n",
              "      <script>\n",
              "        const buttonEl =\n",
              "          document.querySelector('#df-ebe41306-82d5-4cec-9b4e-cc346779ec4b button.colab-df-convert');\n",
              "        buttonEl.style.display =\n",
              "          google.colab.kernel.accessAllowed ? 'block' : 'none';\n",
              "\n",
              "        async function convertToInteractive(key) {\n",
              "          const element = document.querySelector('#df-ebe41306-82d5-4cec-9b4e-cc346779ec4b');\n",
              "          const dataTable =\n",
              "            await google.colab.kernel.invokeFunction('convertToInteractive',\n",
              "                                                     [key], {});\n",
              "          if (!dataTable) return;\n",
              "\n",
              "          const docLinkHtml = 'Like what you see? Visit the ' +\n",
              "            '<a target=\"_blank\" href=https://colab.research.google.com/notebooks/data_table.ipynb>data table notebook</a>'\n",
              "            + ' to learn more about interactive tables.';\n",
              "          element.innerHTML = '';\n",
              "          dataTable['output_type'] = 'display_data';\n",
              "          await google.colab.output.renderOutput(dataTable, element);\n",
              "          const docLink = document.createElement('div');\n",
              "          docLink.innerHTML = docLinkHtml;\n",
              "          element.appendChild(docLink);\n",
              "        }\n",
              "      </script>\n",
              "    </div>\n",
              "  </div>\n",
              "  "
            ]
          },
          "metadata": {},
          "execution_count": 146
        }
      ],
      "source": [
        "df_airnb = pd.read_csv('/content/drive/MyDrive/CODING DOJO/Material Apoyo/Airbnb_Open_Data.csv', index_col = 'id')\n",
        "\n",
        "df_airnb.head(5)"
      ]
    },
    {
      "cell_type": "code",
      "source": [
        "from google.colab import drive\n",
        "drive.mount('/content/drive')"
      ],
      "metadata": {
        "colab": {
          "base_uri": "https://localhost:8080/"
        },
        "id": "8mSg89Z1HSgk",
        "outputId": "8a851dd9-bd7b-429b-afdc-c862ac86cbe5"
      },
      "execution_count": 147,
      "outputs": [
        {
          "output_type": "stream",
          "name": "stdout",
          "text": [
            "Drive already mounted at /content/drive; to attempt to forcibly remount, call drive.mount(\"/content/drive\", force_remount=True).\n"
          ]
        }
      ]
    },
    {
      "cell_type": "markdown",
      "metadata": {
        "id": "KXy_LGqxzGy4"
      },
      "source": [
        "# **Exploring the data**\n",
        "\n",
        "---\n",
        "\n"
      ]
    },
    {
      "cell_type": "markdown",
      "metadata": {
        "id": "qHzKVaAnLmaH"
      },
      "source": [
        "Let's see how is about our dataset"
      ]
    },
    {
      "cell_type": "code",
      "execution_count": 148,
      "metadata": {
        "id": "jGix5FdPzH5q",
        "colab": {
          "base_uri": "https://localhost:8080/"
        },
        "outputId": "9a9893d7-038f-49e8-e970-59b46999ff4c"
      },
      "outputs": [
        {
          "output_type": "stream",
          "name": "stdout",
          "text": [
            "<class 'pandas.core.frame.DataFrame'>\n",
            "Int64Index: 102599 entries, 1001254 to 6094647\n",
            "Data columns (total 25 columns):\n",
            " #   Column                          Non-Null Count   Dtype  \n",
            "---  ------                          --------------   -----  \n",
            " 0   NAME                            102349 non-null  object \n",
            " 1   host id                         102599 non-null  int64  \n",
            " 2   host_identity_verified          102310 non-null  object \n",
            " 3   host name                       102193 non-null  object \n",
            " 4   neighbourhood group             102570 non-null  object \n",
            " 5   neighbourhood                   102583 non-null  object \n",
            " 6   lat                             102591 non-null  float64\n",
            " 7   long                            102591 non-null  float64\n",
            " 8   country                         102067 non-null  object \n",
            " 9   country code                    102468 non-null  object \n",
            " 10  instant_bookable                102494 non-null  object \n",
            " 11  cancellation_policy             102523 non-null  object \n",
            " 12  room type                       102599 non-null  object \n",
            " 13  Construction year               102385 non-null  float64\n",
            " 14  price                           102352 non-null  object \n",
            " 15  service fee                     102326 non-null  object \n",
            " 16  minimum nights                  102190 non-null  float64\n",
            " 17  number of reviews               102416 non-null  float64\n",
            " 18  last review                     86706 non-null   object \n",
            " 19  reviews per month               86720 non-null   float64\n",
            " 20  review rate number              102273 non-null  float64\n",
            " 21  calculated host listings count  102280 non-null  float64\n",
            " 22  availability 365                102151 non-null  float64\n",
            " 23  house_rules                     50468 non-null   object \n",
            " 24  license                         2 non-null       object \n",
            "dtypes: float64(9), int64(1), object(15)\n",
            "memory usage: 20.4+ MB\n"
          ]
        }
      ],
      "source": [
        "df_airnb.info()"
      ]
    },
    {
      "cell_type": "code",
      "execution_count": 149,
      "metadata": {
        "id": "mzTmLj0szOUW",
        "colab": {
          "base_uri": "https://localhost:8080/"
        },
        "outputId": "b627e104-6ecc-442c-801f-95fc459cce6c"
      },
      "outputs": [
        {
          "output_type": "execute_result",
          "data": {
            "text/plain": [
              "(102599, 25)"
            ]
          },
          "metadata": {},
          "execution_count": 149
        }
      ],
      "source": [
        "df_airnb.shape"
      ]
    },
    {
      "cell_type": "code",
      "execution_count": 150,
      "metadata": {
        "id": "USW_n3_lzQgc",
        "colab": {
          "base_uri": "https://localhost:8080/"
        },
        "outputId": "d8a99de2-7092-4f85-ffb4-86085c5f7016"
      },
      "outputs": [
        {
          "output_type": "execute_result",
          "data": {
            "text/plain": [
              "2564975"
            ]
          },
          "metadata": {},
          "execution_count": 150
        }
      ],
      "source": [
        "df_airnb.size"
      ]
    },
    {
      "cell_type": "markdown",
      "metadata": {
        "id": "Xdlg0vUIzq6T"
      },
      "source": [
        "Our dataset is shaped by a total of **2.667.574** registers, distribuited like this:\n",
        "\n",
        "\n",
        "102.599 Rows\n",
        "26 columnns , it means 25 columns conform the set of characteristics if I dont count my target variable."
      ]
    },
    {
      "cell_type": "code",
      "execution_count": 151,
      "metadata": {
        "id": "w0hk5LuBzgnL",
        "colab": {
          "base_uri": "https://localhost:8080/",
          "height": 416
        },
        "outputId": "0be7110d-dda5-4562-9bbd-2a3e91bd6a47"
      },
      "outputs": [
        {
          "output_type": "execute_result",
          "data": {
            "text/plain": [
              "            host id            lat           long  Construction year  \\\n",
              "count  1.025990e+05  102591.000000  102591.000000      102385.000000   \n",
              "mean   4.925411e+10      40.728094     -73.949644        2012.487464   \n",
              "std    2.853900e+10       0.055857       0.049521           5.765556   \n",
              "min    1.236005e+08      40.499790     -74.249840        2003.000000   \n",
              "25%    2.458333e+10      40.688740     -73.982580        2007.000000   \n",
              "50%    4.911774e+10      40.722290     -73.954440        2012.000000   \n",
              "75%    7.399650e+10      40.762760     -73.932350        2017.000000   \n",
              "max    9.876313e+10      40.916970     -73.705220        2022.000000   \n",
              "\n",
              "       minimum nights  number of reviews  reviews per month  \\\n",
              "count   102190.000000      102416.000000       86720.000000   \n",
              "mean         8.135845          27.483743           1.374022   \n",
              "std         30.553781          49.508954           1.746621   \n",
              "min      -1223.000000           0.000000           0.010000   \n",
              "25%          2.000000           1.000000           0.220000   \n",
              "50%          3.000000           7.000000           0.740000   \n",
              "75%          5.000000          30.000000           2.000000   \n",
              "max       5645.000000        1024.000000          90.000000   \n",
              "\n",
              "       review rate number  calculated host listings count  availability 365  \n",
              "count       102273.000000                   102280.000000     102151.000000  \n",
              "mean             3.279106                        7.936605        141.133254  \n",
              "std              1.284657                       32.218780        135.435024  \n",
              "min              1.000000                        1.000000        -10.000000  \n",
              "25%              2.000000                        1.000000          3.000000  \n",
              "50%              3.000000                        1.000000         96.000000  \n",
              "75%              4.000000                        2.000000        269.000000  \n",
              "max              5.000000                      332.000000       3677.000000  "
            ],
            "text/html": [
              "\n",
              "  <div id=\"df-e885c023-2168-4f05-881e-404c1a140a33\">\n",
              "    <div class=\"colab-df-container\">\n",
              "      <div>\n",
              "<style scoped>\n",
              "    .dataframe tbody tr th:only-of-type {\n",
              "        vertical-align: middle;\n",
              "    }\n",
              "\n",
              "    .dataframe tbody tr th {\n",
              "        vertical-align: top;\n",
              "    }\n",
              "\n",
              "    .dataframe thead th {\n",
              "        text-align: right;\n",
              "    }\n",
              "</style>\n",
              "<table border=\"1\" class=\"dataframe\">\n",
              "  <thead>\n",
              "    <tr style=\"text-align: right;\">\n",
              "      <th></th>\n",
              "      <th>host id</th>\n",
              "      <th>lat</th>\n",
              "      <th>long</th>\n",
              "      <th>Construction year</th>\n",
              "      <th>minimum nights</th>\n",
              "      <th>number of reviews</th>\n",
              "      <th>reviews per month</th>\n",
              "      <th>review rate number</th>\n",
              "      <th>calculated host listings count</th>\n",
              "      <th>availability 365</th>\n",
              "    </tr>\n",
              "  </thead>\n",
              "  <tbody>\n",
              "    <tr>\n",
              "      <th>count</th>\n",
              "      <td>1.025990e+05</td>\n",
              "      <td>102591.000000</td>\n",
              "      <td>102591.000000</td>\n",
              "      <td>102385.000000</td>\n",
              "      <td>102190.000000</td>\n",
              "      <td>102416.000000</td>\n",
              "      <td>86720.000000</td>\n",
              "      <td>102273.000000</td>\n",
              "      <td>102280.000000</td>\n",
              "      <td>102151.000000</td>\n",
              "    </tr>\n",
              "    <tr>\n",
              "      <th>mean</th>\n",
              "      <td>4.925411e+10</td>\n",
              "      <td>40.728094</td>\n",
              "      <td>-73.949644</td>\n",
              "      <td>2012.487464</td>\n",
              "      <td>8.135845</td>\n",
              "      <td>27.483743</td>\n",
              "      <td>1.374022</td>\n",
              "      <td>3.279106</td>\n",
              "      <td>7.936605</td>\n",
              "      <td>141.133254</td>\n",
              "    </tr>\n",
              "    <tr>\n",
              "      <th>std</th>\n",
              "      <td>2.853900e+10</td>\n",
              "      <td>0.055857</td>\n",
              "      <td>0.049521</td>\n",
              "      <td>5.765556</td>\n",
              "      <td>30.553781</td>\n",
              "      <td>49.508954</td>\n",
              "      <td>1.746621</td>\n",
              "      <td>1.284657</td>\n",
              "      <td>32.218780</td>\n",
              "      <td>135.435024</td>\n",
              "    </tr>\n",
              "    <tr>\n",
              "      <th>min</th>\n",
              "      <td>1.236005e+08</td>\n",
              "      <td>40.499790</td>\n",
              "      <td>-74.249840</td>\n",
              "      <td>2003.000000</td>\n",
              "      <td>-1223.000000</td>\n",
              "      <td>0.000000</td>\n",
              "      <td>0.010000</td>\n",
              "      <td>1.000000</td>\n",
              "      <td>1.000000</td>\n",
              "      <td>-10.000000</td>\n",
              "    </tr>\n",
              "    <tr>\n",
              "      <th>25%</th>\n",
              "      <td>2.458333e+10</td>\n",
              "      <td>40.688740</td>\n",
              "      <td>-73.982580</td>\n",
              "      <td>2007.000000</td>\n",
              "      <td>2.000000</td>\n",
              "      <td>1.000000</td>\n",
              "      <td>0.220000</td>\n",
              "      <td>2.000000</td>\n",
              "      <td>1.000000</td>\n",
              "      <td>3.000000</td>\n",
              "    </tr>\n",
              "    <tr>\n",
              "      <th>50%</th>\n",
              "      <td>4.911774e+10</td>\n",
              "      <td>40.722290</td>\n",
              "      <td>-73.954440</td>\n",
              "      <td>2012.000000</td>\n",
              "      <td>3.000000</td>\n",
              "      <td>7.000000</td>\n",
              "      <td>0.740000</td>\n",
              "      <td>3.000000</td>\n",
              "      <td>1.000000</td>\n",
              "      <td>96.000000</td>\n",
              "    </tr>\n",
              "    <tr>\n",
              "      <th>75%</th>\n",
              "      <td>7.399650e+10</td>\n",
              "      <td>40.762760</td>\n",
              "      <td>-73.932350</td>\n",
              "      <td>2017.000000</td>\n",
              "      <td>5.000000</td>\n",
              "      <td>30.000000</td>\n",
              "      <td>2.000000</td>\n",
              "      <td>4.000000</td>\n",
              "      <td>2.000000</td>\n",
              "      <td>269.000000</td>\n",
              "    </tr>\n",
              "    <tr>\n",
              "      <th>max</th>\n",
              "      <td>9.876313e+10</td>\n",
              "      <td>40.916970</td>\n",
              "      <td>-73.705220</td>\n",
              "      <td>2022.000000</td>\n",
              "      <td>5645.000000</td>\n",
              "      <td>1024.000000</td>\n",
              "      <td>90.000000</td>\n",
              "      <td>5.000000</td>\n",
              "      <td>332.000000</td>\n",
              "      <td>3677.000000</td>\n",
              "    </tr>\n",
              "  </tbody>\n",
              "</table>\n",
              "</div>\n",
              "      <button class=\"colab-df-convert\" onclick=\"convertToInteractive('df-e885c023-2168-4f05-881e-404c1a140a33')\"\n",
              "              title=\"Convert this dataframe to an interactive table.\"\n",
              "              style=\"display:none;\">\n",
              "        \n",
              "  <svg xmlns=\"http://www.w3.org/2000/svg\" height=\"24px\"viewBox=\"0 0 24 24\"\n",
              "       width=\"24px\">\n",
              "    <path d=\"M0 0h24v24H0V0z\" fill=\"none\"/>\n",
              "    <path d=\"M18.56 5.44l.94 2.06.94-2.06 2.06-.94-2.06-.94-.94-2.06-.94 2.06-2.06.94zm-11 1L8.5 8.5l.94-2.06 2.06-.94-2.06-.94L8.5 2.5l-.94 2.06-2.06.94zm10 10l.94 2.06.94-2.06 2.06-.94-2.06-.94-.94-2.06-.94 2.06-2.06.94z\"/><path d=\"M17.41 7.96l-1.37-1.37c-.4-.4-.92-.59-1.43-.59-.52 0-1.04.2-1.43.59L10.3 9.45l-7.72 7.72c-.78.78-.78 2.05 0 2.83L4 21.41c.39.39.9.59 1.41.59.51 0 1.02-.2 1.41-.59l7.78-7.78 2.81-2.81c.8-.78.8-2.07 0-2.86zM5.41 20L4 18.59l7.72-7.72 1.47 1.35L5.41 20z\"/>\n",
              "  </svg>\n",
              "      </button>\n",
              "      \n",
              "  <style>\n",
              "    .colab-df-container {\n",
              "      display:flex;\n",
              "      flex-wrap:wrap;\n",
              "      gap: 12px;\n",
              "    }\n",
              "\n",
              "    .colab-df-convert {\n",
              "      background-color: #E8F0FE;\n",
              "      border: none;\n",
              "      border-radius: 50%;\n",
              "      cursor: pointer;\n",
              "      display: none;\n",
              "      fill: #1967D2;\n",
              "      height: 32px;\n",
              "      padding: 0 0 0 0;\n",
              "      width: 32px;\n",
              "    }\n",
              "\n",
              "    .colab-df-convert:hover {\n",
              "      background-color: #E2EBFA;\n",
              "      box-shadow: 0px 1px 2px rgba(60, 64, 67, 0.3), 0px 1px 3px 1px rgba(60, 64, 67, 0.15);\n",
              "      fill: #174EA6;\n",
              "    }\n",
              "\n",
              "    [theme=dark] .colab-df-convert {\n",
              "      background-color: #3B4455;\n",
              "      fill: #D2E3FC;\n",
              "    }\n",
              "\n",
              "    [theme=dark] .colab-df-convert:hover {\n",
              "      background-color: #434B5C;\n",
              "      box-shadow: 0px 1px 3px 1px rgba(0, 0, 0, 0.15);\n",
              "      filter: drop-shadow(0px 1px 2px rgba(0, 0, 0, 0.3));\n",
              "      fill: #FFFFFF;\n",
              "    }\n",
              "  </style>\n",
              "\n",
              "      <script>\n",
              "        const buttonEl =\n",
              "          document.querySelector('#df-e885c023-2168-4f05-881e-404c1a140a33 button.colab-df-convert');\n",
              "        buttonEl.style.display =\n",
              "          google.colab.kernel.accessAllowed ? 'block' : 'none';\n",
              "\n",
              "        async function convertToInteractive(key) {\n",
              "          const element = document.querySelector('#df-e885c023-2168-4f05-881e-404c1a140a33');\n",
              "          const dataTable =\n",
              "            await google.colab.kernel.invokeFunction('convertToInteractive',\n",
              "                                                     [key], {});\n",
              "          if (!dataTable) return;\n",
              "\n",
              "          const docLinkHtml = 'Like what you see? Visit the ' +\n",
              "            '<a target=\"_blank\" href=https://colab.research.google.com/notebooks/data_table.ipynb>data table notebook</a>'\n",
              "            + ' to learn more about interactive tables.';\n",
              "          element.innerHTML = '';\n",
              "          dataTable['output_type'] = 'display_data';\n",
              "          await google.colab.output.renderOutput(dataTable, element);\n",
              "          const docLink = document.createElement('div');\n",
              "          docLink.innerHTML = docLinkHtml;\n",
              "          element.appendChild(docLink);\n",
              "        }\n",
              "      </script>\n",
              "    </div>\n",
              "  </div>\n",
              "  "
            ]
          },
          "metadata": {},
          "execution_count": 151
        }
      ],
      "source": [
        "df_airnb.describe()"
      ]
    },
    {
      "cell_type": "code",
      "execution_count": 152,
      "metadata": {
        "id": "5Kov8S9ezmF9",
        "colab": {
          "base_uri": "https://localhost:8080/",
          "height": 424
        },
        "outputId": "a3d72872-45b8-46df-981f-6eabe489c790"
      },
      "outputs": [
        {
          "output_type": "execute_result",
          "data": {
            "text/plain": [
              "                                   count          mean           std  \\\n",
              "host id                         102599.0  4.925411e+10  2.853900e+10   \n",
              "lat                             102591.0  4.072809e+01  5.585652e-02   \n",
              "long                            102591.0 -7.394964e+01  4.952126e-02   \n",
              "Construction year               102385.0  2.012487e+03  5.765556e+00   \n",
              "minimum nights                  102190.0  8.135845e+00  3.055378e+01   \n",
              "number of reviews               102416.0  2.748374e+01  4.950895e+01   \n",
              "reviews per month                86720.0  1.374022e+00  1.746621e+00   \n",
              "review rate number              102273.0  3.279106e+00  1.284657e+00   \n",
              "calculated host listings count  102280.0  7.936605e+00  3.221878e+01   \n",
              "availability 365                102151.0  1.411333e+02  1.354350e+02   \n",
              "\n",
              "                                         min           25%           50%  \\\n",
              "host id                         1.236005e+08  2.458333e+10  4.911774e+10   \n",
              "lat                             4.049979e+01  4.068874e+01  4.072229e+01   \n",
              "long                           -7.424984e+01 -7.398258e+01 -7.395444e+01   \n",
              "Construction year               2.003000e+03  2.007000e+03  2.012000e+03   \n",
              "minimum nights                 -1.223000e+03  2.000000e+00  3.000000e+00   \n",
              "number of reviews               0.000000e+00  1.000000e+00  7.000000e+00   \n",
              "reviews per month               1.000000e-02  2.200000e-01  7.400000e-01   \n",
              "review rate number              1.000000e+00  2.000000e+00  3.000000e+00   \n",
              "calculated host listings count  1.000000e+00  1.000000e+00  1.000000e+00   \n",
              "availability 365               -1.000000e+01  3.000000e+00  9.600000e+01   \n",
              "\n",
              "                                         75%           max  \n",
              "host id                         7.399650e+10  9.876313e+10  \n",
              "lat                             4.076276e+01  4.091697e+01  \n",
              "long                           -7.393235e+01 -7.370522e+01  \n",
              "Construction year               2.017000e+03  2.022000e+03  \n",
              "minimum nights                  5.000000e+00  5.645000e+03  \n",
              "number of reviews               3.000000e+01  1.024000e+03  \n",
              "reviews per month               2.000000e+00  9.000000e+01  \n",
              "review rate number              4.000000e+00  5.000000e+00  \n",
              "calculated host listings count  2.000000e+00  3.320000e+02  \n",
              "availability 365                2.690000e+02  3.677000e+03  "
            ],
            "text/html": [
              "\n",
              "  <div id=\"df-e6eb959a-11a1-48fe-8e4b-f3b665565419\">\n",
              "    <div class=\"colab-df-container\">\n",
              "      <div>\n",
              "<style scoped>\n",
              "    .dataframe tbody tr th:only-of-type {\n",
              "        vertical-align: middle;\n",
              "    }\n",
              "\n",
              "    .dataframe tbody tr th {\n",
              "        vertical-align: top;\n",
              "    }\n",
              "\n",
              "    .dataframe thead th {\n",
              "        text-align: right;\n",
              "    }\n",
              "</style>\n",
              "<table border=\"1\" class=\"dataframe\">\n",
              "  <thead>\n",
              "    <tr style=\"text-align: right;\">\n",
              "      <th></th>\n",
              "      <th>count</th>\n",
              "      <th>mean</th>\n",
              "      <th>std</th>\n",
              "      <th>min</th>\n",
              "      <th>25%</th>\n",
              "      <th>50%</th>\n",
              "      <th>75%</th>\n",
              "      <th>max</th>\n",
              "    </tr>\n",
              "  </thead>\n",
              "  <tbody>\n",
              "    <tr>\n",
              "      <th>host id</th>\n",
              "      <td>102599.0</td>\n",
              "      <td>4.925411e+10</td>\n",
              "      <td>2.853900e+10</td>\n",
              "      <td>1.236005e+08</td>\n",
              "      <td>2.458333e+10</td>\n",
              "      <td>4.911774e+10</td>\n",
              "      <td>7.399650e+10</td>\n",
              "      <td>9.876313e+10</td>\n",
              "    </tr>\n",
              "    <tr>\n",
              "      <th>lat</th>\n",
              "      <td>102591.0</td>\n",
              "      <td>4.072809e+01</td>\n",
              "      <td>5.585652e-02</td>\n",
              "      <td>4.049979e+01</td>\n",
              "      <td>4.068874e+01</td>\n",
              "      <td>4.072229e+01</td>\n",
              "      <td>4.076276e+01</td>\n",
              "      <td>4.091697e+01</td>\n",
              "    </tr>\n",
              "    <tr>\n",
              "      <th>long</th>\n",
              "      <td>102591.0</td>\n",
              "      <td>-7.394964e+01</td>\n",
              "      <td>4.952126e-02</td>\n",
              "      <td>-7.424984e+01</td>\n",
              "      <td>-7.398258e+01</td>\n",
              "      <td>-7.395444e+01</td>\n",
              "      <td>-7.393235e+01</td>\n",
              "      <td>-7.370522e+01</td>\n",
              "    </tr>\n",
              "    <tr>\n",
              "      <th>Construction year</th>\n",
              "      <td>102385.0</td>\n",
              "      <td>2.012487e+03</td>\n",
              "      <td>5.765556e+00</td>\n",
              "      <td>2.003000e+03</td>\n",
              "      <td>2.007000e+03</td>\n",
              "      <td>2.012000e+03</td>\n",
              "      <td>2.017000e+03</td>\n",
              "      <td>2.022000e+03</td>\n",
              "    </tr>\n",
              "    <tr>\n",
              "      <th>minimum nights</th>\n",
              "      <td>102190.0</td>\n",
              "      <td>8.135845e+00</td>\n",
              "      <td>3.055378e+01</td>\n",
              "      <td>-1.223000e+03</td>\n",
              "      <td>2.000000e+00</td>\n",
              "      <td>3.000000e+00</td>\n",
              "      <td>5.000000e+00</td>\n",
              "      <td>5.645000e+03</td>\n",
              "    </tr>\n",
              "    <tr>\n",
              "      <th>number of reviews</th>\n",
              "      <td>102416.0</td>\n",
              "      <td>2.748374e+01</td>\n",
              "      <td>4.950895e+01</td>\n",
              "      <td>0.000000e+00</td>\n",
              "      <td>1.000000e+00</td>\n",
              "      <td>7.000000e+00</td>\n",
              "      <td>3.000000e+01</td>\n",
              "      <td>1.024000e+03</td>\n",
              "    </tr>\n",
              "    <tr>\n",
              "      <th>reviews per month</th>\n",
              "      <td>86720.0</td>\n",
              "      <td>1.374022e+00</td>\n",
              "      <td>1.746621e+00</td>\n",
              "      <td>1.000000e-02</td>\n",
              "      <td>2.200000e-01</td>\n",
              "      <td>7.400000e-01</td>\n",
              "      <td>2.000000e+00</td>\n",
              "      <td>9.000000e+01</td>\n",
              "    </tr>\n",
              "    <tr>\n",
              "      <th>review rate number</th>\n",
              "      <td>102273.0</td>\n",
              "      <td>3.279106e+00</td>\n",
              "      <td>1.284657e+00</td>\n",
              "      <td>1.000000e+00</td>\n",
              "      <td>2.000000e+00</td>\n",
              "      <td>3.000000e+00</td>\n",
              "      <td>4.000000e+00</td>\n",
              "      <td>5.000000e+00</td>\n",
              "    </tr>\n",
              "    <tr>\n",
              "      <th>calculated host listings count</th>\n",
              "      <td>102280.0</td>\n",
              "      <td>7.936605e+00</td>\n",
              "      <td>3.221878e+01</td>\n",
              "      <td>1.000000e+00</td>\n",
              "      <td>1.000000e+00</td>\n",
              "      <td>1.000000e+00</td>\n",
              "      <td>2.000000e+00</td>\n",
              "      <td>3.320000e+02</td>\n",
              "    </tr>\n",
              "    <tr>\n",
              "      <th>availability 365</th>\n",
              "      <td>102151.0</td>\n",
              "      <td>1.411333e+02</td>\n",
              "      <td>1.354350e+02</td>\n",
              "      <td>-1.000000e+01</td>\n",
              "      <td>3.000000e+00</td>\n",
              "      <td>9.600000e+01</td>\n",
              "      <td>2.690000e+02</td>\n",
              "      <td>3.677000e+03</td>\n",
              "    </tr>\n",
              "  </tbody>\n",
              "</table>\n",
              "</div>\n",
              "      <button class=\"colab-df-convert\" onclick=\"convertToInteractive('df-e6eb959a-11a1-48fe-8e4b-f3b665565419')\"\n",
              "              title=\"Convert this dataframe to an interactive table.\"\n",
              "              style=\"display:none;\">\n",
              "        \n",
              "  <svg xmlns=\"http://www.w3.org/2000/svg\" height=\"24px\"viewBox=\"0 0 24 24\"\n",
              "       width=\"24px\">\n",
              "    <path d=\"M0 0h24v24H0V0z\" fill=\"none\"/>\n",
              "    <path d=\"M18.56 5.44l.94 2.06.94-2.06 2.06-.94-2.06-.94-.94-2.06-.94 2.06-2.06.94zm-11 1L8.5 8.5l.94-2.06 2.06-.94-2.06-.94L8.5 2.5l-.94 2.06-2.06.94zm10 10l.94 2.06.94-2.06 2.06-.94-2.06-.94-.94-2.06-.94 2.06-2.06.94z\"/><path d=\"M17.41 7.96l-1.37-1.37c-.4-.4-.92-.59-1.43-.59-.52 0-1.04.2-1.43.59L10.3 9.45l-7.72 7.72c-.78.78-.78 2.05 0 2.83L4 21.41c.39.39.9.59 1.41.59.51 0 1.02-.2 1.41-.59l7.78-7.78 2.81-2.81c.8-.78.8-2.07 0-2.86zM5.41 20L4 18.59l7.72-7.72 1.47 1.35L5.41 20z\"/>\n",
              "  </svg>\n",
              "      </button>\n",
              "      \n",
              "  <style>\n",
              "    .colab-df-container {\n",
              "      display:flex;\n",
              "      flex-wrap:wrap;\n",
              "      gap: 12px;\n",
              "    }\n",
              "\n",
              "    .colab-df-convert {\n",
              "      background-color: #E8F0FE;\n",
              "      border: none;\n",
              "      border-radius: 50%;\n",
              "      cursor: pointer;\n",
              "      display: none;\n",
              "      fill: #1967D2;\n",
              "      height: 32px;\n",
              "      padding: 0 0 0 0;\n",
              "      width: 32px;\n",
              "    }\n",
              "\n",
              "    .colab-df-convert:hover {\n",
              "      background-color: #E2EBFA;\n",
              "      box-shadow: 0px 1px 2px rgba(60, 64, 67, 0.3), 0px 1px 3px 1px rgba(60, 64, 67, 0.15);\n",
              "      fill: #174EA6;\n",
              "    }\n",
              "\n",
              "    [theme=dark] .colab-df-convert {\n",
              "      background-color: #3B4455;\n",
              "      fill: #D2E3FC;\n",
              "    }\n",
              "\n",
              "    [theme=dark] .colab-df-convert:hover {\n",
              "      background-color: #434B5C;\n",
              "      box-shadow: 0px 1px 3px 1px rgba(0, 0, 0, 0.15);\n",
              "      filter: drop-shadow(0px 1px 2px rgba(0, 0, 0, 0.3));\n",
              "      fill: #FFFFFF;\n",
              "    }\n",
              "  </style>\n",
              "\n",
              "      <script>\n",
              "        const buttonEl =\n",
              "          document.querySelector('#df-e6eb959a-11a1-48fe-8e4b-f3b665565419 button.colab-df-convert');\n",
              "        buttonEl.style.display =\n",
              "          google.colab.kernel.accessAllowed ? 'block' : 'none';\n",
              "\n",
              "        async function convertToInteractive(key) {\n",
              "          const element = document.querySelector('#df-e6eb959a-11a1-48fe-8e4b-f3b665565419');\n",
              "          const dataTable =\n",
              "            await google.colab.kernel.invokeFunction('convertToInteractive',\n",
              "                                                     [key], {});\n",
              "          if (!dataTable) return;\n",
              "\n",
              "          const docLinkHtml = 'Like what you see? Visit the ' +\n",
              "            '<a target=\"_blank\" href=https://colab.research.google.com/notebooks/data_table.ipynb>data table notebook</a>'\n",
              "            + ' to learn more about interactive tables.';\n",
              "          element.innerHTML = '';\n",
              "          dataTable['output_type'] = 'display_data';\n",
              "          await google.colab.output.renderOutput(dataTable, element);\n",
              "          const docLink = document.createElement('div');\n",
              "          docLink.innerHTML = docLinkHtml;\n",
              "          element.appendChild(docLink);\n",
              "        }\n",
              "      </script>\n",
              "    </div>\n",
              "  </div>\n",
              "  "
            ]
          },
          "metadata": {},
          "execution_count": 152
        }
      ],
      "source": [
        "df_airnb.describe().T"
      ]
    },
    {
      "cell_type": "markdown",
      "metadata": {
        "id": "kKd5KIuI0OOG"
      },
      "source": [
        "# **Cleaning our data**\n",
        "\n",
        "---\n",
        "\n"
      ]
    },
    {
      "cell_type": "markdown",
      "metadata": {
        "id": "a11XvGtgLzyF"
      },
      "source": [
        "Identify the  null values then I must order the columns with null variables in ascending order to know how we are going to impute them"
      ]
    },
    {
      "cell_type": "code",
      "execution_count": 153,
      "metadata": {
        "id": "PzxUO8ZP0QM7",
        "colab": {
          "base_uri": "https://localhost:8080/"
        },
        "outputId": "f1d7f662-39ed-4399-acb5-78ee1682036a"
      },
      "outputs": [
        {
          "output_type": "execute_result",
          "data": {
            "text/plain": [
              "license                           102597\n",
              "house_rules                        52131\n",
              "last review                        15893\n",
              "reviews per month                  15879\n",
              "country                              532\n",
              "availability 365                     448\n",
              "minimum nights                       409\n",
              "host name                            406\n",
              "review rate number                   326\n",
              "calculated host listings count       319\n",
              "host_identity_verified               289\n",
              "service fee                          273\n",
              "NAME                                 250\n",
              "price                                247\n",
              "Construction year                    214\n",
              "number of reviews                    183\n",
              "country code                         131\n",
              "instant_bookable                     105\n",
              "cancellation_policy                   76\n",
              "neighbourhood group                   29\n",
              "neighbourhood                         16\n",
              "long                                   8\n",
              "lat                                    8\n",
              "host id                                0\n",
              "room type                              0\n",
              "dtype: int64"
            ]
          },
          "metadata": {},
          "execution_count": 153
        }
      ],
      "source": [
        "df_airnb.isna().sum().sort_values(ascending=False)"
      ]
    },
    {
      "cell_type": "code",
      "execution_count": 154,
      "metadata": {
        "id": "AgZ9Q-Mp0ZSt",
        "colab": {
          "base_uri": "https://localhost:8080/"
        },
        "outputId": "ebc79430-82c1-456d-a60d-3452af522875"
      },
      "outputs": [
        {
          "output_type": "stream",
          "name": "stdout",
          "text": [
            "190769 missing values\n"
          ]
        }
      ],
      "source": [
        "print(df_airnb.isna().sum().sum(), 'missing values')"
      ]
    },
    {
      "cell_type": "markdown",
      "metadata": {
        "id": "Acdl4kuB0xv2"
      },
      "source": [
        "**Findings:**\n",
        "\n",
        "*There are 190.769 missing values\n",
        "\n",
        "*The dataset is shaped by categorical and numerical variables"
      ]
    },
    {
      "cell_type": "markdown",
      "metadata": {
        "id": "fzMdQwv-Qn4q"
      },
      "source": [
        "Indentify duplicated values"
      ]
    },
    {
      "cell_type": "code",
      "execution_count": 155,
      "metadata": {
        "id": "1tIORct_1HLc",
        "colab": {
          "base_uri": "https://localhost:8080/"
        },
        "outputId": "67d87042-8523-4041-ee1c-a336d48cbfc7"
      },
      "outputs": [
        {
          "output_type": "execute_result",
          "data": {
            "text/plain": [
              "541"
            ]
          },
          "metadata": {},
          "execution_count": 155
        }
      ],
      "source": [
        "df_airnb.duplicated().sum()"
      ]
    },
    {
      "cell_type": "markdown",
      "metadata": {
        "id": "r2w8eZ1j1KAc"
      },
      "source": [
        "The dataset has 541 duplicated values, we just have to remove them."
      ]
    },
    {
      "cell_type": "code",
      "execution_count": 156,
      "metadata": {
        "id": "nISbDeDa1haW",
        "colab": {
          "base_uri": "https://localhost:8080/"
        },
        "outputId": "91322bc8-b4bc-46cd-9399-d6c9cd89eeb5"
      },
      "outputs": [
        {
          "output_type": "execute_result",
          "data": {
            "text/plain": [
              "0"
            ]
          },
          "metadata": {},
          "execution_count": 156
        }
      ],
      "source": [
        "df_airnb = df_airnb.drop_duplicates()\n",
        "df_airnb.duplicated().sum()"
      ]
    },
    {
      "cell_type": "markdown",
      "metadata": {
        "id": "XQsuoFjg2UIv"
      },
      "source": [
        "The duplicates were removed."
      ]
    },
    {
      "cell_type": "code",
      "execution_count": 157,
      "metadata": {
        "id": "-pLiVfrwHXcE"
      },
      "outputs": [],
      "source": [
        "#df = pd.DataFrame(df_airnb)\n",
        "#df = df_airnb.fillna(0)\n"
      ]
    },
    {
      "cell_type": "markdown",
      "metadata": {
        "id": "PDzkDSyCNKiO"
      },
      "source": [
        "All the NaN Values were replaced by 0, now It is accurate to imputate them."
      ]
    },
    {
      "cell_type": "code",
      "execution_count": 158,
      "metadata": {
        "id": "soxSEio1HMbr",
        "colab": {
          "base_uri": "https://localhost:8080/"
        },
        "outputId": "48938363-769b-472c-f5aa-59dca47e26cb"
      },
      "outputs": [
        {
          "output_type": "stream",
          "name": "stdout",
          "text": [
            "neighbourhood group contiene 0 datos null: Representan el 0.0% del conjunto de datos\n",
            "neighbourhood contiene 0 datos null: Representan el 0.0% del conjunto de datos\n",
            "lat contiene 0 datos null: Representan el 0.0% del conjunto de datos\n",
            "long contiene 0 datos null: Representan el 0.0% del conjunto de datos\n",
            "country contiene 0 datos null: Representan el 0.0% del conjunto de datos\n",
            "country code contiene 0 datos null: Representan el 0.0% del conjunto de datos\n",
            "instant_bookable contiene 51186 datos null: Representan el 50.28% del conjunto de datos\n",
            "cancellation_policy contiene 0 datos null: Representan el 0.0% del conjunto de datos\n",
            "room type contiene 0 datos null: Representan el 0.0% del conjunto de datos\n",
            "Construction year contiene 0 datos null: Representan el 0.0% del conjunto de datos\n",
            "price contiene 0 datos null: Representan el 0.0% del conjunto de datos\n",
            "service fee contiene 0 datos null: Representan el 0.0% del conjunto de datos\n",
            "minimum nights contiene 0 datos null: Representan el 0.0% del conjunto de datos\n",
            "number of reviews contiene 15673 datos null: Representan el 15.39% del conjunto de datos\n",
            "last review contiene 0 datos null: Representan el 0.0% del conjunto de datos\n",
            "reviews per month contiene 0 datos null: Representan el 0.0% del conjunto de datos\n",
            "review rate number contiene 0 datos null: Representan el 0.0% del conjunto de datos\n",
            "calculated host listings count contiene 0 datos null: Representan el 0.0% del conjunto de datos\n",
            "availability 365 contiene 23448 datos null: Representan el 23.03% del conjunto de datos\n"
          ]
        }
      ],
      "source": [
        "datos_null = ['neighbourhood group', 'neighbourhood', 'lat', 'long', 'country',\n",
        "       'country code', 'instant_bookable', 'cancellation_policy',\n",
        "       'room type', 'Construction year', 'price', 'service fee',\n",
        "       'minimum nights', 'number of reviews', 'last review',\n",
        "       'reviews per month', 'review rate number',\n",
        "       'calculated host listings count', 'availability 365',]\n",
        "for dato in datos_null:\n",
        "    q_null = df_airnb[df_airnb[dato] == 0][dato].count()\n",
        "    print(f'{dato} contiene {q_null} datos null: Representan el {round(q_null*100/df_airnb[\"price\"].count(), 2)}% del conjunto de datos')"
      ]
    },
    {
      "cell_type": "markdown",
      "metadata": {
        "id": "Lm7Y0_fMBf54"
      },
      "source": [
        "**Findings:**\n",
        "\n",
        "*It is notorious that the license column has only 2 registered data, it is appropriate to eliminate it, since being information inherent to each host it cannot be replaced with any statistical inference.\n",
        "\n",
        "*For the **Instant Bookable** column, the number 0 does not indicate null data, since it is a binary variable so they should not be eliminated, for teh rest of columns the values are replaced by 1 and 0."
      ]
    },
    {
      "cell_type": "code",
      "execution_count": 159,
      "metadata": {
        "id": "U0oxBjgv3uQg",
        "colab": {
          "base_uri": "https://localhost:8080/"
        },
        "outputId": "9ecaccfe-c258-4692-fe81-c9ce0fff8b83"
      },
      "outputs": [
        {
          "output_type": "execute_result",
          "data": {
            "text/plain": [
              "array(['NAME', 'host id', 'host_identity_verified', 'host name',\n",
              "       'neighbourhood group', 'neighbourhood', 'lat', 'long', 'country',\n",
              "       'country code', 'instant_bookable', 'cancellation_policy',\n",
              "       'room type', 'Construction year', 'price', 'service fee',\n",
              "       'minimum nights', 'number of reviews', 'last review',\n",
              "       'reviews per month', 'review rate number',\n",
              "       'calculated host listings count', 'availability 365',\n",
              "       'house_rules', 'license'], dtype=object)"
            ]
          },
          "metadata": {},
          "execution_count": 159
        }
      ],
      "source": [
        "columns_names = df_airnb.columns.values\n",
        "columns_names"
      ]
    },
    {
      "cell_type": "markdown",
      "metadata": {
        "id": "-ukS3U1c6o-C"
      },
      "source": [
        "It's accurate to eliminate the column *License* , it is completely empty (it has 2 registers).\n",
        "Also the columns named like *house rules, guest's name , host id and host name*, they are irrelevant to predict the price of a airbnb stay, for that reason I eliminate them. "
      ]
    },
    {
      "cell_type": "code",
      "execution_count": 160,
      "metadata": {
        "id": "LvO2mn3Y6xJ9",
        "colab": {
          "base_uri": "https://localhost:8080/",
          "height": 440
        },
        "outputId": "d040443c-3cfc-475e-eba2-fbe7f76b37e3"
      },
      "outputs": [
        {
          "output_type": "execute_result",
          "data": {
            "text/plain": [
              "        neighbourhood group neighbourhood       lat      long        country  \\\n",
              "id                                                                             \n",
              "1001254            Brooklyn    Kensington  40.64749 -73.97237  United States   \n",
              "1002102           Manhattan       Midtown  40.75362 -73.98377  United States   \n",
              "1002403           Manhattan        Harlem  40.80902 -73.94190  United States   \n",
              "1002755            Brooklyn  Clinton Hill  40.68514 -73.95976  United States   \n",
              "1003689           Manhattan   East Harlem  40.79851 -73.94399  United States   \n",
              "\n",
              "        country code instant_bookable cancellation_policy        room type  \\\n",
              "id                                                                           \n",
              "1001254           US            False              strict     Private room   \n",
              "1002102           US            False            moderate  Entire home/apt   \n",
              "1002403           US             True            flexible     Private room   \n",
              "1002755           US             True            moderate  Entire home/apt   \n",
              "1003689           US            False            moderate  Entire home/apt   \n",
              "\n",
              "         Construction year  price service fee  minimum nights  \\\n",
              "id                                                              \n",
              "1001254             2020.0  $966        $193             10.0   \n",
              "1002102             2007.0  $142         $28             30.0   \n",
              "1002403             2005.0  $620        $124              3.0   \n",
              "1002755             2005.0  $368         $74             30.0   \n",
              "1003689             2009.0  $204         $41             10.0   \n",
              "\n",
              "         number of reviews last review  reviews per month  review rate number  \\\n",
              "id                                                                              \n",
              "1001254                9.0  10/19/2021               0.21                 4.0   \n",
              "1002102               45.0   5/21/2022               0.38                 4.0   \n",
              "1002403                0.0         NaN                NaN                 5.0   \n",
              "1002755              270.0    7/5/2019               4.64                 4.0   \n",
              "1003689                9.0  11/19/2018               0.10                 3.0   \n",
              "\n",
              "         calculated host listings count  availability 365  \n",
              "id                                                         \n",
              "1001254                             6.0             286.0  \n",
              "1002102                             2.0             228.0  \n",
              "1002403                             1.0             352.0  \n",
              "1002755                             1.0             322.0  \n",
              "1003689                             1.0             289.0  "
            ],
            "text/html": [
              "\n",
              "  <div id=\"df-fa9ee1ce-dbaf-4362-b2d3-b17739bdb190\">\n",
              "    <div class=\"colab-df-container\">\n",
              "      <div>\n",
              "<style scoped>\n",
              "    .dataframe tbody tr th:only-of-type {\n",
              "        vertical-align: middle;\n",
              "    }\n",
              "\n",
              "    .dataframe tbody tr th {\n",
              "        vertical-align: top;\n",
              "    }\n",
              "\n",
              "    .dataframe thead th {\n",
              "        text-align: right;\n",
              "    }\n",
              "</style>\n",
              "<table border=\"1\" class=\"dataframe\">\n",
              "  <thead>\n",
              "    <tr style=\"text-align: right;\">\n",
              "      <th></th>\n",
              "      <th>neighbourhood group</th>\n",
              "      <th>neighbourhood</th>\n",
              "      <th>lat</th>\n",
              "      <th>long</th>\n",
              "      <th>country</th>\n",
              "      <th>country code</th>\n",
              "      <th>instant_bookable</th>\n",
              "      <th>cancellation_policy</th>\n",
              "      <th>room type</th>\n",
              "      <th>Construction year</th>\n",
              "      <th>price</th>\n",
              "      <th>service fee</th>\n",
              "      <th>minimum nights</th>\n",
              "      <th>number of reviews</th>\n",
              "      <th>last review</th>\n",
              "      <th>reviews per month</th>\n",
              "      <th>review rate number</th>\n",
              "      <th>calculated host listings count</th>\n",
              "      <th>availability 365</th>\n",
              "    </tr>\n",
              "    <tr>\n",
              "      <th>id</th>\n",
              "      <th></th>\n",
              "      <th></th>\n",
              "      <th></th>\n",
              "      <th></th>\n",
              "      <th></th>\n",
              "      <th></th>\n",
              "      <th></th>\n",
              "      <th></th>\n",
              "      <th></th>\n",
              "      <th></th>\n",
              "      <th></th>\n",
              "      <th></th>\n",
              "      <th></th>\n",
              "      <th></th>\n",
              "      <th></th>\n",
              "      <th></th>\n",
              "      <th></th>\n",
              "      <th></th>\n",
              "      <th></th>\n",
              "    </tr>\n",
              "  </thead>\n",
              "  <tbody>\n",
              "    <tr>\n",
              "      <th>1001254</th>\n",
              "      <td>Brooklyn</td>\n",
              "      <td>Kensington</td>\n",
              "      <td>40.64749</td>\n",
              "      <td>-73.97237</td>\n",
              "      <td>United States</td>\n",
              "      <td>US</td>\n",
              "      <td>False</td>\n",
              "      <td>strict</td>\n",
              "      <td>Private room</td>\n",
              "      <td>2020.0</td>\n",
              "      <td>$966</td>\n",
              "      <td>$193</td>\n",
              "      <td>10.0</td>\n",
              "      <td>9.0</td>\n",
              "      <td>10/19/2021</td>\n",
              "      <td>0.21</td>\n",
              "      <td>4.0</td>\n",
              "      <td>6.0</td>\n",
              "      <td>286.0</td>\n",
              "    </tr>\n",
              "    <tr>\n",
              "      <th>1002102</th>\n",
              "      <td>Manhattan</td>\n",
              "      <td>Midtown</td>\n",
              "      <td>40.75362</td>\n",
              "      <td>-73.98377</td>\n",
              "      <td>United States</td>\n",
              "      <td>US</td>\n",
              "      <td>False</td>\n",
              "      <td>moderate</td>\n",
              "      <td>Entire home/apt</td>\n",
              "      <td>2007.0</td>\n",
              "      <td>$142</td>\n",
              "      <td>$28</td>\n",
              "      <td>30.0</td>\n",
              "      <td>45.0</td>\n",
              "      <td>5/21/2022</td>\n",
              "      <td>0.38</td>\n",
              "      <td>4.0</td>\n",
              "      <td>2.0</td>\n",
              "      <td>228.0</td>\n",
              "    </tr>\n",
              "    <tr>\n",
              "      <th>1002403</th>\n",
              "      <td>Manhattan</td>\n",
              "      <td>Harlem</td>\n",
              "      <td>40.80902</td>\n",
              "      <td>-73.94190</td>\n",
              "      <td>United States</td>\n",
              "      <td>US</td>\n",
              "      <td>True</td>\n",
              "      <td>flexible</td>\n",
              "      <td>Private room</td>\n",
              "      <td>2005.0</td>\n",
              "      <td>$620</td>\n",
              "      <td>$124</td>\n",
              "      <td>3.0</td>\n",
              "      <td>0.0</td>\n",
              "      <td>NaN</td>\n",
              "      <td>NaN</td>\n",
              "      <td>5.0</td>\n",
              "      <td>1.0</td>\n",
              "      <td>352.0</td>\n",
              "    </tr>\n",
              "    <tr>\n",
              "      <th>1002755</th>\n",
              "      <td>Brooklyn</td>\n",
              "      <td>Clinton Hill</td>\n",
              "      <td>40.68514</td>\n",
              "      <td>-73.95976</td>\n",
              "      <td>United States</td>\n",
              "      <td>US</td>\n",
              "      <td>True</td>\n",
              "      <td>moderate</td>\n",
              "      <td>Entire home/apt</td>\n",
              "      <td>2005.0</td>\n",
              "      <td>$368</td>\n",
              "      <td>$74</td>\n",
              "      <td>30.0</td>\n",
              "      <td>270.0</td>\n",
              "      <td>7/5/2019</td>\n",
              "      <td>4.64</td>\n",
              "      <td>4.0</td>\n",
              "      <td>1.0</td>\n",
              "      <td>322.0</td>\n",
              "    </tr>\n",
              "    <tr>\n",
              "      <th>1003689</th>\n",
              "      <td>Manhattan</td>\n",
              "      <td>East Harlem</td>\n",
              "      <td>40.79851</td>\n",
              "      <td>-73.94399</td>\n",
              "      <td>United States</td>\n",
              "      <td>US</td>\n",
              "      <td>False</td>\n",
              "      <td>moderate</td>\n",
              "      <td>Entire home/apt</td>\n",
              "      <td>2009.0</td>\n",
              "      <td>$204</td>\n",
              "      <td>$41</td>\n",
              "      <td>10.0</td>\n",
              "      <td>9.0</td>\n",
              "      <td>11/19/2018</td>\n",
              "      <td>0.10</td>\n",
              "      <td>3.0</td>\n",
              "      <td>1.0</td>\n",
              "      <td>289.0</td>\n",
              "    </tr>\n",
              "  </tbody>\n",
              "</table>\n",
              "</div>\n",
              "      <button class=\"colab-df-convert\" onclick=\"convertToInteractive('df-fa9ee1ce-dbaf-4362-b2d3-b17739bdb190')\"\n",
              "              title=\"Convert this dataframe to an interactive table.\"\n",
              "              style=\"display:none;\">\n",
              "        \n",
              "  <svg xmlns=\"http://www.w3.org/2000/svg\" height=\"24px\"viewBox=\"0 0 24 24\"\n",
              "       width=\"24px\">\n",
              "    <path d=\"M0 0h24v24H0V0z\" fill=\"none\"/>\n",
              "    <path d=\"M18.56 5.44l.94 2.06.94-2.06 2.06-.94-2.06-.94-.94-2.06-.94 2.06-2.06.94zm-11 1L8.5 8.5l.94-2.06 2.06-.94-2.06-.94L8.5 2.5l-.94 2.06-2.06.94zm10 10l.94 2.06.94-2.06 2.06-.94-2.06-.94-.94-2.06-.94 2.06-2.06.94z\"/><path d=\"M17.41 7.96l-1.37-1.37c-.4-.4-.92-.59-1.43-.59-.52 0-1.04.2-1.43.59L10.3 9.45l-7.72 7.72c-.78.78-.78 2.05 0 2.83L4 21.41c.39.39.9.59 1.41.59.51 0 1.02-.2 1.41-.59l7.78-7.78 2.81-2.81c.8-.78.8-2.07 0-2.86zM5.41 20L4 18.59l7.72-7.72 1.47 1.35L5.41 20z\"/>\n",
              "  </svg>\n",
              "      </button>\n",
              "      \n",
              "  <style>\n",
              "    .colab-df-container {\n",
              "      display:flex;\n",
              "      flex-wrap:wrap;\n",
              "      gap: 12px;\n",
              "    }\n",
              "\n",
              "    .colab-df-convert {\n",
              "      background-color: #E8F0FE;\n",
              "      border: none;\n",
              "      border-radius: 50%;\n",
              "      cursor: pointer;\n",
              "      display: none;\n",
              "      fill: #1967D2;\n",
              "      height: 32px;\n",
              "      padding: 0 0 0 0;\n",
              "      width: 32px;\n",
              "    }\n",
              "\n",
              "    .colab-df-convert:hover {\n",
              "      background-color: #E2EBFA;\n",
              "      box-shadow: 0px 1px 2px rgba(60, 64, 67, 0.3), 0px 1px 3px 1px rgba(60, 64, 67, 0.15);\n",
              "      fill: #174EA6;\n",
              "    }\n",
              "\n",
              "    [theme=dark] .colab-df-convert {\n",
              "      background-color: #3B4455;\n",
              "      fill: #D2E3FC;\n",
              "    }\n",
              "\n",
              "    [theme=dark] .colab-df-convert:hover {\n",
              "      background-color: #434B5C;\n",
              "      box-shadow: 0px 1px 3px 1px rgba(0, 0, 0, 0.15);\n",
              "      filter: drop-shadow(0px 1px 2px rgba(0, 0, 0, 0.3));\n",
              "      fill: #FFFFFF;\n",
              "    }\n",
              "  </style>\n",
              "\n",
              "      <script>\n",
              "        const buttonEl =\n",
              "          document.querySelector('#df-fa9ee1ce-dbaf-4362-b2d3-b17739bdb190 button.colab-df-convert');\n",
              "        buttonEl.style.display =\n",
              "          google.colab.kernel.accessAllowed ? 'block' : 'none';\n",
              "\n",
              "        async function convertToInteractive(key) {\n",
              "          const element = document.querySelector('#df-fa9ee1ce-dbaf-4362-b2d3-b17739bdb190');\n",
              "          const dataTable =\n",
              "            await google.colab.kernel.invokeFunction('convertToInteractive',\n",
              "                                                     [key], {});\n",
              "          if (!dataTable) return;\n",
              "\n",
              "          const docLinkHtml = 'Like what you see? Visit the ' +\n",
              "            '<a target=\"_blank\" href=https://colab.research.google.com/notebooks/data_table.ipynb>data table notebook</a>'\n",
              "            + ' to learn more about interactive tables.';\n",
              "          element.innerHTML = '';\n",
              "          dataTable['output_type'] = 'display_data';\n",
              "          await google.colab.output.renderOutput(dataTable, element);\n",
              "          const docLink = document.createElement('div');\n",
              "          docLink.innerHTML = docLinkHtml;\n",
              "          element.appendChild(docLink);\n",
              "        }\n",
              "      </script>\n",
              "    </div>\n",
              "  </div>\n",
              "  "
            ]
          },
          "metadata": {},
          "execution_count": 160
        }
      ],
      "source": [
        "#Let's the new dataframe\n",
        "df_airnb = df_airnb.drop(columns=['license','house_rules','NAME','host id','host_identity_verified','host name'])\n",
        "df_airnb.head()"
      ]
    },
    {
      "cell_type": "markdown",
      "metadata": {
        "id": "seD4bkCQQdis"
      },
      "source": [
        "Ensure Consistency in Categorical Values!"
      ]
    },
    {
      "cell_type": "code",
      "execution_count": 161,
      "metadata": {
        "id": "TfWor6DpQuxB",
        "colab": {
          "base_uri": "https://localhost:8080/"
        },
        "outputId": "ea46d41f-6ec1-42e9-c4ed-3266ff9593ee"
      },
      "outputs": [
        {
          "output_type": "execute_result",
          "data": {
            "text/plain": [
              "array(['Brooklyn', 'Manhattan', 'brookln', 'manhatan', 'Queens', nan,\n",
              "       'Staten Island', 'Bronx'], dtype=object)"
            ]
          },
          "metadata": {},
          "execution_count": 161
        }
      ],
      "source": [
        "df_airnb['neighbourhood group'].unique()"
      ]
    },
    {
      "cell_type": "code",
      "execution_count": 162,
      "metadata": {
        "id": "zJA1JcmCFatS",
        "colab": {
          "base_uri": "https://localhost:8080/"
        },
        "outputId": "433156cc-ebc9-4dd4-a0f9-93bea7135315"
      },
      "outputs": [
        {
          "output_type": "execute_result",
          "data": {
            "text/plain": [
              "array(['Brooklyn', 'Manhattan', 'Queens', nan, 'Staten Island', 'Bronx'],\n",
              "      dtype=object)"
            ]
          },
          "metadata": {},
          "execution_count": 162
        }
      ],
      "source": [
        "\n",
        "df_airnb['neighbourhood group'] = df_airnb['neighbourhood group'].replace('brookln', 'Brooklyn') \n",
        "df_airnb['neighbourhood group'] = df_airnb['neighbourhood group'].replace('manhatan', 'Manhattan')\n",
        "df_airnb['neighbourhood group'] = df_airnb['neighbourhood group'].replace('nan', 'Missing')\n",
        "df_airnb['neighbourhood group'].unique()"
      ]
    },
    {
      "cell_type": "code",
      "execution_count": 163,
      "metadata": {
        "id": "7BgZFYPRBSQC",
        "colab": {
          "base_uri": "https://localhost:8080/"
        },
        "outputId": "4b7c65db-75b2-49c5-8ea2-b0e76af3cccc"
      },
      "outputs": [
        {
          "output_type": "execute_result",
          "data": {
            "text/plain": [
              "Manhattan        43558\n",
              "Brooklyn         41631\n",
              "Queens           13197\n",
              "Bronx             2694\n",
              "Staten Island      949\n",
              "Name: neighbourhood group, dtype: int64"
            ]
          },
          "metadata": {},
          "execution_count": 163
        }
      ],
      "source": [
        "df_airnb['neighbourhood group'].value_counts()"
      ]
    },
    {
      "cell_type": "markdown",
      "metadata": {
        "id": "8e-nfxkUQHt2"
      },
      "source": [
        "Non-uniform categorical data is identified, the data is cleaned."
      ]
    },
    {
      "cell_type": "markdown",
      "metadata": {
        "id": "lHaLRQ7IRH6X"
      },
      "source": [
        "I explore the data registered in neighbourhood column in order to identify categorical mistakes."
      ]
    },
    {
      "cell_type": "code",
      "execution_count": 164,
      "metadata": {
        "id": "_2F4tjqkBxqA",
        "colab": {
          "base_uri": "https://localhost:8080/"
        },
        "outputId": "53a28419-8723-4e21-a2ab-04ec499be999"
      },
      "outputs": [
        {
          "output_type": "execute_result",
          "data": {
            "text/plain": [
              "Bedford-Stuyvesant        7898\n",
              "Williamsburg              7732\n",
              "Harlem                    5441\n",
              "Bushwick                  4956\n",
              "Hell's Kitchen            3949\n",
              "                          ... \n",
              "Willowbrook                  3\n",
              "Gerritsen Beach              3\n",
              "Fort Wadsworth               2\n",
              "Glen Oaks                    2\n",
              "Chelsea, Staten Island       1\n",
              "Name: neighbourhood, Length: 224, dtype: int64"
            ]
          },
          "metadata": {},
          "execution_count": 164
        }
      ],
      "source": [
        "df_airnb['neighbourhood'].value_counts()"
      ]
    },
    {
      "cell_type": "code",
      "execution_count": 165,
      "metadata": {
        "id": "FBZN1kb3RSqI",
        "colab": {
          "base_uri": "https://localhost:8080/"
        },
        "outputId": "b112a80f-5685-43c2-de92-616b2a61ce31"
      },
      "outputs": [
        {
          "output_type": "execute_result",
          "data": {
            "text/plain": [
              "array(['Kensington', 'Midtown', 'Harlem', 'Clinton Hill', 'East Harlem',\n",
              "       'Murray Hill', 'Bedford-Stuyvesant', \"Hell's Kitchen\",\n",
              "       'Upper West Side', 'Chinatown', 'South Slope', 'West Village',\n",
              "       'Williamsburg', 'Fort Greene', 'Chelsea', 'Crown Heights',\n",
              "       'Park Slope', 'Windsor Terrace', 'Inwood', 'East Village',\n",
              "       'Greenpoint', 'Bushwick', 'Flatbush', 'Lower East Side',\n",
              "       'Prospect-Lefferts Gardens', 'Long Island City', 'Kips Bay',\n",
              "       'SoHo', 'Upper East Side', 'Prospect Heights',\n",
              "       'Washington Heights', 'Woodside', 'Brooklyn Heights',\n",
              "       'Carroll Gardens', 'Gowanus', 'Flatlands', 'Cobble Hill',\n",
              "       'Flushing', 'Boerum Hill', 'Sunnyside', 'DUMBO', 'St. George',\n",
              "       'Highbridge', 'Financial District', 'Ridgewood',\n",
              "       'Morningside Heights', 'Jamaica', 'Middle Village', 'NoHo',\n",
              "       'Ditmars Steinway', 'Flatiron District', 'Roosevelt Island',\n",
              "       'Greenwich Village', 'Little Italy', 'East Flatbush',\n",
              "       'Tompkinsville', 'Astoria', 'Clason Point', 'Eastchester',\n",
              "       'Kingsbridge', 'Two Bridges', 'Queens Village', 'Rockaway Beach',\n",
              "       'Forest Hills', 'Nolita', 'Woodlawn', 'University Heights',\n",
              "       'Gravesend', 'Gramercy', 'Allerton', nan, 'East New York',\n",
              "       'Theater District', 'Concourse Village', 'Sheepshead Bay',\n",
              "       'Emerson Hill', 'Fort Hamilton', 'Bensonhurst', 'Tribeca',\n",
              "       'Shore Acres', 'Sunset Park', 'Concourse', 'Elmhurst',\n",
              "       'Brighton Beach', 'Jackson Heights', 'Cypress Hills', 'St. Albans',\n",
              "       'Arrochar', 'Rego Park', 'Wakefield', 'Clifton', 'Bay Ridge',\n",
              "       'Graniteville', 'Spuyten Duyvil', 'Stapleton', 'Briarwood',\n",
              "       'Ozone Park', 'Columbia St', 'Vinegar Hill', 'Mott Haven',\n",
              "       'Longwood', 'Canarsie', 'Battery Park City', 'Civic Center',\n",
              "       'East Elmhurst', 'New Springville', 'Morris Heights', 'Arverne',\n",
              "       'Cambria Heights', 'Tottenville', 'Mariners Harbor', 'Concord',\n",
              "       'Borough Park', 'Bayside', 'Downtown Brooklyn', 'Port Morris',\n",
              "       'Fieldston', 'Kew Gardens', 'Midwood', 'College Point',\n",
              "       'Mount Eden', 'City Island', 'Glendale', 'Port Richmond',\n",
              "       'Red Hook', 'Richmond Hill', 'Bellerose', 'Maspeth',\n",
              "       'Williamsbridge', 'Soundview', 'Woodhaven', 'Woodrow',\n",
              "       'Co-op City', 'Stuyvesant Town', 'Parkchester', 'North Riverdale',\n",
              "       'Dyker Heights', 'Bronxdale', 'Sea Gate', 'Riverdale',\n",
              "       'Kew Gardens Hills', 'Bay Terrace', 'Norwood', 'Claremont Village',\n",
              "       'Whitestone', 'Fordham', 'Bayswater', 'Navy Yard', 'Brownsville',\n",
              "       'Eltingville', 'Fresh Meadows', 'Mount Hope', 'Lighthouse Hill',\n",
              "       'Springfield Gardens', 'Howard Beach', 'Belle Harbor',\n",
              "       'Jamaica Estates', 'Van Nest', 'Morris Park', 'West Brighton',\n",
              "       'Far Rockaway', 'South Ozone Park', 'Tremont', 'Corona',\n",
              "       'Great Kills', 'Manhattan Beach', 'Marble Hill', 'Dongan Hills',\n",
              "       'Castleton Corners', 'East Morrisania', 'Hunts Point', 'Neponsit',\n",
              "       'Pelham Bay', 'Randall Manor', 'Throgs Neck', 'Todt Hill',\n",
              "       'West Farms', 'Silver Lake', 'Morrisania', 'Laurelton',\n",
              "       'Grymes Hill', 'Holliswood', 'Pelham Gardens', 'Belmont',\n",
              "       'Rosedale', 'Edgemere', 'New Brighton', 'Midland Beach',\n",
              "       'Baychester', 'Melrose', 'Bergen Beach', 'Richmondtown',\n",
              "       'Howland Hook', 'Schuylerville', 'Coney Island', 'New Dorp Beach',\n",
              "       \"Prince's Bay\", 'South Beach', 'Bath Beach', 'Jamaica Hills',\n",
              "       'Oakwood', 'Castle Hill', 'Hollis', 'Douglaston', 'Huguenot',\n",
              "       'Olinville', 'Edenwald', 'Grant City', 'Westerleigh',\n",
              "       'Bay Terrace, Staten Island', 'Westchester Square', 'Little Neck',\n",
              "       'Fort Wadsworth', 'Rosebank', 'Unionport', 'Mill Basin',\n",
              "       'Arden Heights', \"Bull's Head\", 'New Dorp', 'Rossville',\n",
              "       'Breezy Point', 'Willowbrook', 'Glen Oaks', 'Gerritsen Beach',\n",
              "       'Chelsea, Staten Island'], dtype=object)"
            ]
          },
          "metadata": {},
          "execution_count": 165
        }
      ],
      "source": [
        "df_airnb['neighbourhood'].unique()"
      ]
    },
    {
      "cell_type": "code",
      "execution_count": 166,
      "metadata": {
        "id": "MI1yR_HkGsK-",
        "colab": {
          "base_uri": "https://localhost:8080/"
        },
        "outputId": "8cbfe15b-5117-4bc5-f6d3-5650e7c21e47"
      },
      "outputs": [
        {
          "output_type": "execute_result",
          "data": {
            "text/plain": [
              "US    101927\n",
              "Name: country code, dtype: int64"
            ]
          },
          "metadata": {},
          "execution_count": 166
        }
      ],
      "source": [
        "df_airnb['country code'].value_counts()"
      ]
    },
    {
      "cell_type": "code",
      "execution_count": 167,
      "metadata": {
        "id": "9vYXvhaTGlC_",
        "colab": {
          "base_uri": "https://localhost:8080/"
        },
        "outputId": "e7e659f8-6dce-4753-e239-a4750d7d5730"
      },
      "outputs": [
        {
          "output_type": "execute_result",
          "data": {
            "text/plain": [
              "United States    101526\n",
              "Name: country, dtype: int64"
            ]
          },
          "metadata": {},
          "execution_count": 167
        }
      ],
      "source": [
        "df_airnb['country'].value_counts()"
      ]
    },
    {
      "cell_type": "code",
      "execution_count": 168,
      "metadata": {
        "id": "8dvNXrDCB0qJ",
        "colab": {
          "base_uri": "https://localhost:8080/"
        },
        "outputId": "e5d3f618-01d1-467e-e0ce-61998c51f1da"
      },
      "outputs": [
        {
          "output_type": "execute_result",
          "data": {
            "text/plain": [
              "False    51186\n",
              "True     50767\n",
              "Name: instant_bookable, dtype: int64"
            ]
          },
          "metadata": {},
          "execution_count": 168
        }
      ],
      "source": [
        "df_airnb['instant_bookable'].value_counts()"
      ]
    },
    {
      "cell_type": "markdown",
      "metadata": {
        "id": "Qv57aEcgQSw1"
      },
      "source": [
        "This variable is a binary variable, the values 0 do not indicate null numbers, it identifies that the value of the boolean variable is TRUE."
      ]
    },
    {
      "cell_type": "code",
      "execution_count": 169,
      "metadata": {
        "id": "zbzqAefZCK_0",
        "colab": {
          "base_uri": "https://localhost:8080/"
        },
        "outputId": "6b3cf85f-3446-47b8-886d-d17a667c318c"
      },
      "outputs": [
        {
          "output_type": "execute_result",
          "data": {
            "text/plain": [
              "Entire home/apt    53429\n",
              "Private room       46306\n",
              "Shared room         2208\n",
              "Hotel room           115\n",
              "Name: room type, dtype: int64"
            ]
          },
          "metadata": {},
          "execution_count": 169
        }
      ],
      "source": [
        "df_airnb['room type'].value_counts()"
      ]
    },
    {
      "cell_type": "code",
      "execution_count": 170,
      "metadata": {
        "id": "0T_CKo5dCW1Z",
        "colab": {
          "base_uri": "https://localhost:8080/"
        },
        "outputId": "e81ba1bc-426a-4cdf-96f5-6c10e61652ed"
      },
      "outputs": [
        {
          "output_type": "execute_result",
          "data": {
            "text/plain": [
              "moderate    34162\n",
              "strict      33929\n",
              "flexible    33891\n",
              "Name: cancellation_policy, dtype: int64"
            ]
          },
          "metadata": {},
          "execution_count": 170
        }
      ],
      "source": [
        "df_airnb['cancellation_policy'].value_counts()"
      ]
    },
    {
      "cell_type": "code",
      "execution_count": 171,
      "metadata": {
        "id": "ZIGFF6pjCxVf",
        "colab": {
          "base_uri": "https://localhost:8080/"
        },
        "outputId": "5bbfe7f9-da26-4cfb-ce76-af46061c7957"
      },
      "outputs": [
        {
          "output_type": "execute_result",
          "data": {
            "text/plain": [
              "5.0    23251\n",
              "4.0    23200\n",
              "3.0    23130\n",
              "2.0    22972\n",
              "1.0     9186\n",
              "Name: review rate number, dtype: int64"
            ]
          },
          "metadata": {},
          "execution_count": 171
        }
      ],
      "source": [
        "df_airnb['review rate number'].value_counts()"
      ]
    },
    {
      "cell_type": "code",
      "execution_count": 172,
      "metadata": {
        "id": "_C0LmbFP_U7J",
        "colab": {
          "base_uri": "https://localhost:8080/"
        },
        "outputId": "c0c85e4b-80ce-4362-e02f-58421a8a01e6"
      },
      "outputs": [
        {
          "output_type": "execute_result",
          "data": {
            "text/plain": [
              "neighbourhood group                   5\n",
              "neighbourhood                       224\n",
              "lat                               21991\n",
              "long                              17774\n",
              "country                               1\n",
              "country code                          1\n",
              "instant_bookable                      2\n",
              "cancellation_policy                   3\n",
              "room type                             4\n",
              "Construction year                    20\n",
              "price                              1151\n",
              "service fee                         231\n",
              "minimum nights                      153\n",
              "number of reviews                   476\n",
              "last review                        2477\n",
              "reviews per month                  1016\n",
              "review rate number                    5\n",
              "calculated host listings count       78\n",
              "availability 365                    438\n",
              "dtype: int64"
            ]
          },
          "metadata": {},
          "execution_count": 172
        }
      ],
      "source": [
        "df_airnb.shape\n",
        "df_airnb.nunique()"
      ]
    },
    {
      "cell_type": "markdown",
      "metadata": {
        "id": "GC-2p3EPF8iG"
      },
      "source": [
        "It is necessary to correct the data types, it shows the price  and service fee variables as categorical because they have a peso sign,but they are numbers, therefore we must adjust it."
      ]
    },
    {
      "cell_type": "code",
      "execution_count": 173,
      "metadata": {
        "id": "u3FMOislwTFD",
        "colab": {
          "base_uri": "https://localhost:8080/"
        },
        "outputId": "24899140-35ff-4d8f-d359-bb5d5bd5776f"
      },
      "outputs": [
        {
          "output_type": "execute_result",
          "data": {
            "text/plain": [
              "id\n",
              "1001254       $966 \n",
              "1002102       $142 \n",
              "1002403       $620 \n",
              "1002755       $368 \n",
              "1003689       $204 \n",
              "             ...   \n",
              "57365208      $696 \n",
              "57365760      $909 \n",
              "57366313      $387 \n",
              "57366865      $848 \n",
              "57367417    $1,128 \n",
              "Name: price, Length: 102058, dtype: object"
            ]
          },
          "metadata": {},
          "execution_count": 173
        }
      ],
      "source": [
        "df_airnb[\"price\"]"
      ]
    },
    {
      "cell_type": "code",
      "execution_count": 174,
      "metadata": {
        "id": "A0ScqktBS3Uh",
        "colab": {
          "base_uri": "https://localhost:8080/"
        },
        "outputId": "594038ac-badb-4fe2-e9d4-8914cb75717f"
      },
      "outputs": [
        {
          "output_type": "execute_result",
          "data": {
            "text/plain": [
              "id\n",
              "1001254      966.0\n",
              "1002102      142.0\n",
              "1002403      620.0\n",
              "1002755      368.0\n",
              "1003689      204.0\n",
              "             ...  \n",
              "57365208     696.0\n",
              "57365760     909.0\n",
              "57366313     387.0\n",
              "57366865     848.0\n",
              "57367417    1128.0\n",
              "Name: price, Length: 102058, dtype: float64"
            ]
          },
          "metadata": {},
          "execution_count": 174
        }
      ],
      "source": [
        "df_airnb[\"price\"] = df_airnb[\"price\"].apply(lambda x: str(x).replace(\"$\", \"\"))\n",
        "df_airnb['price'] = df_airnb['price'].apply(lambda x: x.replace(',', ''))\n",
        "df_airnb['price'] = df_airnb['price'].astype(float)\n",
        "df_airnb.price"
      ]
    },
    {
      "cell_type": "code",
      "execution_count": 175,
      "metadata": {
        "id": "f9_wnki91313",
        "colab": {
          "base_uri": "https://localhost:8080/"
        },
        "outputId": "d740ef36-320f-49fb-c1d9-0dd7f0a0a42b"
      },
      "outputs": [
        {
          "output_type": "stream",
          "name": "stdout",
          "text": [
            "<class 'pandas.core.frame.DataFrame'>\n",
            "Int64Index: 102058 entries, 1001254 to 57367417\n",
            "Data columns (total 19 columns):\n",
            " #   Column                          Non-Null Count   Dtype  \n",
            "---  ------                          --------------   -----  \n",
            " 0   neighbourhood group             102029 non-null  object \n",
            " 1   neighbourhood                   102042 non-null  object \n",
            " 2   lat                             102050 non-null  float64\n",
            " 3   long                            102050 non-null  float64\n",
            " 4   country                         101526 non-null  object \n",
            " 5   country code                    101927 non-null  object \n",
            " 6   instant_bookable                101953 non-null  object \n",
            " 7   cancellation_policy             101982 non-null  object \n",
            " 8   room type                       102058 non-null  object \n",
            " 9   Construction year               101844 non-null  float64\n",
            " 10  price                           101811 non-null  float64\n",
            " 11  service fee                     101785 non-null  float64\n",
            " 12  minimum nights                  101658 non-null  float64\n",
            " 13  number of reviews               101875 non-null  float64\n",
            " 14  last review                     86226 non-null   object \n",
            " 15  reviews per month               86240 non-null   float64\n",
            " 16  review rate number              101739 non-null  float64\n",
            " 17  calculated host listings count  101739 non-null  float64\n",
            " 18  availability 365                101610 non-null  float64\n",
            "dtypes: float64(11), object(8)\n",
            "memory usage: 15.6+ MB\n"
          ]
        }
      ],
      "source": [
        "df_airnb[\"service fee\"] = df_airnb[\"service fee\"].apply(lambda x: str(x).replace(\"$\", \"\"))\n",
        "df_airnb['service fee'] = df_airnb['service fee'].astype(float)\n",
        "df_airnb.info()"
      ]
    },
    {
      "cell_type": "markdown",
      "metadata": {
        "id": "GQT_WYwsUFfv"
      },
      "source": [
        "Now let's imputate the null values at these variables."
      ]
    },
    {
      "cell_type": "code",
      "execution_count": 176,
      "metadata": {
        "id": "6wePlpvPgfIR"
      },
      "outputs": [],
      "source": [
        "#I imputate the null values at this column with the mean\n",
        "df_airnb.loc[df_airnb[df_airnb['price'].apply(lambda x: x) > 2022].index,'price'] = df_airnb['price'].mean()\n",
        "df_airnb.loc[df_airnb['price'].isnull(), 'price'] = df_airnb['price'].mean()"
      ]
    },
    {
      "cell_type": "code",
      "execution_count": 177,
      "metadata": {
        "id": "PZTD1-IdeSic",
        "colab": {
          "base_uri": "https://localhost:8080/"
        },
        "outputId": "8315a8df-cf59-43a2-bcc8-6aca0c5fc638"
      },
      "outputs": [
        {
          "output_type": "execute_result",
          "data": {
            "text/plain": [
              "0"
            ]
          },
          "metadata": {},
          "execution_count": 177
        }
      ],
      "source": [
        "df_airnb['price'].isna().sum()"
      ]
    },
    {
      "cell_type": "code",
      "execution_count": 178,
      "metadata": {
        "id": "yrnTxZRBg7jP"
      },
      "outputs": [],
      "source": [
        "#I imputate the null values at this column with the mean\n",
        "df_airnb.loc[df_airnb[df_airnb['service fee'].apply(lambda x: x) > 2022].index,'service fee'] = df_airnb['service fee'].mean()\n",
        "df_airnb.loc[df_airnb['service fee'].isnull(), 'service fee'] = df_airnb['service fee'].mean()"
      ]
    },
    {
      "cell_type": "code",
      "execution_count": 179,
      "metadata": {
        "id": "AXijGxSwhAya",
        "colab": {
          "base_uri": "https://localhost:8080/"
        },
        "outputId": "f4da951b-8fe9-4abd-bc29-0d30ab6c172a"
      },
      "outputs": [
        {
          "output_type": "execute_result",
          "data": {
            "text/plain": [
              "0"
            ]
          },
          "metadata": {},
          "execution_count": 179
        }
      ],
      "source": [
        "df_airnb['service fee'].isna().sum()"
      ]
    },
    {
      "cell_type": "markdown",
      "metadata": {
        "id": "vouT7EIARryg"
      },
      "source": [
        "The data type of the Last Review column is changed from object to date, like this:"
      ]
    },
    {
      "cell_type": "code",
      "execution_count": 180,
      "metadata": {
        "id": "x2nnYaJGRBG8",
        "colab": {
          "base_uri": "https://localhost:8080/"
        },
        "outputId": "7b89d601-5420-4553-f307-973b876fc032"
      },
      "outputs": [
        {
          "output_type": "execute_result",
          "data": {
            "text/plain": [
              "neighbourhood group                       object\n",
              "neighbourhood                             object\n",
              "lat                                      float64\n",
              "long                                     float64\n",
              "country                                   object\n",
              "country code                              object\n",
              "instant_bookable                          object\n",
              "cancellation_policy                       object\n",
              "room type                                 object\n",
              "Construction year                        float64\n",
              "price                                    float64\n",
              "service fee                              float64\n",
              "minimum nights                           float64\n",
              "number of reviews                        float64\n",
              "last review                       datetime64[ns]\n",
              "reviews per month                        float64\n",
              "review rate number                       float64\n",
              "calculated host listings count           float64\n",
              "availability 365                         float64\n",
              "dtype: object"
            ]
          },
          "metadata": {},
          "execution_count": 180
        }
      ],
      "source": [
        "df_airnb['last review'] = pd.to_datetime(df_airnb['last review'])\n",
        "df_airnb.dtypes"
      ]
    },
    {
      "cell_type": "code",
      "execution_count": 181,
      "metadata": {
        "id": "gBSpIbMce5sX",
        "colab": {
          "base_uri": "https://localhost:8080/"
        },
        "outputId": "e73e85db-6edb-4e2a-bfa9-b9eebc427cb1"
      },
      "outputs": [
        {
          "output_type": "execute_result",
          "data": {
            "text/plain": [
              "(Timestamp('2012-07-11 00:00:00'), Timestamp('2058-06-16 00:00:00'))"
            ]
          },
          "metadata": {},
          "execution_count": 181
        }
      ],
      "source": [
        "# Let's check the min and max timestamps\n",
        "df_airnb['last review'].min(), df_airnb['last review'].max()"
      ]
    },
    {
      "cell_type": "code",
      "execution_count": 182,
      "metadata": {
        "id": "ybW7V89efSZ3",
        "colab": {
          "base_uri": "https://localhost:8080/"
        },
        "outputId": "88dc82dc-94ef-48b3-fd53-053ad73b28ba"
      },
      "outputs": [
        {
          "output_type": "stream",
          "name": "stdout",
          "text": [
            "<class 'pandas.core.frame.DataFrame'>\n",
            "Int64Index: 102058 entries, 1001254 to 57367417\n",
            "Data columns (total 19 columns):\n",
            " #   Column                          Non-Null Count   Dtype         \n",
            "---  ------                          --------------   -----         \n",
            " 0   neighbourhood group             102029 non-null  object        \n",
            " 1   neighbourhood                   102042 non-null  object        \n",
            " 2   lat                             102050 non-null  float64       \n",
            " 3   long                            102050 non-null  float64       \n",
            " 4   country                         101526 non-null  object        \n",
            " 5   country code                    101927 non-null  object        \n",
            " 6   instant_bookable                101953 non-null  object        \n",
            " 7   cancellation_policy             101982 non-null  object        \n",
            " 8   room type                       102058 non-null  object        \n",
            " 9   Construction year               101844 non-null  float64       \n",
            " 10  price                           102058 non-null  float64       \n",
            " 11  service fee                     102058 non-null  float64       \n",
            " 12  minimum nights                  101658 non-null  float64       \n",
            " 13  number of reviews               101875 non-null  float64       \n",
            " 14  last review                     102058 non-null  datetime64[ns]\n",
            " 15  reviews per month               86240 non-null   float64       \n",
            " 16  review rate number              101739 non-null  float64       \n",
            " 17  calculated host listings count  101739 non-null  float64       \n",
            " 18  availability 365                101610 non-null  float64       \n",
            "dtypes: datetime64[ns](1), float64(11), object(7)\n",
            "memory usage: 19.6+ MB\n"
          ]
        }
      ],
      "source": [
        "#There is a mistake with the year , it shows 2058, I fix it\n",
        "df_airnb.loc[df_airnb[df_airnb['last review'].apply(lambda x: x.year) > 2022].index,'last review'] = df_airnb['last review'].median()\n",
        "df_airnb.loc[df_airnb['last review'].isnull(), 'last review'] = df_airnb['last review'].median()\n",
        "df_airnb['last review'].isnull().value_counts()\n",
        "df_airnb.info()"
      ]
    },
    {
      "cell_type": "code",
      "execution_count": 183,
      "metadata": {
        "id": "CLEymLaTiALv",
        "colab": {
          "base_uri": "https://localhost:8080/"
        },
        "outputId": "fdf9f37b-72b5-45c8-8833-817778b6c5b7"
      },
      "outputs": [
        {
          "output_type": "execute_result",
          "data": {
            "text/plain": [
              "neighbourhood group                  18\n",
              "neighbourhood                        15\n",
              "lat                                   8\n",
              "long                                  8\n",
              "country                             525\n",
              "country code                        124\n",
              "instant_bookable                     98\n",
              "cancellation_policy                  69\n",
              "room type                             0\n",
              "Construction year                   195\n",
              "price                                 0\n",
              "service fee                           0\n",
              "minimum nights                      378\n",
              "number of reviews                   129\n",
              "last review                           0\n",
              "reviews per month                 15557\n",
              "review rate number                  305\n",
              "calculated host listings count      319\n",
              "availability 365                      0\n",
              "dtype: int64"
            ]
          },
          "metadata": {},
          "execution_count": 183
        }
      ],
      "source": [
        "#Null values at this columns represents the 0.43% within the total of rows, so I elimina\n",
        "df_airnb.dropna(subset=['availability 365'], inplace=True)\n",
        "df_airnb.isna().sum()"
      ]
    },
    {
      "cell_type": "code",
      "execution_count": 184,
      "metadata": {
        "id": "agTcPxcfSCsC"
      },
      "outputs": [],
      "source": [
        "df_airnb['availability 365'] = df_airnb['availability 365'].astype(int)\n"
      ]
    },
    {
      "cell_type": "code",
      "execution_count": 185,
      "metadata": {
        "id": "AnGmwnkISVyd",
        "colab": {
          "base_uri": "https://localhost:8080/"
        },
        "outputId": "ef08fe5f-c999-4021-f70f-29be5074b8e2"
      },
      "outputs": [
        {
          "output_type": "execute_result",
          "data": {
            "text/plain": [
              "neighbourhood group                  18\n",
              "neighbourhood                        15\n",
              "lat                                   8\n",
              "long                                  8\n",
              "country                             525\n",
              "country code                        124\n",
              "instant_bookable                     98\n",
              "cancellation_policy                  69\n",
              "room type                             0\n",
              "Construction year                   195\n",
              "price                                 0\n",
              "service fee                           0\n",
              "minimum nights                      378\n",
              "number of reviews                   129\n",
              "last review                           0\n",
              "reviews per month                 15557\n",
              "review rate number                  305\n",
              "calculated host listings count      319\n",
              "availability 365                      0\n",
              "dtype: int64"
            ]
          },
          "metadata": {},
          "execution_count": 185
        }
      ],
      "source": [
        "df_airnb.isna().sum()"
      ]
    },
    {
      "cell_type": "code",
      "execution_count": 186,
      "metadata": {
        "id": "8fMsqZ1RjgUG",
        "colab": {
          "base_uri": "https://localhost:8080/"
        },
        "outputId": "29f19ed1-54d4-421e-c8c3-7e8040d405f9"
      },
      "outputs": [
        {
          "output_type": "execute_result",
          "data": {
            "text/plain": [
              "neighbourhood group                  18\n",
              "neighbourhood                        15\n",
              "lat                                   8\n",
              "long                                  8\n",
              "country                             525\n",
              "country code                        124\n",
              "instant_bookable                     98\n",
              "cancellation_policy                  69\n",
              "room type                             0\n",
              "Construction year                   195\n",
              "price                                 0\n",
              "service fee                           0\n",
              "minimum nights                      378\n",
              "number of reviews                   129\n",
              "last review                           0\n",
              "reviews per month                 15557\n",
              "review rate number                  305\n",
              "calculated host listings count      319\n",
              "availability 365                      0\n",
              "dtype: int64"
            ]
          },
          "metadata": {},
          "execution_count": 186
        }
      ],
      "source": [
        "df_airnb.dropna(subset=['availability 365'], inplace=True)\n",
        "df_airnb.isna().sum()"
      ]
    },
    {
      "cell_type": "code",
      "execution_count": 187,
      "metadata": {
        "id": "NnctgfeBRLYQ",
        "colab": {
          "base_uri": "https://localhost:8080/"
        },
        "outputId": "b4fa2b1e-3986-401e-f751-c86394288d85"
      },
      "outputs": [
        {
          "output_type": "stream",
          "name": "stdout",
          "text": [
            "<class 'pandas.core.frame.DataFrame'>\n",
            "Int64Index: 101610 entries, 1001254 to 57367417\n",
            "Data columns (total 19 columns):\n",
            " #   Column                          Non-Null Count   Dtype         \n",
            "---  ------                          --------------   -----         \n",
            " 0   neighbourhood group             101592 non-null  object        \n",
            " 1   neighbourhood                   101595 non-null  object        \n",
            " 2   lat                             101602 non-null  float64       \n",
            " 3   long                            101602 non-null  float64       \n",
            " 4   country                         101085 non-null  object        \n",
            " 5   country code                    101486 non-null  object        \n",
            " 6   instant_bookable                101512 non-null  object        \n",
            " 7   cancellation_policy             101541 non-null  object        \n",
            " 8   room type                       101610 non-null  object        \n",
            " 9   Construction year               101415 non-null  float64       \n",
            " 10  price                           101610 non-null  float64       \n",
            " 11  service fee                     101610 non-null  float64       \n",
            " 12  minimum nights                  101232 non-null  float64       \n",
            " 13  number of reviews               101481 non-null  float64       \n",
            " 14  last review                     101610 non-null  datetime64[ns]\n",
            " 15  reviews per month               86053 non-null   float64       \n",
            " 16  review rate number              101305 non-null  float64       \n",
            " 17  calculated host listings count  101291 non-null  float64       \n",
            " 18  availability 365                101610 non-null  int64         \n",
            "dtypes: datetime64[ns](1), float64(10), int64(1), object(7)\n",
            "memory usage: 15.5+ MB\n"
          ]
        }
      ],
      "source": [
        "df_airnb.info()"
      ]
    },
    {
      "cell_type": "code",
      "execution_count": 188,
      "metadata": {
        "id": "jQ5gr7MxHe05",
        "colab": {
          "base_uri": "https://localhost:8080/"
        },
        "outputId": "298dfac6-3360-4b38-91ec-3a2c90bd850f"
      },
      "outputs": [
        {
          "output_type": "execute_result",
          "data": {
            "text/plain": [
              "0"
            ]
          },
          "metadata": {},
          "execution_count": 188
        }
      ],
      "source": [
        "#Impute both columns with United States and US , like this\n",
        "df_airnb['country'].fillna('United States', inplace=True)\n",
        "df_airnb['country'].isna().sum()"
      ]
    },
    {
      "cell_type": "code",
      "execution_count": 189,
      "metadata": {
        "id": "dLBX2tp6JLKl",
        "colab": {
          "base_uri": "https://localhost:8080/"
        },
        "outputId": "a9e7d6dd-343b-4fec-96ea-37a3758279c6"
      },
      "outputs": [
        {
          "output_type": "execute_result",
          "data": {
            "text/plain": [
              "0"
            ]
          },
          "metadata": {},
          "execution_count": 189
        }
      ],
      "source": [
        "df_airnb['country code'].fillna('US', inplace=True)\n",
        "df_airnb['country code'].isna().sum()"
      ]
    },
    {
      "cell_type": "code",
      "execution_count": 190,
      "metadata": {
        "id": "Ji1YeKZqRfG5",
        "colab": {
          "base_uri": "https://localhost:8080/"
        },
        "outputId": "b9f3c7a7-cd86-4097-be2c-a72fc701ba8f"
      },
      "outputs": [
        {
          "output_type": "execute_result",
          "data": {
            "text/plain": [
              "0"
            ]
          },
          "metadata": {},
          "execution_count": 190
        }
      ],
      "source": [
        "df_airnb['country'].isna().sum()"
      ]
    },
    {
      "cell_type": "markdown",
      "metadata": {
        "id": "DWWORpL1K37O"
      },
      "source": [
        "Impute null values with the mean of the other data from that same 'reviews per month' column, the same is replicated with the last 'review' column"
      ]
    },
    {
      "cell_type": "code",
      "execution_count": 191,
      "metadata": {
        "id": "3ohf_jKlJtGg"
      },
      "outputs": [],
      "source": [
        "df_airnb.loc[df_airnb[df_airnb['reviews per month'].apply(lambda x: x) == 0].index,'reviews per month'] = df_airnb['reviews per month'].mean()\n",
        "df_airnb.loc[df_airnb['reviews per month'].isnull(), 'reviews per month'] = df_airnb['reviews per month'].mean()"
      ]
    },
    {
      "cell_type": "code",
      "execution_count": 192,
      "metadata": {
        "id": "wKYjfbifLU6N"
      },
      "outputs": [],
      "source": [
        "df_airnb.loc[df_airnb[df_airnb['last review'].apply(lambda x: x) == 0].index,'last review'] = df_airnb['last review'].mean()\n",
        "df_airnb.loc[df_airnb['last review'].isnull(), 'last review'] = df_airnb['last review'].mean()"
      ]
    },
    {
      "cell_type": "code",
      "execution_count": 193,
      "metadata": {
        "id": "9I-a4fqNLm8o"
      },
      "outputs": [],
      "source": [
        "df_airnb.loc[df_airnb[df_airnb['review rate number'].apply(lambda x: x) == 0].index,'review rate number'] = df_airnb['review rate number'].mean()\n",
        "df_airnb.loc[df_airnb['review rate number'].isnull(), 'review rate number'] = df_airnb['review rate number'].mean()"
      ]
    },
    {
      "cell_type": "code",
      "execution_count": 194,
      "metadata": {
        "id": "uobTTJfOj-m3"
      },
      "outputs": [],
      "source": [
        "df_airnb.dropna(subset=['neighbourhood group', 'neighbourhood', 'lat', 'long', 'instant_bookable', 'cancellation_policy',\n",
        "       'Construction year', 'minimum nights',\n",
        "       'number of reviews', \n",
        "       'review rate number', 'calculated host listings count'], inplace=True)\n"
      ]
    },
    {
      "cell_type": "markdown",
      "metadata": {
        "id": "FZyaR3oaXW0_"
      },
      "source": [
        "At this columns I decided to eliminate null values because they are accurate information of each booking case, it is difficult to imputate it."
      ]
    },
    {
      "cell_type": "code",
      "execution_count": 195,
      "metadata": {
        "id": "QmoP0jTCkS75",
        "colab": {
          "base_uri": "https://localhost:8080/"
        },
        "outputId": "fcab26f9-b4da-424d-a875-a5e11871a56d"
      },
      "outputs": [
        {
          "output_type": "execute_result",
          "data": {
            "text/plain": [
              "neighbourhood group               0\n",
              "neighbourhood                     0\n",
              "lat                               0\n",
              "long                              0\n",
              "country                           0\n",
              "country code                      0\n",
              "instant_bookable                  0\n",
              "cancellation_policy               0\n",
              "room type                         0\n",
              "Construction year                 0\n",
              "price                             0\n",
              "service fee                       0\n",
              "minimum nights                    0\n",
              "number of reviews                 0\n",
              "last review                       0\n",
              "reviews per month                 0\n",
              "review rate number                0\n",
              "calculated host listings count    0\n",
              "availability 365                  0\n",
              "dtype: int64"
            ]
          },
          "metadata": {},
          "execution_count": 195
        }
      ],
      "source": [
        "df_airnb.isna().sum()"
      ]
    },
    {
      "cell_type": "code",
      "execution_count": 196,
      "metadata": {
        "id": "IiTF9XFYRYtR",
        "colab": {
          "base_uri": "https://localhost:8080/"
        },
        "outputId": "a2c7b375-558e-4d3a-ed5f-3aaac42f44f1"
      },
      "outputs": [
        {
          "output_type": "execute_result",
          "data": {
            "text/plain": [
              "(100487, 19)"
            ]
          },
          "metadata": {},
          "execution_count": 196
        }
      ],
      "source": [
        "df_airnb.shape"
      ]
    },
    {
      "cell_type": "markdown",
      "metadata": {
        "id": "VYjkoaQ1kYZ5"
      },
      "source": [
        "There are no Nan Values, they were eliminated because the represented a \n",
        "low proportion with respect to the totality of the data. After this imputation and cleaning of our data, 2112 rows were eliminated, it represents the 2.05%, no we can visualize the data."
      ]
    },
    {
      "cell_type": "markdown",
      "metadata": {
        "id": "DHj39x7PCLyK"
      },
      "source": [
        "# **Data Visualization**\n",
        "\n",
        "\n",
        "\n",
        "---\n",
        "\n",
        "\n",
        "\n"
      ]
    },
    {
      "cell_type": "code",
      "execution_count": 197,
      "metadata": {
        "id": "PdcSFphe3ElY",
        "colab": {
          "base_uri": "https://localhost:8080/",
          "height": 659
        },
        "outputId": "c4282798-0753-4f18-f254-9ebc977d65f2"
      },
      "outputs": [
        {
          "output_type": "execute_result",
          "data": {
            "text/plain": [
              "<matplotlib.axes._subplots.AxesSubplot at 0x7f05563af050>"
            ]
          },
          "metadata": {},
          "execution_count": 197
        },
        {
          "output_type": "display_data",
          "data": {
            "text/plain": [
              "<Figure size 1080x576 with 2 Axes>"
            ],
            "image/png": "[encoded data removed]"
          },
          "metadata": {}
        }
      ],
      "source": [
        "import seaborn as sns\n",
        "corr = df_airnb.corr()\n",
        "sns.set(rc = {'figure.figsize':(15,8)})\n",
        "sns.heatmap(df_airnb.corr(),annot = True)\n"
      ]
    },
    {
      "cell_type": "markdown",
      "metadata": {
        "id": "harXJzAF5dB3"
      },
      "source": [
        "I noticed strong correlation between service fee and price . It is important to highlight that the correlation among our variable target and the other variables is pretty low, also price has the stronger correlation with number of reviews, it works as a supply and demand game."
      ]
    },
    {
      "cell_type": "code",
      "execution_count": 198,
      "metadata": {
        "id": "a03Rjp3SDreU"
      },
      "outputs": [],
      "source": [
        "import matplotlib\n",
        "import matplotlib.pyplot as plt\n",
        "import seaborn as sns\n",
        "import matplotlib.pyplot as plt\n",
        "import seaborn as sns\n",
        "import plotly.express as px\n",
        "import plotly.graph_objects as go\n",
        "from plotly.subplots import make_subplots"
      ]
    },
    {
      "cell_type": "code",
      "execution_count": 199,
      "metadata": {
        "id": "CHZt-EDnSDoL",
        "colab": {
          "base_uri": "https://localhost:8080/",
          "height": 542
        },
        "outputId": "ec152527-2aef-477b-8e5d-17e450eb9b11"
      },
      "outputs": [
        {
          "output_type": "display_data",
          "data": {
            "text/html": [
              "<html>\n",
              "<head><meta charset=\"utf-8\" /></head>\n",
              "<body>\n",
              "    <div>            <script src=\"https://cdnjs.cloudflare.com/ajax/libs/mathjax/2.7.5/MathJax.js?config=TeX-AMS-MML_SVG\"></script><script type=\"text/javascript\">if (window.MathJax) {MathJax.Hub.Config({SVG: {font: \"STIX-Web\"}});}</script>                <script type=\"text/javascript\">window.PlotlyConfig = {MathJaxConfig: 'local'};</script>\n",
              "        <script src=\"https://cdn.plot.ly/plotly-2.8.3.min.js\"></script>                <div id=\"f972e9b6-96bc-47d2-9d72-d941adefcc0b\" class=\"plotly-graph-div\" style=\"height:525px; width:100%;\"></div>            <script type=\"text/javascript\">                                    window.PLOTLYENV=window.PLOTLYENV || {};                                    if (document.getElementById(\"f972e9b6-96bc-47d2-9d72-d941adefcc0b\")) {                    Plotly.newPlot(                        \"f972e9b6-96bc-47d2-9d72-d941adefcc0b\",                        [{\"hovertemplate\":\"Construction year=%{x}<br>Average price=%{y}<br>text=%{text}<extra></extra>\",\"legendgroup\":\"\",\"line\":{\"color\":\"rgb(42, 86, 116)\",\"dash\":\"solid\"},\"marker\":{\"symbol\":\"circle\"},\"mode\":\"lines+text+markers\",\"name\":\"\",\"orientation\":\"v\",\"showlegend\":false,\"text\":[\"$623\",\"$629\",\"$619\",\"$635\",\"$626\",\"$638\",\"$619\",\"$626\",\"$626\",\"$624\",\"$620\",\"$632\",\"$616\",\"$624\",\"$628\",\"$624\",\"$612\",\"$621\",\"$629\",\"$628\"],\"x\":[2003.0,2004.0,2005.0,2006.0,2007.0,2008.0,2009.0,2010.0,2011.0,2012.0,2013.0,2014.0,2015.0,2016.0,2017.0,2018.0,2019.0,2020.0,2021.0,2022.0],\"xaxis\":\"x\",\"y\":[623.6508126779252,629.9875552606848,619.7922646234126,635.1960369340511,626.3242572007954,638.2709413806167,619.269382074006,626.2662080251512,626.9214779345251,624.5057088639134,620.1686959631846,632.441029021094,616.6521403964967,624.2698020437374,628.4953600049881,624.5976280555905,612.305289828654,621.7287559168368,629.3987562290122,628.6830633717402],\"yaxis\":\"y\",\"type\":\"scatter\"}],                        {\"template\":{\"data\":{\"barpolar\":[{\"marker\":{\"line\":{\"color\":\"rgb(17,17,17)\",\"width\":0.5},\"pattern\":{\"fillmode\":\"overlay\",\"size\":10,\"solidity\":0.2}},\"type\":\"barpolar\"}],\"bar\":[{\"error_x\":{\"color\":\"#f2f5fa\"},\"error_y\":{\"color\":\"#f2f5fa\"},\"marker\":{\"line\":{\"color\":\"rgb(17,17,17)\",\"width\":0.5},\"pattern\":{\"fillmode\":\"overlay\",\"size\":10,\"solidity\":0.2}},\"type\":\"bar\"}],\"carpet\":[{\"aaxis\":{\"endlinecolor\":\"#A2B1C6\",\"gridcolor\":\"#506784\",\"linecolor\":\"#506784\",\"minorgridcolor\":\"#506784\",\"startlinecolor\":\"#A2B1C6\"},\"baxis\":{\"endlinecolor\":\"#A2B1C6\",\"gridcolor\":\"#506784\",\"linecolor\":\"#506784\",\"minorgridcolor\":\"#506784\",\"startlinecolor\":\"#A2B1C6\"},\"type\":\"carpet\"}],\"choropleth\":[{\"colorbar\":{\"outlinewidth\":0,\"ticks\":\"\"},\"type\":\"choropleth\"}],\"contourcarpet\":[{\"colorbar\":{\"outlinewidth\":0,\"ticks\":\"\"},\"type\":\"contourcarpet\"}],\"contour\":[{\"colorbar\":{\"outlinewidth\":0,\"ticks\":\"\"},\"colorscale\":[[0.0,\"#0d0887\"],[0.1111111111111111,\"#46039f\"],[0.2222222222222222,\"#7201a8\"],[0.3333333333333333,\"#9c179e\"],[0.4444444444444444,\"#bd3786\"],[0.5555555555555556,\"#d8576b\"],[0.6666666666666666,\"#ed7953\"],[0.7777777777777778,\"#fb9f3a\"],[0.8888888888888888,\"#fdca26\"],[1.0,\"#f0f921\"]],\"type\":\"contour\"}],\"heatmapgl\":[{\"colorbar\":{\"outlinewidth\":0,\"ticks\":\"\"},\"colorscale\":[[0.0,\"#0d0887\"],[0.1111111111111111,\"#46039f\"],[0.2222222222222222,\"#7201a8\"],[0.3333333333333333,\"#9c179e\"],[0.4444444444444444,\"#bd3786\"],[0.5555555555555556,\"#d8576b\"],[0.6666666666666666,\"#ed7953\"],[0.7777777777777778,\"#fb9f3a\"],[0.8888888888888888,\"#fdca26\"],[1.0,\"#f0f921\"]],\"type\":\"heatmapgl\"}],\"heatmap\":[{\"colorbar\":{\"outlinewidth\":0,\"ticks\":\"\"},\"colorscale\":[[0.0,\"#0d0887\"],[0.1111111111111111,\"#46039f\"],[0.2222222222222222,\"#7201a8\"],[0.3333333333333333,\"#9c179e\"],[0.4444444444444444,\"#bd3786\"],[0.5555555555555556,\"#d8576b\"],[0.6666666666666666,\"#ed7953\"],[0.7777777777777778,\"#fb9f3a\"],[0.8888888888888888,\"#fdca26\"],[1.0,\"#f0f921\"]],\"type\":\"heatmap\"}],\"histogram2dcontour\":[{\"colorbar\":{\"outlinewidth\":0,\"ticks\":\"\"},\"colorscale\":[[0.0,\"#0d0887\"],[0.1111111111111111,\"#46039f\"],[0.2222222222222222,\"#7201a8\"],[0.3333333333333333,\"#9c179e\"],[0.4444444444444444,\"#bd3786\"],[0.5555555555555556,\"#d8576b\"],[0.6666666666666666,\"#ed7953\"],[0.7777777777777778,\"#fb9f3a\"],[0.8888888888888888,\"#fdca26\"],[1.0,\"#f0f921\"]],\"type\":\"histogram2dcontour\"}],\"histogram2d\":[{\"colorbar\":{\"outlinewidth\":0,\"ticks\":\"\"},\"colorscale\":[[0.0,\"#0d0887\"],[0.1111111111111111,\"#46039f\"],[0.2222222222222222,\"#7201a8\"],[0.3333333333333333,\"#9c179e\"],[0.4444444444444444,\"#bd3786\"],[0.5555555555555556,\"#d8576b\"],[0.6666666666666666,\"#ed7953\"],[0.7777777777777778,\"#fb9f3a\"],[0.8888888888888888,\"#fdca26\"],[1.0,\"#f0f921\"]],\"type\":\"histogram2d\"}],\"histogram\":[{\"marker\":{\"pattern\":{\"fillmode\":\"overlay\",\"size\":10,\"solidity\":0.2}},\"type\":\"histogram\"}],\"mesh3d\":[{\"colorbar\":{\"outlinewidth\":0,\"ticks\":\"\"},\"type\":\"mesh3d\"}],\"parcoords\":[{\"line\":{\"colorbar\":{\"outlinewidth\":0,\"ticks\":\"\"}},\"type\":\"parcoords\"}],\"pie\":[{\"automargin\":true,\"type\":\"pie\"}],\"scatter3d\":[{\"line\":{\"colorbar\":{\"outlinewidth\":0,\"ticks\":\"\"}},\"marker\":{\"colorbar\":{\"outlinewidth\":0,\"ticks\":\"\"}},\"type\":\"scatter3d\"}],\"scattercarpet\":[{\"marker\":{\"colorbar\":{\"outlinewidth\":0,\"ticks\":\"\"}},\"type\":\"scattercarpet\"}],\"scattergeo\":[{\"marker\":{\"colorbar\":{\"outlinewidth\":0,\"ticks\":\"\"}},\"type\":\"scattergeo\"}],\"scattergl\":[{\"marker\":{\"line\":{\"color\":\"#283442\"}},\"type\":\"scattergl\"}],\"scattermapbox\":[{\"marker\":{\"colorbar\":{\"outlinewidth\":0,\"ticks\":\"\"}},\"type\":\"scattermapbox\"}],\"scatterpolargl\":[{\"marker\":{\"colorbar\":{\"outlinewidth\":0,\"ticks\":\"\"}},\"type\":\"scatterpolargl\"}],\"scatterpolar\":[{\"marker\":{\"colorbar\":{\"outlinewidth\":0,\"ticks\":\"\"}},\"type\":\"scatterpolar\"}],\"scatter\":[{\"marker\":{\"line\":{\"color\":\"#283442\"}},\"type\":\"scatter\"}],\"scatterternary\":[{\"marker\":{\"colorbar\":{\"outlinewidth\":0,\"ticks\":\"\"}},\"type\":\"scatterternary\"}],\"surface\":[{\"colorbar\":{\"outlinewidth\":0,\"ticks\":\"\"},\"colorscale\":[[0.0,\"#0d0887\"],[0.1111111111111111,\"#46039f\"],[0.2222222222222222,\"#7201a8\"],[0.3333333333333333,\"#9c179e\"],[0.4444444444444444,\"#bd3786\"],[0.5555555555555556,\"#d8576b\"],[0.6666666666666666,\"#ed7953\"],[0.7777777777777778,\"#fb9f3a\"],[0.8888888888888888,\"#fdca26\"],[1.0,\"#f0f921\"]],\"type\":\"surface\"}],\"table\":[{\"cells\":{\"fill\":{\"color\":\"#506784\"},\"line\":{\"color\":\"rgb(17,17,17)\"}},\"header\":{\"fill\":{\"color\":\"#2a3f5f\"},\"line\":{\"color\":\"rgb(17,17,17)\"}},\"type\":\"table\"}]},\"layout\":{\"annotationdefaults\":{\"arrowcolor\":\"#f2f5fa\",\"arrowhead\":0,\"arrowwidth\":1},\"autotypenumbers\":\"strict\",\"coloraxis\":{\"colorbar\":{\"outlinewidth\":0,\"ticks\":\"\"}},\"colorscale\":{\"diverging\":[[0,\"#8e0152\"],[0.1,\"#c51b7d\"],[0.2,\"#de77ae\"],[0.3,\"#f1b6da\"],[0.4,\"#fde0ef\"],[0.5,\"#f7f7f7\"],[0.6,\"#e6f5d0\"],[0.7,\"#b8e186\"],[0.8,\"#7fbc41\"],[0.9,\"#4d9221\"],[1,\"#276419\"]],\"sequential\":[[0.0,\"#0d0887\"],[0.1111111111111111,\"#46039f\"],[0.2222222222222222,\"#7201a8\"],[0.3333333333333333,\"#9c179e\"],[0.4444444444444444,\"#bd3786\"],[0.5555555555555556,\"#d8576b\"],[0.6666666666666666,\"#ed7953\"],[0.7777777777777778,\"#fb9f3a\"],[0.8888888888888888,\"#fdca26\"],[1.0,\"#f0f921\"]],\"sequentialminus\":[[0.0,\"#0d0887\"],[0.1111111111111111,\"#46039f\"],[0.2222222222222222,\"#7201a8\"],[0.3333333333333333,\"#9c179e\"],[0.4444444444444444,\"#bd3786\"],[0.5555555555555556,\"#d8576b\"],[0.6666666666666666,\"#ed7953\"],[0.7777777777777778,\"#fb9f3a\"],[0.8888888888888888,\"#fdca26\"],[1.0,\"#f0f921\"]]},\"colorway\":[\"#636efa\",\"#EF553B\",\"#00cc96\",\"#ab63fa\",\"#FFA15A\",\"#19d3f3\",\"#FF6692\",\"#B6E880\",\"#FF97FF\",\"#FECB52\"],\"font\":{\"color\":\"#f2f5fa\"},\"geo\":{\"bgcolor\":\"rgb(17,17,17)\",\"lakecolor\":\"rgb(17,17,17)\",\"landcolor\":\"rgb(17,17,17)\",\"showlakes\":true,\"showland\":true,\"subunitcolor\":\"#506784\"},\"hoverlabel\":{\"align\":\"left\"},\"hovermode\":\"closest\",\"mapbox\":{\"style\":\"dark\"},\"paper_bgcolor\":\"rgb(17,17,17)\",\"plot_bgcolor\":\"rgb(17,17,17)\",\"polar\":{\"angularaxis\":{\"gridcolor\":\"#506784\",\"linecolor\":\"#506784\",\"ticks\":\"\"},\"bgcolor\":\"rgb(17,17,17)\",\"radialaxis\":{\"gridcolor\":\"#506784\",\"linecolor\":\"#506784\",\"ticks\":\"\"}},\"scene\":{\"xaxis\":{\"backgroundcolor\":\"rgb(17,17,17)\",\"gridcolor\":\"#506784\",\"gridwidth\":2,\"linecolor\":\"#506784\",\"showbackground\":true,\"ticks\":\"\",\"zerolinecolor\":\"#C8D4E3\"},\"yaxis\":{\"backgroundcolor\":\"rgb(17,17,17)\",\"gridcolor\":\"#506784\",\"gridwidth\":2,\"linecolor\":\"#506784\",\"showbackground\":true,\"ticks\":\"\",\"zerolinecolor\":\"#C8D4E3\"},\"zaxis\":{\"backgroundcolor\":\"rgb(17,17,17)\",\"gridcolor\":\"#506784\",\"gridwidth\":2,\"linecolor\":\"#506784\",\"showbackground\":true,\"ticks\":\"\",\"zerolinecolor\":\"#C8D4E3\"}},\"shapedefaults\":{\"line\":{\"color\":\"#f2f5fa\"}},\"sliderdefaults\":{\"bgcolor\":\"#C8D4E3\",\"bordercolor\":\"rgb(17,17,17)\",\"borderwidth\":1,\"tickwidth\":0},\"ternary\":{\"aaxis\":{\"gridcolor\":\"#506784\",\"linecolor\":\"#506784\",\"ticks\":\"\"},\"baxis\":{\"gridcolor\":\"#506784\",\"linecolor\":\"#506784\",\"ticks\":\"\"},\"bgcolor\":\"rgb(17,17,17)\",\"caxis\":{\"gridcolor\":\"#506784\",\"linecolor\":\"#506784\",\"ticks\":\"\"}},\"title\":{\"x\":0.05},\"updatemenudefaults\":{\"bgcolor\":\"#506784\",\"borderwidth\":0},\"xaxis\":{\"automargin\":true,\"gridcolor\":\"#283442\",\"linecolor\":\"#506784\",\"ticks\":\"\",\"title\":{\"standoff\":15},\"zerolinecolor\":\"#283442\",\"zerolinewidth\":2},\"yaxis\":{\"automargin\":true,\"gridcolor\":\"#283442\",\"linecolor\":\"#506784\",\"ticks\":\"\",\"title\":{\"standoff\":15},\"zerolinecolor\":\"#283442\",\"zerolinewidth\":2}}},\"xaxis\":{\"anchor\":\"y\",\"domain\":[0.0,1.0],\"title\":{\"text\":\"Construction year\"}},\"yaxis\":{\"anchor\":\"x\",\"domain\":[0.0,1.0],\"title\":{\"text\":\"Average price\"}},\"legend\":{\"tracegroupgap\":0},\"title\":{\"text\":\"Average price per construction year in USD\"},\"font\":{\"size\":15,\"color\":\"white\",\"family\":\"Avenir\"}},                        {\"responsive\": true}                    ).then(function(){\n",
              "                            \n",
              "var gd = document.getElementById('f972e9b6-96bc-47d2-9d72-d941adefcc0b');\n",
              "var x = new MutationObserver(function (mutations, observer) {{\n",
              "        var display = window.getComputedStyle(gd).display;\n",
              "        if (!display || display === 'none') {{\n",
              "            console.log([gd, 'removed!']);\n",
              "            Plotly.purge(gd);\n",
              "            observer.disconnect();\n",
              "        }}\n",
              "}});\n",
              "\n",
              "// Listen for the removal of the full notebook cells\n",
              "var notebookContainer = gd.closest('#notebook-container');\n",
              "if (notebookContainer) {{\n",
              "    x.observe(notebookContainer, {childList: true});\n",
              "}}\n",
              "\n",
              "// Listen for the clearing of the current output cell\n",
              "var outputEl = gd.closest('.output');\n",
              "if (outputEl) {{\n",
              "    x.observe(outputEl, {childList: true});\n",
              "}}\n",
              "\n",
              "                        })                };                            </script>        </div>\n",
              "</body>\n",
              "</html>"
            ]
          },
          "metadata": {}
        }
      ],
      "source": [
        "price_per_year = df_airnb.groupby('Construction year')['price'].mean()\n",
        "fig = px.line(price_per_year,\n",
        "            x=price_per_year.index,\n",
        "            y=price_per_year.values,\n",
        "            labels={'x': 'Construction year', 'y': 'Average price'},\n",
        "            text=['$' + str(int(i)) for i in price_per_year.values],\n",
        "            title='Average price per construction year in USD',\n",
        "            color_discrete_sequence=px.colors.sequential.Teal_r,\n",
        "            template='plotly_dark'\n",
        ")\n",
        "\n",
        "fig.update_layout(font=dict(size=15, color='white', family='Avenir'))\n",
        "\n",
        "fig.show()"
      ]
    },
    {
      "cell_type": "code",
      "execution_count": 200,
      "metadata": {
        "id": "M64HNkFdFUI1",
        "colab": {
          "base_uri": "https://localhost:8080/",
          "height": 471
        },
        "outputId": "f2eded15-1a0f-48fc-ac74-3c4c164c654d"
      },
      "outputs": [
        {
          "output_type": "execute_result",
          "data": {
            "text/plain": [
              "<seaborn.axisgrid.FacetGrid at 0x7f05532bafd0>"
            ]
          },
          "metadata": {},
          "execution_count": 200
        },
        {
          "output_type": "display_data",
          "data": {
            "text/plain": [
              "<Figure size 936x432 with 1 Axes>"
            ],
            "image/png": "[encoded data removed]"
          },
          "metadata": {}
        }
      ],
      "source": [
        "sns.relplot(x = df_airnb['Construction year'], y = df_airnb['price'], data = df_airnb, kind = \"line\", color='#484848', height=6, aspect=13/6).set(title='Historical behavior of a room price on AIRBNB')"
      ]
    },
    {
      "cell_type": "markdown",
      "metadata": {
        "id": "EUX-4n8wmsqm"
      },
      "source": [
        "The plot shows us the behavior through the years of the arbnb price, there was a significant drop in 2008, which is consistent with the economic crisis that took place during that year."
      ]
    },
    {
      "cell_type": "code",
      "execution_count": 201,
      "metadata": {
        "id": "HmZsUCEbLTOK",
        "colab": {
          "base_uri": "https://localhost:8080/",
          "height": 471
        },
        "outputId": "1c2a8118-d10e-4146-f9fc-265902896103"
      },
      "outputs": [
        {
          "output_type": "execute_result",
          "data": {
            "text/plain": [
              "<seaborn.axisgrid.FacetGrid at 0x7f0553222fd0>"
            ]
          },
          "metadata": {},
          "execution_count": 201
        },
        {
          "output_type": "display_data",
          "data": {
            "text/plain": [
              "<Figure size 936x432 with 1 Axes>"
            ],
            "image/png": "[encoded data removed]"
          },
          "metadata": {}
        }
      ],
      "source": [
        "sns.relplot(x = df_airnb['neighbourhood group'], y = df_airnb['price'], data = df_airnb, kind = \"line\", color='#00A699', height=6, aspect=13/6).set(title='Historical behavior of a room price on AIRBNB by neighbourhood group')"
      ]
    },
    {
      "cell_type": "code",
      "execution_count": 202,
      "metadata": {
        "id": "4xfXuYrEaMPR",
        "colab": {
          "base_uri": "https://localhost:8080/",
          "height": 471
        },
        "outputId": "57a65ea9-ead6-4322-a067-69263050d6b9"
      },
      "outputs": [
        {
          "output_type": "execute_result",
          "data": {
            "text/plain": [
              "<seaborn.axisgrid.FacetGrid at 0x7f05532316d0>"
            ]
          },
          "metadata": {},
          "execution_count": 202
        },
        {
          "output_type": "display_data",
          "data": {
            "text/plain": [
              "<Figure size 936x432 with 1 Axes>"
            ],
            "image/png": "[encoded data removed]"
          },
          "metadata": {}
        }
      ],
      "source": [
        "sns.relplot(x = df_airnb['neighbourhood group'], y = df_airnb['service fee'], data = df_airnb, kind = \"line\", color='#484848', height=6, aspect=13/6).set(title='Historical behavior of service fee on AIRBNB by neighbourhood group')"
      ]
    },
    {
      "cell_type": "code",
      "execution_count": 203,
      "metadata": {
        "id": "x0XXwwh-M-1n",
        "colab": {
          "base_uri": "https://localhost:8080/",
          "height": 520
        },
        "outputId": "d6cfbc63-17ee-4648-cba0-6d362611221f"
      },
      "outputs": [
        {
          "output_type": "execute_result",
          "data": {
            "text/plain": [
              "<matplotlib.axes._subplots.AxesSubplot at 0x7f05531c1d50>"
            ]
          },
          "metadata": {},
          "execution_count": 203
        },
        {
          "output_type": "display_data",
          "data": {
            "text/plain": [
              "<Figure size 1080x576 with 1 Axes>"
            ],
            "image/png": "[encoded data removed]"
          },
          "metadata": {}
        }
      ],
      "source": [
        "sns.histplot(data=df_airnb, x=\"price\", color = '#FF5A5F')"
      ]
    },
    {
      "cell_type": "code",
      "execution_count": 203,
      "metadata": {
        "id": "k5c7OW4gNQ0Z"
      },
      "outputs": [],
      "source": []
    },
    {
      "cell_type": "markdown",
      "metadata": {
        "id": "PGZConpFqkmp"
      },
      "source": [
        "The previous histogram show us the majority of our sample of study is located in Brooklyn and Manhattan."
      ]
    },
    {
      "cell_type": "code",
      "execution_count": 204,
      "metadata": {
        "id": "m5GIMGYds8Uz",
        "colab": {
          "base_uri": "https://localhost:8080/",
          "height": 423
        },
        "outputId": "5cc6ce2d-1941-4324-da9d-7265cbea33f1"
      },
      "outputs": [
        {
          "output_type": "display_data",
          "data": {
            "text/plain": [
              "<Figure size 1065.1x432 with 1 Axes>"
            ],
            "image/png": "[encoded data removed]"
          },
          "metadata": {}
        }
      ],
      "source": [
        "sns.relplot(data=df_airnb, kind='line', x='price',  y='number of reviews', hue='room type',height=6, aspect=13/6);"
      ]
    },
    {
      "cell_type": "code",
      "execution_count": 205,
      "metadata": {
        "id": "CsEca8oqEohZ",
        "colab": {
          "base_uri": "https://localhost:8080/",
          "height": 536
        },
        "outputId": "c60403bf-768f-413e-9bdb-da87648b30c4"
      },
      "outputs": [
        {
          "output_type": "execute_result",
          "data": {
            "text/plain": [
              "[Text(0.5, 1.0, 'Price by Room Type')]"
            ]
          },
          "metadata": {},
          "execution_count": 205
        },
        {
          "output_type": "display_data",
          "data": {
            "text/plain": [
              "<Figure size 1080x576 with 1 Axes>"
            ],
            "image/png": "[encoded data removed]"
          },
          "metadata": {}
        }
      ],
      "source": [
        "sns.boxplot(y = 'price',       \n",
        "            x = 'room type',    \n",
        "            data = df_airnb,\n",
        "            palette = 'flare'\n",
        "            ).set(title='Price by Room Type')"
      ]
    },
    {
      "cell_type": "code",
      "execution_count": 206,
      "metadata": {
        "id": "AoWH2Wh6Q-n2",
        "colab": {
          "base_uri": "https://localhost:8080/",
          "height": 629
        },
        "outputId": "ecc47949-0502-465d-e15f-9080426bdbfb"
      },
      "outputs": [
        {
          "output_type": "execute_result",
          "data": {
            "text/plain": [
              "<matplotlib.axes._subplots.AxesSubplot at 0x7f0552f9ff10>"
            ]
          },
          "metadata": {},
          "execution_count": 206
        },
        {
          "output_type": "display_data",
          "data": {
            "text/plain": [
              "<Figure size 1080x720 with 1 Axes>"
            ],
            "image/png": "[encoded data removed]"
          },
          "metadata": {}
        }
      ],
      "source": [
        "fig, ax = plt.subplots(figsize=(15, 10))\n",
        "sns.boxplot(x=\"neighbourhood group\", y=\"price\", data=df_airnb,palette=\"flare\")"
      ]
    },
    {
      "cell_type": "code",
      "execution_count": 207,
      "metadata": {
        "id": "BmV9L9vT8Ahk",
        "colab": {
          "base_uri": "https://localhost:8080/",
          "height": 215
        },
        "outputId": "136c0b87-e5e6-4a9c-a163-85b1c4f0392b"
      },
      "outputs": [
        {
          "output_type": "display_data",
          "data": {
            "text/plain": [
              "<Figure size 1800x360 with 5 Axes>"
            ],
            "image/png": "[encoded data removed]"
          },
          "metadata": {}
        }
      ],
      "source": [
        "sns.catplot(x=\"room type\", y=\"price\", col=\"neighbourhood group\", data=df_airnb, kind = \"bar\", palette = 'flare');"
      ]
    },
    {
      "cell_type": "code",
      "execution_count": 209,
      "metadata": {
        "id": "paCS9_AQ8LWA",
        "colab": {
          "base_uri": "https://localhost:8080/",
          "height": 522
        },
        "outputId": "65bea3fc-aae3-4617-9683-a80386556342"
      },
      "outputs": [
        {
          "output_type": "display_data",
          "data": {
            "text/plain": [
              "<Figure size 1080x576 with 1 Axes>"
            ],
            "image/png": "[encoded data removed]"
          },
          "metadata": {}
        }
      ],
      "source": [
        "sns.boxplot(x=\"review rate number\", y=\"price\",\n",
        "            hue=\"neighbourhood group\", palette='flare',\n",
        "            data=df_airnb)\n",
        "sns.despine(offset=20, trim=True)"
      ]
    },
    {
      "cell_type": "code",
      "execution_count": 210,
      "metadata": {
        "id": "psX6AGTPNbRE",
        "colab": {
          "base_uri": "https://localhost:8080/",
          "height": 233
        },
        "outputId": "985acf8e-92ba-483d-bedb-1cf75926120c"
      },
      "outputs": [
        {
          "output_type": "execute_result",
          "data": {
            "text/plain": [
              "<seaborn.axisgrid.FacetGrid at 0x7f0552f488d0>"
            ]
          },
          "metadata": {},
          "execution_count": 210
        },
        {
          "output_type": "display_data",
          "data": {
            "text/plain": [
              "<Figure size 1800x360 with 5 Axes>"
            ],
            "image/png": "[encoded data removed]"
          },
          "metadata": {}
        }
      ],
      "source": [
        "sns.catplot(x=\"room type\", y=\"price\", col=\"neighbourhood group\", data=df_airnb, kind = \"bar\",palette='flare')"
      ]
    },
    {
      "cell_type": "code",
      "execution_count": 275,
      "metadata": {
        "id": "LTqozB7R-Ubx",
        "colab": {
          "base_uri": "https://localhost:8080/",
          "height": 462
        },
        "outputId": "ecbbb9a1-4df7-4bf6-ce32-80e82aaa80f2"
      },
      "outputs": [
        {
          "output_type": "execute_result",
          "data": {
            "text/plain": [
              "(array([0, 1, 2, 3]), <a list of 4 Text major ticklabel objects>)"
            ]
          },
          "metadata": {},
          "execution_count": 275
        },
        {
          "output_type": "display_data",
          "data": {
            "text/plain": [
              "<Figure size 360x360 with 1 Axes>"
            ],
            "image/png": "[encoded data removed]"
          },
          "metadata": {}
        }
      ],
      "source": [
        "sns.catplot(kind=\"strip\",data=df_airnb, x='room type', y='price',palette = 'flare')\n",
        "plt.xticks(rotation = 90)"
      ]
    },
    {
      "cell_type": "code",
      "execution_count": 212,
      "metadata": {
        "id": "VTPXtRotAHle",
        "colab": {
          "base_uri": "https://localhost:8080/",
          "height": 462
        },
        "outputId": "9720e323-110a-4f3e-dcf5-9f251b3aa2a1"
      },
      "outputs": [
        {
          "output_type": "execute_result",
          "data": {
            "text/plain": [
              "(array([0, 1, 2, 3]), <a list of 4 Text major ticklabel objects>)"
            ]
          },
          "metadata": {},
          "execution_count": 212
        },
        {
          "output_type": "display_data",
          "data": {
            "text/plain": [
              "<Figure size 471.55x360 with 1 Axes>"
            ],
            "image/png": "[encoded data removed]"
          },
          "metadata": {}
        }
      ],
      "source": [
        "sns.catplot(kind=\"violin\",data=df_airnb, x='room type', y='price', hue='instant_bookable', palette = 'flare',figsize=(15, 10))\n",
        "plt.xticks(rotation = 90)"
      ]
    },
    {
      "cell_type": "markdown",
      "metadata": {
        "id": "TaLQCC3n2fvA"
      },
      "source": [
        "# **Development and preprocessing of the our model**\n",
        "\n",
        "---\n",
        "\n"
      ]
    },
    {
      "cell_type": "markdown",
      "metadata": {
        "id": "ln_UljCz4CvO"
      },
      "source": [
        "Choose the target **(y)** and the characteritics **(X):**"
      ]
    },
    {
      "cell_type": "code",
      "execution_count": 213,
      "metadata": {
        "id": "4H3s2iKq2vri"
      },
      "outputs": [],
      "source": [
        "y = df_airnb['price']\n",
        "X = df_airnb.drop(columns = 'price')"
      ]
    },
    {
      "cell_type": "markdown",
      "metadata": {
        "id": "h-UPjwP74IS8"
      },
      "source": [
        "Make train test split to data"
      ]
    },
    {
      "cell_type": "code",
      "execution_count": 214,
      "metadata": {
        "id": "ksb3Yl9M4V-M"
      },
      "outputs": [],
      "source": [
        "from sklearn.model_selection import train_test_split\n",
        "X_train, X_test, y_train, y_test = train_test_split(X, y, random_state = 42)"
      ]
    },
    {
      "cell_type": "markdown",
      "metadata": {
        "id": "hmtbKiFK4sFj"
      },
      "source": [
        "As I have categorical variables it is necessary to scale data."
      ]
    },
    {
      "cell_type": "code",
      "execution_count": 215,
      "metadata": {
        "id": "IA2DeIV66M8b"
      },
      "outputs": [],
      "source": [
        "import numpy as np\n",
        "from sklearn.preprocessing import StandardScaler\n",
        "from sklearn.model_selection import train_test_split\n",
        "from sklearn.compose import make_column_selector\n",
        "from sklearn.preprocessing import OneHotEncoder, OrdinalEncoder\n",
        "from sklearn.impute import SimpleImputer"
      ]
    },
    {
      "cell_type": "markdown",
      "metadata": {
        "id": "dSSt2zht9Gm8"
      },
      "source": [
        "Perform one hot encoder encoding to our categorical characteristics"
      ]
    },
    {
      "cell_type": "code",
      "execution_count": 216,
      "metadata": {
        "id": "_uT4VR7H-JXg"
      },
      "outputs": [],
      "source": [
        "#cat_selector = make_column_selector(dtype_include='object')"
      ]
    },
    {
      "cell_type": "markdown",
      "metadata": {
        "id": "IijzX8tEBRlt"
      },
      "source": [
        "Select column categoric"
      ]
    },
    {
      "cell_type": "code",
      "execution_count": 217,
      "metadata": {
        "id": "tALBBXBcBUSF"
      },
      "outputs": [],
      "source": [
        "#cat_selector(X_train)"
      ]
    },
    {
      "cell_type": "code",
      "execution_count": 218,
      "metadata": {
        "id": "waSl5v1PBfpT"
      },
      "outputs": [],
      "source": [
        "#train_cat_data = X_train[cat_selector(X_train)]\n",
        "#test_cat_data = X_test[cat_selector(X_test)]\n",
        "#train_cat_data.head()"
      ]
    },
    {
      "cell_type": "markdown",
      "metadata": {
        "id": "tSoXEnqEBqAY"
      },
      "source": [
        "Encoding One Hot"
      ]
    },
    {
      "cell_type": "code",
      "execution_count": 219,
      "metadata": {
        "id": "sLcrzy6DBr_e"
      },
      "outputs": [],
      "source": [
        "# Instanciar la codificación one-hot\n",
        "#ohe_encoder = OneHotEncoder(sparse=False, handle_unknown='ignore')\n",
        "# Ajustar el OneHotEncoder en los datos de entrenamiento\n",
        "#ohe_encoder.fit(train_cat_data)\n",
        "# Transformar los datos de entrenamiento y de prueba\n",
        "#train_ohe = ohe_encoder.transform(train_cat_data)\n",
        "#test_ohe = ohe_encoder.transform(test_cat_data)\n",
        "#train_ohe"
      ]
    },
    {
      "cell_type": "code",
      "execution_count": 220,
      "metadata": {
        "id": "0hMAZ8_yU4g-"
      },
      "outputs": [],
      "source": [
        "#ohe_column_names = ohe_encoder.get_feature_names_out(train_cat_data.columns)\n",
        "#train_ohe = pd.DataFrame(train_ohe, columns=ohe_column_names)\n",
        "#test_ohe = pd.DataFrame(test_ohe, columns=ohe_column_names)\n",
        "#train_ohe"
      ]
    },
    {
      "cell_type": "markdown",
      "metadata": {
        "id": "XcJuEt-QU-xu"
      },
      "source": [
        "Concatenate with our numeric columns"
      ]
    },
    {
      "cell_type": "code",
      "execution_count": 221,
      "metadata": {
        "id": "BHbxZq6-VDUW"
      },
      "outputs": [],
      "source": [
        "# Create a number picker\n",
        "#num_selector = make_column_selector(dtype_include='number')\n",
        "# Isolate the numerical columns\n",
        "#train_nums = X_train[num_selector(X_train)].reset_index(drop=True)\n",
        "#test_nums = X_test[num_selector(X_test)].reset_index(drop=True)\n",
        "# Recombine the training and test sets on axis 1 (columns)\n",
        "#X_train_processed = pd.concat([train_nums, train_ohe], axis=1)\n",
        "#X_test_processed = pd.concat([test_nums, test_ohe], axis=1)\n",
        "#X_train_processed"
      ]
    },
    {
      "cell_type": "markdown",
      "metadata": {
        "id": "8xBvSBdVXptn"
      },
      "source": [
        "# **Make use of pipelines to preprocess the model**"
      ]
    },
    {
      "cell_type": "code",
      "execution_count": 222,
      "metadata": {
        "id": "E4Gh2usidbao"
      },
      "outputs": [],
      "source": [
        "from sklearn.compose import make_column_transformer, make_column_selector\n",
        "from sklearn.pipeline import make_pipeline\n",
        "from sklearn import set_config\n",
        "set_config(display='diagram')\n"
      ]
    },
    {
      "cell_type": "markdown",
      "metadata": {
        "id": "YDwHwktsklhB"
      },
      "source": [
        "Ordinal encoding"
      ]
    },
    {
      "cell_type": "code",
      "execution_count": 223,
      "metadata": {
        "id": "Ios_vOsfkksJ",
        "colab": {
          "base_uri": "https://localhost:8080/"
        },
        "outputId": "c759415c-227b-48a2-f0f2-e8bcf9d673ad"
      },
      "outputs": [
        {
          "output_type": "execute_result",
          "data": {
            "text/plain": [
              "moderate    33666\n",
              "strict      33441\n",
              "flexible    33380\n",
              "Name: cancellation_policy, dtype: int64"
            ]
          },
          "metadata": {},
          "execution_count": 223
        }
      ],
      "source": [
        "df_airnb['cancellation_policy'].value_counts()"
      ]
    },
    {
      "cell_type": "code",
      "execution_count": 224,
      "metadata": {
        "id": "rzVND4iQlfbu",
        "colab": {
          "base_uri": "https://localhost:8080/"
        },
        "outputId": "a784ed23-547b-4072-afda-445bbafa126e"
      },
      "outputs": [
        {
          "output_type": "execute_result",
          "data": {
            "text/plain": [
              "id\n",
              "1001254     1\n",
              "1002102     2\n",
              "1002403     0\n",
              "1002755     2\n",
              "1003689     2\n",
              "           ..\n",
              "57361894    2\n",
              "57362446    0\n",
              "57362999    1\n",
              "57363551    2\n",
              "57367417    0\n",
              "Name: cancellation_policy, Length: 100487, dtype: int64"
            ]
          },
          "metadata": {},
          "execution_count": 224
        }
      ],
      "source": [
        "replacement_dictionary = {'moderate':2, 'strict':1, 'flexible':0}\n",
        "df_airnb['cancellation_policy'].replace(replacement_dictionary, inplace=True)\n",
        "df_airnb['cancellation_policy']"
      ]
    },
    {
      "cell_type": "code",
      "execution_count": 225,
      "metadata": {
        "id": "WhIjiQnCmNS4",
        "colab": {
          "base_uri": "https://localhost:8080/"
        },
        "outputId": "95bc46c1-faec-4ea1-ae8b-2ed6efc063ea"
      },
      "outputs": [
        {
          "output_type": "execute_result",
          "data": {
            "text/plain": [
              "2    33666\n",
              "1    33441\n",
              "0    33380\n",
              "Name: cancellation_policy, dtype: int64"
            ]
          },
          "metadata": {},
          "execution_count": 225
        }
      ],
      "source": [
        "df_airnb['cancellation_policy'].value_counts()"
      ]
    },
    {
      "cell_type": "markdown",
      "metadata": {
        "id": "Og8e4Hi9l7Bp"
      },
      "source": [
        "***Column 'Cancellation Policy'is now a float and ordinal-encoded data type.***"
      ]
    },
    {
      "cell_type": "markdown",
      "metadata": {
        "id": "emy-0mLAcryM"
      },
      "source": [
        "Instantiate column selectors"
      ]
    },
    {
      "cell_type": "code",
      "execution_count": 226,
      "metadata": {
        "id": "jdJK8_6KXo9s"
      },
      "outputs": [],
      "source": [
        "cat_selector = make_column_selector(dtype_include='object')\n",
        "num_selector = make_column_selector(dtype_include='number')"
      ]
    },
    {
      "cell_type": "markdown",
      "metadata": {
        "id": "U85T8l1tYD4l"
      },
      "source": [
        "Instantiate transformers"
      ]
    },
    {
      "cell_type": "code",
      "execution_count": 227,
      "metadata": {
        "id": "fsj0Td8fYDW_"
      },
      "outputs": [],
      "source": [
        "# Imputers\n",
        "freq_imputer = SimpleImputer(strategy='most_frequent')\n",
        "mean_imputer = SimpleImputer(strategy='mean')\n",
        "# Scaler\n",
        "scaler = StandardScaler()\n",
        "# One-hot encoder\n",
        "ohe = OneHotEncoder(handle_unknown='ignore', sparse=False)\n",
        "#Ordinal Encoder\n",
        "ordinal_encoder = OrdinalEncoder()"
      ]
    },
    {
      "cell_type": "markdown",
      "metadata": {
        "id": "KLx-4k_cd5xU"
      },
      "source": [
        "Instantiate pipeline"
      ]
    },
    {
      "cell_type": "code",
      "execution_count": 228,
      "metadata": {
        "id": "yJ0z0Vold4FA",
        "colab": {
          "base_uri": "https://localhost:8080/",
          "height": 126
        },
        "outputId": "bf2ddbc0-4e72-48fe-899f-34e26baf65f6"
      },
      "outputs": [
        {
          "output_type": "execute_result",
          "data": {
            "text/plain": [
              "Pipeline(steps=[('simpleimputer', SimpleImputer()),\n",
              "                ('standardscaler', StandardScaler())])"
            ],
            "text/html": [
              "<style>#sk-4db414c5-f3d4-4261-b389-0dcfca2f7c24 {color: black;background-color: white;}#sk-4db414c5-f3d4-4261-b389-0dcfca2f7c24 pre{padding: 0;}#sk-4db414c5-f3d4-4261-b389-0dcfca2f7c24 div.sk-toggleable {background-color: white;}#sk-4db414c5-f3d4-4261-b389-0dcfca2f7c24 label.sk-toggleable__label {cursor: pointer;display: block;width: 100%;margin-bottom: 0;padding: 0.3em;box-sizing: border-box;text-align: center;}#sk-4db414c5-f3d4-4261-b389-0dcfca2f7c24 label.sk-toggleable__label-arrow:before {content: \"▸\";float: left;margin-right: 0.25em;color: #696969;}#sk-4db414c5-f3d4-4261-b389-0dcfca2f7c24 label.sk-toggleable__label-arrow:hover:before {color: black;}#sk-4db414c5-f3d4-4261-b389-0dcfca2f7c24 div.sk-estimator:hover label.sk-toggleable__label-arrow:before {color: black;}#sk-4db414c5-f3d4-4261-b389-0dcfca2f7c24 div.sk-toggleable__content {max-height: 0;max-width: 0;overflow: hidden;text-align: left;background-color: #f0f8ff;}#sk-4db414c5-f3d4-4261-b389-0dcfca2f7c24 div.sk-toggleable__content pre {margin: 0.2em;color: black;border-radius: 0.25em;background-color: #f0f8ff;}#sk-4db414c5-f3d4-4261-b389-0dcfca2f7c24 input.sk-toggleable__control:checked~div.sk-toggleable__content {max-height: 200px;max-width: 100%;overflow: auto;}#sk-4db414c5-f3d4-4261-b389-0dcfca2f7c24 input.sk-toggleable__control:checked~label.sk-toggleable__label-arrow:before {content: \"▾\";}#sk-4db414c5-f3d4-4261-b389-0dcfca2f7c24 div.sk-estimator input.sk-toggleable__control:checked~label.sk-toggleable__label {background-color: #d4ebff;}#sk-4db414c5-f3d4-4261-b389-0dcfca2f7c24 div.sk-label input.sk-toggleable__control:checked~label.sk-toggleable__label {background-color: #d4ebff;}#sk-4db414c5-f3d4-4261-b389-0dcfca2f7c24 input.sk-hidden--visually {border: 0;clip: rect(1px 1px 1px 1px);clip: rect(1px, 1px, 1px, 1px);height: 1px;margin: -1px;overflow: hidden;padding: 0;position: absolute;width: 1px;}#sk-4db414c5-f3d4-4261-b389-0dcfca2f7c24 div.sk-estimator {font-family: monospace;background-color: #f0f8ff;border: 1px dotted black;border-radius: 0.25em;box-sizing: border-box;margin-bottom: 0.5em;}#sk-4db414c5-f3d4-4261-b389-0dcfca2f7c24 div.sk-estimator:hover {background-color: #d4ebff;}#sk-4db414c5-f3d4-4261-b389-0dcfca2f7c24 div.sk-parallel-item::after {content: \"\";width: 100%;border-bottom: 1px solid gray;flex-grow: 1;}#sk-4db414c5-f3d4-4261-b389-0dcfca2f7c24 div.sk-label:hover label.sk-toggleable__label {background-color: #d4ebff;}#sk-4db414c5-f3d4-4261-b389-0dcfca2f7c24 div.sk-serial::before {content: \"\";position: absolute;border-left: 1px solid gray;box-sizing: border-box;top: 2em;bottom: 0;left: 50%;}#sk-4db414c5-f3d4-4261-b389-0dcfca2f7c24 div.sk-serial {display: flex;flex-direction: column;align-items: center;background-color: white;padding-right: 0.2em;padding-left: 0.2em;}#sk-4db414c5-f3d4-4261-b389-0dcfca2f7c24 div.sk-item {z-index: 1;}#sk-4db414c5-f3d4-4261-b389-0dcfca2f7c24 div.sk-parallel {display: flex;align-items: stretch;justify-content: center;background-color: white;}#sk-4db414c5-f3d4-4261-b389-0dcfca2f7c24 div.sk-parallel::before {content: \"\";position: absolute;border-left: 1px solid gray;box-sizing: border-box;top: 2em;bottom: 0;left: 50%;}#sk-4db414c5-f3d4-4261-b389-0dcfca2f7c24 div.sk-parallel-item {display: flex;flex-direction: column;position: relative;background-color: white;}#sk-4db414c5-f3d4-4261-b389-0dcfca2f7c24 div.sk-parallel-item:first-child::after {align-self: flex-end;width: 50%;}#sk-4db414c5-f3d4-4261-b389-0dcfca2f7c24 div.sk-parallel-item:last-child::after {align-self: flex-start;width: 50%;}#sk-4db414c5-f3d4-4261-b389-0dcfca2f7c24 div.sk-parallel-item:only-child::after {width: 0;}#sk-4db414c5-f3d4-4261-b389-0dcfca2f7c24 div.sk-dashed-wrapped {border: 1px dashed gray;margin: 0 0.4em 0.5em 0.4em;box-sizing: border-box;padding-bottom: 0.4em;background-color: white;position: relative;}#sk-4db414c5-f3d4-4261-b389-0dcfca2f7c24 div.sk-label label {font-family: monospace;font-weight: bold;background-color: white;display: inline-block;line-height: 1.2em;}#sk-4db414c5-f3d4-4261-b389-0dcfca2f7c24 div.sk-label-container {position: relative;z-index: 2;text-align: center;}#sk-4db414c5-f3d4-4261-b389-0dcfca2f7c24 div.sk-container {/* jupyter's `normalize.less` sets `[hidden] { display: none; }` but bootstrap.min.css set `[hidden] { display: none !important; }` so we also need the `!important` here to be able to override the default hidden behavior on the sphinx rendered scikit-learn.org. See: https://github.com/scikit-learn/scikit-learn/issues/21755 */display: inline-block !important;position: relative;}#sk-4db414c5-f3d4-4261-b389-0dcfca2f7c24 div.sk-text-repr-fallback {display: none;}</style><div id=\"sk-4db414c5-f3d4-4261-b389-0dcfca2f7c24\" class=\"sk-top-container\"><div class=\"sk-text-repr-fallback\"><pre>Pipeline(steps=[(&#x27;simpleimputer&#x27;, SimpleImputer()),\n",
              "                (&#x27;standardscaler&#x27;, StandardScaler())])</pre><b>Please rerun this cell to show the HTML repr or trust the notebook.</b></div><div class=\"sk-container\" hidden><div class=\"sk-item sk-dashed-wrapped\"><div class=\"sk-label-container\"><div class=\"sk-label sk-toggleable\"><input class=\"sk-toggleable__control sk-hidden--visually\" id=\"30367927-8ddf-49a7-8355-45697f1eae22\" type=\"checkbox\" ><label for=\"30367927-8ddf-49a7-8355-45697f1eae22\" class=\"sk-toggleable__label sk-toggleable__label-arrow\">Pipeline</label><div class=\"sk-toggleable__content\"><pre>Pipeline(steps=[(&#x27;simpleimputer&#x27;, SimpleImputer()),\n",
              "                (&#x27;standardscaler&#x27;, StandardScaler())])</pre></div></div></div><div class=\"sk-serial\"><div class=\"sk-item\"><div class=\"sk-estimator sk-toggleable\"><input class=\"sk-toggleable__control sk-hidden--visually\" id=\"1e2db7df-0762-4f96-b29e-1a3014c2d740\" type=\"checkbox\" ><label for=\"1e2db7df-0762-4f96-b29e-1a3014c2d740\" class=\"sk-toggleable__label sk-toggleable__label-arrow\">SimpleImputer</label><div class=\"sk-toggleable__content\"><pre>SimpleImputer()</pre></div></div></div><div class=\"sk-item\"><div class=\"sk-estimator sk-toggleable\"><input class=\"sk-toggleable__control sk-hidden--visually\" id=\"20f329a6-542d-47aa-b5d0-2b42acacd60b\" type=\"checkbox\" ><label for=\"20f329a6-542d-47aa-b5d0-2b42acacd60b\" class=\"sk-toggleable__label sk-toggleable__label-arrow\">StandardScaler</label><div class=\"sk-toggleable__content\"><pre>StandardScaler()</pre></div></div></div></div></div></div></div>"
            ]
          },
          "metadata": {},
          "execution_count": 228
        }
      ],
      "source": [
        "numeric_pipe = make_pipeline(mean_imputer,scaler)\n",
        "numeric_pipe"
      ]
    },
    {
      "cell_type": "code",
      "execution_count": 229,
      "metadata": {
        "id": "fU6_OOuWeOek",
        "colab": {
          "base_uri": "https://localhost:8080/",
          "height": 126
        },
        "outputId": "7223f214-dac8-4a9f-b1e8-65edcb04c874"
      },
      "outputs": [
        {
          "output_type": "execute_result",
          "data": {
            "text/plain": [
              "Pipeline(steps=[('simpleimputer', SimpleImputer(strategy='most_frequent')),\n",
              "                ('onehotencoder',\n",
              "                 OneHotEncoder(handle_unknown='ignore', sparse=False))])"
            ],
            "text/html": [
              "<style>#sk-1c27670c-e281-4477-910d-90711eade468 {color: black;background-color: white;}#sk-1c27670c-e281-4477-910d-90711eade468 pre{padding: 0;}#sk-1c27670c-e281-4477-910d-90711eade468 div.sk-toggleable {background-color: white;}#sk-1c27670c-e281-4477-910d-90711eade468 label.sk-toggleable__label {cursor: pointer;display: block;width: 100%;margin-bottom: 0;padding: 0.3em;box-sizing: border-box;text-align: center;}#sk-1c27670c-e281-4477-910d-90711eade468 label.sk-toggleable__label-arrow:before {content: \"▸\";float: left;margin-right: 0.25em;color: #696969;}#sk-1c27670c-e281-4477-910d-90711eade468 label.sk-toggleable__label-arrow:hover:before {color: black;}#sk-1c27670c-e281-4477-910d-90711eade468 div.sk-estimator:hover label.sk-toggleable__label-arrow:before {color: black;}#sk-1c27670c-e281-4477-910d-90711eade468 div.sk-toggleable__content {max-height: 0;max-width: 0;overflow: hidden;text-align: left;background-color: #f0f8ff;}#sk-1c27670c-e281-4477-910d-90711eade468 div.sk-toggleable__content pre {margin: 0.2em;color: black;border-radius: 0.25em;background-color: #f0f8ff;}#sk-1c27670c-e281-4477-910d-90711eade468 input.sk-toggleable__control:checked~div.sk-toggleable__content {max-height: 200px;max-width: 100%;overflow: auto;}#sk-1c27670c-e281-4477-910d-90711eade468 input.sk-toggleable__control:checked~label.sk-toggleable__label-arrow:before {content: \"▾\";}#sk-1c27670c-e281-4477-910d-90711eade468 div.sk-estimator input.sk-toggleable__control:checked~label.sk-toggleable__label {background-color: #d4ebff;}#sk-1c27670c-e281-4477-910d-90711eade468 div.sk-label input.sk-toggleable__control:checked~label.sk-toggleable__label {background-color: #d4ebff;}#sk-1c27670c-e281-4477-910d-90711eade468 input.sk-hidden--visually {border: 0;clip: rect(1px 1px 1px 1px);clip: rect(1px, 1px, 1px, 1px);height: 1px;margin: -1px;overflow: hidden;padding: 0;position: absolute;width: 1px;}#sk-1c27670c-e281-4477-910d-90711eade468 div.sk-estimator {font-family: monospace;background-color: #f0f8ff;border: 1px dotted black;border-radius: 0.25em;box-sizing: border-box;margin-bottom: 0.5em;}#sk-1c27670c-e281-4477-910d-90711eade468 div.sk-estimator:hover {background-color: #d4ebff;}#sk-1c27670c-e281-4477-910d-90711eade468 div.sk-parallel-item::after {content: \"\";width: 100%;border-bottom: 1px solid gray;flex-grow: 1;}#sk-1c27670c-e281-4477-910d-90711eade468 div.sk-label:hover label.sk-toggleable__label {background-color: #d4ebff;}#sk-1c27670c-e281-4477-910d-90711eade468 div.sk-serial::before {content: \"\";position: absolute;border-left: 1px solid gray;box-sizing: border-box;top: 2em;bottom: 0;left: 50%;}#sk-1c27670c-e281-4477-910d-90711eade468 div.sk-serial {display: flex;flex-direction: column;align-items: center;background-color: white;padding-right: 0.2em;padding-left: 0.2em;}#sk-1c27670c-e281-4477-910d-90711eade468 div.sk-item {z-index: 1;}#sk-1c27670c-e281-4477-910d-90711eade468 div.sk-parallel {display: flex;align-items: stretch;justify-content: center;background-color: white;}#sk-1c27670c-e281-4477-910d-90711eade468 div.sk-parallel::before {content: \"\";position: absolute;border-left: 1px solid gray;box-sizing: border-box;top: 2em;bottom: 0;left: 50%;}#sk-1c27670c-e281-4477-910d-90711eade468 div.sk-parallel-item {display: flex;flex-direction: column;position: relative;background-color: white;}#sk-1c27670c-e281-4477-910d-90711eade468 div.sk-parallel-item:first-child::after {align-self: flex-end;width: 50%;}#sk-1c27670c-e281-4477-910d-90711eade468 div.sk-parallel-item:last-child::after {align-self: flex-start;width: 50%;}#sk-1c27670c-e281-4477-910d-90711eade468 div.sk-parallel-item:only-child::after {width: 0;}#sk-1c27670c-e281-4477-910d-90711eade468 div.sk-dashed-wrapped {border: 1px dashed gray;margin: 0 0.4em 0.5em 0.4em;box-sizing: border-box;padding-bottom: 0.4em;background-color: white;position: relative;}#sk-1c27670c-e281-4477-910d-90711eade468 div.sk-label label {font-family: monospace;font-weight: bold;background-color: white;display: inline-block;line-height: 1.2em;}#sk-1c27670c-e281-4477-910d-90711eade468 div.sk-label-container {position: relative;z-index: 2;text-align: center;}#sk-1c27670c-e281-4477-910d-90711eade468 div.sk-container {/* jupyter's `normalize.less` sets `[hidden] { display: none; }` but bootstrap.min.css set `[hidden] { display: none !important; }` so we also need the `!important` here to be able to override the default hidden behavior on the sphinx rendered scikit-learn.org. See: https://github.com/scikit-learn/scikit-learn/issues/21755 */display: inline-block !important;position: relative;}#sk-1c27670c-e281-4477-910d-90711eade468 div.sk-text-repr-fallback {display: none;}</style><div id=\"sk-1c27670c-e281-4477-910d-90711eade468\" class=\"sk-top-container\"><div class=\"sk-text-repr-fallback\"><pre>Pipeline(steps=[(&#x27;simpleimputer&#x27;, SimpleImputer(strategy=&#x27;most_frequent&#x27;)),\n",
              "                (&#x27;onehotencoder&#x27;,\n",
              "                 OneHotEncoder(handle_unknown=&#x27;ignore&#x27;, sparse=False))])</pre><b>Please rerun this cell to show the HTML repr or trust the notebook.</b></div><div class=\"sk-container\" hidden><div class=\"sk-item sk-dashed-wrapped\"><div class=\"sk-label-container\"><div class=\"sk-label sk-toggleable\"><input class=\"sk-toggleable__control sk-hidden--visually\" id=\"a940b56e-8fa2-405d-a203-17a1cc3b64cb\" type=\"checkbox\" ><label for=\"a940b56e-8fa2-405d-a203-17a1cc3b64cb\" class=\"sk-toggleable__label sk-toggleable__label-arrow\">Pipeline</label><div class=\"sk-toggleable__content\"><pre>Pipeline(steps=[(&#x27;simpleimputer&#x27;, SimpleImputer(strategy=&#x27;most_frequent&#x27;)),\n",
              "                (&#x27;onehotencoder&#x27;,\n",
              "                 OneHotEncoder(handle_unknown=&#x27;ignore&#x27;, sparse=False))])</pre></div></div></div><div class=\"sk-serial\"><div class=\"sk-item\"><div class=\"sk-estimator sk-toggleable\"><input class=\"sk-toggleable__control sk-hidden--visually\" id=\"45d85b13-8c22-40d2-a409-33a03a73ef24\" type=\"checkbox\" ><label for=\"45d85b13-8c22-40d2-a409-33a03a73ef24\" class=\"sk-toggleable__label sk-toggleable__label-arrow\">SimpleImputer</label><div class=\"sk-toggleable__content\"><pre>SimpleImputer(strategy=&#x27;most_frequent&#x27;)</pre></div></div></div><div class=\"sk-item\"><div class=\"sk-estimator sk-toggleable\"><input class=\"sk-toggleable__control sk-hidden--visually\" id=\"93d4ca7d-393f-44f5-9602-da8a70bc2381\" type=\"checkbox\" ><label for=\"93d4ca7d-393f-44f5-9602-da8a70bc2381\" class=\"sk-toggleable__label sk-toggleable__label-arrow\">OneHotEncoder</label><div class=\"sk-toggleable__content\"><pre>OneHotEncoder(handle_unknown=&#x27;ignore&#x27;, sparse=False)</pre></div></div></div></div></div></div></div>"
            ]
          },
          "metadata": {},
          "execution_count": 229
        }
      ],
      "source": [
        "categorical_pipe = make_pipeline(freq_imputer,ohe)\n",
        "categorical_pipe"
      ]
    },
    {
      "cell_type": "code",
      "execution_count": 230,
      "metadata": {
        "id": "AIl0Xs4aqH6Z",
        "colab": {
          "base_uri": "https://localhost:8080/",
          "height": 126
        },
        "outputId": "e6f47229-8ad5-4d17-f924-940fbfa7ec50"
      },
      "outputs": [
        {
          "output_type": "execute_result",
          "data": {
            "text/plain": [
              "Pipeline(steps=[('simpleimputer', SimpleImputer(strategy='most_frequent')),\n",
              "                ('ordinalencoder', OrdinalEncoder())])"
            ],
            "text/html": [
              "<style>#sk-45826476-105d-4c41-b369-7d34cd431740 {color: black;background-color: white;}#sk-45826476-105d-4c41-b369-7d34cd431740 pre{padding: 0;}#sk-45826476-105d-4c41-b369-7d34cd431740 div.sk-toggleable {background-color: white;}#sk-45826476-105d-4c41-b369-7d34cd431740 label.sk-toggleable__label {cursor: pointer;display: block;width: 100%;margin-bottom: 0;padding: 0.3em;box-sizing: border-box;text-align: center;}#sk-45826476-105d-4c41-b369-7d34cd431740 label.sk-toggleable__label-arrow:before {content: \"▸\";float: left;margin-right: 0.25em;color: #696969;}#sk-45826476-105d-4c41-b369-7d34cd431740 label.sk-toggleable__label-arrow:hover:before {color: black;}#sk-45826476-105d-4c41-b369-7d34cd431740 div.sk-estimator:hover label.sk-toggleable__label-arrow:before {color: black;}#sk-45826476-105d-4c41-b369-7d34cd431740 div.sk-toggleable__content {max-height: 0;max-width: 0;overflow: hidden;text-align: left;background-color: #f0f8ff;}#sk-45826476-105d-4c41-b369-7d34cd431740 div.sk-toggleable__content pre {margin: 0.2em;color: black;border-radius: 0.25em;background-color: #f0f8ff;}#sk-45826476-105d-4c41-b369-7d34cd431740 input.sk-toggleable__control:checked~div.sk-toggleable__content {max-height: 200px;max-width: 100%;overflow: auto;}#sk-45826476-105d-4c41-b369-7d34cd431740 input.sk-toggleable__control:checked~label.sk-toggleable__label-arrow:before {content: \"▾\";}#sk-45826476-105d-4c41-b369-7d34cd431740 div.sk-estimator input.sk-toggleable__control:checked~label.sk-toggleable__label {background-color: #d4ebff;}#sk-45826476-105d-4c41-b369-7d34cd431740 div.sk-label input.sk-toggleable__control:checked~label.sk-toggleable__label {background-color: #d4ebff;}#sk-45826476-105d-4c41-b369-7d34cd431740 input.sk-hidden--visually {border: 0;clip: rect(1px 1px 1px 1px);clip: rect(1px, 1px, 1px, 1px);height: 1px;margin: -1px;overflow: hidden;padding: 0;position: absolute;width: 1px;}#sk-45826476-105d-4c41-b369-7d34cd431740 div.sk-estimator {font-family: monospace;background-color: #f0f8ff;border: 1px dotted black;border-radius: 0.25em;box-sizing: border-box;margin-bottom: 0.5em;}#sk-45826476-105d-4c41-b369-7d34cd431740 div.sk-estimator:hover {background-color: #d4ebff;}#sk-45826476-105d-4c41-b369-7d34cd431740 div.sk-parallel-item::after {content: \"\";width: 100%;border-bottom: 1px solid gray;flex-grow: 1;}#sk-45826476-105d-4c41-b369-7d34cd431740 div.sk-label:hover label.sk-toggleable__label {background-color: #d4ebff;}#sk-45826476-105d-4c41-b369-7d34cd431740 div.sk-serial::before {content: \"\";position: absolute;border-left: 1px solid gray;box-sizing: border-box;top: 2em;bottom: 0;left: 50%;}#sk-45826476-105d-4c41-b369-7d34cd431740 div.sk-serial {display: flex;flex-direction: column;align-items: center;background-color: white;padding-right: 0.2em;padding-left: 0.2em;}#sk-45826476-105d-4c41-b369-7d34cd431740 div.sk-item {z-index: 1;}#sk-45826476-105d-4c41-b369-7d34cd431740 div.sk-parallel {display: flex;align-items: stretch;justify-content: center;background-color: white;}#sk-45826476-105d-4c41-b369-7d34cd431740 div.sk-parallel::before {content: \"\";position: absolute;border-left: 1px solid gray;box-sizing: border-box;top: 2em;bottom: 0;left: 50%;}#sk-45826476-105d-4c41-b369-7d34cd431740 div.sk-parallel-item {display: flex;flex-direction: column;position: relative;background-color: white;}#sk-45826476-105d-4c41-b369-7d34cd431740 div.sk-parallel-item:first-child::after {align-self: flex-end;width: 50%;}#sk-45826476-105d-4c41-b369-7d34cd431740 div.sk-parallel-item:last-child::after {align-self: flex-start;width: 50%;}#sk-45826476-105d-4c41-b369-7d34cd431740 div.sk-parallel-item:only-child::after {width: 0;}#sk-45826476-105d-4c41-b369-7d34cd431740 div.sk-dashed-wrapped {border: 1px dashed gray;margin: 0 0.4em 0.5em 0.4em;box-sizing: border-box;padding-bottom: 0.4em;background-color: white;position: relative;}#sk-45826476-105d-4c41-b369-7d34cd431740 div.sk-label label {font-family: monospace;font-weight: bold;background-color: white;display: inline-block;line-height: 1.2em;}#sk-45826476-105d-4c41-b369-7d34cd431740 div.sk-label-container {position: relative;z-index: 2;text-align: center;}#sk-45826476-105d-4c41-b369-7d34cd431740 div.sk-container {/* jupyter's `normalize.less` sets `[hidden] { display: none; }` but bootstrap.min.css set `[hidden] { display: none !important; }` so we also need the `!important` here to be able to override the default hidden behavior on the sphinx rendered scikit-learn.org. See: https://github.com/scikit-learn/scikit-learn/issues/21755 */display: inline-block !important;position: relative;}#sk-45826476-105d-4c41-b369-7d34cd431740 div.sk-text-repr-fallback {display: none;}</style><div id=\"sk-45826476-105d-4c41-b369-7d34cd431740\" class=\"sk-top-container\"><div class=\"sk-text-repr-fallback\"><pre>Pipeline(steps=[(&#x27;simpleimputer&#x27;, SimpleImputer(strategy=&#x27;most_frequent&#x27;)),\n",
              "                (&#x27;ordinalencoder&#x27;, OrdinalEncoder())])</pre><b>Please rerun this cell to show the HTML repr or trust the notebook.</b></div><div class=\"sk-container\" hidden><div class=\"sk-item sk-dashed-wrapped\"><div class=\"sk-label-container\"><div class=\"sk-label sk-toggleable\"><input class=\"sk-toggleable__control sk-hidden--visually\" id=\"61c335f3-91e3-466c-b2cb-67a6a072e8be\" type=\"checkbox\" ><label for=\"61c335f3-91e3-466c-b2cb-67a6a072e8be\" class=\"sk-toggleable__label sk-toggleable__label-arrow\">Pipeline</label><div class=\"sk-toggleable__content\"><pre>Pipeline(steps=[(&#x27;simpleimputer&#x27;, SimpleImputer(strategy=&#x27;most_frequent&#x27;)),\n",
              "                (&#x27;ordinalencoder&#x27;, OrdinalEncoder())])</pre></div></div></div><div class=\"sk-serial\"><div class=\"sk-item\"><div class=\"sk-estimator sk-toggleable\"><input class=\"sk-toggleable__control sk-hidden--visually\" id=\"03f2bdab-fa4a-47cb-b3d2-fae9d7368e6e\" type=\"checkbox\" ><label for=\"03f2bdab-fa4a-47cb-b3d2-fae9d7368e6e\" class=\"sk-toggleable__label sk-toggleable__label-arrow\">SimpleImputer</label><div class=\"sk-toggleable__content\"><pre>SimpleImputer(strategy=&#x27;most_frequent&#x27;)</pre></div></div></div><div class=\"sk-item\"><div class=\"sk-estimator sk-toggleable\"><input class=\"sk-toggleable__control sk-hidden--visually\" id=\"2df293e2-fd2e-4422-b933-97b4c46d0cbb\" type=\"checkbox\" ><label for=\"2df293e2-fd2e-4422-b933-97b4c46d0cbb\" class=\"sk-toggleable__label sk-toggleable__label-arrow\">OrdinalEncoder</label><div class=\"sk-toggleable__content\"><pre>OrdinalEncoder()</pre></div></div></div></div></div></div></div>"
            ]
          },
          "metadata": {},
          "execution_count": 230
        }
      ],
      "source": [
        "nominal_pipe = make_pipeline(freq_imputer, ordinal_encoder)\n",
        "nominal_pipe"
      ]
    },
    {
      "cell_type": "markdown",
      "metadata": {
        "id": "8eke11_uYlt7"
      },
      "source": [
        "Instantiate column transform"
      ]
    },
    {
      "cell_type": "code",
      "execution_count": 231,
      "metadata": {
        "id": "ky4KYhd5eg72",
        "colab": {
          "base_uri": "https://localhost:8080/",
          "height": 152
        },
        "outputId": "8de8e7fc-2892-43cb-916b-a822fe30c58d"
      },
      "outputs": [
        {
          "output_type": "execute_result",
          "data": {
            "text/plain": [
              "ColumnTransformer(transformers=[('pipeline-1',\n",
              "                                 Pipeline(steps=[('simpleimputer',\n",
              "                                                  SimpleImputer()),\n",
              "                                                 ('standardscaler',\n",
              "                                                  StandardScaler())]),\n",
              "                                 <sklearn.compose._column_transformer.make_column_selector object at 0x7f05533d7d90>),\n",
              "                                ('pipeline-2',\n",
              "                                 Pipeline(steps=[('simpleimputer',\n",
              "                                                  SimpleImputer(strategy='most_frequent')),\n",
              "                                                 ('onehotencoder',\n",
              "                                                  OneHotEncoder(handle_unknown='ignore',\n",
              "                                                                sparse=False))]),\n",
              "                                 <sklearn.compose._column_transformer.make_column_selector object at 0x7f0556312fd0>)])"
            ],
            "text/html": [
              "<style>#sk-adf1d5f5-38a1-4088-85ea-f335794649d5 {color: black;background-color: white;}#sk-adf1d5f5-38a1-4088-85ea-f335794649d5 pre{padding: 0;}#sk-adf1d5f5-38a1-4088-85ea-f335794649d5 div.sk-toggleable {background-color: white;}#sk-adf1d5f5-38a1-4088-85ea-f335794649d5 label.sk-toggleable__label {cursor: pointer;display: block;width: 100%;margin-bottom: 0;padding: 0.3em;box-sizing: border-box;text-align: center;}#sk-adf1d5f5-38a1-4088-85ea-f335794649d5 label.sk-toggleable__label-arrow:before {content: \"▸\";float: left;margin-right: 0.25em;color: #696969;}#sk-adf1d5f5-38a1-4088-85ea-f335794649d5 label.sk-toggleable__label-arrow:hover:before {color: black;}#sk-adf1d5f5-38a1-4088-85ea-f335794649d5 div.sk-estimator:hover label.sk-toggleable__label-arrow:before {color: black;}#sk-adf1d5f5-38a1-4088-85ea-f335794649d5 div.sk-toggleable__content {max-height: 0;max-width: 0;overflow: hidden;text-align: left;background-color: #f0f8ff;}#sk-adf1d5f5-38a1-4088-85ea-f335794649d5 div.sk-toggleable__content pre {margin: 0.2em;color: black;border-radius: 0.25em;background-color: #f0f8ff;}#sk-adf1d5f5-38a1-4088-85ea-f335794649d5 input.sk-toggleable__control:checked~div.sk-toggleable__content {max-height: 200px;max-width: 100%;overflow: auto;}#sk-adf1d5f5-38a1-4088-85ea-f335794649d5 input.sk-toggleable__control:checked~label.sk-toggleable__label-arrow:before {content: \"▾\";}#sk-adf1d5f5-38a1-4088-85ea-f335794649d5 div.sk-estimator input.sk-toggleable__control:checked~label.sk-toggleable__label {background-color: #d4ebff;}#sk-adf1d5f5-38a1-4088-85ea-f335794649d5 div.sk-label input.sk-toggleable__control:checked~label.sk-toggleable__label {background-color: #d4ebff;}#sk-adf1d5f5-38a1-4088-85ea-f335794649d5 input.sk-hidden--visually {border: 0;clip: rect(1px 1px 1px 1px);clip: rect(1px, 1px, 1px, 1px);height: 1px;margin: -1px;overflow: hidden;padding: 0;position: absolute;width: 1px;}#sk-adf1d5f5-38a1-4088-85ea-f335794649d5 div.sk-estimator {font-family: monospace;background-color: #f0f8ff;border: 1px dotted black;border-radius: 0.25em;box-sizing: border-box;margin-bottom: 0.5em;}#sk-adf1d5f5-38a1-4088-85ea-f335794649d5 div.sk-estimator:hover {background-color: #d4ebff;}#sk-adf1d5f5-38a1-4088-85ea-f335794649d5 div.sk-parallel-item::after {content: \"\";width: 100%;border-bottom: 1px solid gray;flex-grow: 1;}#sk-adf1d5f5-38a1-4088-85ea-f335794649d5 div.sk-label:hover label.sk-toggleable__label {background-color: #d4ebff;}#sk-adf1d5f5-38a1-4088-85ea-f335794649d5 div.sk-serial::before {content: \"\";position: absolute;border-left: 1px solid gray;box-sizing: border-box;top: 2em;bottom: 0;left: 50%;}#sk-adf1d5f5-38a1-4088-85ea-f335794649d5 div.sk-serial {display: flex;flex-direction: column;align-items: center;background-color: white;padding-right: 0.2em;padding-left: 0.2em;}#sk-adf1d5f5-38a1-4088-85ea-f335794649d5 div.sk-item {z-index: 1;}#sk-adf1d5f5-38a1-4088-85ea-f335794649d5 div.sk-parallel {display: flex;align-items: stretch;justify-content: center;background-color: white;}#sk-adf1d5f5-38a1-4088-85ea-f335794649d5 div.sk-parallel::before {content: \"\";position: absolute;border-left: 1px solid gray;box-sizing: border-box;top: 2em;bottom: 0;left: 50%;}#sk-adf1d5f5-38a1-4088-85ea-f335794649d5 div.sk-parallel-item {display: flex;flex-direction: column;position: relative;background-color: white;}#sk-adf1d5f5-38a1-4088-85ea-f335794649d5 div.sk-parallel-item:first-child::after {align-self: flex-end;width: 50%;}#sk-adf1d5f5-38a1-4088-85ea-f335794649d5 div.sk-parallel-item:last-child::after {align-self: flex-start;width: 50%;}#sk-adf1d5f5-38a1-4088-85ea-f335794649d5 div.sk-parallel-item:only-child::after {width: 0;}#sk-adf1d5f5-38a1-4088-85ea-f335794649d5 div.sk-dashed-wrapped {border: 1px dashed gray;margin: 0 0.4em 0.5em 0.4em;box-sizing: border-box;padding-bottom: 0.4em;background-color: white;position: relative;}#sk-adf1d5f5-38a1-4088-85ea-f335794649d5 div.sk-label label {font-family: monospace;font-weight: bold;background-color: white;display: inline-block;line-height: 1.2em;}#sk-adf1d5f5-38a1-4088-85ea-f335794649d5 div.sk-label-container {position: relative;z-index: 2;text-align: center;}#sk-adf1d5f5-38a1-4088-85ea-f335794649d5 div.sk-container {/* jupyter's `normalize.less` sets `[hidden] { display: none; }` but bootstrap.min.css set `[hidden] { display: none !important; }` so we also need the `!important` here to be able to override the default hidden behavior on the sphinx rendered scikit-learn.org. See: https://github.com/scikit-learn/scikit-learn/issues/21755 */display: inline-block !important;position: relative;}#sk-adf1d5f5-38a1-4088-85ea-f335794649d5 div.sk-text-repr-fallback {display: none;}</style><div id=\"sk-adf1d5f5-38a1-4088-85ea-f335794649d5\" class=\"sk-top-container\"><div class=\"sk-text-repr-fallback\"><pre>ColumnTransformer(transformers=[(&#x27;pipeline-1&#x27;,\n",
              "                                 Pipeline(steps=[(&#x27;simpleimputer&#x27;,\n",
              "                                                  SimpleImputer()),\n",
              "                                                 (&#x27;standardscaler&#x27;,\n",
              "                                                  StandardScaler())]),\n",
              "                                 &lt;sklearn.compose._column_transformer.make_column_selector object at 0x7f05533d7d90&gt;),\n",
              "                                (&#x27;pipeline-2&#x27;,\n",
              "                                 Pipeline(steps=[(&#x27;simpleimputer&#x27;,\n",
              "                                                  SimpleImputer(strategy=&#x27;most_frequent&#x27;)),\n",
              "                                                 (&#x27;onehotencoder&#x27;,\n",
              "                                                  OneHotEncoder(handle_unknown=&#x27;ignore&#x27;,\n",
              "                                                                sparse=False))]),\n",
              "                                 &lt;sklearn.compose._column_transformer.make_column_selector object at 0x7f0556312fd0&gt;)])</pre><b>Please rerun this cell to show the HTML repr or trust the notebook.</b></div><div class=\"sk-container\" hidden><div class=\"sk-item sk-dashed-wrapped\"><div class=\"sk-label-container\"><div class=\"sk-label sk-toggleable\"><input class=\"sk-toggleable__control sk-hidden--visually\" id=\"7e1ce667-9e98-4530-a189-0f04d00c86b8\" type=\"checkbox\" ><label for=\"7e1ce667-9e98-4530-a189-0f04d00c86b8\" class=\"sk-toggleable__label sk-toggleable__label-arrow\">ColumnTransformer</label><div class=\"sk-toggleable__content\"><pre>ColumnTransformer(transformers=[(&#x27;pipeline-1&#x27;,\n",
              "                                 Pipeline(steps=[(&#x27;simpleimputer&#x27;,\n",
              "                                                  SimpleImputer()),\n",
              "                                                 (&#x27;standardscaler&#x27;,\n",
              "                                                  StandardScaler())]),\n",
              "                                 &lt;sklearn.compose._column_transformer.make_column_selector object at 0x7f05533d7d90&gt;),\n",
              "                                (&#x27;pipeline-2&#x27;,\n",
              "                                 Pipeline(steps=[(&#x27;simpleimputer&#x27;,\n",
              "                                                  SimpleImputer(strategy=&#x27;most_frequent&#x27;)),\n",
              "                                                 (&#x27;onehotencoder&#x27;,\n",
              "                                                  OneHotEncoder(handle_unknown=&#x27;ignore&#x27;,\n",
              "                                                                sparse=False))]),\n",
              "                                 &lt;sklearn.compose._column_transformer.make_column_selector object at 0x7f0556312fd0&gt;)])</pre></div></div></div><div class=\"sk-parallel\"><div class=\"sk-parallel-item\"><div class=\"sk-item\"><div class=\"sk-label-container\"><div class=\"sk-label sk-toggleable\"><input class=\"sk-toggleable__control sk-hidden--visually\" id=\"bb7f058e-c768-4023-a6ae-f779be7d0051\" type=\"checkbox\" ><label for=\"bb7f058e-c768-4023-a6ae-f779be7d0051\" class=\"sk-toggleable__label sk-toggleable__label-arrow\">pipeline-1</label><div class=\"sk-toggleable__content\"><pre>&lt;sklearn.compose._column_transformer.make_column_selector object at 0x7f05533d7d90&gt;</pre></div></div></div><div class=\"sk-serial\"><div class=\"sk-item\"><div class=\"sk-serial\"><div class=\"sk-item\"><div class=\"sk-estimator sk-toggleable\"><input class=\"sk-toggleable__control sk-hidden--visually\" id=\"368365d2-56b6-4bdf-b2ca-92861ff4d224\" type=\"checkbox\" ><label for=\"368365d2-56b6-4bdf-b2ca-92861ff4d224\" class=\"sk-toggleable__label sk-toggleable__label-arrow\">SimpleImputer</label><div class=\"sk-toggleable__content\"><pre>SimpleImputer()</pre></div></div></div><div class=\"sk-item\"><div class=\"sk-estimator sk-toggleable\"><input class=\"sk-toggleable__control sk-hidden--visually\" id=\"5f52c812-7c24-4960-bb05-a416d1eed598\" type=\"checkbox\" ><label for=\"5f52c812-7c24-4960-bb05-a416d1eed598\" class=\"sk-toggleable__label sk-toggleable__label-arrow\">StandardScaler</label><div class=\"sk-toggleable__content\"><pre>StandardScaler()</pre></div></div></div></div></div></div></div></div><div class=\"sk-parallel-item\"><div class=\"sk-item\"><div class=\"sk-label-container\"><div class=\"sk-label sk-toggleable\"><input class=\"sk-toggleable__control sk-hidden--visually\" id=\"a9e99039-8127-4430-aed2-ce93614c51dd\" type=\"checkbox\" ><label for=\"a9e99039-8127-4430-aed2-ce93614c51dd\" class=\"sk-toggleable__label sk-toggleable__label-arrow\">pipeline-2</label><div class=\"sk-toggleable__content\"><pre>&lt;sklearn.compose._column_transformer.make_column_selector object at 0x7f0556312fd0&gt;</pre></div></div></div><div class=\"sk-serial\"><div class=\"sk-item\"><div class=\"sk-serial\"><div class=\"sk-item\"><div class=\"sk-estimator sk-toggleable\"><input class=\"sk-toggleable__control sk-hidden--visually\" id=\"782e83c8-2155-4ca3-b844-995b99e098ae\" type=\"checkbox\" ><label for=\"782e83c8-2155-4ca3-b844-995b99e098ae\" class=\"sk-toggleable__label sk-toggleable__label-arrow\">SimpleImputer</label><div class=\"sk-toggleable__content\"><pre>SimpleImputer(strategy=&#x27;most_frequent&#x27;)</pre></div></div></div><div class=\"sk-item\"><div class=\"sk-estimator sk-toggleable\"><input class=\"sk-toggleable__control sk-hidden--visually\" id=\"82ad90a0-4b03-430d-b123-e21cad498744\" type=\"checkbox\" ><label for=\"82ad90a0-4b03-430d-b123-e21cad498744\" class=\"sk-toggleable__label sk-toggleable__label-arrow\">OneHotEncoder</label><div class=\"sk-toggleable__content\"><pre>OneHotEncoder(handle_unknown=&#x27;ignore&#x27;, sparse=False)</pre></div></div></div></div></div></div></div></div></div></div></div></div>"
            ]
          },
          "metadata": {},
          "execution_count": 231
        }
      ],
      "source": [
        "# Tuples para Column Transformer\n",
        "num_tuple = (numeric_pipe, num_selector)\n",
        "cat_tuple = (categorical_pipe, cat_selector)\n",
        "nominal_tuple = (nominal_pipe, cat_selector)\n",
        "# ColumnTransformer\n",
        "preprocessor = make_column_transformer(num_tuple, cat_tuple)\n",
        "preprocessor"
      ]
    },
    {
      "cell_type": "markdown",
      "metadata": {
        "id": "B5DqNbMbet1D"
      },
      "source": [
        "Data transformer"
      ]
    },
    {
      "cell_type": "code",
      "execution_count": 232,
      "metadata": {
        "id": "bCNFh54jeu4C",
        "colab": {
          "base_uri": "https://localhost:8080/",
          "height": 152
        },
        "outputId": "a0eceaa9-f22c-439d-bb70-d1c13ed85a03"
      },
      "outputs": [
        {
          "output_type": "execute_result",
          "data": {
            "text/plain": [
              "ColumnTransformer(transformers=[('pipeline-1',\n",
              "                                 Pipeline(steps=[('simpleimputer',\n",
              "                                                  SimpleImputer()),\n",
              "                                                 ('standardscaler',\n",
              "                                                  StandardScaler())]),\n",
              "                                 <sklearn.compose._column_transformer.make_column_selector object at 0x7f05533d7d90>),\n",
              "                                ('pipeline-2',\n",
              "                                 Pipeline(steps=[('simpleimputer',\n",
              "                                                  SimpleImputer(strategy='most_frequent')),\n",
              "                                                 ('onehotencoder',\n",
              "                                                  OneHotEncoder(handle_unknown='ignore',\n",
              "                                                                sparse=False))]),\n",
              "                                 <sklearn.compose._column_transformer.make_column_selector object at 0x7f0556312fd0>)])"
            ],
            "text/html": [
              "<style>#sk-80abc0ce-b311-4729-9446-70838aa89984 {color: black;background-color: white;}#sk-80abc0ce-b311-4729-9446-70838aa89984 pre{padding: 0;}#sk-80abc0ce-b311-4729-9446-70838aa89984 div.sk-toggleable {background-color: white;}#sk-80abc0ce-b311-4729-9446-70838aa89984 label.sk-toggleable__label {cursor: pointer;display: block;width: 100%;margin-bottom: 0;padding: 0.3em;box-sizing: border-box;text-align: center;}#sk-80abc0ce-b311-4729-9446-70838aa89984 label.sk-toggleable__label-arrow:before {content: \"▸\";float: left;margin-right: 0.25em;color: #696969;}#sk-80abc0ce-b311-4729-9446-70838aa89984 label.sk-toggleable__label-arrow:hover:before {color: black;}#sk-80abc0ce-b311-4729-9446-70838aa89984 div.sk-estimator:hover label.sk-toggleable__label-arrow:before {color: black;}#sk-80abc0ce-b311-4729-9446-70838aa89984 div.sk-toggleable__content {max-height: 0;max-width: 0;overflow: hidden;text-align: left;background-color: #f0f8ff;}#sk-80abc0ce-b311-4729-9446-70838aa89984 div.sk-toggleable__content pre {margin: 0.2em;color: black;border-radius: 0.25em;background-color: #f0f8ff;}#sk-80abc0ce-b311-4729-9446-70838aa89984 input.sk-toggleable__control:checked~div.sk-toggleable__content {max-height: 200px;max-width: 100%;overflow: auto;}#sk-80abc0ce-b311-4729-9446-70838aa89984 input.sk-toggleable__control:checked~label.sk-toggleable__label-arrow:before {content: \"▾\";}#sk-80abc0ce-b311-4729-9446-70838aa89984 div.sk-estimator input.sk-toggleable__control:checked~label.sk-toggleable__label {background-color: #d4ebff;}#sk-80abc0ce-b311-4729-9446-70838aa89984 div.sk-label input.sk-toggleable__control:checked~label.sk-toggleable__label {background-color: #d4ebff;}#sk-80abc0ce-b311-4729-9446-70838aa89984 input.sk-hidden--visually {border: 0;clip: rect(1px 1px 1px 1px);clip: rect(1px, 1px, 1px, 1px);height: 1px;margin: -1px;overflow: hidden;padding: 0;position: absolute;width: 1px;}#sk-80abc0ce-b311-4729-9446-70838aa89984 div.sk-estimator {font-family: monospace;background-color: #f0f8ff;border: 1px dotted black;border-radius: 0.25em;box-sizing: border-box;margin-bottom: 0.5em;}#sk-80abc0ce-b311-4729-9446-70838aa89984 div.sk-estimator:hover {background-color: #d4ebff;}#sk-80abc0ce-b311-4729-9446-70838aa89984 div.sk-parallel-item::after {content: \"\";width: 100%;border-bottom: 1px solid gray;flex-grow: 1;}#sk-80abc0ce-b311-4729-9446-70838aa89984 div.sk-label:hover label.sk-toggleable__label {background-color: #d4ebff;}#sk-80abc0ce-b311-4729-9446-70838aa89984 div.sk-serial::before {content: \"\";position: absolute;border-left: 1px solid gray;box-sizing: border-box;top: 2em;bottom: 0;left: 50%;}#sk-80abc0ce-b311-4729-9446-70838aa89984 div.sk-serial {display: flex;flex-direction: column;align-items: center;background-color: white;padding-right: 0.2em;padding-left: 0.2em;}#sk-80abc0ce-b311-4729-9446-70838aa89984 div.sk-item {z-index: 1;}#sk-80abc0ce-b311-4729-9446-70838aa89984 div.sk-parallel {display: flex;align-items: stretch;justify-content: center;background-color: white;}#sk-80abc0ce-b311-4729-9446-70838aa89984 div.sk-parallel::before {content: \"\";position: absolute;border-left: 1px solid gray;box-sizing: border-box;top: 2em;bottom: 0;left: 50%;}#sk-80abc0ce-b311-4729-9446-70838aa89984 div.sk-parallel-item {display: flex;flex-direction: column;position: relative;background-color: white;}#sk-80abc0ce-b311-4729-9446-70838aa89984 div.sk-parallel-item:first-child::after {align-self: flex-end;width: 50%;}#sk-80abc0ce-b311-4729-9446-70838aa89984 div.sk-parallel-item:last-child::after {align-self: flex-start;width: 50%;}#sk-80abc0ce-b311-4729-9446-70838aa89984 div.sk-parallel-item:only-child::after {width: 0;}#sk-80abc0ce-b311-4729-9446-70838aa89984 div.sk-dashed-wrapped {border: 1px dashed gray;margin: 0 0.4em 0.5em 0.4em;box-sizing: border-box;padding-bottom: 0.4em;background-color: white;position: relative;}#sk-80abc0ce-b311-4729-9446-70838aa89984 div.sk-label label {font-family: monospace;font-weight: bold;background-color: white;display: inline-block;line-height: 1.2em;}#sk-80abc0ce-b311-4729-9446-70838aa89984 div.sk-label-container {position: relative;z-index: 2;text-align: center;}#sk-80abc0ce-b311-4729-9446-70838aa89984 div.sk-container {/* jupyter's `normalize.less` sets `[hidden] { display: none; }` but bootstrap.min.css set `[hidden] { display: none !important; }` so we also need the `!important` here to be able to override the default hidden behavior on the sphinx rendered scikit-learn.org. See: https://github.com/scikit-learn/scikit-learn/issues/21755 */display: inline-block !important;position: relative;}#sk-80abc0ce-b311-4729-9446-70838aa89984 div.sk-text-repr-fallback {display: none;}</style><div id=\"sk-80abc0ce-b311-4729-9446-70838aa89984\" class=\"sk-top-container\"><div class=\"sk-text-repr-fallback\"><pre>ColumnTransformer(transformers=[(&#x27;pipeline-1&#x27;,\n",
              "                                 Pipeline(steps=[(&#x27;simpleimputer&#x27;,\n",
              "                                                  SimpleImputer()),\n",
              "                                                 (&#x27;standardscaler&#x27;,\n",
              "                                                  StandardScaler())]),\n",
              "                                 &lt;sklearn.compose._column_transformer.make_column_selector object at 0x7f05533d7d90&gt;),\n",
              "                                (&#x27;pipeline-2&#x27;,\n",
              "                                 Pipeline(steps=[(&#x27;simpleimputer&#x27;,\n",
              "                                                  SimpleImputer(strategy=&#x27;most_frequent&#x27;)),\n",
              "                                                 (&#x27;onehotencoder&#x27;,\n",
              "                                                  OneHotEncoder(handle_unknown=&#x27;ignore&#x27;,\n",
              "                                                                sparse=False))]),\n",
              "                                 &lt;sklearn.compose._column_transformer.make_column_selector object at 0x7f0556312fd0&gt;)])</pre><b>Please rerun this cell to show the HTML repr or trust the notebook.</b></div><div class=\"sk-container\" hidden><div class=\"sk-item sk-dashed-wrapped\"><div class=\"sk-label-container\"><div class=\"sk-label sk-toggleable\"><input class=\"sk-toggleable__control sk-hidden--visually\" id=\"6f3f126e-fe40-4f22-854f-bcdad26f59ad\" type=\"checkbox\" ><label for=\"6f3f126e-fe40-4f22-854f-bcdad26f59ad\" class=\"sk-toggleable__label sk-toggleable__label-arrow\">ColumnTransformer</label><div class=\"sk-toggleable__content\"><pre>ColumnTransformer(transformers=[(&#x27;pipeline-1&#x27;,\n",
              "                                 Pipeline(steps=[(&#x27;simpleimputer&#x27;,\n",
              "                                                  SimpleImputer()),\n",
              "                                                 (&#x27;standardscaler&#x27;,\n",
              "                                                  StandardScaler())]),\n",
              "                                 &lt;sklearn.compose._column_transformer.make_column_selector object at 0x7f05533d7d90&gt;),\n",
              "                                (&#x27;pipeline-2&#x27;,\n",
              "                                 Pipeline(steps=[(&#x27;simpleimputer&#x27;,\n",
              "                                                  SimpleImputer(strategy=&#x27;most_frequent&#x27;)),\n",
              "                                                 (&#x27;onehotencoder&#x27;,\n",
              "                                                  OneHotEncoder(handle_unknown=&#x27;ignore&#x27;,\n",
              "                                                                sparse=False))]),\n",
              "                                 &lt;sklearn.compose._column_transformer.make_column_selector object at 0x7f0556312fd0&gt;)])</pre></div></div></div><div class=\"sk-parallel\"><div class=\"sk-parallel-item\"><div class=\"sk-item\"><div class=\"sk-label-container\"><div class=\"sk-label sk-toggleable\"><input class=\"sk-toggleable__control sk-hidden--visually\" id=\"6a32e81a-6327-48ad-87d0-57c3c9634b53\" type=\"checkbox\" ><label for=\"6a32e81a-6327-48ad-87d0-57c3c9634b53\" class=\"sk-toggleable__label sk-toggleable__label-arrow\">pipeline-1</label><div class=\"sk-toggleable__content\"><pre>&lt;sklearn.compose._column_transformer.make_column_selector object at 0x7f05533d7d90&gt;</pre></div></div></div><div class=\"sk-serial\"><div class=\"sk-item\"><div class=\"sk-serial\"><div class=\"sk-item\"><div class=\"sk-estimator sk-toggleable\"><input class=\"sk-toggleable__control sk-hidden--visually\" id=\"1ba8c25b-e9ee-4f01-9308-6000d5253f71\" type=\"checkbox\" ><label for=\"1ba8c25b-e9ee-4f01-9308-6000d5253f71\" class=\"sk-toggleable__label sk-toggleable__label-arrow\">SimpleImputer</label><div class=\"sk-toggleable__content\"><pre>SimpleImputer()</pre></div></div></div><div class=\"sk-item\"><div class=\"sk-estimator sk-toggleable\"><input class=\"sk-toggleable__control sk-hidden--visually\" id=\"8f4c83b9-a0a1-451c-bda8-8998ea4ace2d\" type=\"checkbox\" ><label for=\"8f4c83b9-a0a1-451c-bda8-8998ea4ace2d\" class=\"sk-toggleable__label sk-toggleable__label-arrow\">StandardScaler</label><div class=\"sk-toggleable__content\"><pre>StandardScaler()</pre></div></div></div></div></div></div></div></div><div class=\"sk-parallel-item\"><div class=\"sk-item\"><div class=\"sk-label-container\"><div class=\"sk-label sk-toggleable\"><input class=\"sk-toggleable__control sk-hidden--visually\" id=\"76a9119b-9071-4f6f-a229-93a2e661d811\" type=\"checkbox\" ><label for=\"76a9119b-9071-4f6f-a229-93a2e661d811\" class=\"sk-toggleable__label sk-toggleable__label-arrow\">pipeline-2</label><div class=\"sk-toggleable__content\"><pre>&lt;sklearn.compose._column_transformer.make_column_selector object at 0x7f0556312fd0&gt;</pre></div></div></div><div class=\"sk-serial\"><div class=\"sk-item\"><div class=\"sk-serial\"><div class=\"sk-item\"><div class=\"sk-estimator sk-toggleable\"><input class=\"sk-toggleable__control sk-hidden--visually\" id=\"c77cc302-f338-4ccd-a356-b5a0cffd9f87\" type=\"checkbox\" ><label for=\"c77cc302-f338-4ccd-a356-b5a0cffd9f87\" class=\"sk-toggleable__label sk-toggleable__label-arrow\">SimpleImputer</label><div class=\"sk-toggleable__content\"><pre>SimpleImputer(strategy=&#x27;most_frequent&#x27;)</pre></div></div></div><div class=\"sk-item\"><div class=\"sk-estimator sk-toggleable\"><input class=\"sk-toggleable__control sk-hidden--visually\" id=\"ee05a616-9cea-4a76-815c-8cf709a3f224\" type=\"checkbox\" ><label for=\"ee05a616-9cea-4a76-815c-8cf709a3f224\" class=\"sk-toggleable__label sk-toggleable__label-arrow\">OneHotEncoder</label><div class=\"sk-toggleable__content\"><pre>OneHotEncoder(handle_unknown=&#x27;ignore&#x27;, sparse=False)</pre></div></div></div></div></div></div></div></div></div></div></div></div>"
            ]
          },
          "metadata": {},
          "execution_count": 232
        }
      ],
      "source": [
        "preprocessor.fit(X_train)\n"
      ]
    },
    {
      "cell_type": "markdown",
      "metadata": {
        "id": "Akjkg5IxfezL"
      },
      "source": [
        "Wrap the 2 transformers inside ColumnTransformer. We will use this adjusted ColumnTransformer to transform our training and test data sets."
      ]
    },
    {
      "cell_type": "code",
      "execution_count": 233,
      "metadata": {
        "id": "aE8uAX7pfHx_"
      },
      "outputs": [],
      "source": [
        "X_train_processed = preprocessor.transform(X_train)\n",
        "X_test_processed = preprocessor.transform(X_test)"
      ]
    },
    {
      "cell_type": "code",
      "execution_count": 234,
      "metadata": {
        "id": "Os_GsWMafW10",
        "colab": {
          "base_uri": "https://localhost:8080/"
        },
        "outputId": "4a71f58c-13e0-4d76-f455-5eaa11a7c301"
      },
      "outputs": [
        {
          "output_type": "stream",
          "name": "stdout",
          "text": [
            "0 missing values in training data\n",
            "0 missing values in testing data\n",
            "\n",
            "\n",
            "All data in X_train_processed are float64\n",
            "All data in X_test_processed are float64\n",
            "\n",
            "\n",
            "shape of data is (75365, 249)\n",
            "\n",
            "\n"
          ]
        },
        {
          "output_type": "execute_result",
          "data": {
            "text/plain": [
              "array([[ 0.2770857 ,  0.84576573,  0.26496842, ...,  0.        ,\n",
              "         1.        ,  0.        ],\n",
              "       [-0.16920319, -0.20706745, -0.95172071, ...,  0.        ,\n",
              "         1.        ,  0.        ],\n",
              "       [ 0.15200313, -1.13288703,  1.30784482, ...,  0.        ,\n",
              "         0.        ,  0.        ],\n",
              "       ...,\n",
              "       [-0.59992386,  3.62444185,  0.61259389, ...,  0.        ,\n",
              "         1.        ,  0.        ],\n",
              "       [-0.21805518, -0.1123145 , -1.47315891, ...,  0.        ,\n",
              "         0.        ,  0.        ],\n",
              "       [-0.28480167,  0.03377143, -0.77790798, ...,  0.        ,\n",
              "         0.        ,  0.        ]])"
            ]
          },
          "metadata": {},
          "execution_count": 234
        }
      ],
      "source": [
        "print(np.isnan(X_train_processed).sum().sum(), 'missing values in training data')\n",
        "print(np.isnan(X_test_processed).sum().sum(), 'missing values in testing data')\n",
        "print('\\n')\n",
        "print('All data in X_train_processed are', X_train_processed.dtype)\n",
        "print('All data in X_test_processed are', X_test_processed.dtype)\n",
        "print('\\n')\n",
        "print('shape of data is', X_train_processed.shape)\n",
        "print('\\n')\n",
        "X_train_processed"
      ]
    },
    {
      "cell_type": "markdown",
      "source": [
        "# **1.Linear Regression**"
      ],
      "metadata": {
        "id": "9kDG0-ZHOm3H"
      }
    },
    {
      "cell_type": "markdown",
      "metadata": {
        "id": "5hBoiXU1gaHx"
      },
      "source": [
        "Import the regression model, I use it as first option because of my variable target is numeric"
      ]
    },
    {
      "cell_type": "code",
      "execution_count": 235,
      "metadata": {
        "id": "UF2a3K2-fW4X"
      },
      "outputs": [],
      "source": [
        "from sklearn.linear_model import LinearRegression"
      ]
    },
    {
      "cell_type": "markdown",
      "metadata": {
        "id": "T5JVT9KYgvFt"
      },
      "source": [
        "Instantiate the model"
      ]
    },
    {
      "cell_type": "code",
      "execution_count": 236,
      "metadata": {
        "id": "pQcm0sEhgwZl"
      },
      "outputs": [],
      "source": [
        "regression = LinearRegression()"
      ]
    },
    {
      "cell_type": "markdown",
      "metadata": {
        "id": "qUNfH2BEg34e"
      },
      "source": [
        "Train the model on the training data."
      ]
    },
    {
      "cell_type": "code",
      "execution_count": 237,
      "metadata": {
        "id": "Yb4eT6Mzg4UD",
        "colab": {
          "base_uri": "https://localhost:8080/",
          "height": 75
        },
        "outputId": "c1120c44-8daa-4ee8-ed5f-164912d33150"
      },
      "outputs": [
        {
          "output_type": "execute_result",
          "data": {
            "text/plain": [
              "LinearRegression()"
            ],
            "text/html": [
              "<style>#sk-8a477634-5a7b-4097-83e1-932f0a85c367 {color: black;background-color: white;}#sk-8a477634-5a7b-4097-83e1-932f0a85c367 pre{padding: 0;}#sk-8a477634-5a7b-4097-83e1-932f0a85c367 div.sk-toggleable {background-color: white;}#sk-8a477634-5a7b-4097-83e1-932f0a85c367 label.sk-toggleable__label {cursor: pointer;display: block;width: 100%;margin-bottom: 0;padding: 0.3em;box-sizing: border-box;text-align: center;}#sk-8a477634-5a7b-4097-83e1-932f0a85c367 label.sk-toggleable__label-arrow:before {content: \"▸\";float: left;margin-right: 0.25em;color: #696969;}#sk-8a477634-5a7b-4097-83e1-932f0a85c367 label.sk-toggleable__label-arrow:hover:before {color: black;}#sk-8a477634-5a7b-4097-83e1-932f0a85c367 div.sk-estimator:hover label.sk-toggleable__label-arrow:before {color: black;}#sk-8a477634-5a7b-4097-83e1-932f0a85c367 div.sk-toggleable__content {max-height: 0;max-width: 0;overflow: hidden;text-align: left;background-color: #f0f8ff;}#sk-8a477634-5a7b-4097-83e1-932f0a85c367 div.sk-toggleable__content pre {margin: 0.2em;color: black;border-radius: 0.25em;background-color: #f0f8ff;}#sk-8a477634-5a7b-4097-83e1-932f0a85c367 input.sk-toggleable__control:checked~div.sk-toggleable__content {max-height: 200px;max-width: 100%;overflow: auto;}#sk-8a477634-5a7b-4097-83e1-932f0a85c367 input.sk-toggleable__control:checked~label.sk-toggleable__label-arrow:before {content: \"▾\";}#sk-8a477634-5a7b-4097-83e1-932f0a85c367 div.sk-estimator input.sk-toggleable__control:checked~label.sk-toggleable__label {background-color: #d4ebff;}#sk-8a477634-5a7b-4097-83e1-932f0a85c367 div.sk-label input.sk-toggleable__control:checked~label.sk-toggleable__label {background-color: #d4ebff;}#sk-8a477634-5a7b-4097-83e1-932f0a85c367 input.sk-hidden--visually {border: 0;clip: rect(1px 1px 1px 1px);clip: rect(1px, 1px, 1px, 1px);height: 1px;margin: -1px;overflow: hidden;padding: 0;position: absolute;width: 1px;}#sk-8a477634-5a7b-4097-83e1-932f0a85c367 div.sk-estimator {font-family: monospace;background-color: #f0f8ff;border: 1px dotted black;border-radius: 0.25em;box-sizing: border-box;margin-bottom: 0.5em;}#sk-8a477634-5a7b-4097-83e1-932f0a85c367 div.sk-estimator:hover {background-color: #d4ebff;}#sk-8a477634-5a7b-4097-83e1-932f0a85c367 div.sk-parallel-item::after {content: \"\";width: 100%;border-bottom: 1px solid gray;flex-grow: 1;}#sk-8a477634-5a7b-4097-83e1-932f0a85c367 div.sk-label:hover label.sk-toggleable__label {background-color: #d4ebff;}#sk-8a477634-5a7b-4097-83e1-932f0a85c367 div.sk-serial::before {content: \"\";position: absolute;border-left: 1px solid gray;box-sizing: border-box;top: 2em;bottom: 0;left: 50%;}#sk-8a477634-5a7b-4097-83e1-932f0a85c367 div.sk-serial {display: flex;flex-direction: column;align-items: center;background-color: white;padding-right: 0.2em;padding-left: 0.2em;}#sk-8a477634-5a7b-4097-83e1-932f0a85c367 div.sk-item {z-index: 1;}#sk-8a477634-5a7b-4097-83e1-932f0a85c367 div.sk-parallel {display: flex;align-items: stretch;justify-content: center;background-color: white;}#sk-8a477634-5a7b-4097-83e1-932f0a85c367 div.sk-parallel::before {content: \"\";position: absolute;border-left: 1px solid gray;box-sizing: border-box;top: 2em;bottom: 0;left: 50%;}#sk-8a477634-5a7b-4097-83e1-932f0a85c367 div.sk-parallel-item {display: flex;flex-direction: column;position: relative;background-color: white;}#sk-8a477634-5a7b-4097-83e1-932f0a85c367 div.sk-parallel-item:first-child::after {align-self: flex-end;width: 50%;}#sk-8a477634-5a7b-4097-83e1-932f0a85c367 div.sk-parallel-item:last-child::after {align-self: flex-start;width: 50%;}#sk-8a477634-5a7b-4097-83e1-932f0a85c367 div.sk-parallel-item:only-child::after {width: 0;}#sk-8a477634-5a7b-4097-83e1-932f0a85c367 div.sk-dashed-wrapped {border: 1px dashed gray;margin: 0 0.4em 0.5em 0.4em;box-sizing: border-box;padding-bottom: 0.4em;background-color: white;position: relative;}#sk-8a477634-5a7b-4097-83e1-932f0a85c367 div.sk-label label {font-family: monospace;font-weight: bold;background-color: white;display: inline-block;line-height: 1.2em;}#sk-8a477634-5a7b-4097-83e1-932f0a85c367 div.sk-label-container {position: relative;z-index: 2;text-align: center;}#sk-8a477634-5a7b-4097-83e1-932f0a85c367 div.sk-container {/* jupyter's `normalize.less` sets `[hidden] { display: none; }` but bootstrap.min.css set `[hidden] { display: none !important; }` so we also need the `!important` here to be able to override the default hidden behavior on the sphinx rendered scikit-learn.org. See: https://github.com/scikit-learn/scikit-learn/issues/21755 */display: inline-block !important;position: relative;}#sk-8a477634-5a7b-4097-83e1-932f0a85c367 div.sk-text-repr-fallback {display: none;}</style><div id=\"sk-8a477634-5a7b-4097-83e1-932f0a85c367\" class=\"sk-top-container\"><div class=\"sk-text-repr-fallback\"><pre>LinearRegression()</pre><b>Please rerun this cell to show the HTML repr or trust the notebook.</b></div><div class=\"sk-container\" hidden><div class=\"sk-item\"><div class=\"sk-estimator sk-toggleable\"><input class=\"sk-toggleable__control sk-hidden--visually\" id=\"dac6cd59-456c-42c2-888d-cc55535fb312\" type=\"checkbox\" checked><label for=\"dac6cd59-456c-42c2-888d-cc55535fb312\" class=\"sk-toggleable__label sk-toggleable__label-arrow\">LinearRegression</label><div class=\"sk-toggleable__content\"><pre>LinearRegression()</pre></div></div></div></div></div>"
            ]
          },
          "metadata": {},
          "execution_count": 237
        }
      ],
      "source": [
        "regression.fit(X_train_processed,y_train)"
      ]
    },
    {
      "cell_type": "markdown",
      "metadata": {
        "id": "0hAuup9ohVd9"
      },
      "source": [
        "Score the Model"
      ]
    },
    {
      "cell_type": "code",
      "execution_count": 238,
      "metadata": {
        "id": "mzma5SpZhWCa",
        "colab": {
          "base_uri": "https://localhost:8080/"
        },
        "outputId": "38df80cd-f5f0-4f6f-c4b9-984c45c86026"
      },
      "outputs": [
        {
          "output_type": "stream",
          "name": "stdout",
          "text": [
            "0.995610878495809\n"
          ]
        }
      ],
      "source": [
        "train_score = regression.score(X_train_processed, y_train)\n",
        "print(train_score)"
      ]
    },
    {
      "cell_type": "code",
      "execution_count": 239,
      "metadata": {
        "id": "i4GhCGzqhjIK",
        "colab": {
          "base_uri": "https://localhost:8080/"
        },
        "outputId": "bb706ee5-2999-4021-9c0c-9c34151c9823"
      },
      "outputs": [
        {
          "output_type": "stream",
          "name": "stdout",
          "text": [
            "-5538047648509.154\n"
          ]
        }
      ],
      "source": [
        "test_score = regression.score(X_test_processed, y_test)\n",
        "print(test_score)"
      ]
    },
    {
      "cell_type": "code",
      "execution_count": 240,
      "metadata": {
        "id": "yuh6TxG3ow7i"
      },
      "outputs": [],
      "source": [
        "train_preds = regression.predict(X_train_processed)\n",
        "test_preds = regression.predict(X_test_processed)"
      ]
    },
    {
      "cell_type": "code",
      "execution_count": 241,
      "metadata": {
        "id": "rHFLB_KIAqUb",
        "colab": {
          "base_uri": "https://localhost:8080/"
        },
        "outputId": "78dac2fa-7409-46c8-f424-1d428f8a2f9c"
      },
      "outputs": [
        {
          "output_type": "stream",
          "name": "stdout",
          "text": [
            "[ 431.68774414  599.71435547 1144.71386719 ...  655.50878906  290.921875\n",
            "  450.42822266]\n"
          ]
        }
      ],
      "source": [
        "print(np.array(test_preds))"
      ]
    },
    {
      "cell_type": "code",
      "execution_count": 242,
      "metadata": {
        "id": "rO8BnRA1AZv-",
        "colab": {
          "base_uri": "https://localhost:8080/"
        },
        "outputId": "d419097e-4166-45ab-d90c-98bd69c9879d"
      },
      "outputs": [
        {
          "output_type": "stream",
          "name": "stdout",
          "text": [
            "[ 432.  602. 1145. ...  655.  289.  448.]\n"
          ]
        }
      ],
      "source": [
        "print(np.array(y_test))"
      ]
    },
    {
      "cell_type": "markdown",
      "metadata": {
        "id": "MoCPI0EgSTZM"
      },
      "source": [
        "# **1.1Regression Metrics**"
      ]
    },
    {
      "cell_type": "code",
      "execution_count": 243,
      "metadata": {
        "id": "wU2QYIcKSic8"
      },
      "outputs": [],
      "source": [
        "import numpy as np\n",
        "from sklearn.metrics import r2_score\n",
        "from sklearn.metrics import mean_absolute_error\n",
        "from sklearn.metrics import mean_squared_error"
      ]
    },
    {
      "cell_type": "code",
      "execution_count": 244,
      "metadata": {
        "id": "w-6y8Yo_SW1Z"
      },
      "outputs": [],
      "source": [
        "mse_train = mean_squared_error(y_train, train_preds)\n",
        "mse_test = mean_squared_error(y_test, test_preds)"
      ]
    },
    {
      "cell_type": "code",
      "execution_count": 245,
      "metadata": {
        "id": "3M7EAl4zS1K5",
        "colab": {
          "base_uri": "https://localhost:8080/"
        },
        "outputId": "4e9acfec-3cfa-4925-9735-7753e6f9eb7e"
      },
      "outputs": [
        {
          "output_type": "execute_result",
          "data": {
            "text/plain": [
              "6.06790122871343e+17"
            ]
          },
          "metadata": {},
          "execution_count": 245
        }
      ],
      "source": [
        "mse_train \n",
        "mse_test "
      ]
    },
    {
      "cell_type": "code",
      "execution_count": 246,
      "metadata": {
        "id": "ytYkqhnIS4rY"
      },
      "outputs": [],
      "source": [
        "rmse_train = np.sqrt(mean_squared_error(y_train, train_preds))\n",
        "rmse_test = np.sqrt(mean_squared_error(y_test, test_preds))"
      ]
    },
    {
      "cell_type": "code",
      "execution_count": 247,
      "metadata": {
        "id": "3F1STe0nS_TT",
        "colab": {
          "base_uri": "https://localhost:8080/"
        },
        "outputId": "139b77f9-3585-412f-c74d-69827eda0949"
      },
      "outputs": [
        {
          "output_type": "execute_result",
          "data": {
            "text/plain": [
              "778967343.9055985"
            ]
          },
          "metadata": {},
          "execution_count": 247
        }
      ],
      "source": [
        "rmse_train \n",
        "rmse_test"
      ]
    },
    {
      "cell_type": "markdown",
      "metadata": {
        "id": "FOBUdkN6TWxb"
      },
      "source": [
        "# **2.Regression Tree**"
      ]
    },
    {
      "cell_type": "markdown",
      "metadata": {
        "id": "12Fku6qv0a-H"
      },
      "source": [
        "Import the model of decision tree I want to use"
      ]
    },
    {
      "cell_type": "code",
      "execution_count": 248,
      "metadata": {
        "id": "m9uB6GdvTgGi"
      },
      "outputs": [],
      "source": [
        "from sklearn.tree import DecisionTreeRegressor"
      ]
    },
    {
      "cell_type": "markdown",
      "metadata": {
        "id": "oqWQsn1G04_d"
      },
      "source": [
        "Instantiate the model"
      ]
    },
    {
      "cell_type": "code",
      "execution_count": 249,
      "metadata": {
        "id": "Nx7BGW3L05VY"
      },
      "outputs": [],
      "source": [
        "dec_tree = DecisionTreeRegressor(random_state = 42)"
      ]
    },
    {
      "cell_type": "markdown",
      "metadata": {
        "id": "i0-X0Rpu0_Xk"
      },
      "source": [
        "Fit the model using the training data."
      ]
    },
    {
      "cell_type": "code",
      "execution_count": 250,
      "metadata": {
        "id": "lmFrZRV-1FQX",
        "colab": {
          "base_uri": "https://localhost:8080/",
          "height": 75
        },
        "outputId": "76ff713d-583a-4b26-bdb9-2e740f6bb0db"
      },
      "outputs": [
        {
          "output_type": "execute_result",
          "data": {
            "text/plain": [
              "DecisionTreeRegressor(random_state=42)"
            ],
            "text/html": [
              "<style>#sk-7b47a6e1-3e2e-48f8-bedf-785ddad753fd {color: black;background-color: white;}#sk-7b47a6e1-3e2e-48f8-bedf-785ddad753fd pre{padding: 0;}#sk-7b47a6e1-3e2e-48f8-bedf-785ddad753fd div.sk-toggleable {background-color: white;}#sk-7b47a6e1-3e2e-48f8-bedf-785ddad753fd label.sk-toggleable__label {cursor: pointer;display: block;width: 100%;margin-bottom: 0;padding: 0.3em;box-sizing: border-box;text-align: center;}#sk-7b47a6e1-3e2e-48f8-bedf-785ddad753fd label.sk-toggleable__label-arrow:before {content: \"▸\";float: left;margin-right: 0.25em;color: #696969;}#sk-7b47a6e1-3e2e-48f8-bedf-785ddad753fd label.sk-toggleable__label-arrow:hover:before {color: black;}#sk-7b47a6e1-3e2e-48f8-bedf-785ddad753fd div.sk-estimator:hover label.sk-toggleable__label-arrow:before {color: black;}#sk-7b47a6e1-3e2e-48f8-bedf-785ddad753fd div.sk-toggleable__content {max-height: 0;max-width: 0;overflow: hidden;text-align: left;background-color: #f0f8ff;}#sk-7b47a6e1-3e2e-48f8-bedf-785ddad753fd div.sk-toggleable__content pre {margin: 0.2em;color: black;border-radius: 0.25em;background-color: #f0f8ff;}#sk-7b47a6e1-3e2e-48f8-bedf-785ddad753fd input.sk-toggleable__control:checked~div.sk-toggleable__content {max-height: 200px;max-width: 100%;overflow: auto;}#sk-7b47a6e1-3e2e-48f8-bedf-785ddad753fd input.sk-toggleable__control:checked~label.sk-toggleable__label-arrow:before {content: \"▾\";}#sk-7b47a6e1-3e2e-48f8-bedf-785ddad753fd div.sk-estimator input.sk-toggleable__control:checked~label.sk-toggleable__label {background-color: #d4ebff;}#sk-7b47a6e1-3e2e-48f8-bedf-785ddad753fd div.sk-label input.sk-toggleable__control:checked~label.sk-toggleable__label {background-color: #d4ebff;}#sk-7b47a6e1-3e2e-48f8-bedf-785ddad753fd input.sk-hidden--visually {border: 0;clip: rect(1px 1px 1px 1px);clip: rect(1px, 1px, 1px, 1px);height: 1px;margin: -1px;overflow: hidden;padding: 0;position: absolute;width: 1px;}#sk-7b47a6e1-3e2e-48f8-bedf-785ddad753fd div.sk-estimator {font-family: monospace;background-color: #f0f8ff;border: 1px dotted black;border-radius: 0.25em;box-sizing: border-box;margin-bottom: 0.5em;}#sk-7b47a6e1-3e2e-48f8-bedf-785ddad753fd div.sk-estimator:hover {background-color: #d4ebff;}#sk-7b47a6e1-3e2e-48f8-bedf-785ddad753fd div.sk-parallel-item::after {content: \"\";width: 100%;border-bottom: 1px solid gray;flex-grow: 1;}#sk-7b47a6e1-3e2e-48f8-bedf-785ddad753fd div.sk-label:hover label.sk-toggleable__label {background-color: #d4ebff;}#sk-7b47a6e1-3e2e-48f8-bedf-785ddad753fd div.sk-serial::before {content: \"\";position: absolute;border-left: 1px solid gray;box-sizing: border-box;top: 2em;bottom: 0;left: 50%;}#sk-7b47a6e1-3e2e-48f8-bedf-785ddad753fd div.sk-serial {display: flex;flex-direction: column;align-items: center;background-color: white;padding-right: 0.2em;padding-left: 0.2em;}#sk-7b47a6e1-3e2e-48f8-bedf-785ddad753fd div.sk-item {z-index: 1;}#sk-7b47a6e1-3e2e-48f8-bedf-785ddad753fd div.sk-parallel {display: flex;align-items: stretch;justify-content: center;background-color: white;}#sk-7b47a6e1-3e2e-48f8-bedf-785ddad753fd div.sk-parallel::before {content: \"\";position: absolute;border-left: 1px solid gray;box-sizing: border-box;top: 2em;bottom: 0;left: 50%;}#sk-7b47a6e1-3e2e-48f8-bedf-785ddad753fd div.sk-parallel-item {display: flex;flex-direction: column;position: relative;background-color: white;}#sk-7b47a6e1-3e2e-48f8-bedf-785ddad753fd div.sk-parallel-item:first-child::after {align-self: flex-end;width: 50%;}#sk-7b47a6e1-3e2e-48f8-bedf-785ddad753fd div.sk-parallel-item:last-child::after {align-self: flex-start;width: 50%;}#sk-7b47a6e1-3e2e-48f8-bedf-785ddad753fd div.sk-parallel-item:only-child::after {width: 0;}#sk-7b47a6e1-3e2e-48f8-bedf-785ddad753fd div.sk-dashed-wrapped {border: 1px dashed gray;margin: 0 0.4em 0.5em 0.4em;box-sizing: border-box;padding-bottom: 0.4em;background-color: white;position: relative;}#sk-7b47a6e1-3e2e-48f8-bedf-785ddad753fd div.sk-label label {font-family: monospace;font-weight: bold;background-color: white;display: inline-block;line-height: 1.2em;}#sk-7b47a6e1-3e2e-48f8-bedf-785ddad753fd div.sk-label-container {position: relative;z-index: 2;text-align: center;}#sk-7b47a6e1-3e2e-48f8-bedf-785ddad753fd div.sk-container {/* jupyter's `normalize.less` sets `[hidden] { display: none; }` but bootstrap.min.css set `[hidden] { display: none !important; }` so we also need the `!important` here to be able to override the default hidden behavior on the sphinx rendered scikit-learn.org. See: https://github.com/scikit-learn/scikit-learn/issues/21755 */display: inline-block !important;position: relative;}#sk-7b47a6e1-3e2e-48f8-bedf-785ddad753fd div.sk-text-repr-fallback {display: none;}</style><div id=\"sk-7b47a6e1-3e2e-48f8-bedf-785ddad753fd\" class=\"sk-top-container\"><div class=\"sk-text-repr-fallback\"><pre>DecisionTreeRegressor(random_state=42)</pre><b>Please rerun this cell to show the HTML repr or trust the notebook.</b></div><div class=\"sk-container\" hidden><div class=\"sk-item\"><div class=\"sk-estimator sk-toggleable\"><input class=\"sk-toggleable__control sk-hidden--visually\" id=\"be37cb51-2887-473f-bcc9-2cd4da90c1ab\" type=\"checkbox\" checked><label for=\"be37cb51-2887-473f-bcc9-2cd4da90c1ab\" class=\"sk-toggleable__label sk-toggleable__label-arrow\">DecisionTreeRegressor</label><div class=\"sk-toggleable__content\"><pre>DecisionTreeRegressor(random_state=42)</pre></div></div></div></div></div>"
            ]
          },
          "metadata": {},
          "execution_count": 250
        }
      ],
      "source": [
        "dec_tree.fit(X_train_processed, y_train)"
      ]
    },
    {
      "cell_type": "markdown",
      "metadata": {
        "id": "U6D7JifH1VKm"
      },
      "source": [
        "Predict the target values for the training and test set"
      ]
    },
    {
      "cell_type": "code",
      "execution_count": 251,
      "metadata": {
        "id": "SsL_OKRC1WA_"
      },
      "outputs": [],
      "source": [
        "reg_train_preds = dec_tree.predict(X_train_processed)\n",
        "reg_test_preds = dec_tree.predict(X_test_processed)"
      ]
    },
    {
      "cell_type": "code",
      "execution_count": 252,
      "metadata": {
        "id": "4k7ND8Xc1jvK",
        "colab": {
          "base_uri": "https://localhost:8080/"
        },
        "outputId": "209b84fd-a648-438e-94ce-5b26e42b3a73"
      },
      "outputs": [
        {
          "output_type": "execute_result",
          "data": {
            "text/plain": [
              "array([ 195.,  809.,  603., ...,  994., 1190., 1053.])"
            ]
          },
          "metadata": {},
          "execution_count": 252
        }
      ],
      "source": [
        "reg_train_preds"
      ]
    },
    {
      "cell_type": "code",
      "execution_count": 253,
      "metadata": {
        "id": "SehYYKT1148d",
        "colab": {
          "base_uri": "https://localhost:8080/"
        },
        "outputId": "338497cd-8afd-4aeb-e316-93a672ae721a"
      },
      "outputs": [
        {
          "output_type": "execute_result",
          "data": {
            "text/plain": [
              "array([ 430.,  602., 1145., ...,  655.,  292.,  448.])"
            ]
          },
          "metadata": {},
          "execution_count": 253
        }
      ],
      "source": [
        "reg_test_preds"
      ]
    },
    {
      "cell_type": "code",
      "execution_count": 254,
      "metadata": {
        "id": "C2euwyntA5Jn",
        "colab": {
          "base_uri": "https://localhost:8080/"
        },
        "outputId": "8f9ebea9-41ef-4b87-9064-34b97116802b"
      },
      "outputs": [
        {
          "output_type": "stream",
          "name": "stdout",
          "text": [
            "[ 432.  602. 1145. ...  655.  289.  448.]\n"
          ]
        }
      ],
      "source": [
        "print(np.array(y_test))"
      ]
    },
    {
      "cell_type": "markdown",
      "metadata": {
        "id": "A0IwRufE1_3o"
      },
      "source": [
        "Score the model"
      ]
    },
    {
      "cell_type": "code",
      "execution_count": 255,
      "metadata": {
        "id": "pRWyUK9i2Bbt"
      },
      "outputs": [],
      "source": [
        "reg_train_score = dec_tree.score(X_train_processed, y_train)\n",
        "reg_test_score = dec_tree.score(X_test_processed, y_test)"
      ]
    },
    {
      "cell_type": "code",
      "execution_count": 256,
      "metadata": {
        "id": "HCYPBfdl2MZL",
        "colab": {
          "base_uri": "https://localhost:8080/"
        },
        "outputId": "ae859d43-4046-4f43-a426-48db3d4c3961"
      },
      "outputs": [
        {
          "output_type": "execute_result",
          "data": {
            "text/plain": [
              "0.9999721122907499"
            ]
          },
          "metadata": {},
          "execution_count": 256
        }
      ],
      "source": [
        "reg_train_score \n"
      ]
    },
    {
      "cell_type": "code",
      "execution_count": 257,
      "metadata": {
        "id": "WLFzKutQ2PQh",
        "colab": {
          "base_uri": "https://localhost:8080/"
        },
        "outputId": "716aa241-ee2c-44c2-ce10-d43d19039418"
      },
      "outputs": [
        {
          "output_type": "execute_result",
          "data": {
            "text/plain": [
              "0.9907369741493408"
            ]
          },
          "metadata": {},
          "execution_count": 257
        }
      ],
      "source": [
        "reg_test_score"
      ]
    },
    {
      "cell_type": "markdown",
      "metadata": {
        "id": "8nioLGMg3EPa"
      },
      "source": [
        "With a regression tree model, predicting the price per stay in arbnb is almost perfect, which can be seen with the 99.07% accuracy in the test set data."
      ]
    },
    {
      "cell_type": "markdown",
      "metadata": {
        "id": "_yjt64FP5y6u"
      },
      "source": [
        "# **3.Bagged Trees**"
      ]
    },
    {
      "cell_type": "markdown",
      "metadata": {
        "id": "LnaBdfYU6ZBy"
      },
      "source": [
        "Import the model I want to use"
      ]
    },
    {
      "cell_type": "code",
      "execution_count": 258,
      "metadata": {
        "id": "Tqk6RsXl5yUM"
      },
      "outputs": [],
      "source": [
        "from sklearn.ensemble import BaggingRegressor"
      ]
    },
    {
      "cell_type": "markdown",
      "metadata": {
        "id": "gGd-ZcYY6c4I"
      },
      "source": [
        "Instantiate the model"
      ]
    },
    {
      "cell_type": "code",
      "execution_count": 259,
      "metadata": {
        "id": "OB1NsIR96fzG"
      },
      "outputs": [],
      "source": [
        "bagged_reg = BaggingRegressor(random_state = 42, n_estimators= 8)"
      ]
    },
    {
      "cell_type": "code",
      "execution_count": 260,
      "metadata": {
        "id": "X30M44TD6sDQ",
        "colab": {
          "base_uri": "https://localhost:8080/"
        },
        "outputId": "c7c8a3cf-3c09-4456-af5b-e3ae726dc45b"
      },
      "outputs": [
        {
          "output_type": "execute_result",
          "data": {
            "text/plain": [
              "{'base_estimator': None,\n",
              " 'bootstrap': True,\n",
              " 'bootstrap_features': False,\n",
              " 'max_features': 1.0,\n",
              " 'max_samples': 1.0,\n",
              " 'n_estimators': 8,\n",
              " 'n_jobs': None,\n",
              " 'oob_score': False,\n",
              " 'random_state': 42,\n",
              " 'verbose': 0,\n",
              " 'warm_start': False}"
            ]
          },
          "metadata": {},
          "execution_count": 260
        }
      ],
      "source": [
        "bagged_reg.get_params()"
      ]
    },
    {
      "cell_type": "markdown",
      "source": [
        "Fit the bagged tree model in training data."
      ],
      "metadata": {
        "id": "jHCB8mEHLmm3"
      }
    },
    {
      "cell_type": "code",
      "execution_count": 261,
      "metadata": {
        "id": "D6JJh2MV7vqv",
        "colab": {
          "base_uri": "https://localhost:8080/",
          "height": 75
        },
        "outputId": "dff0c616-0d00-4ae4-bd3c-5aa9906b34d6"
      },
      "outputs": [
        {
          "output_type": "execute_result",
          "data": {
            "text/plain": [
              "BaggingRegressor(n_estimators=8, random_state=42)"
            ],
            "text/html": [
              "<style>#sk-4fb71a29-d9bd-40d2-a2a7-4845079f9297 {color: black;background-color: white;}#sk-4fb71a29-d9bd-40d2-a2a7-4845079f9297 pre{padding: 0;}#sk-4fb71a29-d9bd-40d2-a2a7-4845079f9297 div.sk-toggleable {background-color: white;}#sk-4fb71a29-d9bd-40d2-a2a7-4845079f9297 label.sk-toggleable__label {cursor: pointer;display: block;width: 100%;margin-bottom: 0;padding: 0.3em;box-sizing: border-box;text-align: center;}#sk-4fb71a29-d9bd-40d2-a2a7-4845079f9297 label.sk-toggleable__label-arrow:before {content: \"▸\";float: left;margin-right: 0.25em;color: #696969;}#sk-4fb71a29-d9bd-40d2-a2a7-4845079f9297 label.sk-toggleable__label-arrow:hover:before {color: black;}#sk-4fb71a29-d9bd-40d2-a2a7-4845079f9297 div.sk-estimator:hover label.sk-toggleable__label-arrow:before {color: black;}#sk-4fb71a29-d9bd-40d2-a2a7-4845079f9297 div.sk-toggleable__content {max-height: 0;max-width: 0;overflow: hidden;text-align: left;background-color: #f0f8ff;}#sk-4fb71a29-d9bd-40d2-a2a7-4845079f9297 div.sk-toggleable__content pre {margin: 0.2em;color: black;border-radius: 0.25em;background-color: #f0f8ff;}#sk-4fb71a29-d9bd-40d2-a2a7-4845079f9297 input.sk-toggleable__control:checked~div.sk-toggleable__content {max-height: 200px;max-width: 100%;overflow: auto;}#sk-4fb71a29-d9bd-40d2-a2a7-4845079f9297 input.sk-toggleable__control:checked~label.sk-toggleable__label-arrow:before {content: \"▾\";}#sk-4fb71a29-d9bd-40d2-a2a7-4845079f9297 div.sk-estimator input.sk-toggleable__control:checked~label.sk-toggleable__label {background-color: #d4ebff;}#sk-4fb71a29-d9bd-40d2-a2a7-4845079f9297 div.sk-label input.sk-toggleable__control:checked~label.sk-toggleable__label {background-color: #d4ebff;}#sk-4fb71a29-d9bd-40d2-a2a7-4845079f9297 input.sk-hidden--visually {border: 0;clip: rect(1px 1px 1px 1px);clip: rect(1px, 1px, 1px, 1px);height: 1px;margin: -1px;overflow: hidden;padding: 0;position: absolute;width: 1px;}#sk-4fb71a29-d9bd-40d2-a2a7-4845079f9297 div.sk-estimator {font-family: monospace;background-color: #f0f8ff;border: 1px dotted black;border-radius: 0.25em;box-sizing: border-box;margin-bottom: 0.5em;}#sk-4fb71a29-d9bd-40d2-a2a7-4845079f9297 div.sk-estimator:hover {background-color: #d4ebff;}#sk-4fb71a29-d9bd-40d2-a2a7-4845079f9297 div.sk-parallel-item::after {content: \"\";width: 100%;border-bottom: 1px solid gray;flex-grow: 1;}#sk-4fb71a29-d9bd-40d2-a2a7-4845079f9297 div.sk-label:hover label.sk-toggleable__label {background-color: #d4ebff;}#sk-4fb71a29-d9bd-40d2-a2a7-4845079f9297 div.sk-serial::before {content: \"\";position: absolute;border-left: 1px solid gray;box-sizing: border-box;top: 2em;bottom: 0;left: 50%;}#sk-4fb71a29-d9bd-40d2-a2a7-4845079f9297 div.sk-serial {display: flex;flex-direction: column;align-items: center;background-color: white;padding-right: 0.2em;padding-left: 0.2em;}#sk-4fb71a29-d9bd-40d2-a2a7-4845079f9297 div.sk-item {z-index: 1;}#sk-4fb71a29-d9bd-40d2-a2a7-4845079f9297 div.sk-parallel {display: flex;align-items: stretch;justify-content: center;background-color: white;}#sk-4fb71a29-d9bd-40d2-a2a7-4845079f9297 div.sk-parallel::before {content: \"\";position: absolute;border-left: 1px solid gray;box-sizing: border-box;top: 2em;bottom: 0;left: 50%;}#sk-4fb71a29-d9bd-40d2-a2a7-4845079f9297 div.sk-parallel-item {display: flex;flex-direction: column;position: relative;background-color: white;}#sk-4fb71a29-d9bd-40d2-a2a7-4845079f9297 div.sk-parallel-item:first-child::after {align-self: flex-end;width: 50%;}#sk-4fb71a29-d9bd-40d2-a2a7-4845079f9297 div.sk-parallel-item:last-child::after {align-self: flex-start;width: 50%;}#sk-4fb71a29-d9bd-40d2-a2a7-4845079f9297 div.sk-parallel-item:only-child::after {width: 0;}#sk-4fb71a29-d9bd-40d2-a2a7-4845079f9297 div.sk-dashed-wrapped {border: 1px dashed gray;margin: 0 0.4em 0.5em 0.4em;box-sizing: border-box;padding-bottom: 0.4em;background-color: white;position: relative;}#sk-4fb71a29-d9bd-40d2-a2a7-4845079f9297 div.sk-label label {font-family: monospace;font-weight: bold;background-color: white;display: inline-block;line-height: 1.2em;}#sk-4fb71a29-d9bd-40d2-a2a7-4845079f9297 div.sk-label-container {position: relative;z-index: 2;text-align: center;}#sk-4fb71a29-d9bd-40d2-a2a7-4845079f9297 div.sk-container {/* jupyter's `normalize.less` sets `[hidden] { display: none; }` but bootstrap.min.css set `[hidden] { display: none !important; }` so we also need the `!important` here to be able to override the default hidden behavior on the sphinx rendered scikit-learn.org. See: https://github.com/scikit-learn/scikit-learn/issues/21755 */display: inline-block !important;position: relative;}#sk-4fb71a29-d9bd-40d2-a2a7-4845079f9297 div.sk-text-repr-fallback {display: none;}</style><div id=\"sk-4fb71a29-d9bd-40d2-a2a7-4845079f9297\" class=\"sk-top-container\"><div class=\"sk-text-repr-fallback\"><pre>BaggingRegressor(n_estimators=8, random_state=42)</pre><b>Please rerun this cell to show the HTML repr or trust the notebook.</b></div><div class=\"sk-container\" hidden><div class=\"sk-item\"><div class=\"sk-estimator sk-toggleable\"><input class=\"sk-toggleable__control sk-hidden--visually\" id=\"7ff13d42-c7d3-44b4-9b4f-464c90a1c6be\" type=\"checkbox\" checked><label for=\"7ff13d42-c7d3-44b4-9b4f-464c90a1c6be\" class=\"sk-toggleable__label sk-toggleable__label-arrow\">BaggingRegressor</label><div class=\"sk-toggleable__content\"><pre>BaggingRegressor(n_estimators=8, random_state=42)</pre></div></div></div></div></div>"
            ]
          },
          "metadata": {},
          "execution_count": 261
        }
      ],
      "source": [
        "bagged_reg.fit(X_train_processed, y_train)"
      ]
    },
    {
      "cell_type": "markdown",
      "source": [
        "Make predictions under this model"
      ],
      "metadata": {
        "id": "tjCCWW0yLaPe"
      }
    },
    {
      "cell_type": "code",
      "execution_count": 262,
      "metadata": {
        "id": "mgkW7qfq8ZBI",
        "colab": {
          "base_uri": "https://localhost:8080/"
        },
        "outputId": "29fd51a8-bae2-4eb4-dddb-bf1a531aa3f0"
      },
      "outputs": [
        {
          "output_type": "execute_result",
          "data": {
            "text/plain": [
              "array([ 430.25 ,  600.5  , 1144.625, ...,  655.375,  290.5  ,  448.875])"
            ]
          },
          "metadata": {},
          "execution_count": 262
        }
      ],
      "source": [
        "bagged_reg.predict(X_test_processed)"
      ]
    },
    {
      "cell_type": "code",
      "source": [
        "print(np.array(y_test))"
      ],
      "metadata": {
        "colab": {
          "base_uri": "https://localhost:8080/"
        },
        "id": "BvEd8lb1Luvu",
        "outputId": "42dff608-bccc-40c3-c3b1-aa7f88fb6b5e"
      },
      "execution_count": 263,
      "outputs": [
        {
          "output_type": "stream",
          "name": "stdout",
          "text": [
            "[ 432.  602. 1145. ...  655.  289.  448.]\n"
          ]
        }
      ]
    },
    {
      "cell_type": "markdown",
      "source": [
        "Score the model"
      ],
      "metadata": {
        "id": "ZGdQ7E6fLe-V"
      }
    },
    {
      "cell_type": "code",
      "execution_count": 264,
      "metadata": {
        "id": "iLf6vK818t9x",
        "colab": {
          "base_uri": "https://localhost:8080/"
        },
        "outputId": "edd19b67-59e4-4e20-f65a-4e0aaaefc24f"
      },
      "outputs": [
        {
          "output_type": "stream",
          "name": "stdout",
          "text": [
            "0.9989565212748758\n",
            "0.995206587026467\n"
          ]
        }
      ],
      "source": [
        "bagged_reg_train_score = bagged_reg.score(X_train_processed, y_train)\n",
        "bagged_reg_test_score = bagged_reg.score(X_test_processed, y_test)\n",
        "print(bagged_reg_train_score)\n",
        "print(bagged_reg_test_score)"
      ]
    },
    {
      "cell_type": "markdown",
      "source": [
        "With the tree bagging model we obtain an accuracy of 99.5% of the test set, a little higher than that obtained with a decision tree."
      ],
      "metadata": {
        "id": "Et1JoS58IXLv"
      }
    },
    {
      "cell_type": "markdown",
      "source": [
        "# **4.Random Forest**"
      ],
      "metadata": {
        "id": "Dw5PyqmyIy2z"
      }
    },
    {
      "cell_type": "markdown",
      "source": [
        "Import the model"
      ],
      "metadata": {
        "id": "o74rRLjMJsyF"
      }
    },
    {
      "cell_type": "code",
      "source": [
        "from sklearn.ensemble import RandomForestRegressor"
      ],
      "metadata": {
        "id": "VZY69nA2Ix66"
      },
      "execution_count": 269,
      "outputs": []
    },
    {
      "cell_type": "markdown",
      "source": [
        "Instantate the model I want to use"
      ],
      "metadata": {
        "id": "9hVYUnRQJvRM"
      }
    },
    {
      "cell_type": "code",
      "source": [
        "rf = RandomForestRegressor(random_state = 42)"
      ],
      "metadata": {
        "id": "caINOZdkIxCD"
      },
      "execution_count": 270,
      "outputs": []
    },
    {
      "cell_type": "markdown",
      "source": [
        "Fit the model in training data"
      ],
      "metadata": {
        "id": "pe7-9z2-J5xm"
      }
    },
    {
      "cell_type": "code",
      "source": [
        "rf.fit(X_train_processed, y_train)"
      ],
      "metadata": {
        "colab": {
          "base_uri": "https://localhost:8080/",
          "height": 75
        },
        "id": "TO4A3-8HKGy8",
        "outputId": "cc6232fc-ae6e-4b8d-b3aa-07a3aec44e62"
      },
      "execution_count": 271,
      "outputs": [
        {
          "output_type": "execute_result",
          "data": {
            "text/plain": [
              "RandomForestRegressor(random_state=42)"
            ],
            "text/html": [
              "<style>#sk-604bfc71-3d58-4b13-a007-2498abea5619 {color: black;background-color: white;}#sk-604bfc71-3d58-4b13-a007-2498abea5619 pre{padding: 0;}#sk-604bfc71-3d58-4b13-a007-2498abea5619 div.sk-toggleable {background-color: white;}#sk-604bfc71-3d58-4b13-a007-2498abea5619 label.sk-toggleable__label {cursor: pointer;display: block;width: 100%;margin-bottom: 0;padding: 0.3em;box-sizing: border-box;text-align: center;}#sk-604bfc71-3d58-4b13-a007-2498abea5619 label.sk-toggleable__label-arrow:before {content: \"▸\";float: left;margin-right: 0.25em;color: #696969;}#sk-604bfc71-3d58-4b13-a007-2498abea5619 label.sk-toggleable__label-arrow:hover:before {color: black;}#sk-604bfc71-3d58-4b13-a007-2498abea5619 div.sk-estimator:hover label.sk-toggleable__label-arrow:before {color: black;}#sk-604bfc71-3d58-4b13-a007-2498abea5619 div.sk-toggleable__content {max-height: 0;max-width: 0;overflow: hidden;text-align: left;background-color: #f0f8ff;}#sk-604bfc71-3d58-4b13-a007-2498abea5619 div.sk-toggleable__content pre {margin: 0.2em;color: black;border-radius: 0.25em;background-color: #f0f8ff;}#sk-604bfc71-3d58-4b13-a007-2498abea5619 input.sk-toggleable__control:checked~div.sk-toggleable__content {max-height: 200px;max-width: 100%;overflow: auto;}#sk-604bfc71-3d58-4b13-a007-2498abea5619 input.sk-toggleable__control:checked~label.sk-toggleable__label-arrow:before {content: \"▾\";}#sk-604bfc71-3d58-4b13-a007-2498abea5619 div.sk-estimator input.sk-toggleable__control:checked~label.sk-toggleable__label {background-color: #d4ebff;}#sk-604bfc71-3d58-4b13-a007-2498abea5619 div.sk-label input.sk-toggleable__control:checked~label.sk-toggleable__label {background-color: #d4ebff;}#sk-604bfc71-3d58-4b13-a007-2498abea5619 input.sk-hidden--visually {border: 0;clip: rect(1px 1px 1px 1px);clip: rect(1px, 1px, 1px, 1px);height: 1px;margin: -1px;overflow: hidden;padding: 0;position: absolute;width: 1px;}#sk-604bfc71-3d58-4b13-a007-2498abea5619 div.sk-estimator {font-family: monospace;background-color: #f0f8ff;border: 1px dotted black;border-radius: 0.25em;box-sizing: border-box;margin-bottom: 0.5em;}#sk-604bfc71-3d58-4b13-a007-2498abea5619 div.sk-estimator:hover {background-color: #d4ebff;}#sk-604bfc71-3d58-4b13-a007-2498abea5619 div.sk-parallel-item::after {content: \"\";width: 100%;border-bottom: 1px solid gray;flex-grow: 1;}#sk-604bfc71-3d58-4b13-a007-2498abea5619 div.sk-label:hover label.sk-toggleable__label {background-color: #d4ebff;}#sk-604bfc71-3d58-4b13-a007-2498abea5619 div.sk-serial::before {content: \"\";position: absolute;border-left: 1px solid gray;box-sizing: border-box;top: 2em;bottom: 0;left: 50%;}#sk-604bfc71-3d58-4b13-a007-2498abea5619 div.sk-serial {display: flex;flex-direction: column;align-items: center;background-color: white;padding-right: 0.2em;padding-left: 0.2em;}#sk-604bfc71-3d58-4b13-a007-2498abea5619 div.sk-item {z-index: 1;}#sk-604bfc71-3d58-4b13-a007-2498abea5619 div.sk-parallel {display: flex;align-items: stretch;justify-content: center;background-color: white;}#sk-604bfc71-3d58-4b13-a007-2498abea5619 div.sk-parallel::before {content: \"\";position: absolute;border-left: 1px solid gray;box-sizing: border-box;top: 2em;bottom: 0;left: 50%;}#sk-604bfc71-3d58-4b13-a007-2498abea5619 div.sk-parallel-item {display: flex;flex-direction: column;position: relative;background-color: white;}#sk-604bfc71-3d58-4b13-a007-2498abea5619 div.sk-parallel-item:first-child::after {align-self: flex-end;width: 50%;}#sk-604bfc71-3d58-4b13-a007-2498abea5619 div.sk-parallel-item:last-child::after {align-self: flex-start;width: 50%;}#sk-604bfc71-3d58-4b13-a007-2498abea5619 div.sk-parallel-item:only-child::after {width: 0;}#sk-604bfc71-3d58-4b13-a007-2498abea5619 div.sk-dashed-wrapped {border: 1px dashed gray;margin: 0 0.4em 0.5em 0.4em;box-sizing: border-box;padding-bottom: 0.4em;background-color: white;position: relative;}#sk-604bfc71-3d58-4b13-a007-2498abea5619 div.sk-label label {font-family: monospace;font-weight: bold;background-color: white;display: inline-block;line-height: 1.2em;}#sk-604bfc71-3d58-4b13-a007-2498abea5619 div.sk-label-container {position: relative;z-index: 2;text-align: center;}#sk-604bfc71-3d58-4b13-a007-2498abea5619 div.sk-container {/* jupyter's `normalize.less` sets `[hidden] { display: none; }` but bootstrap.min.css set `[hidden] { display: none !important; }` so we also need the `!important` here to be able to override the default hidden behavior on the sphinx rendered scikit-learn.org. See: https://github.com/scikit-learn/scikit-learn/issues/21755 */display: inline-block !important;position: relative;}#sk-604bfc71-3d58-4b13-a007-2498abea5619 div.sk-text-repr-fallback {display: none;}</style><div id=\"sk-604bfc71-3d58-4b13-a007-2498abea5619\" class=\"sk-top-container\"><div class=\"sk-text-repr-fallback\"><pre>RandomForestRegressor(random_state=42)</pre><b>Please rerun this cell to show the HTML repr or trust the notebook.</b></div><div class=\"sk-container\" hidden><div class=\"sk-item\"><div class=\"sk-estimator sk-toggleable\"><input class=\"sk-toggleable__control sk-hidden--visually\" id=\"0c4a91cb-5c60-435c-9c49-cc557a3e4947\" type=\"checkbox\" checked><label for=\"0c4a91cb-5c60-435c-9c49-cc557a3e4947\" class=\"sk-toggleable__label sk-toggleable__label-arrow\">RandomForestRegressor</label><div class=\"sk-toggleable__content\"><pre>RandomForestRegressor(random_state=42)</pre></div></div></div></div></div>"
            ]
          },
          "metadata": {},
          "execution_count": 271
        }
      ]
    },
    {
      "cell_type": "markdown",
      "source": [
        "Make predictions under this model"
      ],
      "metadata": {
        "id": "NSfN8_pFLWxF"
      }
    },
    {
      "cell_type": "code",
      "source": [
        "rf.predict(X_test_processed)"
      ],
      "metadata": {
        "colab": {
          "base_uri": "https://localhost:8080/"
        },
        "id": "EKhxmP3LLT46",
        "outputId": "79c187ad-0816-4de5-a386-9594163f1427"
      },
      "execution_count": 272,
      "outputs": [
        {
          "output_type": "execute_result",
          "data": {
            "text/plain": [
              "array([ 430.09,  600.19, 1144.97, ...,  655.42,  289.94,  448.6 ])"
            ]
          },
          "metadata": {},
          "execution_count": 272
        }
      ]
    },
    {
      "cell_type": "code",
      "source": [
        "print(np.array(y_test))"
      ],
      "metadata": {
        "colab": {
          "base_uri": "https://localhost:8080/"
        },
        "id": "WpIIe36CMLXO",
        "outputId": "5235eed1-c6d7-4396-be2c-cde151c251ad"
      },
      "execution_count": 273,
      "outputs": [
        {
          "output_type": "stream",
          "name": "stdout",
          "text": [
            "[ 432.  602. 1145. ...  655.  289.  448.]\n"
          ]
        }
      ]
    },
    {
      "cell_type": "markdown",
      "source": [
        "Score the model used"
      ],
      "metadata": {
        "id": "wNoSXyahMPpJ"
      }
    },
    {
      "cell_type": "code",
      "source": [
        "rf_train_score = rf.score(X_train_processed, y_train)\n",
        "rf_test_score = rf.score(X_test_processed, y_test)\n",
        "print(rf_train_score)\n",
        "print(rf_test_score)"
      ],
      "metadata": {
        "colab": {
          "base_uri": "https://localhost:8080/"
        },
        "id": "t0OF5oMiMR8S",
        "outputId": "58ca6ac3-7c7f-40ff-8c09-ad1d3bbdfca0"
      },
      "execution_count": 274,
      "outputs": [
        {
          "output_type": "stream",
          "name": "stdout",
          "text": [
            "0.9992424060970915\n",
            "0.995663699566505\n"
          ]
        }
      ]
    },
    {
      "cell_type": "markdown",
      "source": [
        "After testing different regression models, such as decision tree, bagged tree, random forest, it is appropriate to say that our target PRICE variable is being predicted with an almost exact level in each of our models, highlighting the highest accuracy under the model random forest"
      ],
      "metadata": {
        "id": "gjHkMs-QMzr9"
      }
    }
  ],
  "metadata": {
    "colab": {
      "collapsed_sections": [
        "xi9g0EE7xUsO"
      ],
      "provenance": [],
      "include_colab_link": true
    },
    "kernelspec": {
      "display_name": "Python 3",
      "name": "python3"
    },
    "language_info": {
      "name": "python"
    }
  },
  "nbformat": 4,
  "nbformat_minor": 0
}